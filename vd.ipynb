{
 "cells": [
  {
   "cell_type": "code",
   "execution_count": 41,
   "id": "e6bc0812",
   "metadata": {},
   "outputs": [],
   "source": [
    "import pandas as pd\n",
    "import os\n",
    "import numpy as np\n",
    "import plotly.graph_objects as go\n",
    "import plotly.express as px\n",
    "\n",
    "import dash\n",
    "import dash_core_components as dcc\n",
    "import dash_html_components as html\n",
    "from dash.dependencies import Input, Output\n",
    "import plotly.express as px\n",
    "from jupyter_dash import JupyterDash\n",
    "\n",
    "columns = ['data_inversa', 'mortos', 'municipio', 'uf', 'pessoas' ]\n",
    "df = pd.DataFrame([], columns = columns)\n",
    "for i,ano in enumerate(np.arange(2007,2022)):\n",
    "    data = pd.read_csv(\"../Detram/datatran\" + str(ano) + '.csv', delimiter = ';',  low_memory=False)\n",
    "    df1 = data[columns]\n",
    "    df = pd.concat([df,df1])\n",
    "\n"
   ]
  },
  {
   "cell_type": "code",
   "execution_count": 42,
   "id": "8b27be38",
   "metadata": {},
   "outputs": [],
   "source": [
    "df = pd.DataFrame(df)\n",
    "df['data_inversa'] = pd.to_datetime(df['data_inversa'], format =  '%d/%m/%Y' )\n",
    "df['pessoas'] = pd.to_numeric(df['pessoas'])\n",
    "df['mortos'] = pd.to_numeric(df['mortos'])\n",
    "\n",
    "df['acidentes'] = 1\n",
    "\n",
    "n = df[df['uf'] =='(null)' ].index\n",
    "df = df.drop(n)\n",
    "df = df.rename({'data_inversa': 'Data', 'municipio': 'Municipio', 'pessoas': 'Pessoas', 'mortos': 'Mortos', 'acidentes': 'Acidente', 'uf': 'Estado'}, axis='columns')\n",
    "\n",
    "#df.to_excel(r'./dataset.xlsx')\n",
    "#data = pd.read_csv('./dataset.csv')"
   ]
  },
  {
   "cell_type": "code",
   "execution_count": 43,
   "id": "9925a079",
   "metadata": {},
   "outputs": [],
   "source": [
    "df['Ano'] = df['Data'].dt.year  "
   ]
  },
  {
   "cell_type": "code",
   "execution_count": 44,
   "id": "21706f67",
   "metadata": {},
   "outputs": [],
   "source": [
    "df['Mês'] = df['Data'].dt.strftime('%B')"
   ]
  },
  {
   "cell_type": "code",
   "execution_count": 45,
   "id": "329ea392",
   "metadata": {},
   "outputs": [],
   "source": [
    "df = df.sort_values(by=['Estado', 'Municipio', 'Ano', 'Mês']) "
   ]
  },
  {
   "cell_type": "code",
   "execution_count": 46,
   "id": "5579af89",
   "metadata": {},
   "outputs": [],
   "source": [
    "df1 = df.groupby(by=['Estado','Ano', 'Mês']).agg('sum')"
   ]
  },
  {
   "cell_type": "code",
   "execution_count": 51,
   "id": "fc74365a",
   "metadata": {},
   "outputs": [],
   "source": [
    "df1 = df.groupby(by=['Estado','Ano', 'Mês']).agg('sum').reset_index()"
   ]
  },
  {
   "cell_type": "markdown",
   "id": "ec87f278",
   "metadata": {},
   "source": [
    "# Acidentes Rodoviários \n",
    "\n",
    " \n",
    "Conforme dados coletados no site do Detram, podemos visualizar várias informações sobre a ocorrência dos acidentes nas rodovias brasileiras, os dados coletados e informados a população são de grande importância para criação de alternativas preventivas para a diminuição de acidentes e consequentemente na diminuição de óbitos nas estradas. \n",
    "Nos gráficos a seguir podemos visualizar duas situações, primeira mostra a quantidade de acidentes por estado e a segunda podemos verificar a quantidade de acidentes por município de cada estado. \n"
   ]
  },
  {
   "cell_type": "code",
   "execution_count": 48,
   "id": "3f3ed167",
   "metadata": {},
   "outputs": [
    {
     "data": {
      "text/html": [
       "\n",
       "        <iframe\n",
       "            width=\"100%\"\n",
       "            height=\"650\"\n",
       "            src=\"http://127.0.0.1:8490/\"\n",
       "            frameborder=\"0\"\n",
       "            allowfullscreen\n",
       "        ></iframe>\n",
       "        "
      ],
      "text/plain": [
       "<IPython.lib.display.IFrame at 0x1f98442e460>"
      ]
     },
     "metadata": {},
     "output_type": "display_data"
    }
   ],
   "source": [
    "Estados = df1.Estado.unique()\n",
    "app = JupyterDash(__name__)\n",
    "\n",
    "app.layout = html.Div([\n",
    "    dcc.Dropdown(\n",
    "        id=\"selectstate\",\n",
    "        options=[{\"label\": x, \"value\": x} for x in Estados]\n",
    "    ),\n",
    "    dcc.Graph(id=\"bar-chart\"),\n",
    "])\n",
    "\n",
    "                  \n",
    "@app.callback(\n",
    "    Output(\"bar-chart\", \"figure\"), \n",
    "    [Input(\"selectstate\", \"value\")])\n",
    "def update_bar_chart(estado):\n",
    "    fig = px.bar(df1[df1[\"Estado\"] == estado], x=\"Ano\", y=\"Acidente\", title=\"Quantidade de Acidentes por Estado\", color = 'Mês')\n",
    "    return fig\n",
    "\n",
    "\n",
    "if __name__ == \"__main__\":\n",
    "    app.run_server(debug=True, mode='inline', port=8490)\n",
    "\n"
   ]
  },
  {
   "cell_type": "code",
   "execution_count": 49,
   "id": "e8f1a840",
   "metadata": {},
   "outputs": [],
   "source": [
    "df2 = df.groupby(by=['Estado','Ano','Municipio','Mês']).agg('sum').reset_index()"
   ]
  },
  {
   "cell_type": "code",
   "execution_count": 77,
   "id": "fc2ebc1d",
   "metadata": {
    "scrolled": false
   },
   "outputs": [
    {
     "name": "stderr",
     "output_type": "stream",
     "text": [
      "C:\\Users\\leona\\anaconda3\\lib\\site-packages\\jupyter_dash\\jupyter_app.py:139: UserWarning:\n",
      "\n",
      "The 'environ['werkzeug.server.shutdown']' function is deprecated and will be removed in Werkzeug 2.1.\n",
      "\n"
     ]
    },
    {
     "data": {
      "text/html": [
       "\n",
       "        <iframe\n",
       "            width=\"100%\"\n",
       "            height=\"650\"\n",
       "            src=\"http://127.0.0.1:8590/\"\n",
       "            frameborder=\"0\"\n",
       "            allowfullscreen\n",
       "        ></iframe>\n",
       "        "
      ],
      "text/plain": [
       "<IPython.lib.display.IFrame at 0x1f9b05d96a0>"
      ]
     },
     "metadata": {},
     "output_type": "display_data"
    }
   ],
   "source": [
    "Estados = df2.Estado.unique()\n",
    "app = JupyterDash(__name__)\n",
    "\n",
    "app.layout = html.Div([\n",
    "    dcc.Dropdown(\n",
    "        id=\"selectstate\",\n",
    "        options=[{\"label\": x, \"value\": x} for x in Estados]\n",
    "    ),\n",
    "    html.Hr(),\n",
    "    dcc.Dropdown(id=\"selectcountry\"),\n",
    "    html.Hr(),\n",
    "    dcc.Graph(id=\"bar-chart\"),\n",
    "])\n",
    "\n",
    "                  \n",
    "\n",
    "@app.callback(\n",
    "    Output('selectcountry', 'options'),\n",
    "    Input('selectstate', 'value'))\n",
    "def set_cities_options(selected_stage):\n",
    "    return [{'label': i, 'value': i} for i in df2[df2['Estado']==selected_stage].Municipio.unique()]\n",
    "\n",
    "\n",
    "@app.callback(\n",
    "    Output(\"bar-chart\", \"figure\"), \n",
    "    [Input(\"selectcountry\", \"value\")])\n",
    "def update_bar_chart(municipio):\n",
    "    fig = px.bar(df2[df2[\"Municipio\"] == municipio], x=\"Ano\", y=\"Acidente\", title=\"Quantidade de Acidentes por Municipio\", color='Mês')\n",
    "    return fig\n",
    "\n",
    "\n",
    "if __name__ == \"__main__\":\n",
    "    app.run_server(debug=True, mode='inline', port=8590)\n",
    "\n"
   ]
  },
  {
   "cell_type": "code",
   "execution_count": 90,
   "id": "8a4d5ffa",
   "metadata": {},
   "outputs": [],
   "source": [
    "df3 = df.groupby(by=['Ano','Estado']).agg('sum').reset_index()"
   ]
  },
  {
   "cell_type": "code",
   "execution_count": 102,
   "id": "156e793b",
   "metadata": {},
   "outputs": [
    {
     "data": {
      "application/vnd.plotly.v1+json": {
       "config": {
        "plotlyServerURL": "https://plot.ly"
       },
       "data": [
        {
         "hovertemplate": "Estado=AC<br>Ano=2007<br>Acidente=%{x}<br>Mortos=%{marker.size}<extra></extra>",
         "ids": [
          2007
         ],
         "legendgroup": "AC",
         "marker": {
          "color": "#636efa",
          "size": [
           20
          ],
          "sizemode": "area",
          "sizeref": 3.36,
          "symbol": "circle"
         },
         "mode": "markers",
         "name": "AC",
         "orientation": "v",
         "showlegend": true,
         "type": "scatter",
         "x": [
          324
         ],
         "xaxis": "x",
         "y": [
          20
         ],
         "yaxis": "y"
        },
        {
         "hovertemplate": "Estado=AL<br>Ano=2007<br>Acidente=%{x}<br>Mortos=%{marker.size}<extra></extra>",
         "ids": [
          2007
         ],
         "legendgroup": "AL",
         "marker": {
          "color": "#EF553B",
          "size": [
           132
          ],
          "sizemode": "area",
          "sizeref": 3.36,
          "symbol": "circle"
         },
         "mode": "markers",
         "name": "AL",
         "orientation": "v",
         "showlegend": true,
         "type": "scatter",
         "x": [
          1604
         ],
         "xaxis": "x",
         "y": [
          132
         ],
         "yaxis": "y"
        },
        {
         "hovertemplate": "Estado=AM<br>Ano=2007<br>Acidente=%{x}<br>Mortos=%{marker.size}<extra></extra>",
         "ids": [
          2007
         ],
         "legendgroup": "AM",
         "marker": {
          "color": "#00cc96",
          "size": [
           12
          ],
          "sizemode": "area",
          "sizeref": 3.36,
          "symbol": "circle"
         },
         "mode": "markers",
         "name": "AM",
         "orientation": "v",
         "showlegend": true,
         "type": "scatter",
         "x": [
          173
         ],
         "xaxis": "x",
         "y": [
          12
         ],
         "yaxis": "y"
        },
        {
         "hovertemplate": "Estado=AP<br>Ano=2007<br>Acidente=%{x}<br>Mortos=%{marker.size}<extra></extra>",
         "ids": [
          2007
         ],
         "legendgroup": "AP",
         "marker": {
          "color": "#ab63fa",
          "size": [
           15
          ],
          "sizemode": "area",
          "sizeref": 3.36,
          "symbol": "circle"
         },
         "mode": "markers",
         "name": "AP",
         "orientation": "v",
         "showlegend": true,
         "type": "scatter",
         "x": [
          150
         ],
         "xaxis": "x",
         "y": [
          15
         ],
         "yaxis": "y"
        },
        {
         "hovertemplate": "Estado=BA<br>Ano=2007<br>Acidente=%{x}<br>Mortos=%{marker.size}<extra></extra>",
         "ids": [
          2007
         ],
         "legendgroup": "BA",
         "marker": {
          "color": "#FFA15A",
          "size": [
           605
          ],
          "sizemode": "area",
          "sizeref": 3.36,
          "symbol": "circle"
         },
         "mode": "markers",
         "name": "BA",
         "orientation": "v",
         "showlegend": true,
         "type": "scatter",
         "x": [
          7088
         ],
         "xaxis": "x",
         "y": [
          605
         ],
         "yaxis": "y"
        },
        {
         "hovertemplate": "Estado=CE<br>Ano=2007<br>Acidente=%{x}<br>Mortos=%{marker.size}<extra></extra>",
         "ids": [
          2007
         ],
         "legendgroup": "CE",
         "marker": {
          "color": "#19d3f3",
          "size": [
           182
          ],
          "sizemode": "area",
          "sizeref": 3.36,
          "symbol": "circle"
         },
         "mode": "markers",
         "name": "CE",
         "orientation": "v",
         "showlegend": true,
         "type": "scatter",
         "x": [
          2261
         ],
         "xaxis": "x",
         "y": [
          182
         ],
         "yaxis": "y"
        },
        {
         "hovertemplate": "Estado=DF<br>Ano=2007<br>Acidente=%{x}<br>Mortos=%{marker.size}<extra></extra>",
         "ids": [
          2007
         ],
         "legendgroup": "DF",
         "marker": {
          "color": "#FF6692",
          "size": [
           67
          ],
          "sizemode": "area",
          "sizeref": 3.36,
          "symbol": "circle"
         },
         "mode": "markers",
         "name": "DF",
         "orientation": "v",
         "showlegend": true,
         "type": "scatter",
         "x": [
          1139
         ],
         "xaxis": "x",
         "y": [
          67
         ],
         "yaxis": "y"
        },
        {
         "hovertemplate": "Estado=ES<br>Ano=2007<br>Acidente=%{x}<br>Mortos=%{marker.size}<extra></extra>",
         "ids": [
          2007
         ],
         "legendgroup": "ES",
         "marker": {
          "color": "#B6E880",
          "size": [
           217
          ],
          "sizemode": "area",
          "sizeref": 3.36,
          "symbol": "circle"
         },
         "mode": "markers",
         "name": "ES",
         "orientation": "v",
         "showlegend": true,
         "type": "scatter",
         "x": [
          6243
         ],
         "xaxis": "x",
         "y": [
          217
         ],
         "yaxis": "y"
        },
        {
         "hovertemplate": "Estado=GO<br>Ano=2007<br>Acidente=%{x}<br>Mortos=%{marker.size}<extra></extra>",
         "ids": [
          2007
         ],
         "legendgroup": "GO",
         "marker": {
          "color": "#FF97FF",
          "size": [
           325
          ],
          "sizemode": "area",
          "sizeref": 3.36,
          "symbol": "circle"
         },
         "mode": "markers",
         "name": "GO",
         "orientation": "v",
         "showlegend": true,
         "type": "scatter",
         "x": [
          5608
         ],
         "xaxis": "x",
         "y": [
          325
         ],
         "yaxis": "y"
        },
        {
         "hovertemplate": "Estado=MA<br>Ano=2007<br>Acidente=%{x}<br>Mortos=%{marker.size}<extra></extra>",
         "ids": [
          2007
         ],
         "legendgroup": "MA",
         "marker": {
          "color": "#FECB52",
          "size": [
           277
          ],
          "sizemode": "area",
          "sizeref": 3.36,
          "symbol": "circle"
         },
         "mode": "markers",
         "name": "MA",
         "orientation": "v",
         "showlegend": true,
         "type": "scatter",
         "x": [
          2112
         ],
         "xaxis": "x",
         "y": [
          277
         ],
         "yaxis": "y"
        },
        {
         "hovertemplate": "Estado=MG<br>Ano=2007<br>Acidente=%{x}<br>Mortos=%{marker.size}<extra></extra>",
         "ids": [
          2007
         ],
         "legendgroup": "MG",
         "marker": {
          "color": "#636efa",
          "size": [
           1032
          ],
          "sizemode": "area",
          "sizeref": 3.36,
          "symbol": "circle"
         },
         "mode": "markers",
         "name": "MG",
         "orientation": "v",
         "showlegend": true,
         "type": "scatter",
         "x": [
          20601
         ],
         "xaxis": "x",
         "y": [
          1032
         ],
         "yaxis": "y"
        },
        {
         "hovertemplate": "Estado=MS<br>Ano=2007<br>Acidente=%{x}<br>Mortos=%{marker.size}<extra></extra>",
         "ids": [
          2007
         ],
         "legendgroup": "MS",
         "marker": {
          "color": "#EF553B",
          "size": [
           155
          ],
          "sizemode": "area",
          "sizeref": 3.36,
          "symbol": "circle"
         },
         "mode": "markers",
         "name": "MS",
         "orientation": "v",
         "showlegend": true,
         "type": "scatter",
         "x": [
          2299
         ],
         "xaxis": "x",
         "y": [
          155
         ],
         "yaxis": "y"
        },
        {
         "hovertemplate": "Estado=MT<br>Ano=2007<br>Acidente=%{x}<br>Mortos=%{marker.size}<extra></extra>",
         "ids": [
          2007
         ],
         "legendgroup": "MT",
         "marker": {
          "color": "#00cc96",
          "size": [
           223
          ],
          "sizemode": "area",
          "sizeref": 3.36,
          "symbol": "circle"
         },
         "mode": "markers",
         "name": "MT",
         "orientation": "v",
         "showlegend": true,
         "type": "scatter",
         "x": [
          2638
         ],
         "xaxis": "x",
         "y": [
          223
         ],
         "yaxis": "y"
        },
        {
         "hovertemplate": "Estado=PA<br>Ano=2007<br>Acidente=%{x}<br>Mortos=%{marker.size}<extra></extra>",
         "ids": [
          2007
         ],
         "legendgroup": "PA",
         "marker": {
          "color": "#ab63fa",
          "size": [
           151
          ],
          "sizemode": "area",
          "sizeref": 3.36,
          "symbol": "circle"
         },
         "mode": "markers",
         "name": "PA",
         "orientation": "v",
         "showlegend": true,
         "type": "scatter",
         "x": [
          3128
         ],
         "xaxis": "x",
         "y": [
          151
         ],
         "yaxis": "y"
        },
        {
         "hovertemplate": "Estado=PB<br>Ano=2007<br>Acidente=%{x}<br>Mortos=%{marker.size}<extra></extra>",
         "ids": [
          2007
         ],
         "legendgroup": "PB",
         "marker": {
          "color": "#FFA15A",
          "size": [
           164
          ],
          "sizemode": "area",
          "sizeref": 3.36,
          "symbol": "circle"
         },
         "mode": "markers",
         "name": "PB",
         "orientation": "v",
         "showlegend": true,
         "type": "scatter",
         "x": [
          2696
         ],
         "xaxis": "x",
         "y": [
          164
         ],
         "yaxis": "y"
        },
        {
         "hovertemplate": "Estado=PE<br>Ano=2007<br>Acidente=%{x}<br>Mortos=%{marker.size}<extra></extra>",
         "ids": [
          2007
         ],
         "legendgroup": "PE",
         "marker": {
          "color": "#19d3f3",
          "size": [
           356
          ],
          "sizemode": "area",
          "sizeref": 3.36,
          "symbol": "circle"
         },
         "mode": "markers",
         "name": "PE",
         "orientation": "v",
         "showlegend": true,
         "type": "scatter",
         "x": [
          4765
         ],
         "xaxis": "x",
         "y": [
          356
         ],
         "yaxis": "y"
        },
        {
         "hovertemplate": "Estado=PI<br>Ano=2007<br>Acidente=%{x}<br>Mortos=%{marker.size}<extra></extra>",
         "ids": [
          2007
         ],
         "legendgroup": "PI",
         "marker": {
          "color": "#FF6692",
          "size": [
           148
          ],
          "sizemode": "area",
          "sizeref": 3.36,
          "symbol": "circle"
         },
         "mode": "markers",
         "name": "PI",
         "orientation": "v",
         "showlegend": true,
         "type": "scatter",
         "x": [
          1881
         ],
         "xaxis": "x",
         "y": [
          148
         ],
         "yaxis": "y"
        },
        {
         "hovertemplate": "Estado=PR<br>Ano=2007<br>Acidente=%{x}<br>Mortos=%{marker.size}<extra></extra>",
         "ids": [
          2007
         ],
         "legendgroup": "PR",
         "marker": {
          "color": "#B6E880",
          "size": [
           333
          ],
          "sizemode": "area",
          "sizeref": 3.36,
          "symbol": "circle"
         },
         "mode": "markers",
         "name": "PR",
         "orientation": "v",
         "showlegend": true,
         "type": "scatter",
         "x": [
          7073
         ],
         "xaxis": "x",
         "y": [
          333
         ],
         "yaxis": "y"
        },
        {
         "hovertemplate": "Estado=RJ<br>Ano=2007<br>Acidente=%{x}<br>Mortos=%{marker.size}<extra></extra>",
         "ids": [
          2007
         ],
         "legendgroup": "RJ",
         "marker": {
          "color": "#FF97FF",
          "size": [
           480
          ],
          "sizemode": "area",
          "sizeref": 3.36,
          "symbol": "circle"
         },
         "mode": "markers",
         "name": "RJ",
         "orientation": "v",
         "showlegend": true,
         "type": "scatter",
         "x": [
          11670
         ],
         "xaxis": "x",
         "y": [
          480
         ],
         "yaxis": "y"
        },
        {
         "hovertemplate": "Estado=RN<br>Ano=2007<br>Acidente=%{x}<br>Mortos=%{marker.size}<extra></extra>",
         "ids": [
          2007
         ],
         "legendgroup": "RN",
         "marker": {
          "color": "#FECB52",
          "size": [
           168
          ],
          "sizemode": "area",
          "sizeref": 3.36,
          "symbol": "circle"
         },
         "mode": "markers",
         "name": "RN",
         "orientation": "v",
         "showlegend": true,
         "type": "scatter",
         "x": [
          3067
         ],
         "xaxis": "x",
         "y": [
          168
         ],
         "yaxis": "y"
        },
        {
         "hovertemplate": "Estado=RO<br>Ano=2007<br>Acidente=%{x}<br>Mortos=%{marker.size}<extra></extra>",
         "ids": [
          2007
         ],
         "legendgroup": "RO",
         "marker": {
          "color": "#636efa",
          "size": [
           85
          ],
          "sizemode": "area",
          "sizeref": 3.36,
          "symbol": "circle"
         },
         "mode": "markers",
         "name": "RO",
         "orientation": "v",
         "showlegend": true,
         "type": "scatter",
         "x": [
          2082
         ],
         "xaxis": "x",
         "y": [
          85
         ],
         "yaxis": "y"
        },
        {
         "hovertemplate": "Estado=RR<br>Ano=2007<br>Acidente=%{x}<br>Mortos=%{marker.size}<extra></extra>",
         "ids": [
          2007
         ],
         "legendgroup": "RR",
         "marker": {
          "color": "#EF553B",
          "size": [
           51
          ],
          "sizemode": "area",
          "sizeref": 3.36,
          "symbol": "circle"
         },
         "mode": "markers",
         "name": "RR",
         "orientation": "v",
         "showlegend": true,
         "type": "scatter",
         "x": [
          458
         ],
         "xaxis": "x",
         "y": [
          51
         ],
         "yaxis": "y"
        },
        {
         "hovertemplate": "Estado=RS<br>Ano=2007<br>Acidente=%{x}<br>Mortos=%{marker.size}<extra></extra>",
         "ids": [
          2007
         ],
         "legendgroup": "RS",
         "marker": {
          "color": "#00cc96",
          "size": [
           353
          ],
          "sizemode": "area",
          "sizeref": 3.36,
          "symbol": "circle"
         },
         "mode": "markers",
         "name": "RS",
         "orientation": "v",
         "showlegend": true,
         "type": "scatter",
         "x": [
          11038
         ],
         "xaxis": "x",
         "y": [
          353
         ],
         "yaxis": "y"
        },
        {
         "hovertemplate": "Estado=SC<br>Ano=2007<br>Acidente=%{x}<br>Mortos=%{marker.size}<extra></extra>",
         "ids": [
          2007
         ],
         "legendgroup": "SC",
         "marker": {
          "color": "#ab63fa",
          "size": [
           587
          ],
          "sizemode": "area",
          "sizeref": 3.36,
          "symbol": "circle"
         },
         "mode": "markers",
         "name": "SC",
         "orientation": "v",
         "showlegend": true,
         "type": "scatter",
         "x": [
          14585
         ],
         "xaxis": "x",
         "y": [
          587
         ],
         "yaxis": "y"
        },
        {
         "hovertemplate": "Estado=SE<br>Ano=2007<br>Acidente=%{x}<br>Mortos=%{marker.size}<extra></extra>",
         "ids": [
          2007
         ],
         "legendgroup": "SE",
         "marker": {
          "color": "#FFA15A",
          "size": [
           102
          ],
          "sizemode": "area",
          "sizeref": 3.36,
          "symbol": "circle"
         },
         "mode": "markers",
         "name": "SE",
         "orientation": "v",
         "showlegend": true,
         "type": "scatter",
         "x": [
          1159
         ],
         "xaxis": "x",
         "y": [
          102
         ],
         "yaxis": "y"
        },
        {
         "hovertemplate": "Estado=SP<br>Ano=2007<br>Acidente=%{x}<br>Mortos=%{marker.size}<extra></extra>",
         "ids": [
          2007
         ],
         "legendgroup": "SP",
         "marker": {
          "color": "#19d3f3",
          "size": [
           402
          ],
          "sizemode": "area",
          "sizeref": 3.36,
          "symbol": "circle"
         },
         "mode": "markers",
         "name": "SP",
         "orientation": "v",
         "showlegend": true,
         "type": "scatter",
         "x": [
          11109
         ],
         "xaxis": "x",
         "y": [
          402
         ],
         "yaxis": "y"
        },
        {
         "hovertemplate": "Estado=TO<br>Ano=2007<br>Acidente=%{x}<br>Mortos=%{marker.size}<extra></extra>",
         "ids": [
          2007
         ],
         "legendgroup": "TO",
         "marker": {
          "color": "#FF6692",
          "size": [
           97
          ],
          "sizemode": "area",
          "sizeref": 3.36,
          "symbol": "circle"
         },
         "mode": "markers",
         "name": "TO",
         "orientation": "v",
         "showlegend": true,
         "type": "scatter",
         "x": [
          712
         ],
         "xaxis": "x",
         "y": [
          97
         ],
         "yaxis": "y"
        }
       ],
       "frames": [
        {
         "data": [
          {
           "hovertemplate": "Estado=AC<br>Ano=2007<br>Acidente=%{x}<br>Mortos=%{marker.size}<extra></extra>",
           "ids": [
            2007
           ],
           "legendgroup": "AC",
           "marker": {
            "color": "#636efa",
            "size": [
             20
            ],
            "sizemode": "area",
            "sizeref": 3.36,
            "symbol": "circle"
           },
           "mode": "markers",
           "name": "AC",
           "orientation": "v",
           "showlegend": true,
           "type": "scatter",
           "x": [
            324
           ],
           "xaxis": "x",
           "y": [
            20
           ],
           "yaxis": "y"
          },
          {
           "hovertemplate": "Estado=AL<br>Ano=2007<br>Acidente=%{x}<br>Mortos=%{marker.size}<extra></extra>",
           "ids": [
            2007
           ],
           "legendgroup": "AL",
           "marker": {
            "color": "#EF553B",
            "size": [
             132
            ],
            "sizemode": "area",
            "sizeref": 3.36,
            "symbol": "circle"
           },
           "mode": "markers",
           "name": "AL",
           "orientation": "v",
           "showlegend": true,
           "type": "scatter",
           "x": [
            1604
           ],
           "xaxis": "x",
           "y": [
            132
           ],
           "yaxis": "y"
          },
          {
           "hovertemplate": "Estado=AM<br>Ano=2007<br>Acidente=%{x}<br>Mortos=%{marker.size}<extra></extra>",
           "ids": [
            2007
           ],
           "legendgroup": "AM",
           "marker": {
            "color": "#00cc96",
            "size": [
             12
            ],
            "sizemode": "area",
            "sizeref": 3.36,
            "symbol": "circle"
           },
           "mode": "markers",
           "name": "AM",
           "orientation": "v",
           "showlegend": true,
           "type": "scatter",
           "x": [
            173
           ],
           "xaxis": "x",
           "y": [
            12
           ],
           "yaxis": "y"
          },
          {
           "hovertemplate": "Estado=AP<br>Ano=2007<br>Acidente=%{x}<br>Mortos=%{marker.size}<extra></extra>",
           "ids": [
            2007
           ],
           "legendgroup": "AP",
           "marker": {
            "color": "#ab63fa",
            "size": [
             15
            ],
            "sizemode": "area",
            "sizeref": 3.36,
            "symbol": "circle"
           },
           "mode": "markers",
           "name": "AP",
           "orientation": "v",
           "showlegend": true,
           "type": "scatter",
           "x": [
            150
           ],
           "xaxis": "x",
           "y": [
            15
           ],
           "yaxis": "y"
          },
          {
           "hovertemplate": "Estado=BA<br>Ano=2007<br>Acidente=%{x}<br>Mortos=%{marker.size}<extra></extra>",
           "ids": [
            2007
           ],
           "legendgroup": "BA",
           "marker": {
            "color": "#FFA15A",
            "size": [
             605
            ],
            "sizemode": "area",
            "sizeref": 3.36,
            "symbol": "circle"
           },
           "mode": "markers",
           "name": "BA",
           "orientation": "v",
           "showlegend": true,
           "type": "scatter",
           "x": [
            7088
           ],
           "xaxis": "x",
           "y": [
            605
           ],
           "yaxis": "y"
          },
          {
           "hovertemplate": "Estado=CE<br>Ano=2007<br>Acidente=%{x}<br>Mortos=%{marker.size}<extra></extra>",
           "ids": [
            2007
           ],
           "legendgroup": "CE",
           "marker": {
            "color": "#19d3f3",
            "size": [
             182
            ],
            "sizemode": "area",
            "sizeref": 3.36,
            "symbol": "circle"
           },
           "mode": "markers",
           "name": "CE",
           "orientation": "v",
           "showlegend": true,
           "type": "scatter",
           "x": [
            2261
           ],
           "xaxis": "x",
           "y": [
            182
           ],
           "yaxis": "y"
          },
          {
           "hovertemplate": "Estado=DF<br>Ano=2007<br>Acidente=%{x}<br>Mortos=%{marker.size}<extra></extra>",
           "ids": [
            2007
           ],
           "legendgroup": "DF",
           "marker": {
            "color": "#FF6692",
            "size": [
             67
            ],
            "sizemode": "area",
            "sizeref": 3.36,
            "symbol": "circle"
           },
           "mode": "markers",
           "name": "DF",
           "orientation": "v",
           "showlegend": true,
           "type": "scatter",
           "x": [
            1139
           ],
           "xaxis": "x",
           "y": [
            67
           ],
           "yaxis": "y"
          },
          {
           "hovertemplate": "Estado=ES<br>Ano=2007<br>Acidente=%{x}<br>Mortos=%{marker.size}<extra></extra>",
           "ids": [
            2007
           ],
           "legendgroup": "ES",
           "marker": {
            "color": "#B6E880",
            "size": [
             217
            ],
            "sizemode": "area",
            "sizeref": 3.36,
            "symbol": "circle"
           },
           "mode": "markers",
           "name": "ES",
           "orientation": "v",
           "showlegend": true,
           "type": "scatter",
           "x": [
            6243
           ],
           "xaxis": "x",
           "y": [
            217
           ],
           "yaxis": "y"
          },
          {
           "hovertemplate": "Estado=GO<br>Ano=2007<br>Acidente=%{x}<br>Mortos=%{marker.size}<extra></extra>",
           "ids": [
            2007
           ],
           "legendgroup": "GO",
           "marker": {
            "color": "#FF97FF",
            "size": [
             325
            ],
            "sizemode": "area",
            "sizeref": 3.36,
            "symbol": "circle"
           },
           "mode": "markers",
           "name": "GO",
           "orientation": "v",
           "showlegend": true,
           "type": "scatter",
           "x": [
            5608
           ],
           "xaxis": "x",
           "y": [
            325
           ],
           "yaxis": "y"
          },
          {
           "hovertemplate": "Estado=MA<br>Ano=2007<br>Acidente=%{x}<br>Mortos=%{marker.size}<extra></extra>",
           "ids": [
            2007
           ],
           "legendgroup": "MA",
           "marker": {
            "color": "#FECB52",
            "size": [
             277
            ],
            "sizemode": "area",
            "sizeref": 3.36,
            "symbol": "circle"
           },
           "mode": "markers",
           "name": "MA",
           "orientation": "v",
           "showlegend": true,
           "type": "scatter",
           "x": [
            2112
           ],
           "xaxis": "x",
           "y": [
            277
           ],
           "yaxis": "y"
          },
          {
           "hovertemplate": "Estado=MG<br>Ano=2007<br>Acidente=%{x}<br>Mortos=%{marker.size}<extra></extra>",
           "ids": [
            2007
           ],
           "legendgroup": "MG",
           "marker": {
            "color": "#636efa",
            "size": [
             1032
            ],
            "sizemode": "area",
            "sizeref": 3.36,
            "symbol": "circle"
           },
           "mode": "markers",
           "name": "MG",
           "orientation": "v",
           "showlegend": true,
           "type": "scatter",
           "x": [
            20601
           ],
           "xaxis": "x",
           "y": [
            1032
           ],
           "yaxis": "y"
          },
          {
           "hovertemplate": "Estado=MS<br>Ano=2007<br>Acidente=%{x}<br>Mortos=%{marker.size}<extra></extra>",
           "ids": [
            2007
           ],
           "legendgroup": "MS",
           "marker": {
            "color": "#EF553B",
            "size": [
             155
            ],
            "sizemode": "area",
            "sizeref": 3.36,
            "symbol": "circle"
           },
           "mode": "markers",
           "name": "MS",
           "orientation": "v",
           "showlegend": true,
           "type": "scatter",
           "x": [
            2299
           ],
           "xaxis": "x",
           "y": [
            155
           ],
           "yaxis": "y"
          },
          {
           "hovertemplate": "Estado=MT<br>Ano=2007<br>Acidente=%{x}<br>Mortos=%{marker.size}<extra></extra>",
           "ids": [
            2007
           ],
           "legendgroup": "MT",
           "marker": {
            "color": "#00cc96",
            "size": [
             223
            ],
            "sizemode": "area",
            "sizeref": 3.36,
            "symbol": "circle"
           },
           "mode": "markers",
           "name": "MT",
           "orientation": "v",
           "showlegend": true,
           "type": "scatter",
           "x": [
            2638
           ],
           "xaxis": "x",
           "y": [
            223
           ],
           "yaxis": "y"
          },
          {
           "hovertemplate": "Estado=PA<br>Ano=2007<br>Acidente=%{x}<br>Mortos=%{marker.size}<extra></extra>",
           "ids": [
            2007
           ],
           "legendgroup": "PA",
           "marker": {
            "color": "#ab63fa",
            "size": [
             151
            ],
            "sizemode": "area",
            "sizeref": 3.36,
            "symbol": "circle"
           },
           "mode": "markers",
           "name": "PA",
           "orientation": "v",
           "showlegend": true,
           "type": "scatter",
           "x": [
            3128
           ],
           "xaxis": "x",
           "y": [
            151
           ],
           "yaxis": "y"
          },
          {
           "hovertemplate": "Estado=PB<br>Ano=2007<br>Acidente=%{x}<br>Mortos=%{marker.size}<extra></extra>",
           "ids": [
            2007
           ],
           "legendgroup": "PB",
           "marker": {
            "color": "#FFA15A",
            "size": [
             164
            ],
            "sizemode": "area",
            "sizeref": 3.36,
            "symbol": "circle"
           },
           "mode": "markers",
           "name": "PB",
           "orientation": "v",
           "showlegend": true,
           "type": "scatter",
           "x": [
            2696
           ],
           "xaxis": "x",
           "y": [
            164
           ],
           "yaxis": "y"
          },
          {
           "hovertemplate": "Estado=PE<br>Ano=2007<br>Acidente=%{x}<br>Mortos=%{marker.size}<extra></extra>",
           "ids": [
            2007
           ],
           "legendgroup": "PE",
           "marker": {
            "color": "#19d3f3",
            "size": [
             356
            ],
            "sizemode": "area",
            "sizeref": 3.36,
            "symbol": "circle"
           },
           "mode": "markers",
           "name": "PE",
           "orientation": "v",
           "showlegend": true,
           "type": "scatter",
           "x": [
            4765
           ],
           "xaxis": "x",
           "y": [
            356
           ],
           "yaxis": "y"
          },
          {
           "hovertemplate": "Estado=PI<br>Ano=2007<br>Acidente=%{x}<br>Mortos=%{marker.size}<extra></extra>",
           "ids": [
            2007
           ],
           "legendgroup": "PI",
           "marker": {
            "color": "#FF6692",
            "size": [
             148
            ],
            "sizemode": "area",
            "sizeref": 3.36,
            "symbol": "circle"
           },
           "mode": "markers",
           "name": "PI",
           "orientation": "v",
           "showlegend": true,
           "type": "scatter",
           "x": [
            1881
           ],
           "xaxis": "x",
           "y": [
            148
           ],
           "yaxis": "y"
          },
          {
           "hovertemplate": "Estado=PR<br>Ano=2007<br>Acidente=%{x}<br>Mortos=%{marker.size}<extra></extra>",
           "ids": [
            2007
           ],
           "legendgroup": "PR",
           "marker": {
            "color": "#B6E880",
            "size": [
             333
            ],
            "sizemode": "area",
            "sizeref": 3.36,
            "symbol": "circle"
           },
           "mode": "markers",
           "name": "PR",
           "orientation": "v",
           "showlegend": true,
           "type": "scatter",
           "x": [
            7073
           ],
           "xaxis": "x",
           "y": [
            333
           ],
           "yaxis": "y"
          },
          {
           "hovertemplate": "Estado=RJ<br>Ano=2007<br>Acidente=%{x}<br>Mortos=%{marker.size}<extra></extra>",
           "ids": [
            2007
           ],
           "legendgroup": "RJ",
           "marker": {
            "color": "#FF97FF",
            "size": [
             480
            ],
            "sizemode": "area",
            "sizeref": 3.36,
            "symbol": "circle"
           },
           "mode": "markers",
           "name": "RJ",
           "orientation": "v",
           "showlegend": true,
           "type": "scatter",
           "x": [
            11670
           ],
           "xaxis": "x",
           "y": [
            480
           ],
           "yaxis": "y"
          },
          {
           "hovertemplate": "Estado=RN<br>Ano=2007<br>Acidente=%{x}<br>Mortos=%{marker.size}<extra></extra>",
           "ids": [
            2007
           ],
           "legendgroup": "RN",
           "marker": {
            "color": "#FECB52",
            "size": [
             168
            ],
            "sizemode": "area",
            "sizeref": 3.36,
            "symbol": "circle"
           },
           "mode": "markers",
           "name": "RN",
           "orientation": "v",
           "showlegend": true,
           "type": "scatter",
           "x": [
            3067
           ],
           "xaxis": "x",
           "y": [
            168
           ],
           "yaxis": "y"
          },
          {
           "hovertemplate": "Estado=RO<br>Ano=2007<br>Acidente=%{x}<br>Mortos=%{marker.size}<extra></extra>",
           "ids": [
            2007
           ],
           "legendgroup": "RO",
           "marker": {
            "color": "#636efa",
            "size": [
             85
            ],
            "sizemode": "area",
            "sizeref": 3.36,
            "symbol": "circle"
           },
           "mode": "markers",
           "name": "RO",
           "orientation": "v",
           "showlegend": true,
           "type": "scatter",
           "x": [
            2082
           ],
           "xaxis": "x",
           "y": [
            85
           ],
           "yaxis": "y"
          },
          {
           "hovertemplate": "Estado=RR<br>Ano=2007<br>Acidente=%{x}<br>Mortos=%{marker.size}<extra></extra>",
           "ids": [
            2007
           ],
           "legendgroup": "RR",
           "marker": {
            "color": "#EF553B",
            "size": [
             51
            ],
            "sizemode": "area",
            "sizeref": 3.36,
            "symbol": "circle"
           },
           "mode": "markers",
           "name": "RR",
           "orientation": "v",
           "showlegend": true,
           "type": "scatter",
           "x": [
            458
           ],
           "xaxis": "x",
           "y": [
            51
           ],
           "yaxis": "y"
          },
          {
           "hovertemplate": "Estado=RS<br>Ano=2007<br>Acidente=%{x}<br>Mortos=%{marker.size}<extra></extra>",
           "ids": [
            2007
           ],
           "legendgroup": "RS",
           "marker": {
            "color": "#00cc96",
            "size": [
             353
            ],
            "sizemode": "area",
            "sizeref": 3.36,
            "symbol": "circle"
           },
           "mode": "markers",
           "name": "RS",
           "orientation": "v",
           "showlegend": true,
           "type": "scatter",
           "x": [
            11038
           ],
           "xaxis": "x",
           "y": [
            353
           ],
           "yaxis": "y"
          },
          {
           "hovertemplate": "Estado=SC<br>Ano=2007<br>Acidente=%{x}<br>Mortos=%{marker.size}<extra></extra>",
           "ids": [
            2007
           ],
           "legendgroup": "SC",
           "marker": {
            "color": "#ab63fa",
            "size": [
             587
            ],
            "sizemode": "area",
            "sizeref": 3.36,
            "symbol": "circle"
           },
           "mode": "markers",
           "name": "SC",
           "orientation": "v",
           "showlegend": true,
           "type": "scatter",
           "x": [
            14585
           ],
           "xaxis": "x",
           "y": [
            587
           ],
           "yaxis": "y"
          },
          {
           "hovertemplate": "Estado=SE<br>Ano=2007<br>Acidente=%{x}<br>Mortos=%{marker.size}<extra></extra>",
           "ids": [
            2007
           ],
           "legendgroup": "SE",
           "marker": {
            "color": "#FFA15A",
            "size": [
             102
            ],
            "sizemode": "area",
            "sizeref": 3.36,
            "symbol": "circle"
           },
           "mode": "markers",
           "name": "SE",
           "orientation": "v",
           "showlegend": true,
           "type": "scatter",
           "x": [
            1159
           ],
           "xaxis": "x",
           "y": [
            102
           ],
           "yaxis": "y"
          },
          {
           "hovertemplate": "Estado=SP<br>Ano=2007<br>Acidente=%{x}<br>Mortos=%{marker.size}<extra></extra>",
           "ids": [
            2007
           ],
           "legendgroup": "SP",
           "marker": {
            "color": "#19d3f3",
            "size": [
             402
            ],
            "sizemode": "area",
            "sizeref": 3.36,
            "symbol": "circle"
           },
           "mode": "markers",
           "name": "SP",
           "orientation": "v",
           "showlegend": true,
           "type": "scatter",
           "x": [
            11109
           ],
           "xaxis": "x",
           "y": [
            402
           ],
           "yaxis": "y"
          },
          {
           "hovertemplate": "Estado=TO<br>Ano=2007<br>Acidente=%{x}<br>Mortos=%{marker.size}<extra></extra>",
           "ids": [
            2007
           ],
           "legendgroup": "TO",
           "marker": {
            "color": "#FF6692",
            "size": [
             97
            ],
            "sizemode": "area",
            "sizeref": 3.36,
            "symbol": "circle"
           },
           "mode": "markers",
           "name": "TO",
           "orientation": "v",
           "showlegend": true,
           "type": "scatter",
           "x": [
            712
           ],
           "xaxis": "x",
           "y": [
            97
           ],
           "yaxis": "y"
          }
         ],
         "name": "2007"
        },
        {
         "data": [
          {
           "hovertemplate": "Estado=AC<br>Ano=2008<br>Acidente=%{x}<br>Mortos=%{marker.size}<extra></extra>",
           "ids": [
            2008
           ],
           "legendgroup": "AC",
           "marker": {
            "color": "#636efa",
            "size": [
             13
            ],
            "sizemode": "area",
            "sizeref": 3.36,
            "symbol": "circle"
           },
           "mode": "markers",
           "name": "AC",
           "orientation": "v",
           "showlegend": true,
           "type": "scatter",
           "x": [
            353
           ],
           "xaxis": "x",
           "y": [
            13
           ],
           "yaxis": "y"
          },
          {
           "hovertemplate": "Estado=AL<br>Ano=2008<br>Acidente=%{x}<br>Mortos=%{marker.size}<extra></extra>",
           "ids": [
            2008
           ],
           "legendgroup": "AL",
           "marker": {
            "color": "#EF553B",
            "size": [
             102
            ],
            "sizemode": "area",
            "sizeref": 3.36,
            "symbol": "circle"
           },
           "mode": "markers",
           "name": "AL",
           "orientation": "v",
           "showlegend": true,
           "type": "scatter",
           "x": [
            1778
           ],
           "xaxis": "x",
           "y": [
            102
           ],
           "yaxis": "y"
          },
          {
           "hovertemplate": "Estado=AM<br>Ano=2008<br>Acidente=%{x}<br>Mortos=%{marker.size}<extra></extra>",
           "ids": [
            2008
           ],
           "legendgroup": "AM",
           "marker": {
            "color": "#00cc96",
            "size": [
             11
            ],
            "sizemode": "area",
            "sizeref": 3.36,
            "symbol": "circle"
           },
           "mode": "markers",
           "name": "AM",
           "orientation": "v",
           "showlegend": true,
           "type": "scatter",
           "x": [
            194
           ],
           "xaxis": "x",
           "y": [
            11
           ],
           "yaxis": "y"
          },
          {
           "hovertemplate": "Estado=AP<br>Ano=2008<br>Acidente=%{x}<br>Mortos=%{marker.size}<extra></extra>",
           "ids": [
            2008
           ],
           "legendgroup": "AP",
           "marker": {
            "color": "#ab63fa",
            "size": [
             13
            ],
            "sizemode": "area",
            "sizeref": 3.36,
            "symbol": "circle"
           },
           "mode": "markers",
           "name": "AP",
           "orientation": "v",
           "showlegend": true,
           "type": "scatter",
           "x": [
            168
           ],
           "xaxis": "x",
           "y": [
            13
           ],
           "yaxis": "y"
          },
          {
           "hovertemplate": "Estado=BA<br>Ano=2008<br>Acidente=%{x}<br>Mortos=%{marker.size}<extra></extra>",
           "ids": [
            2008
           ],
           "legendgroup": "BA",
           "marker": {
            "color": "#FFA15A",
            "size": [
             660
            ],
            "sizemode": "area",
            "sizeref": 3.36,
            "symbol": "circle"
           },
           "mode": "markers",
           "name": "BA",
           "orientation": "v",
           "showlegend": true,
           "type": "scatter",
           "x": [
            7629
           ],
           "xaxis": "x",
           "y": [
            660
           ],
           "yaxis": "y"
          },
          {
           "hovertemplate": "Estado=CE<br>Ano=2008<br>Acidente=%{x}<br>Mortos=%{marker.size}<extra></extra>",
           "ids": [
            2008
           ],
           "legendgroup": "CE",
           "marker": {
            "color": "#19d3f3",
            "size": [
             193
            ],
            "sizemode": "area",
            "sizeref": 3.36,
            "symbol": "circle"
           },
           "mode": "markers",
           "name": "CE",
           "orientation": "v",
           "showlegend": true,
           "type": "scatter",
           "x": [
            2691
           ],
           "xaxis": "x",
           "y": [
            193
           ],
           "yaxis": "y"
          },
          {
           "hovertemplate": "Estado=DF<br>Ano=2008<br>Acidente=%{x}<br>Mortos=%{marker.size}<extra></extra>",
           "ids": [
            2008
           ],
           "legendgroup": "DF",
           "marker": {
            "color": "#FF6692",
            "size": [
             49
            ],
            "sizemode": "area",
            "sizeref": 3.36,
            "symbol": "circle"
           },
           "mode": "markers",
           "name": "DF",
           "orientation": "v",
           "showlegend": true,
           "type": "scatter",
           "x": [
            1044
           ],
           "xaxis": "x",
           "y": [
            49
           ],
           "yaxis": "y"
          },
          {
           "hovertemplate": "Estado=ES<br>Ano=2008<br>Acidente=%{x}<br>Mortos=%{marker.size}<extra></extra>",
           "ids": [
            2008
           ],
           "legendgroup": "ES",
           "marker": {
            "color": "#B6E880",
            "size": [
             208
            ],
            "sizemode": "area",
            "sizeref": 3.36,
            "symbol": "circle"
           },
           "mode": "markers",
           "name": "ES",
           "orientation": "v",
           "showlegend": true,
           "type": "scatter",
           "x": [
            6380
           ],
           "xaxis": "x",
           "y": [
            208
           ],
           "yaxis": "y"
          },
          {
           "hovertemplate": "Estado=GO<br>Ano=2008<br>Acidente=%{x}<br>Mortos=%{marker.size}<extra></extra>",
           "ids": [
            2008
           ],
           "legendgroup": "GO",
           "marker": {
            "color": "#FF97FF",
            "size": [
             391
            ],
            "sizemode": "area",
            "sizeref": 3.36,
            "symbol": "circle"
           },
           "mode": "markers",
           "name": "GO",
           "orientation": "v",
           "showlegend": true,
           "type": "scatter",
           "x": [
            6455
           ],
           "xaxis": "x",
           "y": [
            391
           ],
           "yaxis": "y"
          },
          {
           "hovertemplate": "Estado=MA<br>Ano=2008<br>Acidente=%{x}<br>Mortos=%{marker.size}<extra></extra>",
           "ids": [
            2008
           ],
           "legendgroup": "MA",
           "marker": {
            "color": "#FECB52",
            "size": [
             248
            ],
            "sizemode": "area",
            "sizeref": 3.36,
            "symbol": "circle"
           },
           "mode": "markers",
           "name": "MA",
           "orientation": "v",
           "showlegend": true,
           "type": "scatter",
           "x": [
            2292
           ],
           "xaxis": "x",
           "y": [
            248
           ],
           "yaxis": "y"
          },
          {
           "hovertemplate": "Estado=MG<br>Ano=2008<br>Acidente=%{x}<br>Mortos=%{marker.size}<extra></extra>",
           "ids": [
            2008
           ],
           "legendgroup": "MG",
           "marker": {
            "color": "#636efa",
            "size": [
             1142
            ],
            "sizemode": "area",
            "sizeref": 3.36,
            "symbol": "circle"
           },
           "mode": "markers",
           "name": "MG",
           "orientation": "v",
           "showlegend": true,
           "type": "scatter",
           "x": [
            22710
           ],
           "xaxis": "x",
           "y": [
            1142
           ],
           "yaxis": "y"
          },
          {
           "hovertemplate": "Estado=MS<br>Ano=2008<br>Acidente=%{x}<br>Mortos=%{marker.size}<extra></extra>",
           "ids": [
            2008
           ],
           "legendgroup": "MS",
           "marker": {
            "color": "#EF553B",
            "size": [
             174
            ],
            "sizemode": "area",
            "sizeref": 3.36,
            "symbol": "circle"
           },
           "mode": "markers",
           "name": "MS",
           "orientation": "v",
           "showlegend": true,
           "type": "scatter",
           "x": [
            2635
           ],
           "xaxis": "x",
           "y": [
            174
           ],
           "yaxis": "y"
          },
          {
           "hovertemplate": "Estado=MT<br>Ano=2008<br>Acidente=%{x}<br>Mortos=%{marker.size}<extra></extra>",
           "ids": [
            2008
           ],
           "legendgroup": "MT",
           "marker": {
            "color": "#00cc96",
            "size": [
             233
            ],
            "sizemode": "area",
            "sizeref": 3.36,
            "symbol": "circle"
           },
           "mode": "markers",
           "name": "MT",
           "orientation": "v",
           "showlegend": true,
           "type": "scatter",
           "x": [
            3110
           ],
           "xaxis": "x",
           "y": [
            233
           ],
           "yaxis": "y"
          },
          {
           "hovertemplate": "Estado=PA<br>Ano=2008<br>Acidente=%{x}<br>Mortos=%{marker.size}<extra></extra>",
           "ids": [
            2008
           ],
           "legendgroup": "PA",
           "marker": {
            "color": "#ab63fa",
            "size": [
             174
            ],
            "sizemode": "area",
            "sizeref": 3.36,
            "symbol": "circle"
           },
           "mode": "markers",
           "name": "PA",
           "orientation": "v",
           "showlegend": true,
           "type": "scatter",
           "x": [
            3299
           ],
           "xaxis": "x",
           "y": [
            174
           ],
           "yaxis": "y"
          },
          {
           "hovertemplate": "Estado=PB<br>Ano=2008<br>Acidente=%{x}<br>Mortos=%{marker.size}<extra></extra>",
           "ids": [
            2008
           ],
           "legendgroup": "PB",
           "marker": {
            "color": "#FFA15A",
            "size": [
             185
            ],
            "sizemode": "area",
            "sizeref": 3.36,
            "symbol": "circle"
           },
           "mode": "markers",
           "name": "PB",
           "orientation": "v",
           "showlegend": true,
           "type": "scatter",
           "x": [
            3325
           ],
           "xaxis": "x",
           "y": [
            185
           ],
           "yaxis": "y"
          },
          {
           "hovertemplate": "Estado=PE<br>Ano=2008<br>Acidente=%{x}<br>Mortos=%{marker.size}<extra></extra>",
           "ids": [
            2008
           ],
           "legendgroup": "PE",
           "marker": {
            "color": "#19d3f3",
            "size": [
             376
            ],
            "sizemode": "area",
            "sizeref": 3.36,
            "symbol": "circle"
           },
           "mode": "markers",
           "name": "PE",
           "orientation": "v",
           "showlegend": true,
           "type": "scatter",
           "x": [
            5320
           ],
           "xaxis": "x",
           "y": [
            376
           ],
           "yaxis": "y"
          },
          {
           "hovertemplate": "Estado=PI<br>Ano=2008<br>Acidente=%{x}<br>Mortos=%{marker.size}<extra></extra>",
           "ids": [
            2008
           ],
           "legendgroup": "PI",
           "marker": {
            "color": "#FF6692",
            "size": [
             165
            ],
            "sizemode": "area",
            "sizeref": 3.36,
            "symbol": "circle"
           },
           "mode": "markers",
           "name": "PI",
           "orientation": "v",
           "showlegend": true,
           "type": "scatter",
           "x": [
            2030
           ],
           "xaxis": "x",
           "y": [
            165
           ],
           "yaxis": "y"
          },
          {
           "hovertemplate": "Estado=PR<br>Ano=2008<br>Acidente=%{x}<br>Mortos=%{marker.size}<extra></extra>",
           "ids": [
            2008
           ],
           "legendgroup": "PR",
           "marker": {
            "color": "#B6E880",
            "size": [
             292
            ],
            "sizemode": "area",
            "sizeref": 3.36,
            "symbol": "circle"
           },
           "mode": "markers",
           "name": "PR",
           "orientation": "v",
           "showlegend": true,
           "type": "scatter",
           "x": [
            9683
           ],
           "xaxis": "x",
           "y": [
            292
           ],
           "yaxis": "y"
          },
          {
           "hovertemplate": "Estado=RJ<br>Ano=2008<br>Acidente=%{x}<br>Mortos=%{marker.size}<extra></extra>",
           "ids": [
            2008
           ],
           "legendgroup": "RJ",
           "marker": {
            "color": "#FF97FF",
            "size": [
             487
            ],
            "sizemode": "area",
            "sizeref": 3.36,
            "symbol": "circle"
           },
           "mode": "markers",
           "name": "RJ",
           "orientation": "v",
           "showlegend": true,
           "type": "scatter",
           "x": [
            13434
           ],
           "xaxis": "x",
           "y": [
            487
           ],
           "yaxis": "y"
          },
          {
           "hovertemplate": "Estado=RN<br>Ano=2008<br>Acidente=%{x}<br>Mortos=%{marker.size}<extra></extra>",
           "ids": [
            2008
           ],
           "legendgroup": "RN",
           "marker": {
            "color": "#FECB52",
            "size": [
             139
            ],
            "sizemode": "area",
            "sizeref": 3.36,
            "symbol": "circle"
           },
           "mode": "markers",
           "name": "RN",
           "orientation": "v",
           "showlegend": true,
           "type": "scatter",
           "x": [
            2873
           ],
           "xaxis": "x",
           "y": [
            139
           ],
           "yaxis": "y"
          },
          {
           "hovertemplate": "Estado=RO<br>Ano=2008<br>Acidente=%{x}<br>Mortos=%{marker.size}<extra></extra>",
           "ids": [
            2008
           ],
           "legendgroup": "RO",
           "marker": {
            "color": "#636efa",
            "size": [
             117
            ],
            "sizemode": "area",
            "sizeref": 3.36,
            "symbol": "circle"
           },
           "mode": "markers",
           "name": "RO",
           "orientation": "v",
           "showlegend": true,
           "type": "scatter",
           "x": [
            2430
           ],
           "xaxis": "x",
           "y": [
            117
           ],
           "yaxis": "y"
          },
          {
           "hovertemplate": "Estado=RR<br>Ano=2008<br>Acidente=%{x}<br>Mortos=%{marker.size}<extra></extra>",
           "ids": [
            2008
           ],
           "legendgroup": "RR",
           "marker": {
            "color": "#EF553B",
            "size": [
             33
            ],
            "sizemode": "area",
            "sizeref": 3.36,
            "symbol": "circle"
           },
           "mode": "markers",
           "name": "RR",
           "orientation": "v",
           "showlegend": true,
           "type": "scatter",
           "x": [
            313
           ],
           "xaxis": "x",
           "y": [
            33
           ],
           "yaxis": "y"
          },
          {
           "hovertemplate": "Estado=RS<br>Ano=2008<br>Acidente=%{x}<br>Mortos=%{marker.size}<extra></extra>",
           "ids": [
            2008
           ],
           "legendgroup": "RS",
           "marker": {
            "color": "#00cc96",
            "size": [
             398
            ],
            "sizemode": "area",
            "sizeref": 3.36,
            "symbol": "circle"
           },
           "mode": "markers",
           "name": "RS",
           "orientation": "v",
           "showlegend": true,
           "type": "scatter",
           "x": [
            11254
           ],
           "xaxis": "x",
           "y": [
            398
           ],
           "yaxis": "y"
          },
          {
           "hovertemplate": "Estado=SC<br>Ano=2008<br>Acidente=%{x}<br>Mortos=%{marker.size}<extra></extra>",
           "ids": [
            2008
           ],
           "legendgroup": "SC",
           "marker": {
            "color": "#ab63fa",
            "size": [
             539
            ],
            "sizemode": "area",
            "sizeref": 3.36,
            "symbol": "circle"
           },
           "mode": "markers",
           "name": "SC",
           "orientation": "v",
           "showlegend": true,
           "type": "scatter",
           "x": [
            15596
           ],
           "xaxis": "x",
           "y": [
            539
           ],
           "yaxis": "y"
          },
          {
           "hovertemplate": "Estado=SE<br>Ano=2008<br>Acidente=%{x}<br>Mortos=%{marker.size}<extra></extra>",
           "ids": [
            2008
           ],
           "legendgroup": "SE",
           "marker": {
            "color": "#FFA15A",
            "size": [
             81
            ],
            "sizemode": "area",
            "sizeref": 3.36,
            "symbol": "circle"
           },
           "mode": "markers",
           "name": "SE",
           "orientation": "v",
           "showlegend": true,
           "type": "scatter",
           "x": [
            1232
           ],
           "xaxis": "x",
           "y": [
            81
           ],
           "yaxis": "y"
          },
          {
           "hovertemplate": "Estado=SP<br>Ano=2008<br>Acidente=%{x}<br>Mortos=%{marker.size}<extra></extra>",
           "ids": [
            2008
           ],
           "legendgroup": "SP",
           "marker": {
            "color": "#19d3f3",
            "size": [
             394
            ],
            "sizemode": "area",
            "sizeref": 3.36,
            "symbol": "circle"
           },
           "mode": "markers",
           "name": "SP",
           "orientation": "v",
           "showlegend": true,
           "type": "scatter",
           "x": [
            11980
           ],
           "xaxis": "x",
           "y": [
            394
           ],
           "yaxis": "y"
          },
          {
           "hovertemplate": "Estado=TO<br>Ano=2008<br>Acidente=%{x}<br>Mortos=%{marker.size}<extra></extra>",
           "ids": [
            2008
           ],
           "legendgroup": "TO",
           "marker": {
            "color": "#FF6692",
            "size": [
             97
            ],
            "sizemode": "area",
            "sizeref": 3.36,
            "symbol": "circle"
           },
           "mode": "markers",
           "name": "TO",
           "orientation": "v",
           "showlegend": true,
           "type": "scatter",
           "x": [
            823
           ],
           "xaxis": "x",
           "y": [
            97
           ],
           "yaxis": "y"
          }
         ],
         "name": "2008"
        },
        {
         "data": [
          {
           "hovertemplate": "Estado=AC<br>Ano=2009<br>Acidente=%{x}<br>Mortos=%{marker.size}<extra></extra>",
           "ids": [
            2009
           ],
           "legendgroup": "AC",
           "marker": {
            "color": "#636efa",
            "size": [
             31
            ],
            "sizemode": "area",
            "sizeref": 3.36,
            "symbol": "circle"
           },
           "mode": "markers",
           "name": "AC",
           "orientation": "v",
           "showlegend": true,
           "type": "scatter",
           "x": [
            365
           ],
           "xaxis": "x",
           "y": [
            31
           ],
           "yaxis": "y"
          },
          {
           "hovertemplate": "Estado=AL<br>Ano=2009<br>Acidente=%{x}<br>Mortos=%{marker.size}<extra></extra>",
           "ids": [
            2009
           ],
           "legendgroup": "AL",
           "marker": {
            "color": "#EF553B",
            "size": [
             125
            ],
            "sizemode": "area",
            "sizeref": 3.36,
            "symbol": "circle"
           },
           "mode": "markers",
           "name": "AL",
           "orientation": "v",
           "showlegend": true,
           "type": "scatter",
           "x": [
            1914
           ],
           "xaxis": "x",
           "y": [
            125
           ],
           "yaxis": "y"
          },
          {
           "hovertemplate": "Estado=AM<br>Ano=2009<br>Acidente=%{x}<br>Mortos=%{marker.size}<extra></extra>",
           "ids": [
            2009
           ],
           "legendgroup": "AM",
           "marker": {
            "color": "#00cc96",
            "size": [
             11
            ],
            "sizemode": "area",
            "sizeref": 3.36,
            "symbol": "circle"
           },
           "mode": "markers",
           "name": "AM",
           "orientation": "v",
           "showlegend": true,
           "type": "scatter",
           "x": [
            199
           ],
           "xaxis": "x",
           "y": [
            11
           ],
           "yaxis": "y"
          },
          {
           "hovertemplate": "Estado=AP<br>Ano=2009<br>Acidente=%{x}<br>Mortos=%{marker.size}<extra></extra>",
           "ids": [
            2009
           ],
           "legendgroup": "AP",
           "marker": {
            "color": "#ab63fa",
            "size": [
             9
            ],
            "sizemode": "area",
            "sizeref": 3.36,
            "symbol": "circle"
           },
           "mode": "markers",
           "name": "AP",
           "orientation": "v",
           "showlegend": true,
           "type": "scatter",
           "x": [
            161
           ],
           "xaxis": "x",
           "y": [
            9
           ],
           "yaxis": "y"
          },
          {
           "hovertemplate": "Estado=BA<br>Ano=2009<br>Acidente=%{x}<br>Mortos=%{marker.size}<extra></extra>",
           "ids": [
            2009
           ],
           "legendgroup": "BA",
           "marker": {
            "color": "#FFA15A",
            "size": [
             638
            ],
            "sizemode": "area",
            "sizeref": 3.36,
            "symbol": "circle"
           },
           "mode": "markers",
           "name": "BA",
           "orientation": "v",
           "showlegend": true,
           "type": "scatter",
           "x": [
            8208
           ],
           "xaxis": "x",
           "y": [
            638
           ],
           "yaxis": "y"
          },
          {
           "hovertemplate": "Estado=CE<br>Ano=2009<br>Acidente=%{x}<br>Mortos=%{marker.size}<extra></extra>",
           "ids": [
            2009
           ],
           "legendgroup": "CE",
           "marker": {
            "color": "#19d3f3",
            "size": [
             141
            ],
            "sizemode": "area",
            "sizeref": 3.36,
            "symbol": "circle"
           },
           "mode": "markers",
           "name": "CE",
           "orientation": "v",
           "showlegend": true,
           "type": "scatter",
           "x": [
            2913
           ],
           "xaxis": "x",
           "y": [
            141
           ],
           "yaxis": "y"
          },
          {
           "hovertemplate": "Estado=DF<br>Ano=2009<br>Acidente=%{x}<br>Mortos=%{marker.size}<extra></extra>",
           "ids": [
            2009
           ],
           "legendgroup": "DF",
           "marker": {
            "color": "#FF6692",
            "size": [
             43
            ],
            "sizemode": "area",
            "sizeref": 3.36,
            "symbol": "circle"
           },
           "mode": "markers",
           "name": "DF",
           "orientation": "v",
           "showlegend": true,
           "type": "scatter",
           "x": [
            1227
           ],
           "xaxis": "x",
           "y": [
            43
           ],
           "yaxis": "y"
          },
          {
           "hovertemplate": "Estado=ES<br>Ano=2009<br>Acidente=%{x}<br>Mortos=%{marker.size}<extra></extra>",
           "ids": [
            2009
           ],
           "legendgroup": "ES",
           "marker": {
            "color": "#B6E880",
            "size": [
             220
            ],
            "sizemode": "area",
            "sizeref": 3.36,
            "symbol": "circle"
           },
           "mode": "markers",
           "name": "ES",
           "orientation": "v",
           "showlegend": true,
           "type": "scatter",
           "x": [
            6746
           ],
           "xaxis": "x",
           "y": [
            220
           ],
           "yaxis": "y"
          },
          {
           "hovertemplate": "Estado=GO<br>Ano=2009<br>Acidente=%{x}<br>Mortos=%{marker.size}<extra></extra>",
           "ids": [
            2009
           ],
           "legendgroup": "GO",
           "marker": {
            "color": "#FF97FF",
            "size": [
             451
            ],
            "sizemode": "area",
            "sizeref": 3.36,
            "symbol": "circle"
           },
           "mode": "markers",
           "name": "GO",
           "orientation": "v",
           "showlegend": true,
           "type": "scatter",
           "x": [
            7177
           ],
           "xaxis": "x",
           "y": [
            451
           ],
           "yaxis": "y"
          },
          {
           "hovertemplate": "Estado=MA<br>Ano=2009<br>Acidente=%{x}<br>Mortos=%{marker.size}<extra></extra>",
           "ids": [
            2009
           ],
           "legendgroup": "MA",
           "marker": {
            "color": "#FECB52",
            "size": [
             279
            ],
            "sizemode": "area",
            "sizeref": 3.36,
            "symbol": "circle"
           },
           "mode": "markers",
           "name": "MA",
           "orientation": "v",
           "showlegend": true,
           "type": "scatter",
           "x": [
            2319
           ],
           "xaxis": "x",
           "y": [
            279
           ],
           "yaxis": "y"
          },
          {
           "hovertemplate": "Estado=MG<br>Ano=2009<br>Acidente=%{x}<br>Mortos=%{marker.size}<extra></extra>",
           "ids": [
            2009
           ],
           "legendgroup": "MG",
           "marker": {
            "color": "#636efa",
            "size": [
             1214
            ],
            "sizemode": "area",
            "sizeref": 3.36,
            "symbol": "circle"
           },
           "mode": "markers",
           "name": "MG",
           "orientation": "v",
           "showlegend": true,
           "type": "scatter",
           "x": [
            25078
           ],
           "xaxis": "x",
           "y": [
            1214
           ],
           "yaxis": "y"
          },
          {
           "hovertemplate": "Estado=MS<br>Ano=2009<br>Acidente=%{x}<br>Mortos=%{marker.size}<extra></extra>",
           "ids": [
            2009
           ],
           "legendgroup": "MS",
           "marker": {
            "color": "#EF553B",
            "size": [
             177
            ],
            "sizemode": "area",
            "sizeref": 3.36,
            "symbol": "circle"
           },
           "mode": "markers",
           "name": "MS",
           "orientation": "v",
           "showlegend": true,
           "type": "scatter",
           "x": [
            2836
           ],
           "xaxis": "x",
           "y": [
            177
           ],
           "yaxis": "y"
          },
          {
           "hovertemplate": "Estado=MT<br>Ano=2009<br>Acidente=%{x}<br>Mortos=%{marker.size}<extra></extra>",
           "ids": [
            2009
           ],
           "legendgroup": "MT",
           "marker": {
            "color": "#00cc96",
            "size": [
             226
            ],
            "sizemode": "area",
            "sizeref": 3.36,
            "symbol": "circle"
           },
           "mode": "markers",
           "name": "MT",
           "orientation": "v",
           "showlegend": true,
           "type": "scatter",
           "x": [
            3564
           ],
           "xaxis": "x",
           "y": [
            226
           ],
           "yaxis": "y"
          },
          {
           "hovertemplate": "Estado=PA<br>Ano=2009<br>Acidente=%{x}<br>Mortos=%{marker.size}<extra></extra>",
           "ids": [
            2009
           ],
           "legendgroup": "PA",
           "marker": {
            "color": "#ab63fa",
            "size": [
             169
            ],
            "sizemode": "area",
            "sizeref": 3.36,
            "symbol": "circle"
           },
           "mode": "markers",
           "name": "PA",
           "orientation": "v",
           "showlegend": true,
           "type": "scatter",
           "x": [
            3412
           ],
           "xaxis": "x",
           "y": [
            169
           ],
           "yaxis": "y"
          },
          {
           "hovertemplate": "Estado=PB<br>Ano=2009<br>Acidente=%{x}<br>Mortos=%{marker.size}<extra></extra>",
           "ids": [
            2009
           ],
           "legendgroup": "PB",
           "marker": {
            "color": "#FFA15A",
            "size": [
             202
            ],
            "sizemode": "area",
            "sizeref": 3.36,
            "symbol": "circle"
           },
           "mode": "markers",
           "name": "PB",
           "orientation": "v",
           "showlegend": true,
           "type": "scatter",
           "x": [
            3546
           ],
           "xaxis": "x",
           "y": [
            202
           ],
           "yaxis": "y"
          },
          {
           "hovertemplate": "Estado=PE<br>Ano=2009<br>Acidente=%{x}<br>Mortos=%{marker.size}<extra></extra>",
           "ids": [
            2009
           ],
           "legendgroup": "PE",
           "marker": {
            "color": "#19d3f3",
            "size": [
             429
            ],
            "sizemode": "area",
            "sizeref": 3.36,
            "symbol": "circle"
           },
           "mode": "markers",
           "name": "PE",
           "orientation": "v",
           "showlegend": true,
           "type": "scatter",
           "x": [
            5983
           ],
           "xaxis": "x",
           "y": [
            429
           ],
           "yaxis": "y"
          },
          {
           "hovertemplate": "Estado=PI<br>Ano=2009<br>Acidente=%{x}<br>Mortos=%{marker.size}<extra></extra>",
           "ids": [
            2009
           ],
           "legendgroup": "PI",
           "marker": {
            "color": "#FF6692",
            "size": [
             199
            ],
            "sizemode": "area",
            "sizeref": 3.36,
            "symbol": "circle"
           },
           "mode": "markers",
           "name": "PI",
           "orientation": "v",
           "showlegend": true,
           "type": "scatter",
           "x": [
            2215
           ],
           "xaxis": "x",
           "y": [
            199
           ],
           "yaxis": "y"
          },
          {
           "hovertemplate": "Estado=PR<br>Ano=2009<br>Acidente=%{x}<br>Mortos=%{marker.size}<extra></extra>",
           "ids": [
            2009
           ],
           "legendgroup": "PR",
           "marker": {
            "color": "#B6E880",
            "size": [
             558
            ],
            "sizemode": "area",
            "sizeref": 3.36,
            "symbol": "circle"
           },
           "mode": "markers",
           "name": "PR",
           "orientation": "v",
           "showlegend": true,
           "type": "scatter",
           "x": [
            15607
           ],
           "xaxis": "x",
           "y": [
            558
           ],
           "yaxis": "y"
          },
          {
           "hovertemplate": "Estado=RJ<br>Ano=2009<br>Acidente=%{x}<br>Mortos=%{marker.size}<extra></extra>",
           "ids": [
            2009
           ],
           "legendgroup": "RJ",
           "marker": {
            "color": "#FF97FF",
            "size": [
             469
            ],
            "sizemode": "area",
            "sizeref": 3.36,
            "symbol": "circle"
           },
           "mode": "markers",
           "name": "RJ",
           "orientation": "v",
           "showlegend": true,
           "type": "scatter",
           "x": [
            14207
           ],
           "xaxis": "x",
           "y": [
            469
           ],
           "yaxis": "y"
          },
          {
           "hovertemplate": "Estado=RN<br>Ano=2009<br>Acidente=%{x}<br>Mortos=%{marker.size}<extra></extra>",
           "ids": [
            2009
           ],
           "legendgroup": "RN",
           "marker": {
            "color": "#FECB52",
            "size": [
             140
            ],
            "sizemode": "area",
            "sizeref": 3.36,
            "symbol": "circle"
           },
           "mode": "markers",
           "name": "RN",
           "orientation": "v",
           "showlegend": true,
           "type": "scatter",
           "x": [
            3315
           ],
           "xaxis": "x",
           "y": [
            140
           ],
           "yaxis": "y"
          },
          {
           "hovertemplate": "Estado=RO<br>Ano=2009<br>Acidente=%{x}<br>Mortos=%{marker.size}<extra></extra>",
           "ids": [
            2009
           ],
           "legendgroup": "RO",
           "marker": {
            "color": "#636efa",
            "size": [
             97
            ],
            "sizemode": "area",
            "sizeref": 3.36,
            "symbol": "circle"
           },
           "mode": "markers",
           "name": "RO",
           "orientation": "v",
           "showlegend": true,
           "type": "scatter",
           "x": [
            3094
           ],
           "xaxis": "x",
           "y": [
            97
           ],
           "yaxis": "y"
          },
          {
           "hovertemplate": "Estado=RR<br>Ano=2009<br>Acidente=%{x}<br>Mortos=%{marker.size}<extra></extra>",
           "ids": [
            2009
           ],
           "legendgroup": "RR",
           "marker": {
            "color": "#EF553B",
            "size": [
             19
            ],
            "sizemode": "area",
            "sizeref": 3.36,
            "symbol": "circle"
           },
           "mode": "markers",
           "name": "RR",
           "orientation": "v",
           "showlegend": true,
           "type": "scatter",
           "x": [
            287
           ],
           "xaxis": "x",
           "y": [
            19
           ],
           "yaxis": "y"
          },
          {
           "hovertemplate": "Estado=RS<br>Ano=2009<br>Acidente=%{x}<br>Mortos=%{marker.size}<extra></extra>",
           "ids": [
            2009
           ],
           "legendgroup": "RS",
           "marker": {
            "color": "#00cc96",
            "size": [
             379
            ],
            "sizemode": "area",
            "sizeref": 3.36,
            "symbol": "circle"
           },
           "mode": "markers",
           "name": "RS",
           "orientation": "v",
           "showlegend": true,
           "type": "scatter",
           "x": [
            11715
           ],
           "xaxis": "x",
           "y": [
            379
           ],
           "yaxis": "y"
          },
          {
           "hovertemplate": "Estado=SC<br>Ano=2009<br>Acidente=%{x}<br>Mortos=%{marker.size}<extra></extra>",
           "ids": [
            2009
           ],
           "legendgroup": "SC",
           "marker": {
            "color": "#ab63fa",
            "size": [
             563
            ],
            "sizemode": "area",
            "sizeref": 3.36,
            "symbol": "circle"
           },
           "mode": "markers",
           "name": "SC",
           "orientation": "v",
           "showlegend": true,
           "type": "scatter",
           "x": [
            17895
           ],
           "xaxis": "x",
           "y": [
            563
           ],
           "yaxis": "y"
          },
          {
           "hovertemplate": "Estado=SE<br>Ano=2009<br>Acidente=%{x}<br>Mortos=%{marker.size}<extra></extra>",
           "ids": [
            2009
           ],
           "legendgroup": "SE",
           "marker": {
            "color": "#FFA15A",
            "size": [
             77
            ],
            "sizemode": "area",
            "sizeref": 3.36,
            "symbol": "circle"
           },
           "mode": "markers",
           "name": "SE",
           "orientation": "v",
           "showlegend": true,
           "type": "scatter",
           "x": [
            1201
           ],
           "xaxis": "x",
           "y": [
            77
           ],
           "yaxis": "y"
          },
          {
           "hovertemplate": "Estado=SP<br>Ano=2009<br>Acidente=%{x}<br>Mortos=%{marker.size}<extra></extra>",
           "ids": [
            2009
           ],
           "legendgroup": "SP",
           "marker": {
            "color": "#19d3f3",
            "size": [
             382
            ],
            "sizemode": "area",
            "sizeref": 3.36,
            "symbol": "circle"
           },
           "mode": "markers",
           "name": "SP",
           "orientation": "v",
           "showlegend": true,
           "type": "scatter",
           "x": [
            12473
           ],
           "xaxis": "x",
           "y": [
            382
           ],
           "yaxis": "y"
          },
          {
           "hovertemplate": "Estado=TO<br>Ano=2009<br>Acidente=%{x}<br>Mortos=%{marker.size}<extra></extra>",
           "ids": [
            2009
           ],
           "legendgroup": "TO",
           "marker": {
            "color": "#FF6692",
            "size": [
             93
            ],
            "sizemode": "area",
            "sizeref": 3.36,
            "symbol": "circle"
           },
           "mode": "markers",
           "name": "TO",
           "orientation": "v",
           "showlegend": true,
           "type": "scatter",
           "x": [
            977
           ],
           "xaxis": "x",
           "y": [
            93
           ],
           "yaxis": "y"
          }
         ],
         "name": "2009"
        },
        {
         "data": [
          {
           "hovertemplate": "Estado=AC<br>Ano=2010<br>Acidente=%{x}<br>Mortos=%{marker.size}<extra></extra>",
           "ids": [
            2010
           ],
           "legendgroup": "AC",
           "marker": {
            "color": "#636efa",
            "size": [
             14
            ],
            "sizemode": "area",
            "sizeref": 3.36,
            "symbol": "circle"
           },
           "mode": "markers",
           "name": "AC",
           "orientation": "v",
           "showlegend": true,
           "type": "scatter",
           "x": [
            462
           ],
           "xaxis": "x",
           "y": [
            14
           ],
           "yaxis": "y"
          },
          {
           "hovertemplate": "Estado=AL<br>Ano=2010<br>Acidente=%{x}<br>Mortos=%{marker.size}<extra></extra>",
           "ids": [
            2010
           ],
           "legendgroup": "AL",
           "marker": {
            "color": "#EF553B",
            "size": [
             153
            ],
            "sizemode": "area",
            "sizeref": 3.36,
            "symbol": "circle"
           },
           "mode": "markers",
           "name": "AL",
           "orientation": "v",
           "showlegend": true,
           "type": "scatter",
           "x": [
            2277
           ],
           "xaxis": "x",
           "y": [
            153
           ],
           "yaxis": "y"
          },
          {
           "hovertemplate": "Estado=AM<br>Ano=2010<br>Acidente=%{x}<br>Mortos=%{marker.size}<extra></extra>",
           "ids": [
            2010
           ],
           "legendgroup": "AM",
           "marker": {
            "color": "#00cc96",
            "size": [
             18
            ],
            "sizemode": "area",
            "sizeref": 3.36,
            "symbol": "circle"
           },
           "mode": "markers",
           "name": "AM",
           "orientation": "v",
           "showlegend": true,
           "type": "scatter",
           "x": [
            239
           ],
           "xaxis": "x",
           "y": [
            18
           ],
           "yaxis": "y"
          },
          {
           "hovertemplate": "Estado=AP<br>Ano=2010<br>Acidente=%{x}<br>Mortos=%{marker.size}<extra></extra>",
           "ids": [
            2010
           ],
           "legendgroup": "AP",
           "marker": {
            "color": "#ab63fa",
            "size": [
             12
            ],
            "sizemode": "area",
            "sizeref": 3.36,
            "symbol": "circle"
           },
           "mode": "markers",
           "name": "AP",
           "orientation": "v",
           "showlegend": true,
           "type": "scatter",
           "x": [
            162
           ],
           "xaxis": "x",
           "y": [
            12
           ],
           "yaxis": "y"
          },
          {
           "hovertemplate": "Estado=BA<br>Ano=2010<br>Acidente=%{x}<br>Mortos=%{marker.size}<extra></extra>",
           "ids": [
            2010
           ],
           "legendgroup": "BA",
           "marker": {
            "color": "#FFA15A",
            "size": [
             813
            ],
            "sizemode": "area",
            "sizeref": 3.36,
            "symbol": "circle"
           },
           "mode": "markers",
           "name": "BA",
           "orientation": "v",
           "showlegend": true,
           "type": "scatter",
           "x": [
            9439
           ],
           "xaxis": "x",
           "y": [
            813
           ],
           "yaxis": "y"
          },
          {
           "hovertemplate": "Estado=CE<br>Ano=2010<br>Acidente=%{x}<br>Mortos=%{marker.size}<extra></extra>",
           "ids": [
            2010
           ],
           "legendgroup": "CE",
           "marker": {
            "color": "#19d3f3",
            "size": [
             276
            ],
            "sizemode": "area",
            "sizeref": 3.36,
            "symbol": "circle"
           },
           "mode": "markers",
           "name": "CE",
           "orientation": "v",
           "showlegend": true,
           "type": "scatter",
           "x": [
            3784
           ],
           "xaxis": "x",
           "y": [
            276
           ],
           "yaxis": "y"
          },
          {
           "hovertemplate": "Estado=DF<br>Ano=2010<br>Acidente=%{x}<br>Mortos=%{marker.size}<extra></extra>",
           "ids": [
            2010
           ],
           "legendgroup": "DF",
           "marker": {
            "color": "#FF6692",
            "size": [
             41
            ],
            "sizemode": "area",
            "sizeref": 3.36,
            "symbol": "circle"
           },
           "mode": "markers",
           "name": "DF",
           "orientation": "v",
           "showlegend": true,
           "type": "scatter",
           "x": [
            1299
           ],
           "xaxis": "x",
           "y": [
            41
           ],
           "yaxis": "y"
          },
          {
           "hovertemplate": "Estado=ES<br>Ano=2010<br>Acidente=%{x}<br>Mortos=%{marker.size}<extra></extra>",
           "ids": [
            2010
           ],
           "legendgroup": "ES",
           "marker": {
            "color": "#B6E880",
            "size": [
             315
            ],
            "sizemode": "area",
            "sizeref": 3.36,
            "symbol": "circle"
           },
           "mode": "markers",
           "name": "ES",
           "orientation": "v",
           "showlegend": true,
           "type": "scatter",
           "x": [
            7830
           ],
           "xaxis": "x",
           "y": [
            315
           ],
           "yaxis": "y"
          },
          {
           "hovertemplate": "Estado=GO<br>Ano=2010<br>Acidente=%{x}<br>Mortos=%{marker.size}<extra></extra>",
           "ids": [
            2010
           ],
           "legendgroup": "GO",
           "marker": {
            "color": "#FF97FF",
            "size": [
             515
            ],
            "sizemode": "area",
            "sizeref": 3.36,
            "symbol": "circle"
           },
           "mode": "markers",
           "name": "GO",
           "orientation": "v",
           "showlegend": true,
           "type": "scatter",
           "x": [
            8011
           ],
           "xaxis": "x",
           "y": [
            515
           ],
           "yaxis": "y"
          },
          {
           "hovertemplate": "Estado=MA<br>Ano=2010<br>Acidente=%{x}<br>Mortos=%{marker.size}<extra></extra>",
           "ids": [
            2010
           ],
           "legendgroup": "MA",
           "marker": {
            "color": "#FECB52",
            "size": [
             298
            ],
            "sizemode": "area",
            "sizeref": 3.36,
            "symbol": "circle"
           },
           "mode": "markers",
           "name": "MA",
           "orientation": "v",
           "showlegend": true,
           "type": "scatter",
           "x": [
            2604
           ],
           "xaxis": "x",
           "y": [
            298
           ],
           "yaxis": "y"
          },
          {
           "hovertemplate": "Estado=MG<br>Ano=2010<br>Acidente=%{x}<br>Mortos=%{marker.size}<extra></extra>",
           "ids": [
            2010
           ],
           "legendgroup": "MG",
           "marker": {
            "color": "#636efa",
            "size": [
             1344
            ],
            "sizemode": "area",
            "sizeref": 3.36,
            "symbol": "circle"
           },
           "mode": "markers",
           "name": "MG",
           "orientation": "v",
           "showlegend": true,
           "type": "scatter",
           "x": [
            27377
           ],
           "xaxis": "x",
           "y": [
            1344
           ],
           "yaxis": "y"
          },
          {
           "hovertemplate": "Estado=MS<br>Ano=2010<br>Acidente=%{x}<br>Mortos=%{marker.size}<extra></extra>",
           "ids": [
            2010
           ],
           "legendgroup": "MS",
           "marker": {
            "color": "#EF553B",
            "size": [
             197
            ],
            "sizemode": "area",
            "sizeref": 3.36,
            "symbol": "circle"
           },
           "mode": "markers",
           "name": "MS",
           "orientation": "v",
           "showlegend": true,
           "type": "scatter",
           "x": [
            3506
           ],
           "xaxis": "x",
           "y": [
            197
           ],
           "yaxis": "y"
          },
          {
           "hovertemplate": "Estado=MT<br>Ano=2010<br>Acidente=%{x}<br>Mortos=%{marker.size}<extra></extra>",
           "ids": [
            2010
           ],
           "legendgroup": "MT",
           "marker": {
            "color": "#00cc96",
            "size": [
             234
            ],
            "sizemode": "area",
            "sizeref": 3.36,
            "symbol": "circle"
           },
           "mode": "markers",
           "name": "MT",
           "orientation": "v",
           "showlegend": true,
           "type": "scatter",
           "x": [
            3744
           ],
           "xaxis": "x",
           "y": [
            234
           ],
           "yaxis": "y"
          },
          {
           "hovertemplate": "Estado=PA<br>Ano=2010<br>Acidente=%{x}<br>Mortos=%{marker.size}<extra></extra>",
           "ids": [
            2010
           ],
           "legendgroup": "PA",
           "marker": {
            "color": "#ab63fa",
            "size": [
             202
            ],
            "sizemode": "area",
            "sizeref": 3.36,
            "symbol": "circle"
           },
           "mode": "markers",
           "name": "PA",
           "orientation": "v",
           "showlegend": true,
           "type": "scatter",
           "x": [
            4291
           ],
           "xaxis": "x",
           "y": [
            202
           ],
           "yaxis": "y"
          },
          {
           "hovertemplate": "Estado=PB<br>Ano=2010<br>Acidente=%{x}<br>Mortos=%{marker.size}<extra></extra>",
           "ids": [
            2010
           ],
           "legendgroup": "PB",
           "marker": {
            "color": "#FFA15A",
            "size": [
             194
            ],
            "sizemode": "area",
            "sizeref": 3.36,
            "symbol": "circle"
           },
           "mode": "markers",
           "name": "PB",
           "orientation": "v",
           "showlegend": true,
           "type": "scatter",
           "x": [
            3856
           ],
           "xaxis": "x",
           "y": [
            194
           ],
           "yaxis": "y"
          },
          {
           "hovertemplate": "Estado=PE<br>Ano=2010<br>Acidente=%{x}<br>Mortos=%{marker.size}<extra></extra>",
           "ids": [
            2010
           ],
           "legendgroup": "PE",
           "marker": {
            "color": "#19d3f3",
            "size": [
             475
            ],
            "sizemode": "area",
            "sizeref": 3.36,
            "symbol": "circle"
           },
           "mode": "markers",
           "name": "PE",
           "orientation": "v",
           "showlegend": true,
           "type": "scatter",
           "x": [
            7358
           ],
           "xaxis": "x",
           "y": [
            475
           ],
           "yaxis": "y"
          },
          {
           "hovertemplate": "Estado=PI<br>Ano=2010<br>Acidente=%{x}<br>Mortos=%{marker.size}<extra></extra>",
           "ids": [
            2010
           ],
           "legendgroup": "PI",
           "marker": {
            "color": "#FF6692",
            "size": [
             208
            ],
            "sizemode": "area",
            "sizeref": 3.36,
            "symbol": "circle"
           },
           "mode": "markers",
           "name": "PI",
           "orientation": "v",
           "showlegend": true,
           "type": "scatter",
           "x": [
            2642
           ],
           "xaxis": "x",
           "y": [
            208
           ],
           "yaxis": "y"
          },
          {
           "hovertemplate": "Estado=PR<br>Ano=2010<br>Acidente=%{x}<br>Mortos=%{marker.size}<extra></extra>",
           "ids": [
            2010
           ],
           "legendgroup": "PR",
           "marker": {
            "color": "#B6E880",
            "size": [
             723
            ],
            "sizemode": "area",
            "sizeref": 3.36,
            "symbol": "circle"
           },
           "mode": "markers",
           "name": "PR",
           "orientation": "v",
           "showlegend": true,
           "type": "scatter",
           "x": [
            20984
           ],
           "xaxis": "x",
           "y": [
            723
           ],
           "yaxis": "y"
          },
          {
           "hovertemplate": "Estado=RJ<br>Ano=2010<br>Acidente=%{x}<br>Mortos=%{marker.size}<extra></extra>",
           "ids": [
            2010
           ],
           "legendgroup": "RJ",
           "marker": {
            "color": "#FF97FF",
            "size": [
             532
            ],
            "sizemode": "area",
            "sizeref": 3.36,
            "symbol": "circle"
           },
           "mode": "markers",
           "name": "RJ",
           "orientation": "v",
           "showlegend": true,
           "type": "scatter",
           "x": [
            16435
           ],
           "xaxis": "x",
           "y": [
            532
           ],
           "yaxis": "y"
          },
          {
           "hovertemplate": "Estado=RN<br>Ano=2010<br>Acidente=%{x}<br>Mortos=%{marker.size}<extra></extra>",
           "ids": [
            2010
           ],
           "legendgroup": "RN",
           "marker": {
            "color": "#FECB52",
            "size": [
             194
            ],
            "sizemode": "area",
            "sizeref": 3.36,
            "symbol": "circle"
           },
           "mode": "markers",
           "name": "RN",
           "orientation": "v",
           "showlegend": true,
           "type": "scatter",
           "x": [
            3935
           ],
           "xaxis": "x",
           "y": [
            194
           ],
           "yaxis": "y"
          },
          {
           "hovertemplate": "Estado=RO<br>Ano=2010<br>Acidente=%{x}<br>Mortos=%{marker.size}<extra></extra>",
           "ids": [
            2010
           ],
           "legendgroup": "RO",
           "marker": {
            "color": "#636efa",
            "size": [
             123
            ],
            "sizemode": "area",
            "sizeref": 3.36,
            "symbol": "circle"
           },
           "mode": "markers",
           "name": "RO",
           "orientation": "v",
           "showlegend": true,
           "type": "scatter",
           "x": [
            3417
           ],
           "xaxis": "x",
           "y": [
            123
           ],
           "yaxis": "y"
          },
          {
           "hovertemplate": "Estado=RR<br>Ano=2010<br>Acidente=%{x}<br>Mortos=%{marker.size}<extra></extra>",
           "ids": [
            2010
           ],
           "legendgroup": "RR",
           "marker": {
            "color": "#EF553B",
            "size": [
             33
            ],
            "sizemode": "area",
            "sizeref": 3.36,
            "symbol": "circle"
           },
           "mode": "markers",
           "name": "RR",
           "orientation": "v",
           "showlegend": true,
           "type": "scatter",
           "x": [
            228
           ],
           "xaxis": "x",
           "y": [
            33
           ],
           "yaxis": "y"
          },
          {
           "hovertemplate": "Estado=RS<br>Ano=2010<br>Acidente=%{x}<br>Mortos=%{marker.size}<extra></extra>",
           "ids": [
            2010
           ],
           "legendgroup": "RS",
           "marker": {
            "color": "#00cc96",
            "size": [
             500
            ],
            "sizemode": "area",
            "sizeref": 3.36,
            "symbol": "circle"
           },
           "mode": "markers",
           "name": "RS",
           "orientation": "v",
           "showlegend": true,
           "type": "scatter",
           "x": [
            14508
           ],
           "xaxis": "x",
           "y": [
            500
           ],
           "yaxis": "y"
          },
          {
           "hovertemplate": "Estado=SC<br>Ano=2010<br>Acidente=%{x}<br>Mortos=%{marker.size}<extra></extra>",
           "ids": [
            2010
           ],
           "legendgroup": "SC",
           "marker": {
            "color": "#ab63fa",
            "size": [
             567
            ],
            "sizemode": "area",
            "sizeref": 3.36,
            "symbol": "circle"
           },
           "mode": "markers",
           "name": "SC",
           "orientation": "v",
           "showlegend": true,
           "type": "scatter",
           "x": [
            19445
           ],
           "xaxis": "x",
           "y": [
            567
           ],
           "yaxis": "y"
          },
          {
           "hovertemplate": "Estado=SE<br>Ano=2010<br>Acidente=%{x}<br>Mortos=%{marker.size}<extra></extra>",
           "ids": [
            2010
           ],
           "legendgroup": "SE",
           "marker": {
            "color": "#FFA15A",
            "size": [
             120
            ],
            "sizemode": "area",
            "sizeref": 3.36,
            "symbol": "circle"
           },
           "mode": "markers",
           "name": "SE",
           "orientation": "v",
           "showlegend": true,
           "type": "scatter",
           "x": [
            1456
           ],
           "xaxis": "x",
           "y": [
            120
           ],
           "yaxis": "y"
          },
          {
           "hovertemplate": "Estado=SP<br>Ano=2010<br>Acidente=%{x}<br>Mortos=%{marker.size}<extra></extra>",
           "ids": [
            2010
           ],
           "legendgroup": "SP",
           "marker": {
            "color": "#19d3f3",
            "size": [
             407
            ],
            "sizemode": "area",
            "sizeref": 3.36,
            "symbol": "circle"
           },
           "mode": "markers",
           "name": "SP",
           "orientation": "v",
           "showlegend": true,
           "type": "scatter",
           "x": [
            13100
           ],
           "xaxis": "x",
           "y": [
            407
           ],
           "yaxis": "y"
          },
          {
           "hovertemplate": "Estado=TO<br>Ano=2010<br>Acidente=%{x}<br>Mortos=%{marker.size}<extra></extra>",
           "ids": [
            2010
           ],
           "legendgroup": "TO",
           "marker": {
            "color": "#FF6692",
            "size": [
             115
            ],
            "sizemode": "area",
            "sizeref": 3.36,
            "symbol": "circle"
           },
           "mode": "markers",
           "name": "TO",
           "orientation": "v",
           "showlegend": true,
           "type": "scatter",
           "x": [
            1068
           ],
           "xaxis": "x",
           "y": [
            115
           ],
           "yaxis": "y"
          }
         ],
         "name": "2010"
        },
        {
         "data": [
          {
           "hovertemplate": "Estado=AC<br>Ano=2011<br>Acidente=%{x}<br>Mortos=%{marker.size}<extra></extra>",
           "ids": [
            2011
           ],
           "legendgroup": "AC",
           "marker": {
            "color": "#636efa",
            "size": [
             23
            ],
            "sizemode": "area",
            "sizeref": 3.36,
            "symbol": "circle"
           },
           "mode": "markers",
           "name": "AC",
           "orientation": "v",
           "showlegend": true,
           "type": "scatter",
           "x": [
            518
           ],
           "xaxis": "x",
           "y": [
            23
           ],
           "yaxis": "y"
          },
          {
           "hovertemplate": "Estado=AL<br>Ano=2011<br>Acidente=%{x}<br>Mortos=%{marker.size}<extra></extra>",
           "ids": [
            2011
           ],
           "legendgroup": "AL",
           "marker": {
            "color": "#EF553B",
            "size": [
             156
            ],
            "sizemode": "area",
            "sizeref": 3.36,
            "symbol": "circle"
           },
           "mode": "markers",
           "name": "AL",
           "orientation": "v",
           "showlegend": true,
           "type": "scatter",
           "x": [
            2364
           ],
           "xaxis": "x",
           "y": [
            156
           ],
           "yaxis": "y"
          },
          {
           "hovertemplate": "Estado=AM<br>Ano=2011<br>Acidente=%{x}<br>Mortos=%{marker.size}<extra></extra>",
           "ids": [
            2011
           ],
           "legendgroup": "AM",
           "marker": {
            "color": "#00cc96",
            "size": [
             34
            ],
            "sizemode": "area",
            "sizeref": 3.36,
            "symbol": "circle"
           },
           "mode": "markers",
           "name": "AM",
           "orientation": "v",
           "showlegend": true,
           "type": "scatter",
           "x": [
            249
           ],
           "xaxis": "x",
           "y": [
            34
           ],
           "yaxis": "y"
          },
          {
           "hovertemplate": "Estado=AP<br>Ano=2011<br>Acidente=%{x}<br>Mortos=%{marker.size}<extra></extra>",
           "ids": [
            2011
           ],
           "legendgroup": "AP",
           "marker": {
            "color": "#ab63fa",
            "size": [
             19
            ],
            "sizemode": "area",
            "sizeref": 3.36,
            "symbol": "circle"
           },
           "mode": "markers",
           "name": "AP",
           "orientation": "v",
           "showlegend": true,
           "type": "scatter",
           "x": [
            232
           ],
           "xaxis": "x",
           "y": [
            19
           ],
           "yaxis": "y"
          },
          {
           "hovertemplate": "Estado=BA<br>Ano=2011<br>Acidente=%{x}<br>Mortos=%{marker.size}<extra></extra>",
           "ids": [
            2011
           ],
           "legendgroup": "BA",
           "marker": {
            "color": "#FFA15A",
            "size": [
             779
            ],
            "sizemode": "area",
            "sizeref": 3.36,
            "symbol": "circle"
           },
           "mode": "markers",
           "name": "BA",
           "orientation": "v",
           "showlegend": true,
           "type": "scatter",
           "x": [
            10435
           ],
           "xaxis": "x",
           "y": [
            779
           ],
           "yaxis": "y"
          },
          {
           "hovertemplate": "Estado=CE<br>Ano=2011<br>Acidente=%{x}<br>Mortos=%{marker.size}<extra></extra>",
           "ids": [
            2011
           ],
           "legendgroup": "CE",
           "marker": {
            "color": "#19d3f3",
            "size": [
             227
            ],
            "sizemode": "area",
            "sizeref": 3.36,
            "symbol": "circle"
           },
           "mode": "markers",
           "name": "CE",
           "orientation": "v",
           "showlegend": true,
           "type": "scatter",
           "x": [
            3825
           ],
           "xaxis": "x",
           "y": [
            227
           ],
           "yaxis": "y"
          },
          {
           "hovertemplate": "Estado=DF<br>Ano=2011<br>Acidente=%{x}<br>Mortos=%{marker.size}<extra></extra>",
           "ids": [
            2011
           ],
           "legendgroup": "DF",
           "marker": {
            "color": "#FF6692",
            "size": [
             63
            ],
            "sizemode": "area",
            "sizeref": 3.36,
            "symbol": "circle"
           },
           "mode": "markers",
           "name": "DF",
           "orientation": "v",
           "showlegend": true,
           "type": "scatter",
           "x": [
            1583
           ],
           "xaxis": "x",
           "y": [
            63
           ],
           "yaxis": "y"
          },
          {
           "hovertemplate": "Estado=ES<br>Ano=2011<br>Acidente=%{x}<br>Mortos=%{marker.size}<extra></extra>",
           "ids": [
            2011
           ],
           "legendgroup": "ES",
           "marker": {
            "color": "#B6E880",
            "size": [
             317
            ],
            "sizemode": "area",
            "sizeref": 3.36,
            "symbol": "circle"
           },
           "mode": "markers",
           "name": "ES",
           "orientation": "v",
           "showlegend": true,
           "type": "scatter",
           "x": [
            7952
           ],
           "xaxis": "x",
           "y": [
            317
           ],
           "yaxis": "y"
          },
          {
           "hovertemplate": "Estado=GO<br>Ano=2011<br>Acidente=%{x}<br>Mortos=%{marker.size}<extra></extra>",
           "ids": [
            2011
           ],
           "legendgroup": "GO",
           "marker": {
            "color": "#FF97FF",
            "size": [
             510
            ],
            "sizemode": "area",
            "sizeref": 3.36,
            "symbol": "circle"
           },
           "mode": "markers",
           "name": "GO",
           "orientation": "v",
           "showlegend": true,
           "type": "scatter",
           "x": [
            8059
           ],
           "xaxis": "x",
           "y": [
            510
           ],
           "yaxis": "y"
          },
          {
           "hovertemplate": "Estado=MA<br>Ano=2011<br>Acidente=%{x}<br>Mortos=%{marker.size}<extra></extra>",
           "ids": [
            2011
           ],
           "legendgroup": "MA",
           "marker": {
            "color": "#FECB52",
            "size": [
             311
            ],
            "sizemode": "area",
            "sizeref": 3.36,
            "symbol": "circle"
           },
           "mode": "markers",
           "name": "MA",
           "orientation": "v",
           "showlegend": true,
           "type": "scatter",
           "x": [
            3042
           ],
           "xaxis": "x",
           "y": [
            311
           ],
           "yaxis": "y"
          },
          {
           "hovertemplate": "Estado=MG<br>Ano=2011<br>Acidente=%{x}<br>Mortos=%{marker.size}<extra></extra>",
           "ids": [
            2011
           ],
           "legendgroup": "MG",
           "marker": {
            "color": "#636efa",
            "size": [
             1304
            ],
            "sizemode": "area",
            "sizeref": 3.36,
            "symbol": "circle"
           },
           "mode": "markers",
           "name": "MG",
           "orientation": "v",
           "showlegend": true,
           "type": "scatter",
           "x": [
            27426
           ],
           "xaxis": "x",
           "y": [
            1304
           ],
           "yaxis": "y"
          },
          {
           "hovertemplate": "Estado=MS<br>Ano=2011<br>Acidente=%{x}<br>Mortos=%{marker.size}<extra></extra>",
           "ids": [
            2011
           ],
           "legendgroup": "MS",
           "marker": {
            "color": "#EF553B",
            "size": [
             228
            ],
            "sizemode": "area",
            "sizeref": 3.36,
            "symbol": "circle"
           },
           "mode": "markers",
           "name": "MS",
           "orientation": "v",
           "showlegend": true,
           "type": "scatter",
           "x": [
            3507
           ],
           "xaxis": "x",
           "y": [
            228
           ],
           "yaxis": "y"
          },
          {
           "hovertemplate": "Estado=MT<br>Ano=2011<br>Acidente=%{x}<br>Mortos=%{marker.size}<extra></extra>",
           "ids": [
            2011
           ],
           "legendgroup": "MT",
           "marker": {
            "color": "#00cc96",
            "size": [
             260
            ],
            "sizemode": "area",
            "sizeref": 3.36,
            "symbol": "circle"
           },
           "mode": "markers",
           "name": "MT",
           "orientation": "v",
           "showlegend": true,
           "type": "scatter",
           "x": [
            3888
           ],
           "xaxis": "x",
           "y": [
            260
           ],
           "yaxis": "y"
          },
          {
           "hovertemplate": "Estado=PA<br>Ano=2011<br>Acidente=%{x}<br>Mortos=%{marker.size}<extra></extra>",
           "ids": [
            2011
           ],
           "legendgroup": "PA",
           "marker": {
            "color": "#ab63fa",
            "size": [
             181
            ],
            "sizemode": "area",
            "sizeref": 3.36,
            "symbol": "circle"
           },
           "mode": "markers",
           "name": "PA",
           "orientation": "v",
           "showlegend": true,
           "type": "scatter",
           "x": [
            4577
           ],
           "xaxis": "x",
           "y": [
            181
           ],
           "yaxis": "y"
          },
          {
           "hovertemplate": "Estado=PB<br>Ano=2011<br>Acidente=%{x}<br>Mortos=%{marker.size}<extra></extra>",
           "ids": [
            2011
           ],
           "legendgroup": "PB",
           "marker": {
            "color": "#FFA15A",
            "size": [
             176
            ],
            "sizemode": "area",
            "sizeref": 3.36,
            "symbol": "circle"
           },
           "mode": "markers",
           "name": "PB",
           "orientation": "v",
           "showlegend": true,
           "type": "scatter",
           "x": [
            3990
           ],
           "xaxis": "x",
           "y": [
            176
           ],
           "yaxis": "y"
          },
          {
           "hovertemplate": "Estado=PE<br>Ano=2011<br>Acidente=%{x}<br>Mortos=%{marker.size}<extra></extra>",
           "ids": [
            2011
           ],
           "legendgroup": "PE",
           "marker": {
            "color": "#19d3f3",
            "size": [
             474
            ],
            "sizemode": "area",
            "sizeref": 3.36,
            "symbol": "circle"
           },
           "mode": "markers",
           "name": "PE",
           "orientation": "v",
           "showlegend": true,
           "type": "scatter",
           "x": [
            8229
           ],
           "xaxis": "x",
           "y": [
            474
           ],
           "yaxis": "y"
          },
          {
           "hovertemplate": "Estado=PI<br>Ano=2011<br>Acidente=%{x}<br>Mortos=%{marker.size}<extra></extra>",
           "ids": [
            2011
           ],
           "legendgroup": "PI",
           "marker": {
            "color": "#FF6692",
            "size": [
             236
            ],
            "sizemode": "area",
            "sizeref": 3.36,
            "symbol": "circle"
           },
           "mode": "markers",
           "name": "PI",
           "orientation": "v",
           "showlegend": true,
           "type": "scatter",
           "x": [
            2834
           ],
           "xaxis": "x",
           "y": [
            236
           ],
           "yaxis": "y"
          },
          {
           "hovertemplate": "Estado=PR<br>Ano=2011<br>Acidente=%{x}<br>Mortos=%{marker.size}<extra></extra>",
           "ids": [
            2011
           ],
           "legendgroup": "PR",
           "marker": {
            "color": "#B6E880",
            "size": [
             740
            ],
            "sizemode": "area",
            "sizeref": 3.36,
            "symbol": "circle"
           },
           "mode": "markers",
           "name": "PR",
           "orientation": "v",
           "showlegend": true,
           "type": "scatter",
           "x": [
            22188
           ],
           "xaxis": "x",
           "y": [
            740
           ],
           "yaxis": "y"
          },
          {
           "hovertemplate": "Estado=RJ<br>Ano=2011<br>Acidente=%{x}<br>Mortos=%{marker.size}<extra></extra>",
           "ids": [
            2011
           ],
           "legendgroup": "RJ",
           "marker": {
            "color": "#FF97FF",
            "size": [
             559
            ],
            "sizemode": "area",
            "sizeref": 3.36,
            "symbol": "circle"
           },
           "mode": "markers",
           "name": "RJ",
           "orientation": "v",
           "showlegend": true,
           "type": "scatter",
           "x": [
            18279
           ],
           "xaxis": "x",
           "y": [
            559
           ],
           "yaxis": "y"
          },
          {
           "hovertemplate": "Estado=RN<br>Ano=2011<br>Acidente=%{x}<br>Mortos=%{marker.size}<extra></extra>",
           "ids": [
            2011
           ],
           "legendgroup": "RN",
           "marker": {
            "color": "#FECB52",
            "size": [
             183
            ],
            "sizemode": "area",
            "sizeref": 3.36,
            "symbol": "circle"
           },
           "mode": "markers",
           "name": "RN",
           "orientation": "v",
           "showlegend": true,
           "type": "scatter",
           "x": [
            4083
           ],
           "xaxis": "x",
           "y": [
            183
           ],
           "yaxis": "y"
          },
          {
           "hovertemplate": "Estado=RO<br>Ano=2011<br>Acidente=%{x}<br>Mortos=%{marker.size}<extra></extra>",
           "ids": [
            2011
           ],
           "legendgroup": "RO",
           "marker": {
            "color": "#636efa",
            "size": [
             152
            ],
            "sizemode": "area",
            "sizeref": 3.36,
            "symbol": "circle"
           },
           "mode": "markers",
           "name": "RO",
           "orientation": "v",
           "showlegend": true,
           "type": "scatter",
           "x": [
            3847
           ],
           "xaxis": "x",
           "y": [
            152
           ],
           "yaxis": "y"
          },
          {
           "hovertemplate": "Estado=RR<br>Ano=2011<br>Acidente=%{x}<br>Mortos=%{marker.size}<extra></extra>",
           "ids": [
            2011
           ],
           "legendgroup": "RR",
           "marker": {
            "color": "#EF553B",
            "size": [
             35
            ],
            "sizemode": "area",
            "sizeref": 3.36,
            "symbol": "circle"
           },
           "mode": "markers",
           "name": "RR",
           "orientation": "v",
           "showlegend": true,
           "type": "scatter",
           "x": [
            274
           ],
           "xaxis": "x",
           "y": [
            35
           ],
           "yaxis": "y"
          },
          {
           "hovertemplate": "Estado=RS<br>Ano=2011<br>Acidente=%{x}<br>Mortos=%{marker.size}<extra></extra>",
           "ids": [
            2011
           ],
           "legendgroup": "RS",
           "marker": {
            "color": "#00cc96",
            "size": [
             456
            ],
            "sizemode": "area",
            "sizeref": 3.36,
            "symbol": "circle"
           },
           "mode": "markers",
           "name": "RS",
           "orientation": "v",
           "showlegend": true,
           "type": "scatter",
           "x": [
            14995
           ],
           "xaxis": "x",
           "y": [
            456
           ],
           "yaxis": "y"
          },
          {
           "hovertemplate": "Estado=SC<br>Ano=2011<br>Acidente=%{x}<br>Mortos=%{marker.size}<extra></extra>",
           "ids": [
            2011
           ],
           "legendgroup": "SC",
           "marker": {
            "color": "#ab63fa",
            "size": [
             627
            ],
            "sizemode": "area",
            "sizeref": 3.36,
            "symbol": "circle"
           },
           "mode": "markers",
           "name": "SC",
           "orientation": "v",
           "showlegend": true,
           "type": "scatter",
           "x": [
            19240
           ],
           "xaxis": "x",
           "y": [
            627
           ],
           "yaxis": "y"
          },
          {
           "hovertemplate": "Estado=SE<br>Ano=2011<br>Acidente=%{x}<br>Mortos=%{marker.size}<extra></extra>",
           "ids": [
            2011
           ],
           "legendgroup": "SE",
           "marker": {
            "color": "#FFA15A",
            "size": [
             98
            ],
            "sizemode": "area",
            "sizeref": 3.36,
            "symbol": "circle"
           },
           "mode": "markers",
           "name": "SE",
           "orientation": "v",
           "showlegend": true,
           "type": "scatter",
           "x": [
            1643
           ],
           "xaxis": "x",
           "y": [
            98
           ],
           "yaxis": "y"
          },
          {
           "hovertemplate": "Estado=SP<br>Ano=2011<br>Acidente=%{x}<br>Mortos=%{marker.size}<extra></extra>",
           "ids": [
            2011
           ],
           "legendgroup": "SP",
           "marker": {
            "color": "#19d3f3",
            "size": [
             398
            ],
            "sizemode": "area",
            "sizeref": 3.36,
            "symbol": "circle"
           },
           "mode": "markers",
           "name": "SP",
           "orientation": "v",
           "showlegend": true,
           "type": "scatter",
           "x": [
            13965
           ],
           "xaxis": "x",
           "y": [
            398
           ],
           "yaxis": "y"
          },
          {
           "hovertemplate": "Estado=TO<br>Ano=2011<br>Acidente=%{x}<br>Mortos=%{marker.size}<extra></extra>",
           "ids": [
            2011
           ],
           "legendgroup": "TO",
           "marker": {
            "color": "#FF6692",
            "size": [
             129
            ],
            "sizemode": "area",
            "sizeref": 3.36,
            "symbol": "circle"
           },
           "mode": "markers",
           "name": "TO",
           "orientation": "v",
           "showlegend": true,
           "type": "scatter",
           "x": [
            1090
           ],
           "xaxis": "x",
           "y": [
            129
           ],
           "yaxis": "y"
          }
         ],
         "name": "2011"
        },
        {
         "data": [
          {
           "hovertemplate": "Estado=AC<br>Ano=2012<br>Acidente=%{x}<br>Mortos=%{marker.size}<extra></extra>",
           "ids": [
            2012
           ],
           "legendgroup": "AC",
           "marker": {
            "color": "#636efa",
            "size": [
             21
            ],
            "sizemode": "area",
            "sizeref": 3.36,
            "symbol": "circle"
           },
           "mode": "markers",
           "name": "AC",
           "orientation": "v",
           "showlegend": true,
           "type": "scatter",
           "x": [
            503
           ],
           "xaxis": "x",
           "y": [
            21
           ],
           "yaxis": "y"
          },
          {
           "hovertemplate": "Estado=AL<br>Ano=2012<br>Acidente=%{x}<br>Mortos=%{marker.size}<extra></extra>",
           "ids": [
            2012
           ],
           "legendgroup": "AL",
           "marker": {
            "color": "#EF553B",
            "size": [
             191
            ],
            "sizemode": "area",
            "sizeref": 3.36,
            "symbol": "circle"
           },
           "mode": "markers",
           "name": "AL",
           "orientation": "v",
           "showlegend": true,
           "type": "scatter",
           "x": [
            2194
           ],
           "xaxis": "x",
           "y": [
            191
           ],
           "yaxis": "y"
          },
          {
           "hovertemplate": "Estado=AM<br>Ano=2012<br>Acidente=%{x}<br>Mortos=%{marker.size}<extra></extra>",
           "ids": [
            2012
           ],
           "legendgroup": "AM",
           "marker": {
            "color": "#00cc96",
            "size": [
             19
            ],
            "sizemode": "area",
            "sizeref": 3.36,
            "symbol": "circle"
           },
           "mode": "markers",
           "name": "AM",
           "orientation": "v",
           "showlegend": true,
           "type": "scatter",
           "x": [
            218
           ],
           "xaxis": "x",
           "y": [
            19
           ],
           "yaxis": "y"
          },
          {
           "hovertemplate": "Estado=AP<br>Ano=2012<br>Acidente=%{x}<br>Mortos=%{marker.size}<extra></extra>",
           "ids": [
            2012
           ],
           "legendgroup": "AP",
           "marker": {
            "color": "#ab63fa",
            "size": [
             12
            ],
            "sizemode": "area",
            "sizeref": 3.36,
            "symbol": "circle"
           },
           "mode": "markers",
           "name": "AP",
           "orientation": "v",
           "showlegend": true,
           "type": "scatter",
           "x": [
            241
           ],
           "xaxis": "x",
           "y": [
            12
           ],
           "yaxis": "y"
          },
          {
           "hovertemplate": "Estado=BA<br>Ano=2012<br>Acidente=%{x}<br>Mortos=%{marker.size}<extra></extra>",
           "ids": [
            2012
           ],
           "legendgroup": "BA",
           "marker": {
            "color": "#FFA15A",
            "size": [
             849
            ],
            "sizemode": "area",
            "sizeref": 3.36,
            "symbol": "circle"
           },
           "mode": "markers",
           "name": "BA",
           "orientation": "v",
           "showlegend": true,
           "type": "scatter",
           "x": [
            10281
           ],
           "xaxis": "x",
           "y": [
            849
           ],
           "yaxis": "y"
          },
          {
           "hovertemplate": "Estado=CE<br>Ano=2012<br>Acidente=%{x}<br>Mortos=%{marker.size}<extra></extra>",
           "ids": [
            2012
           ],
           "legendgroup": "CE",
           "marker": {
            "color": "#19d3f3",
            "size": [
             238
            ],
            "sizemode": "area",
            "sizeref": 3.36,
            "symbol": "circle"
           },
           "mode": "markers",
           "name": "CE",
           "orientation": "v",
           "showlegend": true,
           "type": "scatter",
           "x": [
            3746
           ],
           "xaxis": "x",
           "y": [
            238
           ],
           "yaxis": "y"
          },
          {
           "hovertemplate": "Estado=DF<br>Ano=2012<br>Acidente=%{x}<br>Mortos=%{marker.size}<extra></extra>",
           "ids": [
            2012
           ],
           "legendgroup": "DF",
           "marker": {
            "color": "#FF6692",
            "size": [
             71
            ],
            "sizemode": "area",
            "sizeref": 3.36,
            "symbol": "circle"
           },
           "mode": "markers",
           "name": "DF",
           "orientation": "v",
           "showlegend": true,
           "type": "scatter",
           "x": [
            1448
           ],
           "xaxis": "x",
           "y": [
            71
           ],
           "yaxis": "y"
          },
          {
           "hovertemplate": "Estado=ES<br>Ano=2012<br>Acidente=%{x}<br>Mortos=%{marker.size}<extra></extra>",
           "ids": [
            2012
           ],
           "legendgroup": "ES",
           "marker": {
            "color": "#B6E880",
            "size": [
             261
            ],
            "sizemode": "area",
            "sizeref": 3.36,
            "symbol": "circle"
           },
           "mode": "markers",
           "name": "ES",
           "orientation": "v",
           "showlegend": true,
           "type": "scatter",
           "x": [
            7719
           ],
           "xaxis": "x",
           "y": [
            261
           ],
           "yaxis": "y"
          },
          {
           "hovertemplate": "Estado=GO<br>Ano=2012<br>Acidente=%{x}<br>Mortos=%{marker.size}<extra></extra>",
           "ids": [
            2012
           ],
           "legendgroup": "GO",
           "marker": {
            "color": "#FF97FF",
            "size": [
             519
            ],
            "sizemode": "area",
            "sizeref": 3.36,
            "symbol": "circle"
           },
           "mode": "markers",
           "name": "GO",
           "orientation": "v",
           "showlegend": true,
           "type": "scatter",
           "x": [
            7691
           ],
           "xaxis": "x",
           "y": [
            519
           ],
           "yaxis": "y"
          },
          {
           "hovertemplate": "Estado=MA<br>Ano=2012<br>Acidente=%{x}<br>Mortos=%{marker.size}<extra></extra>",
           "ids": [
            2012
           ],
           "legendgroup": "MA",
           "marker": {
            "color": "#FECB52",
            "size": [
             323
            ],
            "sizemode": "area",
            "sizeref": 3.36,
            "symbol": "circle"
           },
           "mode": "markers",
           "name": "MA",
           "orientation": "v",
           "showlegend": true,
           "type": "scatter",
           "x": [
            3054
           ],
           "xaxis": "x",
           "y": [
            323
           ],
           "yaxis": "y"
          },
          {
           "hovertemplate": "Estado=MG<br>Ano=2012<br>Acidente=%{x}<br>Mortos=%{marker.size}<extra></extra>",
           "ids": [
            2012
           ],
           "legendgroup": "MG",
           "marker": {
            "color": "#636efa",
            "size": [
             1196
            ],
            "sizemode": "area",
            "sizeref": 3.36,
            "symbol": "circle"
           },
           "mode": "markers",
           "name": "MG",
           "orientation": "v",
           "showlegend": true,
           "type": "scatter",
           "x": [
            26781
           ],
           "xaxis": "x",
           "y": [
            1196
           ],
           "yaxis": "y"
          },
          {
           "hovertemplate": "Estado=MS<br>Ano=2012<br>Acidente=%{x}<br>Mortos=%{marker.size}<extra></extra>",
           "ids": [
            2012
           ],
           "legendgroup": "MS",
           "marker": {
            "color": "#EF553B",
            "size": [
             178
            ],
            "sizemode": "area",
            "sizeref": 3.36,
            "symbol": "circle"
           },
           "mode": "markers",
           "name": "MS",
           "orientation": "v",
           "showlegend": true,
           "type": "scatter",
           "x": [
            3338
           ],
           "xaxis": "x",
           "y": [
            178
           ],
           "yaxis": "y"
          },
          {
           "hovertemplate": "Estado=MT<br>Ano=2012<br>Acidente=%{x}<br>Mortos=%{marker.size}<extra></extra>",
           "ids": [
            2012
           ],
           "legendgroup": "MT",
           "marker": {
            "color": "#00cc96",
            "size": [
             270
            ],
            "sizemode": "area",
            "sizeref": 3.36,
            "symbol": "circle"
           },
           "mode": "markers",
           "name": "MT",
           "orientation": "v",
           "showlegend": true,
           "type": "scatter",
           "x": [
            4284
           ],
           "xaxis": "x",
           "y": [
            270
           ],
           "yaxis": "y"
          },
          {
           "hovertemplate": "Estado=PA<br>Ano=2012<br>Acidente=%{x}<br>Mortos=%{marker.size}<extra></extra>",
           "ids": [
            2012
           ],
           "legendgroup": "PA",
           "marker": {
            "color": "#ab63fa",
            "size": [
             196
            ],
            "sizemode": "area",
            "sizeref": 3.36,
            "symbol": "circle"
           },
           "mode": "markers",
           "name": "PA",
           "orientation": "v",
           "showlegend": true,
           "type": "scatter",
           "x": [
            3842
           ],
           "xaxis": "x",
           "y": [
            196
           ],
           "yaxis": "y"
          },
          {
           "hovertemplate": "Estado=PB<br>Ano=2012<br>Acidente=%{x}<br>Mortos=%{marker.size}<extra></extra>",
           "ids": [
            2012
           ],
           "legendgroup": "PB",
           "marker": {
            "color": "#FFA15A",
            "size": [
             223
            ],
            "sizemode": "area",
            "sizeref": 3.36,
            "symbol": "circle"
           },
           "mode": "markers",
           "name": "PB",
           "orientation": "v",
           "showlegend": true,
           "type": "scatter",
           "x": [
            4105
           ],
           "xaxis": "x",
           "y": [
            223
           ],
           "yaxis": "y"
          },
          {
           "hovertemplate": "Estado=PE<br>Ano=2012<br>Acidente=%{x}<br>Mortos=%{marker.size}<extra></extra>",
           "ids": [
            2012
           ],
           "legendgroup": "PE",
           "marker": {
            "color": "#19d3f3",
            "size": [
             452
            ],
            "sizemode": "area",
            "sizeref": 3.36,
            "symbol": "circle"
           },
           "mode": "markers",
           "name": "PE",
           "orientation": "v",
           "showlegend": true,
           "type": "scatter",
           "x": [
            7217
           ],
           "xaxis": "x",
           "y": [
            452
           ],
           "yaxis": "y"
          },
          {
           "hovertemplate": "Estado=PI<br>Ano=2012<br>Acidente=%{x}<br>Mortos=%{marker.size}<extra></extra>",
           "ids": [
            2012
           ],
           "legendgroup": "PI",
           "marker": {
            "color": "#FF6692",
            "size": [
             235
            ],
            "sizemode": "area",
            "sizeref": 3.36,
            "symbol": "circle"
           },
           "mode": "markers",
           "name": "PI",
           "orientation": "v",
           "showlegend": true,
           "type": "scatter",
           "x": [
            2768
           ],
           "xaxis": "x",
           "y": [
            235
           ],
           "yaxis": "y"
          },
          {
           "hovertemplate": "Estado=PR<br>Ano=2012<br>Acidente=%{x}<br>Mortos=%{marker.size}<extra></extra>",
           "ids": [
            2012
           ],
           "legendgroup": "PR",
           "marker": {
            "color": "#B6E880",
            "size": [
             855
            ],
            "sizemode": "area",
            "sizeref": 3.36,
            "symbol": "circle"
           },
           "mode": "markers",
           "name": "PR",
           "orientation": "v",
           "showlegend": true,
           "type": "scatter",
           "x": [
            20749
           ],
           "xaxis": "x",
           "y": [
            855
           ],
           "yaxis": "y"
          },
          {
           "hovertemplate": "Estado=RJ<br>Ano=2012<br>Acidente=%{x}<br>Mortos=%{marker.size}<extra></extra>",
           "ids": [
            2012
           ],
           "legendgroup": "RJ",
           "marker": {
            "color": "#FF97FF",
            "size": [
             576
            ],
            "sizemode": "area",
            "sizeref": 3.36,
            "symbol": "circle"
           },
           "mode": "markers",
           "name": "RJ",
           "orientation": "v",
           "showlegend": true,
           "type": "scatter",
           "x": [
            17431
           ],
           "xaxis": "x",
           "y": [
            576
           ],
           "yaxis": "y"
          },
          {
           "hovertemplate": "Estado=RN<br>Ano=2012<br>Acidente=%{x}<br>Mortos=%{marker.size}<extra></extra>",
           "ids": [
            2012
           ],
           "legendgroup": "RN",
           "marker": {
            "color": "#FECB52",
            "size": [
             207
            ],
            "sizemode": "area",
            "sizeref": 3.36,
            "symbol": "circle"
           },
           "mode": "markers",
           "name": "RN",
           "orientation": "v",
           "showlegend": true,
           "type": "scatter",
           "x": [
            3868
           ],
           "xaxis": "x",
           "y": [
            207
           ],
           "yaxis": "y"
          },
          {
           "hovertemplate": "Estado=RO<br>Ano=2012<br>Acidente=%{x}<br>Mortos=%{marker.size}<extra></extra>",
           "ids": [
            2012
           ],
           "legendgroup": "RO",
           "marker": {
            "color": "#636efa",
            "size": [
             153
            ],
            "sizemode": "area",
            "sizeref": 3.36,
            "symbol": "circle"
           },
           "mode": "markers",
           "name": "RO",
           "orientation": "v",
           "showlegend": true,
           "type": "scatter",
           "x": [
            3577
           ],
           "xaxis": "x",
           "y": [
            153
           ],
           "yaxis": "y"
          },
          {
           "hovertemplate": "Estado=RR<br>Ano=2012<br>Acidente=%{x}<br>Mortos=%{marker.size}<extra></extra>",
           "ids": [
            2012
           ],
           "legendgroup": "RR",
           "marker": {
            "color": "#EF553B",
            "size": [
             28
            ],
            "sizemode": "area",
            "sizeref": 3.36,
            "symbol": "circle"
           },
           "mode": "markers",
           "name": "RR",
           "orientation": "v",
           "showlegend": true,
           "type": "scatter",
           "x": [
            247
           ],
           "xaxis": "x",
           "y": [
            28
           ],
           "yaxis": "y"
          },
          {
           "hovertemplate": "Estado=RS<br>Ano=2012<br>Acidente=%{x}<br>Mortos=%{marker.size}<extra></extra>",
           "ids": [
            2012
           ],
           "legendgroup": "RS",
           "marker": {
            "color": "#00cc96",
            "size": [
             457
            ],
            "sizemode": "area",
            "sizeref": 3.36,
            "symbol": "circle"
           },
           "mode": "markers",
           "name": "RS",
           "orientation": "v",
           "showlegend": true,
           "type": "scatter",
           "x": [
            14109
           ],
           "xaxis": "x",
           "y": [
            457
           ],
           "yaxis": "y"
          },
          {
           "hovertemplate": "Estado=SC<br>Ano=2012<br>Acidente=%{x}<br>Mortos=%{marker.size}<extra></extra>",
           "ids": [
            2012
           ],
           "legendgroup": "SC",
           "marker": {
            "color": "#ab63fa",
            "size": [
             551
            ],
            "sizemode": "area",
            "sizeref": 3.36,
            "symbol": "circle"
           },
           "mode": "markers",
           "name": "SC",
           "orientation": "v",
           "showlegend": true,
           "type": "scatter",
           "x": [
            18282
           ],
           "xaxis": "x",
           "y": [
            551
           ],
           "yaxis": "y"
          },
          {
           "hovertemplate": "Estado=SE<br>Ano=2012<br>Acidente=%{x}<br>Mortos=%{marker.size}<extra></extra>",
           "ids": [
            2012
           ],
           "legendgroup": "SE",
           "marker": {
            "color": "#FFA15A",
            "size": [
             105
            ],
            "sizemode": "area",
            "sizeref": 3.36,
            "symbol": "circle"
           },
           "mode": "markers",
           "name": "SE",
           "orientation": "v",
           "showlegend": true,
           "type": "scatter",
           "x": [
            1672
           ],
           "xaxis": "x",
           "y": [
            105
           ],
           "yaxis": "y"
          },
          {
           "hovertemplate": "Estado=SP<br>Ano=2012<br>Acidente=%{x}<br>Mortos=%{marker.size}<extra></extra>",
           "ids": [
            2012
           ],
           "legendgroup": "SP",
           "marker": {
            "color": "#19d3f3",
            "size": [
             361
            ],
            "sizemode": "area",
            "sizeref": 3.36,
            "symbol": "circle"
           },
           "mode": "markers",
           "name": "SP",
           "orientation": "v",
           "showlegend": true,
           "type": "scatter",
           "x": [
            14012
           ],
           "xaxis": "x",
           "y": [
            361
           ],
           "yaxis": "y"
          },
          {
           "hovertemplate": "Estado=TO<br>Ano=2012<br>Acidente=%{x}<br>Mortos=%{marker.size}<extra></extra>",
           "ids": [
            2012
           ],
           "legendgroup": "TO",
           "marker": {
            "color": "#FF6692",
            "size": [
             114
            ],
            "sizemode": "area",
            "sizeref": 3.36,
            "symbol": "circle"
           },
           "mode": "markers",
           "name": "TO",
           "orientation": "v",
           "showlegend": true,
           "type": "scatter",
           "x": [
            1179
           ],
           "xaxis": "x",
           "y": [
            114
           ],
           "yaxis": "y"
          }
         ],
         "name": "2012"
        },
        {
         "data": [
          {
           "hovertemplate": "Estado=AC<br>Ano=2013<br>Acidente=%{x}<br>Mortos=%{marker.size}<extra></extra>",
           "ids": [
            2013
           ],
           "legendgroup": "AC",
           "marker": {
            "color": "#636efa",
            "size": [
             23
            ],
            "sizemode": "area",
            "sizeref": 3.36,
            "symbol": "circle"
           },
           "mode": "markers",
           "name": "AC",
           "orientation": "v",
           "showlegend": true,
           "type": "scatter",
           "x": [
            448
           ],
           "xaxis": "x",
           "y": [
            23
           ],
           "yaxis": "y"
          },
          {
           "hovertemplate": "Estado=AL<br>Ano=2013<br>Acidente=%{x}<br>Mortos=%{marker.size}<extra></extra>",
           "ids": [
            2013
           ],
           "legendgroup": "AL",
           "marker": {
            "color": "#EF553B",
            "size": [
             148
            ],
            "sizemode": "area",
            "sizeref": 3.36,
            "symbol": "circle"
           },
           "mode": "markers",
           "name": "AL",
           "orientation": "v",
           "showlegend": true,
           "type": "scatter",
           "x": [
            2376
           ],
           "xaxis": "x",
           "y": [
            148
           ],
           "yaxis": "y"
          },
          {
           "hovertemplate": "Estado=AM<br>Ano=2013<br>Acidente=%{x}<br>Mortos=%{marker.size}<extra></extra>",
           "ids": [
            2013
           ],
           "legendgroup": "AM",
           "marker": {
            "color": "#00cc96",
            "size": [
             18
            ],
            "sizemode": "area",
            "sizeref": 3.36,
            "symbol": "circle"
           },
           "mode": "markers",
           "name": "AM",
           "orientation": "v",
           "showlegend": true,
           "type": "scatter",
           "x": [
            234
           ],
           "xaxis": "x",
           "y": [
            18
           ],
           "yaxis": "y"
          },
          {
           "hovertemplate": "Estado=AP<br>Ano=2013<br>Acidente=%{x}<br>Mortos=%{marker.size}<extra></extra>",
           "ids": [
            2013
           ],
           "legendgroup": "AP",
           "marker": {
            "color": "#ab63fa",
            "size": [
             28
            ],
            "sizemode": "area",
            "sizeref": 3.36,
            "symbol": "circle"
           },
           "mode": "markers",
           "name": "AP",
           "orientation": "v",
           "showlegend": true,
           "type": "scatter",
           "x": [
            277
           ],
           "xaxis": "x",
           "y": [
            28
           ],
           "yaxis": "y"
          },
          {
           "hovertemplate": "Estado=BA<br>Ano=2013<br>Acidente=%{x}<br>Mortos=%{marker.size}<extra></extra>",
           "ids": [
            2013
           ],
           "legendgroup": "BA",
           "marker": {
            "color": "#FFA15A",
            "size": [
             799
            ],
            "sizemode": "area",
            "sizeref": 3.36,
            "symbol": "circle"
           },
           "mode": "markers",
           "name": "BA",
           "orientation": "v",
           "showlegend": true,
           "type": "scatter",
           "x": [
            10386
           ],
           "xaxis": "x",
           "y": [
            799
           ],
           "yaxis": "y"
          },
          {
           "hovertemplate": "Estado=CE<br>Ano=2013<br>Acidente=%{x}<br>Mortos=%{marker.size}<extra></extra>",
           "ids": [
            2013
           ],
           "legendgroup": "CE",
           "marker": {
            "color": "#19d3f3",
            "size": [
             233
            ],
            "sizemode": "area",
            "sizeref": 3.36,
            "symbol": "circle"
           },
           "mode": "markers",
           "name": "CE",
           "orientation": "v",
           "showlegend": true,
           "type": "scatter",
           "x": [
            4010
           ],
           "xaxis": "x",
           "y": [
            233
           ],
           "yaxis": "y"
          },
          {
           "hovertemplate": "Estado=DF<br>Ano=2013<br>Acidente=%{x}<br>Mortos=%{marker.size}<extra></extra>",
           "ids": [
            2013
           ],
           "legendgroup": "DF",
           "marker": {
            "color": "#FF6692",
            "size": [
             40
            ],
            "sizemode": "area",
            "sizeref": 3.36,
            "symbol": "circle"
           },
           "mode": "markers",
           "name": "DF",
           "orientation": "v",
           "showlegend": true,
           "type": "scatter",
           "x": [
            1535
           ],
           "xaxis": "x",
           "y": [
            40
           ],
           "yaxis": "y"
          },
          {
           "hovertemplate": "Estado=ES<br>Ano=2013<br>Acidente=%{x}<br>Mortos=%{marker.size}<extra></extra>",
           "ids": [
            2013
           ],
           "legendgroup": "ES",
           "marker": {
            "color": "#B6E880",
            "size": [
             303
            ],
            "sizemode": "area",
            "sizeref": 3.36,
            "symbol": "circle"
           },
           "mode": "markers",
           "name": "ES",
           "orientation": "v",
           "showlegend": true,
           "type": "scatter",
           "x": [
            8217
           ],
           "xaxis": "x",
           "y": [
            303
           ],
           "yaxis": "y"
          },
          {
           "hovertemplate": "Estado=GO<br>Ano=2013<br>Acidente=%{x}<br>Mortos=%{marker.size}<extra></extra>",
           "ids": [
            2013
           ],
           "legendgroup": "GO",
           "marker": {
            "color": "#FF97FF",
            "size": [
             504
            ],
            "sizemode": "area",
            "sizeref": 3.36,
            "symbol": "circle"
           },
           "mode": "markers",
           "name": "GO",
           "orientation": "v",
           "showlegend": true,
           "type": "scatter",
           "x": [
            7985
           ],
           "xaxis": "x",
           "y": [
            504
           ],
           "yaxis": "y"
          },
          {
           "hovertemplate": "Estado=MA<br>Ano=2013<br>Acidente=%{x}<br>Mortos=%{marker.size}<extra></extra>",
           "ids": [
            2013
           ],
           "legendgroup": "MA",
           "marker": {
            "color": "#FECB52",
            "size": [
             294
            ],
            "sizemode": "area",
            "sizeref": 3.36,
            "symbol": "circle"
           },
           "mode": "markers",
           "name": "MA",
           "orientation": "v",
           "showlegend": true,
           "type": "scatter",
           "x": [
            2956
           ],
           "xaxis": "x",
           "y": [
            294
           ],
           "yaxis": "y"
          },
          {
           "hovertemplate": "Estado=MG<br>Ano=2013<br>Acidente=%{x}<br>Mortos=%{marker.size}<extra></extra>",
           "ids": [
            2013
           ],
           "legendgroup": "MG",
           "marker": {
            "color": "#636efa",
            "size": [
             1264
            ],
            "sizemode": "area",
            "sizeref": 3.36,
            "symbol": "circle"
           },
           "mode": "markers",
           "name": "MG",
           "orientation": "v",
           "showlegend": true,
           "type": "scatter",
           "x": [
            26475
           ],
           "xaxis": "x",
           "y": [
            1264
           ],
           "yaxis": "y"
          },
          {
           "hovertemplate": "Estado=MS<br>Ano=2013<br>Acidente=%{x}<br>Mortos=%{marker.size}<extra></extra>",
           "ids": [
            2013
           ],
           "legendgroup": "MS",
           "marker": {
            "color": "#EF553B",
            "size": [
             233
            ],
            "sizemode": "area",
            "sizeref": 3.36,
            "symbol": "circle"
           },
           "mode": "markers",
           "name": "MS",
           "orientation": "v",
           "showlegend": true,
           "type": "scatter",
           "x": [
            3726
           ],
           "xaxis": "x",
           "y": [
            233
           ],
           "yaxis": "y"
          },
          {
           "hovertemplate": "Estado=MT<br>Ano=2013<br>Acidente=%{x}<br>Mortos=%{marker.size}<extra></extra>",
           "ids": [
            2013
           ],
           "legendgroup": "MT",
           "marker": {
            "color": "#00cc96",
            "size": [
             297
            ],
            "sizemode": "area",
            "sizeref": 3.36,
            "symbol": "circle"
           },
           "mode": "markers",
           "name": "MT",
           "orientation": "v",
           "showlegend": true,
           "type": "scatter",
           "x": [
            4572
           ],
           "xaxis": "x",
           "y": [
            297
           ],
           "yaxis": "y"
          },
          {
           "hovertemplate": "Estado=PA<br>Ano=2013<br>Acidente=%{x}<br>Mortos=%{marker.size}<extra></extra>",
           "ids": [
            2013
           ],
           "legendgroup": "PA",
           "marker": {
            "color": "#ab63fa",
            "size": [
             186
            ],
            "sizemode": "area",
            "sizeref": 3.36,
            "symbol": "circle"
           },
           "mode": "markers",
           "name": "PA",
           "orientation": "v",
           "showlegend": true,
           "type": "scatter",
           "x": [
            3601
           ],
           "xaxis": "x",
           "y": [
            186
           ],
           "yaxis": "y"
          },
          {
           "hovertemplate": "Estado=PB<br>Ano=2013<br>Acidente=%{x}<br>Mortos=%{marker.size}<extra></extra>",
           "ids": [
            2013
           ],
           "legendgroup": "PB",
           "marker": {
            "color": "#FFA15A",
            "size": [
             180
            ],
            "sizemode": "area",
            "sizeref": 3.36,
            "symbol": "circle"
           },
           "mode": "markers",
           "name": "PB",
           "orientation": "v",
           "showlegend": true,
           "type": "scatter",
           "x": [
            4242
           ],
           "xaxis": "x",
           "y": [
            180
           ],
           "yaxis": "y"
          },
          {
           "hovertemplate": "Estado=PE<br>Ano=2013<br>Acidente=%{x}<br>Mortos=%{marker.size}<extra></extra>",
           "ids": [
            2013
           ],
           "legendgroup": "PE",
           "marker": {
            "color": "#19d3f3",
            "size": [
             404
            ],
            "sizemode": "area",
            "sizeref": 3.36,
            "symbol": "circle"
           },
           "mode": "markers",
           "name": "PE",
           "orientation": "v",
           "showlegend": true,
           "type": "scatter",
           "x": [
            7612
           ],
           "xaxis": "x",
           "y": [
            404
           ],
           "yaxis": "y"
          },
          {
           "hovertemplate": "Estado=PI<br>Ano=2013<br>Acidente=%{x}<br>Mortos=%{marker.size}<extra></extra>",
           "ids": [
            2013
           ],
           "legendgroup": "PI",
           "marker": {
            "color": "#FF6692",
            "size": [
             200
            ],
            "sizemode": "area",
            "sizeref": 3.36,
            "symbol": "circle"
           },
           "mode": "markers",
           "name": "PI",
           "orientation": "v",
           "showlegend": true,
           "type": "scatter",
           "x": [
            2879
           ],
           "xaxis": "x",
           "y": [
            200
           ],
           "yaxis": "y"
          },
          {
           "hovertemplate": "Estado=PR<br>Ano=2013<br>Acidente=%{x}<br>Mortos=%{marker.size}<extra></extra>",
           "ids": [
            2013
           ],
           "legendgroup": "PR",
           "marker": {
            "color": "#B6E880",
            "size": [
             750
            ],
            "sizemode": "area",
            "sizeref": 3.36,
            "symbol": "circle"
           },
           "mode": "markers",
           "name": "PR",
           "orientation": "v",
           "showlegend": true,
           "type": "scatter",
           "x": [
            19787
           ],
           "xaxis": "x",
           "y": [
            750
           ],
           "yaxis": "y"
          },
          {
           "hovertemplate": "Estado=RJ<br>Ano=2013<br>Acidente=%{x}<br>Mortos=%{marker.size}<extra></extra>",
           "ids": [
            2013
           ],
           "legendgroup": "RJ",
           "marker": {
            "color": "#FF97FF",
            "size": [
             564
            ],
            "sizemode": "area",
            "sizeref": 3.36,
            "symbol": "circle"
           },
           "mode": "markers",
           "name": "RJ",
           "orientation": "v",
           "showlegend": true,
           "type": "scatter",
           "x": [
            17066
           ],
           "xaxis": "x",
           "y": [
            564
           ],
           "yaxis": "y"
          },
          {
           "hovertemplate": "Estado=RN<br>Ano=2013<br>Acidente=%{x}<br>Mortos=%{marker.size}<extra></extra>",
           "ids": [
            2013
           ],
           "legendgroup": "RN",
           "marker": {
            "color": "#FECB52",
            "size": [
             208
            ],
            "sizemode": "area",
            "sizeref": 3.36,
            "symbol": "circle"
           },
           "mode": "markers",
           "name": "RN",
           "orientation": "v",
           "showlegend": true,
           "type": "scatter",
           "x": [
            3975
           ],
           "xaxis": "x",
           "y": [
            208
           ],
           "yaxis": "y"
          },
          {
           "hovertemplate": "Estado=RO<br>Ano=2013<br>Acidente=%{x}<br>Mortos=%{marker.size}<extra></extra>",
           "ids": [
            2013
           ],
           "legendgroup": "RO",
           "marker": {
            "color": "#636efa",
            "size": [
             130
            ],
            "sizemode": "area",
            "sizeref": 3.36,
            "symbol": "circle"
           },
           "mode": "markers",
           "name": "RO",
           "orientation": "v",
           "showlegend": true,
           "type": "scatter",
           "x": [
            3227
           ],
           "xaxis": "x",
           "y": [
            130
           ],
           "yaxis": "y"
          },
          {
           "hovertemplate": "Estado=RR<br>Ano=2013<br>Acidente=%{x}<br>Mortos=%{marker.size}<extra></extra>",
           "ids": [
            2013
           ],
           "legendgroup": "RR",
           "marker": {
            "color": "#EF553B",
            "size": [
             33
            ],
            "sizemode": "area",
            "sizeref": 3.36,
            "symbol": "circle"
           },
           "mode": "markers",
           "name": "RR",
           "orientation": "v",
           "showlegend": true,
           "type": "scatter",
           "x": [
            341
           ],
           "xaxis": "x",
           "y": [
            33
           ],
           "yaxis": "y"
          },
          {
           "hovertemplate": "Estado=RS<br>Ano=2013<br>Acidente=%{x}<br>Mortos=%{marker.size}<extra></extra>",
           "ids": [
            2013
           ],
           "legendgroup": "RS",
           "marker": {
            "color": "#00cc96",
            "size": [
             489
            ],
            "sizemode": "area",
            "sizeref": 3.36,
            "symbol": "circle"
           },
           "mode": "markers",
           "name": "RS",
           "orientation": "v",
           "showlegend": true,
           "type": "scatter",
           "x": [
            15214
           ],
           "xaxis": "x",
           "y": [
            489
           ],
           "yaxis": "y"
          },
          {
           "hovertemplate": "Estado=SC<br>Ano=2013<br>Acidente=%{x}<br>Mortos=%{marker.size}<extra></extra>",
           "ids": [
            2013
           ],
           "legendgroup": "SC",
           "marker": {
            "color": "#ab63fa",
            "size": [
             506
            ],
            "sizemode": "area",
            "sizeref": 3.36,
            "symbol": "circle"
           },
           "mode": "markers",
           "name": "SC",
           "orientation": "v",
           "showlegend": true,
           "type": "scatter",
           "x": [
            18988
           ],
           "xaxis": "x",
           "y": [
            506
           ],
           "yaxis": "y"
          },
          {
           "hovertemplate": "Estado=SE<br>Ano=2013<br>Acidente=%{x}<br>Mortos=%{marker.size}<extra></extra>",
           "ids": [
            2013
           ],
           "legendgroup": "SE",
           "marker": {
            "color": "#FFA15A",
            "size": [
             101
            ],
            "sizemode": "area",
            "sizeref": 3.36,
            "symbol": "circle"
           },
           "mode": "markers",
           "name": "SE",
           "orientation": "v",
           "showlegend": true,
           "type": "scatter",
           "x": [
            1558
           ],
           "xaxis": "x",
           "y": [
            101
           ],
           "yaxis": "y"
          },
          {
           "hovertemplate": "Estado=SP<br>Ano=2013<br>Acidente=%{x}<br>Mortos=%{marker.size}<extra></extra>",
           "ids": [
            2013
           ],
           "legendgroup": "SP",
           "marker": {
            "color": "#19d3f3",
            "size": [
             381
            ],
            "sizemode": "area",
            "sizeref": 3.36,
            "symbol": "circle"
           },
           "mode": "markers",
           "name": "SP",
           "orientation": "v",
           "showlegend": true,
           "type": "scatter",
           "x": [
            13770
           ],
           "xaxis": "x",
           "y": [
            381
           ],
           "yaxis": "y"
          },
          {
           "hovertemplate": "Estado=TO<br>Ano=2013<br>Acidente=%{x}<br>Mortos=%{marker.size}<extra></extra>",
           "ids": [
            2013
           ],
           "legendgroup": "TO",
           "marker": {
            "color": "#FF6692",
            "size": [
             110
            ],
            "sizemode": "area",
            "sizeref": 3.36,
            "symbol": "circle"
           },
           "mode": "markers",
           "name": "TO",
           "orientation": "v",
           "showlegend": true,
           "type": "scatter",
           "x": [
            1279
           ],
           "xaxis": "x",
           "y": [
            110
           ],
           "yaxis": "y"
          }
         ],
         "name": "2013"
        },
        {
         "data": [
          {
           "hovertemplate": "Estado=AC<br>Ano=2014<br>Acidente=%{x}<br>Mortos=%{marker.size}<extra></extra>",
           "ids": [
            2014
           ],
           "legendgroup": "AC",
           "marker": {
            "color": "#636efa",
            "size": [
             32
            ],
            "sizemode": "area",
            "sizeref": 3.36,
            "symbol": "circle"
           },
           "mode": "markers",
           "name": "AC",
           "orientation": "v",
           "showlegend": true,
           "type": "scatter",
           "x": [
            457
           ],
           "xaxis": "x",
           "y": [
            32
           ],
           "yaxis": "y"
          },
          {
           "hovertemplate": "Estado=AL<br>Ano=2014<br>Acidente=%{x}<br>Mortos=%{marker.size}<extra></extra>",
           "ids": [
            2014
           ],
           "legendgroup": "AL",
           "marker": {
            "color": "#EF553B",
            "size": [
             149
            ],
            "sizemode": "area",
            "sizeref": 3.36,
            "symbol": "circle"
           },
           "mode": "markers",
           "name": "AL",
           "orientation": "v",
           "showlegend": true,
           "type": "scatter",
           "x": [
            1529
           ],
           "xaxis": "x",
           "y": [
            149
           ],
           "yaxis": "y"
          },
          {
           "hovertemplate": "Estado=AM<br>Ano=2014<br>Acidente=%{x}<br>Mortos=%{marker.size}<extra></extra>",
           "ids": [
            2014
           ],
           "legendgroup": "AM",
           "marker": {
            "color": "#00cc96",
            "size": [
             18
            ],
            "sizemode": "area",
            "sizeref": 3.36,
            "symbol": "circle"
           },
           "mode": "markers",
           "name": "AM",
           "orientation": "v",
           "showlegend": true,
           "type": "scatter",
           "x": [
            168
           ],
           "xaxis": "x",
           "y": [
            18
           ],
           "yaxis": "y"
          },
          {
           "hovertemplate": "Estado=AP<br>Ano=2014<br>Acidente=%{x}<br>Mortos=%{marker.size}<extra></extra>",
           "ids": [
            2014
           ],
           "legendgroup": "AP",
           "marker": {
            "color": "#ab63fa",
            "size": [
             10
            ],
            "sizemode": "area",
            "sizeref": 3.36,
            "symbol": "circle"
           },
           "mode": "markers",
           "name": "AP",
           "orientation": "v",
           "showlegend": true,
           "type": "scatter",
           "x": [
            273
           ],
           "xaxis": "x",
           "y": [
            10
           ],
           "yaxis": "y"
          },
          {
           "hovertemplate": "Estado=BA<br>Ano=2014<br>Acidente=%{x}<br>Mortos=%{marker.size}<extra></extra>",
           "ids": [
            2014
           ],
           "legendgroup": "BA",
           "marker": {
            "color": "#FFA15A",
            "size": [
             794
            ],
            "sizemode": "area",
            "sizeref": 3.36,
            "symbol": "circle"
           },
           "mode": "markers",
           "name": "BA",
           "orientation": "v",
           "showlegend": true,
           "type": "scatter",
           "x": [
            10407
           ],
           "xaxis": "x",
           "y": [
            794
           ],
           "yaxis": "y"
          },
          {
           "hovertemplate": "Estado=CE<br>Ano=2014<br>Acidente=%{x}<br>Mortos=%{marker.size}<extra></extra>",
           "ids": [
            2014
           ],
           "legendgroup": "CE",
           "marker": {
            "color": "#19d3f3",
            "size": [
             291
            ],
            "sizemode": "area",
            "sizeref": 3.36,
            "symbol": "circle"
           },
           "mode": "markers",
           "name": "CE",
           "orientation": "v",
           "showlegend": true,
           "type": "scatter",
           "x": [
            3791
           ],
           "xaxis": "x",
           "y": [
            291
           ],
           "yaxis": "y"
          },
          {
           "hovertemplate": "Estado=DF<br>Ano=2014<br>Acidente=%{x}<br>Mortos=%{marker.size}<extra></extra>",
           "ids": [
            2014
           ],
           "legendgroup": "DF",
           "marker": {
            "color": "#FF6692",
            "size": [
             46
            ],
            "sizemode": "area",
            "sizeref": 3.36,
            "symbol": "circle"
           },
           "mode": "markers",
           "name": "DF",
           "orientation": "v",
           "showlegend": true,
           "type": "scatter",
           "x": [
            1327
           ],
           "xaxis": "x",
           "y": [
            46
           ],
           "yaxis": "y"
          },
          {
           "hovertemplate": "Estado=ES<br>Ano=2014<br>Acidente=%{x}<br>Mortos=%{marker.size}<extra></extra>",
           "ids": [
            2014
           ],
           "legendgroup": "ES",
           "marker": {
            "color": "#B6E880",
            "size": [
             279
            ],
            "sizemode": "area",
            "sizeref": 3.36,
            "symbol": "circle"
           },
           "mode": "markers",
           "name": "ES",
           "orientation": "v",
           "showlegend": true,
           "type": "scatter",
           "x": [
            7805
           ],
           "xaxis": "x",
           "y": [
            279
           ],
           "yaxis": "y"
          },
          {
           "hovertemplate": "Estado=GO<br>Ano=2014<br>Acidente=%{x}<br>Mortos=%{marker.size}<extra></extra>",
           "ids": [
            2014
           ],
           "legendgroup": "GO",
           "marker": {
            "color": "#FF97FF",
            "size": [
             468
            ],
            "sizemode": "area",
            "sizeref": 3.36,
            "symbol": "circle"
           },
           "mode": "markers",
           "name": "GO",
           "orientation": "v",
           "showlegend": true,
           "type": "scatter",
           "x": [
            7125
           ],
           "xaxis": "x",
           "y": [
            468
           ],
           "yaxis": "y"
          },
          {
           "hovertemplate": "Estado=MA<br>Ano=2014<br>Acidente=%{x}<br>Mortos=%{marker.size}<extra></extra>",
           "ids": [
            2014
           ],
           "legendgroup": "MA",
           "marker": {
            "color": "#FECB52",
            "size": [
             316
            ],
            "sizemode": "area",
            "sizeref": 3.36,
            "symbol": "circle"
           },
           "mode": "markers",
           "name": "MA",
           "orientation": "v",
           "showlegend": true,
           "type": "scatter",
           "x": [
            2619
           ],
           "xaxis": "x",
           "y": [
            316
           ],
           "yaxis": "y"
          },
          {
           "hovertemplate": "Estado=MG<br>Ano=2014<br>Acidente=%{x}<br>Mortos=%{marker.size}<extra></extra>",
           "ids": [
            2014
           ],
           "legendgroup": "MG",
           "marker": {
            "color": "#636efa",
            "size": [
             1163
            ],
            "sizemode": "area",
            "sizeref": 3.36,
            "symbol": "circle"
           },
           "mode": "markers",
           "name": "MG",
           "orientation": "v",
           "showlegend": true,
           "type": "scatter",
           "x": [
            21882
           ],
           "xaxis": "x",
           "y": [
            1163
           ],
           "yaxis": "y"
          },
          {
           "hovertemplate": "Estado=MS<br>Ano=2014<br>Acidente=%{x}<br>Mortos=%{marker.size}<extra></extra>",
           "ids": [
            2014
           ],
           "legendgroup": "MS",
           "marker": {
            "color": "#EF553B",
            "size": [
             226
            ],
            "sizemode": "area",
            "sizeref": 3.36,
            "symbol": "circle"
           },
           "mode": "markers",
           "name": "MS",
           "orientation": "v",
           "showlegend": true,
           "type": "scatter",
           "x": [
            3428
           ],
           "xaxis": "x",
           "y": [
            226
           ],
           "yaxis": "y"
          },
          {
           "hovertemplate": "Estado=MT<br>Ano=2014<br>Acidente=%{x}<br>Mortos=%{marker.size}<extra></extra>",
           "ids": [
            2014
           ],
           "legendgroup": "MT",
           "marker": {
            "color": "#00cc96",
            "size": [
             282
            ],
            "sizemode": "area",
            "sizeref": 3.36,
            "symbol": "circle"
           },
           "mode": "markers",
           "name": "MT",
           "orientation": "v",
           "showlegend": true,
           "type": "scatter",
           "x": [
            4464
           ],
           "xaxis": "x",
           "y": [
            282
           ],
           "yaxis": "y"
          },
          {
           "hovertemplate": "Estado=PA<br>Ano=2014<br>Acidente=%{x}<br>Mortos=%{marker.size}<extra></extra>",
           "ids": [
            2014
           ],
           "legendgroup": "PA",
           "marker": {
            "color": "#ab63fa",
            "size": [
             195
            ],
            "sizemode": "area",
            "sizeref": 3.36,
            "symbol": "circle"
           },
           "mode": "markers",
           "name": "PA",
           "orientation": "v",
           "showlegend": true,
           "type": "scatter",
           "x": [
            3232
           ],
           "xaxis": "x",
           "y": [
            195
           ],
           "yaxis": "y"
          },
          {
           "hovertemplate": "Estado=PB<br>Ano=2014<br>Acidente=%{x}<br>Mortos=%{marker.size}<extra></extra>",
           "ids": [
            2014
           ],
           "legendgroup": "PB",
           "marker": {
            "color": "#FFA15A",
            "size": [
             182
            ],
            "sizemode": "area",
            "sizeref": 3.36,
            "symbol": "circle"
           },
           "mode": "markers",
           "name": "PB",
           "orientation": "v",
           "showlegend": true,
           "type": "scatter",
           "x": [
            3658
           ],
           "xaxis": "x",
           "y": [
            182
           ],
           "yaxis": "y"
          },
          {
           "hovertemplate": "Estado=PE<br>Ano=2014<br>Acidente=%{x}<br>Mortos=%{marker.size}<extra></extra>",
           "ids": [
            2014
           ],
           "legendgroup": "PE",
           "marker": {
            "color": "#19d3f3",
            "size": [
             425
            ],
            "sizemode": "area",
            "sizeref": 3.36,
            "symbol": "circle"
           },
           "mode": "markers",
           "name": "PE",
           "orientation": "v",
           "showlegend": true,
           "type": "scatter",
           "x": [
            7405
           ],
           "xaxis": "x",
           "y": [
            425
           ],
           "yaxis": "y"
          },
          {
           "hovertemplate": "Estado=PI<br>Ano=2014<br>Acidente=%{x}<br>Mortos=%{marker.size}<extra></extra>",
           "ids": [
            2014
           ],
           "legendgroup": "PI",
           "marker": {
            "color": "#FF6692",
            "size": [
             228
            ],
            "sizemode": "area",
            "sizeref": 3.36,
            "symbol": "circle"
           },
           "mode": "markers",
           "name": "PI",
           "orientation": "v",
           "showlegend": true,
           "type": "scatter",
           "x": [
            2728
           ],
           "xaxis": "x",
           "y": [
            228
           ],
           "yaxis": "y"
          },
          {
           "hovertemplate": "Estado=PR<br>Ano=2014<br>Acidente=%{x}<br>Mortos=%{marker.size}<extra></extra>",
           "ids": [
            2014
           ],
           "legendgroup": "PR",
           "marker": {
            "color": "#B6E880",
            "size": [
             778
            ],
            "sizemode": "area",
            "sizeref": 3.36,
            "symbol": "circle"
           },
           "mode": "markers",
           "name": "PR",
           "orientation": "v",
           "showlegend": true,
           "type": "scatter",
           "x": [
            17177
           ],
           "xaxis": "x",
           "y": [
            778
           ],
           "yaxis": "y"
          },
          {
           "hovertemplate": "Estado=RJ<br>Ano=2014<br>Acidente=%{x}<br>Mortos=%{marker.size}<extra></extra>",
           "ids": [
            2014
           ],
           "legendgroup": "RJ",
           "marker": {
            "color": "#FF97FF",
            "size": [
             537
            ],
            "sizemode": "area",
            "sizeref": 3.36,
            "symbol": "circle"
           },
           "mode": "markers",
           "name": "RJ",
           "orientation": "v",
           "showlegend": true,
           "type": "scatter",
           "x": [
            15403
           ],
           "xaxis": "x",
           "y": [
            537
           ],
           "yaxis": "y"
          },
          {
           "hovertemplate": "Estado=RN<br>Ano=2014<br>Acidente=%{x}<br>Mortos=%{marker.size}<extra></extra>",
           "ids": [
            2014
           ],
           "legendgroup": "RN",
           "marker": {
            "color": "#FECB52",
            "size": [
             150
            ],
            "sizemode": "area",
            "sizeref": 3.36,
            "symbol": "circle"
           },
           "mode": "markers",
           "name": "RN",
           "orientation": "v",
           "showlegend": true,
           "type": "scatter",
           "x": [
            3675
           ],
           "xaxis": "x",
           "y": [
            150
           ],
           "yaxis": "y"
          },
          {
           "hovertemplate": "Estado=RO<br>Ano=2014<br>Acidente=%{x}<br>Mortos=%{marker.size}<extra></extra>",
           "ids": [
            2014
           ],
           "legendgroup": "RO",
           "marker": {
            "color": "#636efa",
            "size": [
             103
            ],
            "sizemode": "area",
            "sizeref": 3.36,
            "symbol": "circle"
           },
           "mode": "markers",
           "name": "RO",
           "orientation": "v",
           "showlegend": true,
           "type": "scatter",
           "x": [
            2704
           ],
           "xaxis": "x",
           "y": [
            103
           ],
           "yaxis": "y"
          },
          {
           "hovertemplate": "Estado=RR<br>Ano=2014<br>Acidente=%{x}<br>Mortos=%{marker.size}<extra></extra>",
           "ids": [
            2014
           ],
           "legendgroup": "RR",
           "marker": {
            "color": "#EF553B",
            "size": [
             30
            ],
            "sizemode": "area",
            "sizeref": 3.36,
            "symbol": "circle"
           },
           "mode": "markers",
           "name": "RR",
           "orientation": "v",
           "showlegend": true,
           "type": "scatter",
           "x": [
            309
           ],
           "xaxis": "x",
           "y": [
            30
           ],
           "yaxis": "y"
          },
          {
           "hovertemplate": "Estado=RS<br>Ano=2014<br>Acidente=%{x}<br>Mortos=%{marker.size}<extra></extra>",
           "ids": [
            2014
           ],
           "legendgroup": "RS",
           "marker": {
            "color": "#00cc96",
            "size": [
             507
            ],
            "sizemode": "area",
            "sizeref": 3.36,
            "symbol": "circle"
           },
           "mode": "markers",
           "name": "RS",
           "orientation": "v",
           "showlegend": true,
           "type": "scatter",
           "x": [
            14432
           ],
           "xaxis": "x",
           "y": [
            507
           ],
           "yaxis": "y"
          },
          {
           "hovertemplate": "Estado=SC<br>Ano=2014<br>Acidente=%{x}<br>Mortos=%{marker.size}<extra></extra>",
           "ids": [
            2014
           ],
           "legendgroup": "SC",
           "marker": {
            "color": "#ab63fa",
            "size": [
             536
            ],
            "sizemode": "area",
            "sizeref": 3.36,
            "symbol": "circle"
           },
           "mode": "markers",
           "name": "SC",
           "orientation": "v",
           "showlegend": true,
           "type": "scatter",
           "x": [
            18190
           ],
           "xaxis": "x",
           "y": [
            536
           ],
           "yaxis": "y"
          },
          {
           "hovertemplate": "Estado=SE<br>Ano=2014<br>Acidente=%{x}<br>Mortos=%{marker.size}<extra></extra>",
           "ids": [
            2014
           ],
           "legendgroup": "SE",
           "marker": {
            "color": "#FFA15A",
            "size": [
             64
            ],
            "sizemode": "area",
            "sizeref": 3.36,
            "symbol": "circle"
           },
           "mode": "markers",
           "name": "SE",
           "orientation": "v",
           "showlegend": true,
           "type": "scatter",
           "x": [
            1562
           ],
           "xaxis": "x",
           "y": [
            64
           ],
           "yaxis": "y"
          },
          {
           "hovertemplate": "Estado=SP<br>Ano=2014<br>Acidente=%{x}<br>Mortos=%{marker.size}<extra></extra>",
           "ids": [
            2014
           ],
           "legendgroup": "SP",
           "marker": {
            "color": "#19d3f3",
            "size": [
             307
            ],
            "sizemode": "area",
            "sizeref": 3.36,
            "symbol": "circle"
           },
           "mode": "markers",
           "name": "SP",
           "orientation": "v",
           "showlegend": true,
           "type": "scatter",
           "x": [
            12138
           ],
           "xaxis": "x",
           "y": [
            307
           ],
           "yaxis": "y"
          },
          {
           "hovertemplate": "Estado=TO<br>Ano=2014<br>Acidente=%{x}<br>Mortos=%{marker.size}<extra></extra>",
           "ids": [
            2014
           ],
           "legendgroup": "TO",
           "marker": {
            "color": "#FF6692",
            "size": [
             117
            ],
            "sizemode": "area",
            "sizeref": 3.36,
            "symbol": "circle"
           },
           "mode": "markers",
           "name": "TO",
           "orientation": "v",
           "showlegend": true,
           "type": "scatter",
           "x": [
            1301
           ],
           "xaxis": "x",
           "y": [
            117
           ],
           "yaxis": "y"
          }
         ],
         "name": "2014"
        },
        {
         "data": [
          {
           "hovertemplate": "Estado=AC<br>Ano=2015<br>Acidente=%{x}<br>Mortos=%{marker.size}<extra></extra>",
           "ids": [
            2015
           ],
           "legendgroup": "AC",
           "marker": {
            "color": "#636efa",
            "size": [
             20
            ],
            "sizemode": "area",
            "sizeref": 3.36,
            "symbol": "circle"
           },
           "mode": "markers",
           "name": "AC",
           "orientation": "v",
           "showlegend": true,
           "type": "scatter",
           "x": [
            468
           ],
           "xaxis": "x",
           "y": [
            20
           ],
           "yaxis": "y"
          },
          {
           "hovertemplate": "Estado=AL<br>Ano=2015<br>Acidente=%{x}<br>Mortos=%{marker.size}<extra></extra>",
           "ids": [
            2015
           ],
           "legendgroup": "AL",
           "marker": {
            "color": "#EF553B",
            "size": [
             118
            ],
            "sizemode": "area",
            "sizeref": 3.36,
            "symbol": "circle"
           },
           "mode": "markers",
           "name": "AL",
           "orientation": "v",
           "showlegend": true,
           "type": "scatter",
           "x": [
            1071
           ],
           "xaxis": "x",
           "y": [
            118
           ],
           "yaxis": "y"
          },
          {
           "hovertemplate": "Estado=AM<br>Ano=2015<br>Acidente=%{x}<br>Mortos=%{marker.size}<extra></extra>",
           "ids": [
            2015
           ],
           "legendgroup": "AM",
           "marker": {
            "color": "#00cc96",
            "size": [
             15
            ],
            "sizemode": "area",
            "sizeref": 3.36,
            "symbol": "circle"
           },
           "mode": "markers",
           "name": "AM",
           "orientation": "v",
           "showlegend": true,
           "type": "scatter",
           "x": [
            131
           ],
           "xaxis": "x",
           "y": [
            15
           ],
           "yaxis": "y"
          },
          {
           "hovertemplate": "Estado=AP<br>Ano=2015<br>Acidente=%{x}<br>Mortos=%{marker.size}<extra></extra>",
           "ids": [
            2015
           ],
           "legendgroup": "AP",
           "marker": {
            "color": "#ab63fa",
            "size": [
             11
            ],
            "sizemode": "area",
            "sizeref": 3.36,
            "symbol": "circle"
           },
           "mode": "markers",
           "name": "AP",
           "orientation": "v",
           "showlegend": true,
           "type": "scatter",
           "x": [
            218
           ],
           "xaxis": "x",
           "y": [
            11
           ],
           "yaxis": "y"
          },
          {
           "hovertemplate": "Estado=BA<br>Ano=2015<br>Acidente=%{x}<br>Mortos=%{marker.size}<extra></extra>",
           "ids": [
            2015
           ],
           "legendgroup": "BA",
           "marker": {
            "color": "#FFA15A",
            "size": [
             642
            ],
            "sizemode": "area",
            "sizeref": 3.36,
            "symbol": "circle"
           },
           "mode": "markers",
           "name": "BA",
           "orientation": "v",
           "showlegend": true,
           "type": "scatter",
           "x": [
            7152
           ],
           "xaxis": "x",
           "y": [
            642
           ],
           "yaxis": "y"
          },
          {
           "hovertemplate": "Estado=CE<br>Ano=2015<br>Acidente=%{x}<br>Mortos=%{marker.size}<extra></extra>",
           "ids": [
            2015
           ],
           "legendgroup": "CE",
           "marker": {
            "color": "#19d3f3",
            "size": [
             202
            ],
            "sizemode": "area",
            "sizeref": 3.36,
            "symbol": "circle"
           },
           "mode": "markers",
           "name": "CE",
           "orientation": "v",
           "showlegend": true,
           "type": "scatter",
           "x": [
            2636
           ],
           "xaxis": "x",
           "y": [
            202
           ],
           "yaxis": "y"
          },
          {
           "hovertemplate": "Estado=DF<br>Ano=2015<br>Acidente=%{x}<br>Mortos=%{marker.size}<extra></extra>",
           "ids": [
            2015
           ],
           "legendgroup": "DF",
           "marker": {
            "color": "#FF6692",
            "size": [
             47
            ],
            "sizemode": "area",
            "sizeref": 3.36,
            "symbol": "circle"
           },
           "mode": "markers",
           "name": "DF",
           "orientation": "v",
           "showlegend": true,
           "type": "scatter",
           "x": [
            1040
           ],
           "xaxis": "x",
           "y": [
            47
           ],
           "yaxis": "y"
          },
          {
           "hovertemplate": "Estado=ES<br>Ano=2015<br>Acidente=%{x}<br>Mortos=%{marker.size}<extra></extra>",
           "ids": [
            2015
           ],
           "legendgroup": "ES",
           "marker": {
            "color": "#B6E880",
            "size": [
             172
            ],
            "sizemode": "area",
            "sizeref": 3.36,
            "symbol": "circle"
           },
           "mode": "markers",
           "name": "ES",
           "orientation": "v",
           "showlegend": true,
           "type": "scatter",
           "x": [
            4762
           ],
           "xaxis": "x",
           "y": [
            172
           ],
           "yaxis": "y"
          },
          {
           "hovertemplate": "Estado=GO<br>Ano=2015<br>Acidente=%{x}<br>Mortos=%{marker.size}<extra></extra>",
           "ids": [
            2015
           ],
           "legendgroup": "GO",
           "marker": {
            "color": "#FF97FF",
            "size": [
             442
            ],
            "sizemode": "area",
            "sizeref": 3.36,
            "symbol": "circle"
           },
           "mode": "markers",
           "name": "GO",
           "orientation": "v",
           "showlegend": true,
           "type": "scatter",
           "x": [
            6131
           ],
           "xaxis": "x",
           "y": [
            442
           ],
           "yaxis": "y"
          },
          {
           "hovertemplate": "Estado=MA<br>Ano=2015<br>Acidente=%{x}<br>Mortos=%{marker.size}<extra></extra>",
           "ids": [
            2015
           ],
           "legendgroup": "MA",
           "marker": {
            "color": "#FECB52",
            "size": [
             300
            ],
            "sizemode": "area",
            "sizeref": 3.36,
            "symbol": "circle"
           },
           "mode": "markers",
           "name": "MA",
           "orientation": "v",
           "showlegend": true,
           "type": "scatter",
           "x": [
            2031
           ],
           "xaxis": "x",
           "y": [
            300
           ],
           "yaxis": "y"
          },
          {
           "hovertemplate": "Estado=MG<br>Ano=2015<br>Acidente=%{x}<br>Mortos=%{marker.size}<extra></extra>",
           "ids": [
            2015
           ],
           "legendgroup": "MG",
           "marker": {
            "color": "#636efa",
            "size": [
             961
            ],
            "sizemode": "area",
            "sizeref": 3.36,
            "symbol": "circle"
           },
           "mode": "markers",
           "name": "MG",
           "orientation": "v",
           "showlegend": true,
           "type": "scatter",
           "x": [
            15537
           ],
           "xaxis": "x",
           "y": [
            961
           ],
           "yaxis": "y"
          },
          {
           "hovertemplate": "Estado=MS<br>Ano=2015<br>Acidente=%{x}<br>Mortos=%{marker.size}<extra></extra>",
           "ids": [
            2015
           ],
           "legendgroup": "MS",
           "marker": {
            "color": "#EF553B",
            "size": [
             160
            ],
            "sizemode": "area",
            "sizeref": 3.36,
            "symbol": "circle"
           },
           "mode": "markers",
           "name": "MS",
           "orientation": "v",
           "showlegend": true,
           "type": "scatter",
           "x": [
            2818
           ],
           "xaxis": "x",
           "y": [
            160
           ],
           "yaxis": "y"
          },
          {
           "hovertemplate": "Estado=MT<br>Ano=2015<br>Acidente=%{x}<br>Mortos=%{marker.size}<extra></extra>",
           "ids": [
            2015
           ],
           "legendgroup": "MT",
           "marker": {
            "color": "#00cc96",
            "size": [
             240
            ],
            "sizemode": "area",
            "sizeref": 3.36,
            "symbol": "circle"
           },
           "mode": "markers",
           "name": "MT",
           "orientation": "v",
           "showlegend": true,
           "type": "scatter",
           "x": [
            3759
           ],
           "xaxis": "x",
           "y": [
            240
           ],
           "yaxis": "y"
          },
          {
           "hovertemplate": "Estado=PA<br>Ano=2015<br>Acidente=%{x}<br>Mortos=%{marker.size}<extra></extra>",
           "ids": [
            2015
           ],
           "legendgroup": "PA",
           "marker": {
            "color": "#ab63fa",
            "size": [
             191
            ],
            "sizemode": "area",
            "sizeref": 3.36,
            "symbol": "circle"
           },
           "mode": "markers",
           "name": "PA",
           "orientation": "v",
           "showlegend": true,
           "type": "scatter",
           "x": [
            2317
           ],
           "xaxis": "x",
           "y": [
            191
           ],
           "yaxis": "y"
          },
          {
           "hovertemplate": "Estado=PB<br>Ano=2015<br>Acidente=%{x}<br>Mortos=%{marker.size}<extra></extra>",
           "ids": [
            2015
           ],
           "legendgroup": "PB",
           "marker": {
            "color": "#FFA15A",
            "size": [
             170
            ],
            "sizemode": "area",
            "sizeref": 3.36,
            "symbol": "circle"
           },
           "mode": "markers",
           "name": "PB",
           "orientation": "v",
           "showlegend": true,
           "type": "scatter",
           "x": [
            2753
           ],
           "xaxis": "x",
           "y": [
            170
           ],
           "yaxis": "y"
          },
          {
           "hovertemplate": "Estado=PE<br>Ano=2015<br>Acidente=%{x}<br>Mortos=%{marker.size}<extra></extra>",
           "ids": [
            2015
           ],
           "legendgroup": "PE",
           "marker": {
            "color": "#19d3f3",
            "size": [
             410
            ],
            "sizemode": "area",
            "sizeref": 3.36,
            "symbol": "circle"
           },
           "mode": "markers",
           "name": "PE",
           "orientation": "v",
           "showlegend": true,
           "type": "scatter",
           "x": [
            5078
           ],
           "xaxis": "x",
           "y": [
            410
           ],
           "yaxis": "y"
          },
          {
           "hovertemplate": "Estado=PI<br>Ano=2015<br>Acidente=%{x}<br>Mortos=%{marker.size}<extra></extra>",
           "ids": [
            2015
           ],
           "legendgroup": "PI",
           "marker": {
            "color": "#FF6692",
            "size": [
             169
            ],
            "sizemode": "area",
            "sizeref": 3.36,
            "symbol": "circle"
           },
           "mode": "markers",
           "name": "PI",
           "orientation": "v",
           "showlegend": true,
           "type": "scatter",
           "x": [
            2156
           ],
           "xaxis": "x",
           "y": [
            169
           ],
           "yaxis": "y"
          },
          {
           "hovertemplate": "Estado=PR<br>Ano=2015<br>Acidente=%{x}<br>Mortos=%{marker.size}<extra></extra>",
           "ids": [
            2015
           ],
           "legendgroup": "PR",
           "marker": {
            "color": "#B6E880",
            "size": [
             584
            ],
            "sizemode": "area",
            "sizeref": 3.36,
            "symbol": "circle"
           },
           "mode": "markers",
           "name": "PR",
           "orientation": "v",
           "showlegend": true,
           "type": "scatter",
           "x": [
            12790
           ],
           "xaxis": "x",
           "y": [
            584
           ],
           "yaxis": "y"
          },
          {
           "hovertemplate": "Estado=RJ<br>Ano=2015<br>Acidente=%{x}<br>Mortos=%{marker.size}<extra></extra>",
           "ids": [
            2015
           ],
           "legendgroup": "RJ",
           "marker": {
            "color": "#FF97FF",
            "size": [
             401
            ],
            "sizemode": "area",
            "sizeref": 3.36,
            "symbol": "circle"
           },
           "mode": "markers",
           "name": "RJ",
           "orientation": "v",
           "showlegend": true,
           "type": "scatter",
           "x": [
            9570
           ],
           "xaxis": "x",
           "y": [
            401
           ],
           "yaxis": "y"
          },
          {
           "hovertemplate": "Estado=RN<br>Ano=2015<br>Acidente=%{x}<br>Mortos=%{marker.size}<extra></extra>",
           "ids": [
            2015
           ],
           "legendgroup": "RN",
           "marker": {
            "color": "#FECB52",
            "size": [
             185
            ],
            "sizemode": "area",
            "sizeref": 3.36,
            "symbol": "circle"
           },
           "mode": "markers",
           "name": "RN",
           "orientation": "v",
           "showlegend": true,
           "type": "scatter",
           "x": [
            2521
           ],
           "xaxis": "x",
           "y": [
            185
           ],
           "yaxis": "y"
          },
          {
           "hovertemplate": "Estado=RO<br>Ano=2015<br>Acidente=%{x}<br>Mortos=%{marker.size}<extra></extra>",
           "ids": [
            2015
           ],
           "legendgroup": "RO",
           "marker": {
            "color": "#636efa",
            "size": [
             111
            ],
            "sizemode": "area",
            "sizeref": 3.36,
            "symbol": "circle"
           },
           "mode": "markers",
           "name": "RO",
           "orientation": "v",
           "showlegend": true,
           "type": "scatter",
           "x": [
            2118
           ],
           "xaxis": "x",
           "y": [
            111
           ],
           "yaxis": "y"
          },
          {
           "hovertemplate": "Estado=RR<br>Ano=2015<br>Acidente=%{x}<br>Mortos=%{marker.size}<extra></extra>",
           "ids": [
            2015
           ],
           "legendgroup": "RR",
           "marker": {
            "color": "#EF553B",
            "size": [
             31
            ],
            "sizemode": "area",
            "sizeref": 3.36,
            "symbol": "circle"
           },
           "mode": "markers",
           "name": "RR",
           "orientation": "v",
           "showlegend": true,
           "type": "scatter",
           "x": [
            319
           ],
           "xaxis": "x",
           "y": [
            31
           ],
           "yaxis": "y"
          },
          {
           "hovertemplate": "Estado=RS<br>Ano=2015<br>Acidente=%{x}<br>Mortos=%{marker.size}<extra></extra>",
           "ids": [
            2015
           ],
           "legendgroup": "RS",
           "marker": {
            "color": "#00cc96",
            "size": [
             396
            ],
            "sizemode": "area",
            "sizeref": 3.36,
            "symbol": "circle"
           },
           "mode": "markers",
           "name": "RS",
           "orientation": "v",
           "showlegend": true,
           "type": "scatter",
           "x": [
            9869
           ],
           "xaxis": "x",
           "y": [
            396
           ],
           "yaxis": "y"
          },
          {
           "hovertemplate": "Estado=SC<br>Ano=2015<br>Acidente=%{x}<br>Mortos=%{marker.size}<extra></extra>",
           "ids": [
            2015
           ],
           "legendgroup": "SC",
           "marker": {
            "color": "#ab63fa",
            "size": [
             460
            ],
            "sizemode": "area",
            "sizeref": 3.36,
            "symbol": "circle"
           },
           "mode": "markers",
           "name": "SC",
           "orientation": "v",
           "showlegend": true,
           "type": "scatter",
           "x": [
            14033
           ],
           "xaxis": "x",
           "y": [
            460
           ],
           "yaxis": "y"
          },
          {
           "hovertemplate": "Estado=SE<br>Ano=2015<br>Acidente=%{x}<br>Mortos=%{marker.size}<extra></extra>",
           "ids": [
            2015
           ],
           "legendgroup": "SE",
           "marker": {
            "color": "#FFA15A",
            "size": [
             67
            ],
            "sizemode": "area",
            "sizeref": 3.36,
            "symbol": "circle"
           },
           "mode": "markers",
           "name": "SE",
           "orientation": "v",
           "showlegend": true,
           "type": "scatter",
           "x": [
            1097
           ],
           "xaxis": "x",
           "y": [
            67
           ],
           "yaxis": "y"
          },
          {
           "hovertemplate": "Estado=SP<br>Ano=2015<br>Acidente=%{x}<br>Mortos=%{marker.size}<extra></extra>",
           "ids": [
            2015
           ],
           "legendgroup": "SP",
           "marker": {
            "color": "#19d3f3",
            "size": [
             267
            ],
            "sizemode": "area",
            "sizeref": 3.36,
            "symbol": "circle"
           },
           "mode": "markers",
           "name": "SP",
           "orientation": "v",
           "showlegend": true,
           "type": "scatter",
           "x": [
            8901
           ],
           "xaxis": "x",
           "y": [
            267
           ],
           "yaxis": "y"
          },
          {
           "hovertemplate": "Estado=TO<br>Ano=2015<br>Acidente=%{x}<br>Mortos=%{marker.size}<extra></extra>",
           "ids": [
            2015
           ],
           "legendgroup": "TO",
           "marker": {
            "color": "#FF6692",
            "size": [
             93
            ],
            "sizemode": "area",
            "sizeref": 3.36,
            "symbol": "circle"
           },
           "mode": "markers",
           "name": "TO",
           "orientation": "v",
           "showlegend": true,
           "type": "scatter",
           "x": [
            873
           ],
           "xaxis": "x",
           "y": [
            93
           ],
           "yaxis": "y"
          }
         ],
         "name": "2015"
        },
        {
         "data": [
          {
           "hovertemplate": "Estado=AC<br>Ano=2016<br>Acidente=%{x}<br>Mortos=%{marker.size}<extra></extra>",
           "ids": [
            2016
           ],
           "legendgroup": "AC",
           "marker": {
            "color": "#636efa",
            "size": [
             23
            ],
            "sizemode": "area",
            "sizeref": 3.36,
            "symbol": "circle"
           },
           "mode": "markers",
           "name": "AC",
           "orientation": "v",
           "showlegend": true,
           "type": "scatter",
           "x": [
            330
           ],
           "xaxis": "x",
           "y": [
            23
           ],
           "yaxis": "y"
          },
          {
           "hovertemplate": "Estado=AL<br>Ano=2016<br>Acidente=%{x}<br>Mortos=%{marker.size}<extra></extra>",
           "ids": [
            2016
           ],
           "legendgroup": "AL",
           "marker": {
            "color": "#EF553B",
            "size": [
             104
            ],
            "sizemode": "area",
            "sizeref": 3.36,
            "symbol": "circle"
           },
           "mode": "markers",
           "name": "AL",
           "orientation": "v",
           "showlegend": true,
           "type": "scatter",
           "x": [
            951
           ],
           "xaxis": "x",
           "y": [
            104
           ],
           "yaxis": "y"
          },
          {
           "hovertemplate": "Estado=AM<br>Ano=2016<br>Acidente=%{x}<br>Mortos=%{marker.size}<extra></extra>",
           "ids": [
            2016
           ],
           "legendgroup": "AM",
           "marker": {
            "color": "#00cc96",
            "size": [
             22
            ],
            "sizemode": "area",
            "sizeref": 3.36,
            "symbol": "circle"
           },
           "mode": "markers",
           "name": "AM",
           "orientation": "v",
           "showlegend": true,
           "type": "scatter",
           "x": [
            166
           ],
           "xaxis": "x",
           "y": [
            22
           ],
           "yaxis": "y"
          },
          {
           "hovertemplate": "Estado=AP<br>Ano=2016<br>Acidente=%{x}<br>Mortos=%{marker.size}<extra></extra>",
           "ids": [
            2016
           ],
           "legendgroup": "AP",
           "marker": {
            "color": "#ab63fa",
            "size": [
             16
            ],
            "sizemode": "area",
            "sizeref": 3.36,
            "symbol": "circle"
           },
           "mode": "markers",
           "name": "AP",
           "orientation": "v",
           "showlegend": true,
           "type": "scatter",
           "x": [
            198
           ],
           "xaxis": "x",
           "y": [
            16
           ],
           "yaxis": "y"
          },
          {
           "hovertemplate": "Estado=BA<br>Ano=2016<br>Acidente=%{x}<br>Mortos=%{marker.size}<extra></extra>",
           "ids": [
            2016
           ],
           "legendgroup": "BA",
           "marker": {
            "color": "#FFA15A",
            "size": [
             610
            ],
            "sizemode": "area",
            "sizeref": 3.36,
            "symbol": "circle"
           },
           "mode": "markers",
           "name": "BA",
           "orientation": "v",
           "showlegend": true,
           "type": "scatter",
           "x": [
            5495
           ],
           "xaxis": "x",
           "y": [
            610
           ],
           "yaxis": "y"
          },
          {
           "hovertemplate": "Estado=CE<br>Ano=2016<br>Acidente=%{x}<br>Mortos=%{marker.size}<extra></extra>",
           "ids": [
            2016
           ],
           "legendgroup": "CE",
           "marker": {
            "color": "#19d3f3",
            "size": [
             224
            ],
            "sizemode": "area",
            "sizeref": 3.36,
            "symbol": "circle"
           },
           "mode": "markers",
           "name": "CE",
           "orientation": "v",
           "showlegend": true,
           "type": "scatter",
           "x": [
            2419
           ],
           "xaxis": "x",
           "y": [
            224
           ],
           "yaxis": "y"
          },
          {
           "hovertemplate": "Estado=DF<br>Ano=2016<br>Acidente=%{x}<br>Mortos=%{marker.size}<extra></extra>",
           "ids": [
            2016
           ],
           "legendgroup": "DF",
           "marker": {
            "color": "#FF6692",
            "size": [
             58
            ],
            "sizemode": "area",
            "sizeref": 3.36,
            "symbol": "circle"
           },
           "mode": "markers",
           "name": "DF",
           "orientation": "v",
           "showlegend": true,
           "type": "scatter",
           "x": [
            1066
           ],
           "xaxis": "x",
           "y": [
            58
           ],
           "yaxis": "y"
          },
          {
           "hovertemplate": "Estado=ES<br>Ano=2016<br>Acidente=%{x}<br>Mortos=%{marker.size}<extra></extra>",
           "ids": [
            2016
           ],
           "legendgroup": "ES",
           "marker": {
            "color": "#B6E880",
            "size": [
             187
            ],
            "sizemode": "area",
            "sizeref": 3.36,
            "symbol": "circle"
           },
           "mode": "markers",
           "name": "ES",
           "orientation": "v",
           "showlegend": true,
           "type": "scatter",
           "x": [
            3230
           ],
           "xaxis": "x",
           "y": [
            187
           ],
           "yaxis": "y"
          },
          {
           "hovertemplate": "Estado=GO<br>Ano=2016<br>Acidente=%{x}<br>Mortos=%{marker.size}<extra></extra>",
           "ids": [
            2016
           ],
           "legendgroup": "GO",
           "marker": {
            "color": "#FF97FF",
            "size": [
             351
            ],
            "sizemode": "area",
            "sizeref": 3.36,
            "symbol": "circle"
           },
           "mode": "markers",
           "name": "GO",
           "orientation": "v",
           "showlegend": true,
           "type": "scatter",
           "x": [
            4967
           ],
           "xaxis": "x",
           "y": [
            351
           ],
           "yaxis": "y"
          },
          {
           "hovertemplate": "Estado=MA<br>Ano=2016<br>Acidente=%{x}<br>Mortos=%{marker.size}<extra></extra>",
           "ids": [
            2016
           ],
           "legendgroup": "MA",
           "marker": {
            "color": "#FECB52",
            "size": [
             221
            ],
            "sizemode": "area",
            "sizeref": 3.36,
            "symbol": "circle"
           },
           "mode": "markers",
           "name": "MA",
           "orientation": "v",
           "showlegend": true,
           "type": "scatter",
           "x": [
            1512
           ],
           "xaxis": "x",
           "y": [
            221
           ],
           "yaxis": "y"
          },
          {
           "hovertemplate": "Estado=MG<br>Ano=2016<br>Acidente=%{x}<br>Mortos=%{marker.size}<extra></extra>",
           "ids": [
            2016
           ],
           "legendgroup": "MG",
           "marker": {
            "color": "#636efa",
            "size": [
             829
            ],
            "sizemode": "area",
            "sizeref": 3.36,
            "symbol": "circle"
           },
           "mode": "markers",
           "name": "MG",
           "orientation": "v",
           "showlegend": true,
           "type": "scatter",
           "x": [
            14369
           ],
           "xaxis": "x",
           "y": [
            829
           ],
           "yaxis": "y"
          },
          {
           "hovertemplate": "Estado=MS<br>Ano=2016<br>Acidente=%{x}<br>Mortos=%{marker.size}<extra></extra>",
           "ids": [
            2016
           ],
           "legendgroup": "MS",
           "marker": {
            "color": "#EF553B",
            "size": [
             146
            ],
            "sizemode": "area",
            "sizeref": 3.36,
            "symbol": "circle"
           },
           "mode": "markers",
           "name": "MS",
           "orientation": "v",
           "showlegend": true,
           "type": "scatter",
           "x": [
            2466
           ],
           "xaxis": "x",
           "y": [
            146
           ],
           "yaxis": "y"
          },
          {
           "hovertemplate": "Estado=MT<br>Ano=2016<br>Acidente=%{x}<br>Mortos=%{marker.size}<extra></extra>",
           "ids": [
            2016
           ],
           "legendgroup": "MT",
           "marker": {
            "color": "#00cc96",
            "size": [
             220
            ],
            "sizemode": "area",
            "sizeref": 3.36,
            "symbol": "circle"
           },
           "mode": "markers",
           "name": "MT",
           "orientation": "v",
           "showlegend": true,
           "type": "scatter",
           "x": [
            3262
           ],
           "xaxis": "x",
           "y": [
            220
           ],
           "yaxis": "y"
          },
          {
           "hovertemplate": "Estado=PA<br>Ano=2016<br>Acidente=%{x}<br>Mortos=%{marker.size}<extra></extra>",
           "ids": [
            2016
           ],
           "legendgroup": "PA",
           "marker": {
            "color": "#ab63fa",
            "size": [
             184
            ],
            "sizemode": "area",
            "sizeref": 3.36,
            "symbol": "circle"
           },
           "mode": "markers",
           "name": "PA",
           "orientation": "v",
           "showlegend": true,
           "type": "scatter",
           "x": [
            1732
           ],
           "xaxis": "x",
           "y": [
            184
           ],
           "yaxis": "y"
          },
          {
           "hovertemplate": "Estado=PB<br>Ano=2016<br>Acidente=%{x}<br>Mortos=%{marker.size}<extra></extra>",
           "ids": [
            2016
           ],
           "legendgroup": "PB",
           "marker": {
            "color": "#FFA15A",
            "size": [
             156
            ],
            "sizemode": "area",
            "sizeref": 3.36,
            "symbol": "circle"
           },
           "mode": "markers",
           "name": "PB",
           "orientation": "v",
           "showlegend": true,
           "type": "scatter",
           "x": [
            1932
           ],
           "xaxis": "x",
           "y": [
            156
           ],
           "yaxis": "y"
          },
          {
           "hovertemplate": "Estado=PE<br>Ano=2016<br>Acidente=%{x}<br>Mortos=%{marker.size}<extra></extra>",
           "ids": [
            2016
           ],
           "legendgroup": "PE",
           "marker": {
            "color": "#19d3f3",
            "size": [
             386
            ],
            "sizemode": "area",
            "sizeref": 3.36,
            "symbol": "circle"
           },
           "mode": "markers",
           "name": "PE",
           "orientation": "v",
           "showlegend": true,
           "type": "scatter",
           "x": [
            3623
           ],
           "xaxis": "x",
           "y": [
            386
           ],
           "yaxis": "y"
          },
          {
           "hovertemplate": "Estado=PI<br>Ano=2016<br>Acidente=%{x}<br>Mortos=%{marker.size}<extra></extra>",
           "ids": [
            2016
           ],
           "legendgroup": "PI",
           "marker": {
            "color": "#FF6692",
            "size": [
             149
            ],
            "sizemode": "area",
            "sizeref": 3.36,
            "symbol": "circle"
           },
           "mode": "markers",
           "name": "PI",
           "orientation": "v",
           "showlegend": true,
           "type": "scatter",
           "x": [
            1501
           ],
           "xaxis": "x",
           "y": [
            149
           ],
           "yaxis": "y"
          },
          {
           "hovertemplate": "Estado=PR<br>Ano=2016<br>Acidente=%{x}<br>Mortos=%{marker.size}<extra></extra>",
           "ids": [
            2016
           ],
           "legendgroup": "PR",
           "marker": {
            "color": "#B6E880",
            "size": [
             651
            ],
            "sizemode": "area",
            "sizeref": 3.36,
            "symbol": "circle"
           },
           "mode": "markers",
           "name": "PR",
           "orientation": "v",
           "showlegend": true,
           "type": "scatter",
           "x": [
            11030
           ],
           "xaxis": "x",
           "y": [
            651
           ],
           "yaxis": "y"
          },
          {
           "hovertemplate": "Estado=RJ<br>Ano=2016<br>Acidente=%{x}<br>Mortos=%{marker.size}<extra></extra>",
           "ids": [
            2016
           ],
           "legendgroup": "RJ",
           "marker": {
            "color": "#FF97FF",
            "size": [
             370
            ],
            "sizemode": "area",
            "sizeref": 3.36,
            "symbol": "circle"
           },
           "mode": "markers",
           "name": "RJ",
           "orientation": "v",
           "showlegend": true,
           "type": "scatter",
           "x": [
            6118
           ],
           "xaxis": "x",
           "y": [
            370
           ],
           "yaxis": "y"
          },
          {
           "hovertemplate": "Estado=RN<br>Ano=2016<br>Acidente=%{x}<br>Mortos=%{marker.size}<extra></extra>",
           "ids": [
            2016
           ],
           "legendgroup": "RN",
           "marker": {
            "color": "#FECB52",
            "size": [
             144
            ],
            "sizemode": "area",
            "sizeref": 3.36,
            "symbol": "circle"
           },
           "mode": "markers",
           "name": "RN",
           "orientation": "v",
           "showlegend": true,
           "type": "scatter",
           "x": [
            1626
           ],
           "xaxis": "x",
           "y": [
            144
           ],
           "yaxis": "y"
          },
          {
           "hovertemplate": "Estado=RO<br>Ano=2016<br>Acidente=%{x}<br>Mortos=%{marker.size}<extra></extra>",
           "ids": [
            2016
           ],
           "legendgroup": "RO",
           "marker": {
            "color": "#636efa",
            "size": [
             102
            ],
            "sizemode": "area",
            "sizeref": 3.36,
            "symbol": "circle"
           },
           "mode": "markers",
           "name": "RO",
           "orientation": "v",
           "showlegend": true,
           "type": "scatter",
           "x": [
            1715
           ],
           "xaxis": "x",
           "y": [
            102
           ],
           "yaxis": "y"
          },
          {
           "hovertemplate": "Estado=RR<br>Ano=2016<br>Acidente=%{x}<br>Mortos=%{marker.size}<extra></extra>",
           "ids": [
            2016
           ],
           "legendgroup": "RR",
           "marker": {
            "color": "#EF553B",
            "size": [
             24
            ],
            "sizemode": "area",
            "sizeref": 3.36,
            "symbol": "circle"
           },
           "mode": "markers",
           "name": "RR",
           "orientation": "v",
           "showlegend": true,
           "type": "scatter",
           "x": [
            296
           ],
           "xaxis": "x",
           "y": [
            24
           ],
           "yaxis": "y"
          },
          {
           "hovertemplate": "Estado=RS<br>Ano=2016<br>Acidente=%{x}<br>Mortos=%{marker.size}<extra></extra>",
           "ids": [
            2016
           ],
           "legendgroup": "RS",
           "marker": {
            "color": "#00cc96",
            "size": [
             348
            ],
            "sizemode": "area",
            "sizeref": 3.36,
            "symbol": "circle"
           },
           "mode": "markers",
           "name": "RS",
           "orientation": "v",
           "showlegend": true,
           "type": "scatter",
           "x": [
            7514
           ],
           "xaxis": "x",
           "y": [
            348
           ],
           "yaxis": "y"
          },
          {
           "hovertemplate": "Estado=SC<br>Ano=2016<br>Acidente=%{x}<br>Mortos=%{marker.size}<extra></extra>",
           "ids": [
            2016
           ],
           "legendgroup": "SC",
           "marker": {
            "color": "#ab63fa",
            "size": [
             450
            ],
            "sizemode": "area",
            "sizeref": 3.36,
            "symbol": "circle"
           },
           "mode": "markers",
           "name": "SC",
           "orientation": "v",
           "showlegend": true,
           "type": "scatter",
           "x": [
            10604
           ],
           "xaxis": "x",
           "y": [
            450
           ],
           "yaxis": "y"
          },
          {
           "hovertemplate": "Estado=SE<br>Ano=2016<br>Acidente=%{x}<br>Mortos=%{marker.size}<extra></extra>",
           "ids": [
            2016
           ],
           "legendgroup": "SE",
           "marker": {
            "color": "#FFA15A",
            "size": [
             57
            ],
            "sizemode": "area",
            "sizeref": 3.36,
            "symbol": "circle"
           },
           "mode": "markers",
           "name": "SE",
           "orientation": "v",
           "showlegend": true,
           "type": "scatter",
           "x": [
            763
           ],
           "xaxis": "x",
           "y": [
            57
           ],
           "yaxis": "y"
          },
          {
           "hovertemplate": "Estado=SP<br>Ano=2016<br>Acidente=%{x}<br>Mortos=%{marker.size}<extra></extra>",
           "ids": [
            2016
           ],
           "legendgroup": "SP",
           "marker": {
            "color": "#19d3f3",
            "size": [
             255
            ],
            "sizemode": "area",
            "sizeref": 3.36,
            "symbol": "circle"
           },
           "mode": "markers",
           "name": "SP",
           "orientation": "v",
           "showlegend": true,
           "type": "scatter",
           "x": [
            6631
           ],
           "xaxis": "x",
           "y": [
            255
           ],
           "yaxis": "y"
          },
          {
           "hovertemplate": "Estado=TO<br>Ano=2016<br>Acidente=%{x}<br>Mortos=%{marker.size}<extra></extra>",
           "ids": [
            2016
           ],
           "legendgroup": "TO",
           "marker": {
            "color": "#FF6692",
            "size": [
             109
            ],
            "sizemode": "area",
            "sizeref": 3.36,
            "symbol": "circle"
           },
           "mode": "markers",
           "name": "TO",
           "orientation": "v",
           "showlegend": true,
           "type": "scatter",
           "x": [
            836
           ],
           "xaxis": "x",
           "y": [
            109
           ],
           "yaxis": "y"
          }
         ],
         "name": "2016"
        },
        {
         "data": [
          {
           "hovertemplate": "Estado=AC<br>Ano=2017<br>Acidente=%{x}<br>Mortos=%{marker.size}<extra></extra>",
           "ids": [
            2017
           ],
           "legendgroup": "AC",
           "marker": {
            "color": "#636efa",
            "size": [
             18
            ],
            "sizemode": "area",
            "sizeref": 3.36,
            "symbol": "circle"
           },
           "mode": "markers",
           "name": "AC",
           "orientation": "v",
           "showlegend": true,
           "type": "scatter",
           "x": [
            304
           ],
           "xaxis": "x",
           "y": [
            18
           ],
           "yaxis": "y"
          },
          {
           "hovertemplate": "Estado=AL<br>Ano=2017<br>Acidente=%{x}<br>Mortos=%{marker.size}<extra></extra>",
           "ids": [
            2017
           ],
           "legendgroup": "AL",
           "marker": {
            "color": "#EF553B",
            "size": [
             102
            ],
            "sizemode": "area",
            "sizeref": 3.36,
            "symbol": "circle"
           },
           "mode": "markers",
           "name": "AL",
           "orientation": "v",
           "showlegend": true,
           "type": "scatter",
           "x": [
            904
           ],
           "xaxis": "x",
           "y": [
            102
           ],
           "yaxis": "y"
          },
          {
           "hovertemplate": "Estado=AM<br>Ano=2017<br>Acidente=%{x}<br>Mortos=%{marker.size}<extra></extra>",
           "ids": [
            2017
           ],
           "legendgroup": "AM",
           "marker": {
            "color": "#00cc96",
            "size": [
             14
            ],
            "sizemode": "area",
            "sizeref": 3.36,
            "symbol": "circle"
           },
           "mode": "markers",
           "name": "AM",
           "orientation": "v",
           "showlegend": true,
           "type": "scatter",
           "x": [
            131
           ],
           "xaxis": "x",
           "y": [
            14
           ],
           "yaxis": "y"
          },
          {
           "hovertemplate": "Estado=AP<br>Ano=2017<br>Acidente=%{x}<br>Mortos=%{marker.size}<extra></extra>",
           "ids": [
            2017
           ],
           "legendgroup": "AP",
           "marker": {
            "color": "#ab63fa",
            "size": [
             9
            ],
            "sizemode": "area",
            "sizeref": 3.36,
            "symbol": "circle"
           },
           "mode": "markers",
           "name": "AP",
           "orientation": "v",
           "showlegend": true,
           "type": "scatter",
           "x": [
            166
           ],
           "xaxis": "x",
           "y": [
            9
           ],
           "yaxis": "y"
          },
          {
           "hovertemplate": "Estado=BA<br>Ano=2017<br>Acidente=%{x}<br>Mortos=%{marker.size}<extra></extra>",
           "ids": [
            2017
           ],
           "legendgroup": "BA",
           "marker": {
            "color": "#FFA15A",
            "size": [
             594
            ],
            "sizemode": "area",
            "sizeref": 3.36,
            "symbol": "circle"
           },
           "mode": "markers",
           "name": "BA",
           "orientation": "v",
           "showlegend": true,
           "type": "scatter",
           "x": [
            4687
           ],
           "xaxis": "x",
           "y": [
            594
           ],
           "yaxis": "y"
          },
          {
           "hovertemplate": "Estado=CE<br>Ano=2017<br>Acidente=%{x}<br>Mortos=%{marker.size}<extra></extra>",
           "ids": [
            2017
           ],
           "legendgroup": "CE",
           "marker": {
            "color": "#19d3f3",
            "size": [
             190
            ],
            "sizemode": "area",
            "sizeref": 3.36,
            "symbol": "circle"
           },
           "mode": "markers",
           "name": "CE",
           "orientation": "v",
           "showlegend": true,
           "type": "scatter",
           "x": [
            1954
           ],
           "xaxis": "x",
           "y": [
            190
           ],
           "yaxis": "y"
          },
          {
           "hovertemplate": "Estado=DF<br>Ano=2017<br>Acidente=%{x}<br>Mortos=%{marker.size}<extra></extra>",
           "ids": [
            2017
           ],
           "legendgroup": "DF",
           "marker": {
            "color": "#FF6692",
            "size": [
             46
            ],
            "sizemode": "area",
            "sizeref": 3.36,
            "symbol": "circle"
           },
           "mode": "markers",
           "name": "DF",
           "orientation": "v",
           "showlegend": true,
           "type": "scatter",
           "x": [
            1093
           ],
           "xaxis": "x",
           "y": [
            46
           ],
           "yaxis": "y"
          },
          {
           "hovertemplate": "Estado=ES<br>Ano=2017<br>Acidente=%{x}<br>Mortos=%{marker.size}<extra></extra>",
           "ids": [
            2017
           ],
           "legendgroup": "ES",
           "marker": {
            "color": "#B6E880",
            "size": [
             201
            ],
            "sizemode": "area",
            "sizeref": 3.36,
            "symbol": "circle"
           },
           "mode": "markers",
           "name": "ES",
           "orientation": "v",
           "showlegend": true,
           "type": "scatter",
           "x": [
            3004
           ],
           "xaxis": "x",
           "y": [
            201
           ],
           "yaxis": "y"
          },
          {
           "hovertemplate": "Estado=GO<br>Ano=2017<br>Acidente=%{x}<br>Mortos=%{marker.size}<extra></extra>",
           "ids": [
            2017
           ],
           "legendgroup": "GO",
           "marker": {
            "color": "#FF97FF",
            "size": [
             344
            ],
            "sizemode": "area",
            "sizeref": 3.36,
            "symbol": "circle"
           },
           "mode": "markers",
           "name": "GO",
           "orientation": "v",
           "showlegend": true,
           "type": "scatter",
           "x": [
            4367
           ],
           "xaxis": "x",
           "y": [
            344
           ],
           "yaxis": "y"
          },
          {
           "hovertemplate": "Estado=MA<br>Ano=2017<br>Acidente=%{x}<br>Mortos=%{marker.size}<extra></extra>",
           "ids": [
            2017
           ],
           "legendgroup": "MA",
           "marker": {
            "color": "#FECB52",
            "size": [
             246
            ],
            "sizemode": "area",
            "sizeref": 3.36,
            "symbol": "circle"
           },
           "mode": "markers",
           "name": "MA",
           "orientation": "v",
           "showlegend": true,
           "type": "scatter",
           "x": [
            1583
           ],
           "xaxis": "x",
           "y": [
            246
           ],
           "yaxis": "y"
          },
          {
           "hovertemplate": "Estado=MG<br>Ano=2017<br>Acidente=%{x}<br>Mortos=%{marker.size}<extra></extra>",
           "ids": [
            2017
           ],
           "legendgroup": "MG",
           "marker": {
            "color": "#636efa",
            "size": [
             868
            ],
            "sizemode": "area",
            "sizeref": 3.36,
            "symbol": "circle"
           },
           "mode": "markers",
           "name": "MG",
           "orientation": "v",
           "showlegend": true,
           "type": "scatter",
           "x": [
            12727
           ],
           "xaxis": "x",
           "y": [
            868
           ],
           "yaxis": "y"
          },
          {
           "hovertemplate": "Estado=MS<br>Ano=2017<br>Acidente=%{x}<br>Mortos=%{marker.size}<extra></extra>",
           "ids": [
            2017
           ],
           "legendgroup": "MS",
           "marker": {
            "color": "#EF553B",
            "size": [
             162
            ],
            "sizemode": "area",
            "sizeref": 3.36,
            "symbol": "circle"
           },
           "mode": "markers",
           "name": "MS",
           "orientation": "v",
           "showlegend": true,
           "type": "scatter",
           "x": [
            1933
           ],
           "xaxis": "x",
           "y": [
            162
           ],
           "yaxis": "y"
          },
          {
           "hovertemplate": "Estado=MT<br>Ano=2017<br>Acidente=%{x}<br>Mortos=%{marker.size}<extra></extra>",
           "ids": [
            2017
           ],
           "legendgroup": "MT",
           "marker": {
            "color": "#00cc96",
            "size": [
             191
            ],
            "sizemode": "area",
            "sizeref": 3.36,
            "symbol": "circle"
           },
           "mode": "markers",
           "name": "MT",
           "orientation": "v",
           "showlegend": true,
           "type": "scatter",
           "x": [
            3526
           ],
           "xaxis": "x",
           "y": [
            191
           ],
           "yaxis": "y"
          },
          {
           "hovertemplate": "Estado=PA<br>Ano=2017<br>Acidente=%{x}<br>Mortos=%{marker.size}<extra></extra>",
           "ids": [
            2017
           ],
           "legendgroup": "PA",
           "marker": {
            "color": "#ab63fa",
            "size": [
             162
            ],
            "sizemode": "area",
            "sizeref": 3.36,
            "symbol": "circle"
           },
           "mode": "markers",
           "name": "PA",
           "orientation": "v",
           "showlegend": true,
           "type": "scatter",
           "x": [
            1504
           ],
           "xaxis": "x",
           "y": [
            162
           ],
           "yaxis": "y"
          },
          {
           "hovertemplate": "Estado=PB<br>Ano=2017<br>Acidente=%{x}<br>Mortos=%{marker.size}<extra></extra>",
           "ids": [
            2017
           ],
           "legendgroup": "PB",
           "marker": {
            "color": "#FFA15A",
            "size": [
             139
            ],
            "sizemode": "area",
            "sizeref": 3.36,
            "symbol": "circle"
           },
           "mode": "markers",
           "name": "PB",
           "orientation": "v",
           "showlegend": true,
           "type": "scatter",
           "x": [
            1852
           ],
           "xaxis": "x",
           "y": [
            139
           ],
           "yaxis": "y"
          },
          {
           "hovertemplate": "Estado=PE<br>Ano=2017<br>Acidente=%{x}<br>Mortos=%{marker.size}<extra></extra>",
           "ids": [
            2017
           ],
           "legendgroup": "PE",
           "marker": {
            "color": "#19d3f3",
            "size": [
             343
            ],
            "sizemode": "area",
            "sizeref": 3.36,
            "symbol": "circle"
           },
           "mode": "markers",
           "name": "PE",
           "orientation": "v",
           "showlegend": true,
           "type": "scatter",
           "x": [
            3440
           ],
           "xaxis": "x",
           "y": [
            343
           ],
           "yaxis": "y"
          },
          {
           "hovertemplate": "Estado=PI<br>Ano=2017<br>Acidente=%{x}<br>Mortos=%{marker.size}<extra></extra>",
           "ids": [
            2017
           ],
           "legendgroup": "PI",
           "marker": {
            "color": "#FF6692",
            "size": [
             209
            ],
            "sizemode": "area",
            "sizeref": 3.36,
            "symbol": "circle"
           },
           "mode": "markers",
           "name": "PI",
           "orientation": "v",
           "showlegend": true,
           "type": "scatter",
           "x": [
            1540
           ],
           "xaxis": "x",
           "y": [
            209
           ],
           "yaxis": "y"
          },
          {
           "hovertemplate": "Estado=PR<br>Ano=2017<br>Acidente=%{x}<br>Mortos=%{marker.size}<extra></extra>",
           "ids": [
            2017
           ],
           "legendgroup": "PR",
           "marker": {
            "color": "#B6E880",
            "size": [
             612
            ],
            "sizemode": "area",
            "sizeref": 3.36,
            "symbol": "circle"
           },
           "mode": "markers",
           "name": "PR",
           "orientation": "v",
           "showlegend": true,
           "type": "scatter",
           "x": [
            10689
           ],
           "xaxis": "x",
           "y": [
            612
           ],
           "yaxis": "y"
          },
          {
           "hovertemplate": "Estado=RJ<br>Ano=2017<br>Acidente=%{x}<br>Mortos=%{marker.size}<extra></extra>",
           "ids": [
            2017
           ],
           "legendgroup": "RJ",
           "marker": {
            "color": "#FF97FF",
            "size": [
             341
            ],
            "sizemode": "area",
            "sizeref": 3.36,
            "symbol": "circle"
           },
           "mode": "markers",
           "name": "RJ",
           "orientation": "v",
           "showlegend": true,
           "type": "scatter",
           "x": [
            5967
           ],
           "xaxis": "x",
           "y": [
            341
           ],
           "yaxis": "y"
          },
          {
           "hovertemplate": "Estado=RN<br>Ano=2017<br>Acidente=%{x}<br>Mortos=%{marker.size}<extra></extra>",
           "ids": [
            2017
           ],
           "legendgroup": "RN",
           "marker": {
            "color": "#FECB52",
            "size": [
             139
            ],
            "sizemode": "area",
            "sizeref": 3.36,
            "symbol": "circle"
           },
           "mode": "markers",
           "name": "RN",
           "orientation": "v",
           "showlegend": true,
           "type": "scatter",
           "x": [
            1457
           ],
           "xaxis": "x",
           "y": [
            139
           ],
           "yaxis": "y"
          },
          {
           "hovertemplate": "Estado=RO<br>Ano=2017<br>Acidente=%{x}<br>Mortos=%{marker.size}<extra></extra>",
           "ids": [
            2017
           ],
           "legendgroup": "RO",
           "marker": {
            "color": "#636efa",
            "size": [
             119
            ],
            "sizemode": "area",
            "sizeref": 3.36,
            "symbol": "circle"
           },
           "mode": "markers",
           "name": "RO",
           "orientation": "v",
           "showlegend": true,
           "type": "scatter",
           "x": [
            1831
           ],
           "xaxis": "x",
           "y": [
            119
           ],
           "yaxis": "y"
          },
          {
           "hovertemplate": "Estado=RR<br>Ano=2017<br>Acidente=%{x}<br>Mortos=%{marker.size}<extra></extra>",
           "ids": [
            2017
           ],
           "legendgroup": "RR",
           "marker": {
            "color": "#EF553B",
            "size": [
             37
            ],
            "sizemode": "area",
            "sizeref": 3.36,
            "symbol": "circle"
           },
           "mode": "markers",
           "name": "RR",
           "orientation": "v",
           "showlegend": true,
           "type": "scatter",
           "x": [
            286
           ],
           "xaxis": "x",
           "y": [
            37
           ],
           "yaxis": "y"
          },
          {
           "hovertemplate": "Estado=RS<br>Ano=2017<br>Acidente=%{x}<br>Mortos=%{marker.size}<extra></extra>",
           "ids": [
            2017
           ],
           "legendgroup": "RS",
           "marker": {
            "color": "#00cc96",
            "size": [
             391
            ],
            "sizemode": "area",
            "sizeref": 3.36,
            "symbol": "circle"
           },
           "mode": "markers",
           "name": "RS",
           "orientation": "v",
           "showlegend": true,
           "type": "scatter",
           "x": [
            6385
           ],
           "xaxis": "x",
           "y": [
            391
           ],
           "yaxis": "y"
          },
          {
           "hovertemplate": "Estado=SC<br>Ano=2017<br>Acidente=%{x}<br>Mortos=%{marker.size}<extra></extra>",
           "ids": [
            2017
           ],
           "legendgroup": "SC",
           "marker": {
            "color": "#ab63fa",
            "size": [
             381
            ],
            "sizemode": "area",
            "sizeref": 3.36,
            "symbol": "circle"
           },
           "mode": "markers",
           "name": "SC",
           "orientation": "v",
           "showlegend": true,
           "type": "scatter",
           "x": [
            10663
           ],
           "xaxis": "x",
           "y": [
            381
           ],
           "yaxis": "y"
          },
          {
           "hovertemplate": "Estado=SE<br>Ano=2017<br>Acidente=%{x}<br>Mortos=%{marker.size}<extra></extra>",
           "ids": [
            2017
           ],
           "legendgroup": "SE",
           "marker": {
            "color": "#FFA15A",
            "size": [
             51
            ],
            "sizemode": "area",
            "sizeref": 3.36,
            "symbol": "circle"
           },
           "mode": "markers",
           "name": "SE",
           "orientation": "v",
           "showlegend": true,
           "type": "scatter",
           "x": [
            763
           ],
           "xaxis": "x",
           "y": [
            51
           ],
           "yaxis": "y"
          },
          {
           "hovertemplate": "Estado=SP<br>Ano=2017<br>Acidente=%{x}<br>Mortos=%{marker.size}<extra></extra>",
           "ids": [
            2017
           ],
           "legendgroup": "SP",
           "marker": {
            "color": "#19d3f3",
            "size": [
             255
            ],
            "sizemode": "area",
            "sizeref": 3.36,
            "symbol": "circle"
           },
           "mode": "markers",
           "name": "SP",
           "orientation": "v",
           "showlegend": true,
           "type": "scatter",
           "x": [
            6011
           ],
           "xaxis": "x",
           "y": [
            255
           ],
           "yaxis": "y"
          },
          {
           "hovertemplate": "Estado=TO<br>Ano=2017<br>Acidente=%{x}<br>Mortos=%{marker.size}<extra></extra>",
           "ids": [
            2017
           ],
           "legendgroup": "TO",
           "marker": {
            "color": "#FF6692",
            "size": [
             82
            ],
            "sizemode": "area",
            "sizeref": 3.36,
            "symbol": "circle"
           },
           "mode": "markers",
           "name": "TO",
           "orientation": "v",
           "showlegend": true,
           "type": "scatter",
           "x": [
            785
           ],
           "xaxis": "x",
           "y": [
            82
           ],
           "yaxis": "y"
          }
         ],
         "name": "2017"
        },
        {
         "data": [
          {
           "hovertemplate": "Estado=AC<br>Ano=2018<br>Acidente=%{x}<br>Mortos=%{marker.size}<extra></extra>",
           "ids": [
            2018
           ],
           "legendgroup": "AC",
           "marker": {
            "color": "#636efa",
            "size": [
             26
            ],
            "sizemode": "area",
            "sizeref": 3.36,
            "symbol": "circle"
           },
           "mode": "markers",
           "name": "AC",
           "orientation": "v",
           "showlegend": true,
           "type": "scatter",
           "x": [
            235
           ],
           "xaxis": "x",
           "y": [
            26
           ],
           "yaxis": "y"
          },
          {
           "hovertemplate": "Estado=AL<br>Ano=2018<br>Acidente=%{x}<br>Mortos=%{marker.size}<extra></extra>",
           "ids": [
            2018
           ],
           "legendgroup": "AL",
           "marker": {
            "color": "#EF553B",
            "size": [
             91
            ],
            "sizemode": "area",
            "sizeref": 3.36,
            "symbol": "circle"
           },
           "mode": "markers",
           "name": "AL",
           "orientation": "v",
           "showlegend": true,
           "type": "scatter",
           "x": [
            691
           ],
           "xaxis": "x",
           "y": [
            91
           ],
           "yaxis": "y"
          },
          {
           "hovertemplate": "Estado=AM<br>Ano=2018<br>Acidente=%{x}<br>Mortos=%{marker.size}<extra></extra>",
           "ids": [
            2018
           ],
           "legendgroup": "AM",
           "marker": {
            "color": "#00cc96",
            "size": [
             17
            ],
            "sizemode": "area",
            "sizeref": 3.36,
            "symbol": "circle"
           },
           "mode": "markers",
           "name": "AM",
           "orientation": "v",
           "showlegend": true,
           "type": "scatter",
           "x": [
            124
           ],
           "xaxis": "x",
           "y": [
            17
           ],
           "yaxis": "y"
          },
          {
           "hovertemplate": "Estado=AP<br>Ano=2018<br>Acidente=%{x}<br>Mortos=%{marker.size}<extra></extra>",
           "ids": [
            2018
           ],
           "legendgroup": "AP",
           "marker": {
            "color": "#ab63fa",
            "size": [
             15
            ],
            "sizemode": "area",
            "sizeref": 3.36,
            "symbol": "circle"
           },
           "mode": "markers",
           "name": "AP",
           "orientation": "v",
           "showlegend": true,
           "type": "scatter",
           "x": [
            173
           ],
           "xaxis": "x",
           "y": [
            15
           ],
           "yaxis": "y"
          },
          {
           "hovertemplate": "Estado=BA<br>Ano=2018<br>Acidente=%{x}<br>Mortos=%{marker.size}<extra></extra>",
           "ids": [
            2018
           ],
           "legendgroup": "BA",
           "marker": {
            "color": "#FFA15A",
            "size": [
             456
            ],
            "sizemode": "area",
            "sizeref": 3.36,
            "symbol": "circle"
           },
           "mode": "markers",
           "name": "BA",
           "orientation": "v",
           "showlegend": true,
           "type": "scatter",
           "x": [
            3555
           ],
           "xaxis": "x",
           "y": [
            456
           ],
           "yaxis": "y"
          },
          {
           "hovertemplate": "Estado=CE<br>Ano=2018<br>Acidente=%{x}<br>Mortos=%{marker.size}<extra></extra>",
           "ids": [
            2018
           ],
           "legendgroup": "CE",
           "marker": {
            "color": "#19d3f3",
            "size": [
             180
            ],
            "sizemode": "area",
            "sizeref": 3.36,
            "symbol": "circle"
           },
           "mode": "markers",
           "name": "CE",
           "orientation": "v",
           "showlegend": true,
           "type": "scatter",
           "x": [
            1697
           ],
           "xaxis": "x",
           "y": [
            180
           ],
           "yaxis": "y"
          },
          {
           "hovertemplate": "Estado=DF<br>Ano=2018<br>Acidente=%{x}<br>Mortos=%{marker.size}<extra></extra>",
           "ids": [
            2018
           ],
           "legendgroup": "DF",
           "marker": {
            "color": "#FF6692",
            "size": [
             44
            ],
            "sizemode": "area",
            "sizeref": 3.36,
            "symbol": "circle"
           },
           "mode": "markers",
           "name": "DF",
           "orientation": "v",
           "showlegend": true,
           "type": "scatter",
           "x": [
            867
           ],
           "xaxis": "x",
           "y": [
            44
           ],
           "yaxis": "y"
          },
          {
           "hovertemplate": "Estado=ES<br>Ano=2018<br>Acidente=%{x}<br>Mortos=%{marker.size}<extra></extra>",
           "ids": [
            2018
           ],
           "legendgroup": "ES",
           "marker": {
            "color": "#B6E880",
            "size": [
             133
            ],
            "sizemode": "area",
            "sizeref": 3.36,
            "symbol": "circle"
           },
           "mode": "markers",
           "name": "ES",
           "orientation": "v",
           "showlegend": true,
           "type": "scatter",
           "x": [
            2642
           ],
           "xaxis": "x",
           "y": [
            133
           ],
           "yaxis": "y"
          },
          {
           "hovertemplate": "Estado=GO<br>Ano=2018<br>Acidente=%{x}<br>Mortos=%{marker.size}<extra></extra>",
           "ids": [
            2018
           ],
           "legendgroup": "GO",
           "marker": {
            "color": "#FF97FF",
            "size": [
             282
            ],
            "sizemode": "area",
            "sizeref": 3.36,
            "symbol": "circle"
           },
           "mode": "markers",
           "name": "GO",
           "orientation": "v",
           "showlegend": true,
           "type": "scatter",
           "x": [
            3463
           ],
           "xaxis": "x",
           "y": [
            282
           ],
           "yaxis": "y"
          },
          {
           "hovertemplate": "Estado=MA<br>Ano=2018<br>Acidente=%{x}<br>Mortos=%{marker.size}<extra></extra>",
           "ids": [
            2018
           ],
           "legendgroup": "MA",
           "marker": {
            "color": "#FECB52",
            "size": [
             231
            ],
            "sizemode": "area",
            "sizeref": 3.36,
            "symbol": "circle"
           },
           "mode": "markers",
           "name": "MA",
           "orientation": "v",
           "showlegend": true,
           "type": "scatter",
           "x": [
            1272
           ],
           "xaxis": "x",
           "y": [
            231
           ],
           "yaxis": "y"
          },
          {
           "hovertemplate": "Estado=MG<br>Ano=2018<br>Acidente=%{x}<br>Mortos=%{marker.size}<extra></extra>",
           "ids": [
            2018
           ],
           "legendgroup": "MG",
           "marker": {
            "color": "#636efa",
            "size": [
             693
            ],
            "sizemode": "area",
            "sizeref": 3.36,
            "symbol": "circle"
           },
           "mode": "markers",
           "name": "MG",
           "orientation": "v",
           "showlegend": true,
           "type": "scatter",
           "x": [
            9066
           ],
           "xaxis": "x",
           "y": [
            693
           ],
           "yaxis": "y"
          },
          {
           "hovertemplate": "Estado=MS<br>Ano=2018<br>Acidente=%{x}<br>Mortos=%{marker.size}<extra></extra>",
           "ids": [
            2018
           ],
           "legendgroup": "MS",
           "marker": {
            "color": "#EF553B",
            "size": [
             109
            ],
            "sizemode": "area",
            "sizeref": 3.36,
            "symbol": "circle"
           },
           "mode": "markers",
           "name": "MS",
           "orientation": "v",
           "showlegend": true,
           "type": "scatter",
           "x": [
            1529
           ],
           "xaxis": "x",
           "y": [
            109
           ],
           "yaxis": "y"
          },
          {
           "hovertemplate": "Estado=MT<br>Ano=2018<br>Acidente=%{x}<br>Mortos=%{marker.size}<extra></extra>",
           "ids": [
            2018
           ],
           "legendgroup": "MT",
           "marker": {
            "color": "#00cc96",
            "size": [
             229
            ],
            "sizemode": "area",
            "sizeref": 3.36,
            "symbol": "circle"
           },
           "mode": "markers",
           "name": "MT",
           "orientation": "v",
           "showlegend": true,
           "type": "scatter",
           "x": [
            2631
           ],
           "xaxis": "x",
           "y": [
            229
           ],
           "yaxis": "y"
          },
          {
           "hovertemplate": "Estado=PA<br>Ano=2018<br>Acidente=%{x}<br>Mortos=%{marker.size}<extra></extra>",
           "ids": [
            2018
           ],
           "legendgroup": "PA",
           "marker": {
            "color": "#ab63fa",
            "size": [
             143
            ],
            "sizemode": "area",
            "sizeref": 3.36,
            "symbol": "circle"
           },
           "mode": "markers",
           "name": "PA",
           "orientation": "v",
           "showlegend": true,
           "type": "scatter",
           "x": [
            1260
           ],
           "xaxis": "x",
           "y": [
            143
           ],
           "yaxis": "y"
          },
          {
           "hovertemplate": "Estado=PB<br>Ano=2018<br>Acidente=%{x}<br>Mortos=%{marker.size}<extra></extra>",
           "ids": [
            2018
           ],
           "legendgroup": "PB",
           "marker": {
            "color": "#FFA15A",
            "size": [
             133
            ],
            "sizemode": "area",
            "sizeref": 3.36,
            "symbol": "circle"
           },
           "mode": "markers",
           "name": "PB",
           "orientation": "v",
           "showlegend": true,
           "type": "scatter",
           "x": [
            1588
           ],
           "xaxis": "x",
           "y": [
            133
           ],
           "yaxis": "y"
          },
          {
           "hovertemplate": "Estado=PE<br>Ano=2018<br>Acidente=%{x}<br>Mortos=%{marker.size}<extra></extra>",
           "ids": [
            2018
           ],
           "legendgroup": "PE",
           "marker": {
            "color": "#19d3f3",
            "size": [
             296
            ],
            "sizemode": "area",
            "sizeref": 3.36,
            "symbol": "circle"
           },
           "mode": "markers",
           "name": "PE",
           "orientation": "v",
           "showlegend": true,
           "type": "scatter",
           "x": [
            2715
           ],
           "xaxis": "x",
           "y": [
            296
           ],
           "yaxis": "y"
          },
          {
           "hovertemplate": "Estado=PI<br>Ano=2018<br>Acidente=%{x}<br>Mortos=%{marker.size}<extra></extra>",
           "ids": [
            2018
           ],
           "legendgroup": "PI",
           "marker": {
            "color": "#FF6692",
            "size": [
             159
            ],
            "sizemode": "area",
            "sizeref": 3.36,
            "symbol": "circle"
           },
           "mode": "markers",
           "name": "PI",
           "orientation": "v",
           "showlegend": true,
           "type": "scatter",
           "x": [
            1370
           ],
           "xaxis": "x",
           "y": [
            159
           ],
           "yaxis": "y"
          },
          {
           "hovertemplate": "Estado=PR<br>Ano=2018<br>Acidente=%{x}<br>Mortos=%{marker.size}<extra></extra>",
           "ids": [
            2018
           ],
           "legendgroup": "PR",
           "marker": {
            "color": "#B6E880",
            "size": [
             494
            ],
            "sizemode": "area",
            "sizeref": 3.36,
            "symbol": "circle"
           },
           "mode": "markers",
           "name": "PR",
           "orientation": "v",
           "showlegend": true,
           "type": "scatter",
           "x": [
            7951
           ],
           "xaxis": "x",
           "y": [
            494
           ],
           "yaxis": "y"
          },
          {
           "hovertemplate": "Estado=RJ<br>Ano=2018<br>Acidente=%{x}<br>Mortos=%{marker.size}<extra></extra>",
           "ids": [
            2018
           ],
           "legendgroup": "RJ",
           "marker": {
            "color": "#FF97FF",
            "size": [
             276
            ],
            "sizemode": "area",
            "sizeref": 3.36,
            "symbol": "circle"
           },
           "mode": "markers",
           "name": "RJ",
           "orientation": "v",
           "showlegend": true,
           "type": "scatter",
           "x": [
            4575
           ],
           "xaxis": "x",
           "y": [
            276
           ],
           "yaxis": "y"
          },
          {
           "hovertemplate": "Estado=RN<br>Ano=2018<br>Acidente=%{x}<br>Mortos=%{marker.size}<extra></extra>",
           "ids": [
            2018
           ],
           "legendgroup": "RN",
           "marker": {
            "color": "#FECB52",
            "size": [
             118
            ],
            "sizemode": "area",
            "sizeref": 3.36,
            "symbol": "circle"
           },
           "mode": "markers",
           "name": "RN",
           "orientation": "v",
           "showlegend": true,
           "type": "scatter",
           "x": [
            1416
           ],
           "xaxis": "x",
           "y": [
            118
           ],
           "yaxis": "y"
          },
          {
           "hovertemplate": "Estado=RO<br>Ano=2018<br>Acidente=%{x}<br>Mortos=%{marker.size}<extra></extra>",
           "ids": [
            2018
           ],
           "legendgroup": "RO",
           "marker": {
            "color": "#636efa",
            "size": [
             91
            ],
            "sizemode": "area",
            "sizeref": 3.36,
            "symbol": "circle"
           },
           "mode": "markers",
           "name": "RO",
           "orientation": "v",
           "showlegend": true,
           "type": "scatter",
           "x": [
            1629
           ],
           "xaxis": "x",
           "y": [
            91
           ],
           "yaxis": "y"
          },
          {
           "hovertemplate": "Estado=RR<br>Ano=2018<br>Acidente=%{x}<br>Mortos=%{marker.size}<extra></extra>",
           "ids": [
            2018
           ],
           "legendgroup": "RR",
           "marker": {
            "color": "#EF553B",
            "size": [
             22
            ],
            "sizemode": "area",
            "sizeref": 3.36,
            "symbol": "circle"
           },
           "mode": "markers",
           "name": "RR",
           "orientation": "v",
           "showlegend": true,
           "type": "scatter",
           "x": [
            236
           ],
           "xaxis": "x",
           "y": [
            22
           ],
           "yaxis": "y"
          },
          {
           "hovertemplate": "Estado=RS<br>Ano=2018<br>Acidente=%{x}<br>Mortos=%{marker.size}<extra></extra>",
           "ids": [
            2018
           ],
           "legendgroup": "RS",
           "marker": {
            "color": "#00cc96",
            "size": [
             314
            ],
            "sizemode": "area",
            "sizeref": 3.36,
            "symbol": "circle"
           },
           "mode": "markers",
           "name": "RS",
           "orientation": "v",
           "showlegend": true,
           "type": "scatter",
           "x": [
            4445
           ],
           "xaxis": "x",
           "y": [
            314
           ],
           "yaxis": "y"
          },
          {
           "hovertemplate": "Estado=SC<br>Ano=2018<br>Acidente=%{x}<br>Mortos=%{marker.size}<extra></extra>",
           "ids": [
            2018
           ],
           "legendgroup": "SC",
           "marker": {
            "color": "#ab63fa",
            "size": [
             386
            ],
            "sizemode": "area",
            "sizeref": 3.36,
            "symbol": "circle"
           },
           "mode": "markers",
           "name": "SC",
           "orientation": "v",
           "showlegend": true,
           "type": "scatter",
           "x": [
            8494
           ],
           "xaxis": "x",
           "y": [
            386
           ],
           "yaxis": "y"
          },
          {
           "hovertemplate": "Estado=SE<br>Ano=2018<br>Acidente=%{x}<br>Mortos=%{marker.size}<extra></extra>",
           "ids": [
            2018
           ],
           "legendgroup": "SE",
           "marker": {
            "color": "#FFA15A",
            "size": [
             41
            ],
            "sizemode": "area",
            "sizeref": 3.36,
            "symbol": "circle"
           },
           "mode": "markers",
           "name": "SE",
           "orientation": "v",
           "showlegend": true,
           "type": "scatter",
           "x": [
            559
           ],
           "xaxis": "x",
           "y": [
            41
           ],
           "yaxis": "y"
          },
          {
           "hovertemplate": "Estado=SP<br>Ano=2018<br>Acidente=%{x}<br>Mortos=%{marker.size}<extra></extra>",
           "ids": [
            2018
           ],
           "legendgroup": "SP",
           "marker": {
            "color": "#19d3f3",
            "size": [
             207
            ],
            "sizemode": "area",
            "sizeref": 3.36,
            "symbol": "circle"
           },
           "mode": "markers",
           "name": "SP",
           "orientation": "v",
           "showlegend": true,
           "type": "scatter",
           "x": [
            4516
           ],
           "xaxis": "x",
           "y": [
            207
           ],
           "yaxis": "y"
          },
          {
           "hovertemplate": "Estado=TO<br>Ano=2018<br>Acidente=%{x}<br>Mortos=%{marker.size}<extra></extra>",
           "ids": [
            2018
           ],
           "legendgroup": "TO",
           "marker": {
            "color": "#FF6692",
            "size": [
             85
            ],
            "sizemode": "area",
            "sizeref": 3.36,
            "symbol": "circle"
           },
           "mode": "markers",
           "name": "TO",
           "orientation": "v",
           "showlegend": true,
           "type": "scatter",
           "x": [
            589
           ],
           "xaxis": "x",
           "y": [
            85
           ],
           "yaxis": "y"
          }
         ],
         "name": "2018"
        },
        {
         "data": [
          {
           "hovertemplate": "Estado=AC<br>Ano=2019<br>Acidente=%{x}<br>Mortos=%{marker.size}<extra></extra>",
           "ids": [
            2019
           ],
           "legendgroup": "AC",
           "marker": {
            "color": "#636efa",
            "size": [
             24
            ],
            "sizemode": "area",
            "sizeref": 3.36,
            "symbol": "circle"
           },
           "mode": "markers",
           "name": "AC",
           "orientation": "v",
           "showlegend": true,
           "type": "scatter",
           "x": [
            254
           ],
           "xaxis": "x",
           "y": [
            24
           ],
           "yaxis": "y"
          },
          {
           "hovertemplate": "Estado=AL<br>Ano=2019<br>Acidente=%{x}<br>Mortos=%{marker.size}<extra></extra>",
           "ids": [
            2019
           ],
           "legendgroup": "AL",
           "marker": {
            "color": "#EF553B",
            "size": [
             97
            ],
            "sizemode": "area",
            "sizeref": 3.36,
            "symbol": "circle"
           },
           "mode": "markers",
           "name": "AL",
           "orientation": "v",
           "showlegend": true,
           "type": "scatter",
           "x": [
            629
           ],
           "xaxis": "x",
           "y": [
            97
           ],
           "yaxis": "y"
          },
          {
           "hovertemplate": "Estado=AM<br>Ano=2019<br>Acidente=%{x}<br>Mortos=%{marker.size}<extra></extra>",
           "ids": [
            2019
           ],
           "legendgroup": "AM",
           "marker": {
            "color": "#00cc96",
            "size": [
             18
            ],
            "sizemode": "area",
            "sizeref": 3.36,
            "symbol": "circle"
           },
           "mode": "markers",
           "name": "AM",
           "orientation": "v",
           "showlegend": true,
           "type": "scatter",
           "x": [
            101
           ],
           "xaxis": "x",
           "y": [
            18
           ],
           "yaxis": "y"
          },
          {
           "hovertemplate": "Estado=AP<br>Ano=2019<br>Acidente=%{x}<br>Mortos=%{marker.size}<extra></extra>",
           "ids": [
            2019
           ],
           "legendgroup": "AP",
           "marker": {
            "color": "#ab63fa",
            "size": [
             16
            ],
            "sizemode": "area",
            "sizeref": 3.36,
            "symbol": "circle"
           },
           "mode": "markers",
           "name": "AP",
           "orientation": "v",
           "showlegend": true,
           "type": "scatter",
           "x": [
            128
           ],
           "xaxis": "x",
           "y": [
            16
           ],
           "yaxis": "y"
          },
          {
           "hovertemplate": "Estado=BA<br>Ano=2019<br>Acidente=%{x}<br>Mortos=%{marker.size}<extra></extra>",
           "ids": [
            2019
           ],
           "legendgroup": "BA",
           "marker": {
            "color": "#FFA15A",
            "size": [
             475
            ],
            "sizemode": "area",
            "sizeref": 3.36,
            "symbol": "circle"
           },
           "mode": "markers",
           "name": "BA",
           "orientation": "v",
           "showlegend": true,
           "type": "scatter",
           "x": [
            3470
           ],
           "xaxis": "x",
           "y": [
            475
           ],
           "yaxis": "y"
          },
          {
           "hovertemplate": "Estado=CE<br>Ano=2019<br>Acidente=%{x}<br>Mortos=%{marker.size}<extra></extra>",
           "ids": [
            2019
           ],
           "legendgroup": "CE",
           "marker": {
            "color": "#19d3f3",
            "size": [
             157
            ],
            "sizemode": "area",
            "sizeref": 3.36,
            "symbol": "circle"
           },
           "mode": "markers",
           "name": "CE",
           "orientation": "v",
           "showlegend": true,
           "type": "scatter",
           "x": [
            1694
           ],
           "xaxis": "x",
           "y": [
            157
           ],
           "yaxis": "y"
          },
          {
           "hovertemplate": "Estado=DF<br>Ano=2019<br>Acidente=%{x}<br>Mortos=%{marker.size}<extra></extra>",
           "ids": [
            2019
           ],
           "legendgroup": "DF",
           "marker": {
            "color": "#FF6692",
            "size": [
             52
            ],
            "sizemode": "area",
            "sizeref": 3.36,
            "symbol": "circle"
           },
           "mode": "markers",
           "name": "DF",
           "orientation": "v",
           "showlegend": true,
           "type": "scatter",
           "x": [
            1090
           ],
           "xaxis": "x",
           "y": [
            52
           ],
           "yaxis": "y"
          },
          {
           "hovertemplate": "Estado=ES<br>Ano=2019<br>Acidente=%{x}<br>Mortos=%{marker.size}<extra></extra>",
           "ids": [
            2019
           ],
           "legendgroup": "ES",
           "marker": {
            "color": "#B6E880",
            "size": [
             147
            ],
            "sizemode": "area",
            "sizeref": 3.36,
            "symbol": "circle"
           },
           "mode": "markers",
           "name": "ES",
           "orientation": "v",
           "showlegend": true,
           "type": "scatter",
           "x": [
            2842
           ],
           "xaxis": "x",
           "y": [
            147
           ],
           "yaxis": "y"
          },
          {
           "hovertemplate": "Estado=GO<br>Ano=2019<br>Acidente=%{x}<br>Mortos=%{marker.size}<extra></extra>",
           "ids": [
            2019
           ],
           "legendgroup": "GO",
           "marker": {
            "color": "#FF97FF",
            "size": [
             277
            ],
            "sizemode": "area",
            "sizeref": 3.36,
            "symbol": "circle"
           },
           "mode": "markers",
           "name": "GO",
           "orientation": "v",
           "showlegend": true,
           "type": "scatter",
           "x": [
            3354
           ],
           "xaxis": "x",
           "y": [
            277
           ],
           "yaxis": "y"
          },
          {
           "hovertemplate": "Estado=MA<br>Ano=2019<br>Acidente=%{x}<br>Mortos=%{marker.size}<extra></extra>",
           "ids": [
            2019
           ],
           "legendgroup": "MA",
           "marker": {
            "color": "#FECB52",
            "size": [
             197
            ],
            "sizemode": "area",
            "sizeref": 3.36,
            "symbol": "circle"
           },
           "mode": "markers",
           "name": "MA",
           "orientation": "v",
           "showlegend": true,
           "type": "scatter",
           "x": [
            1075
           ],
           "xaxis": "x",
           "y": [
            197
           ],
           "yaxis": "y"
          },
          {
           "hovertemplate": "Estado=MG<br>Ano=2019<br>Acidente=%{x}<br>Mortos=%{marker.size}<extra></extra>",
           "ids": [
            2019
           ],
           "legendgroup": "MG",
           "marker": {
            "color": "#636efa",
            "size": [
             677
            ],
            "sizemode": "area",
            "sizeref": 3.36,
            "symbol": "circle"
           },
           "mode": "markers",
           "name": "MG",
           "orientation": "v",
           "showlegend": true,
           "type": "scatter",
           "x": [
            8718
           ],
           "xaxis": "x",
           "y": [
            677
           ],
           "yaxis": "y"
          },
          {
           "hovertemplate": "Estado=MS<br>Ano=2019<br>Acidente=%{x}<br>Mortos=%{marker.size}<extra></extra>",
           "ids": [
            2019
           ],
           "legendgroup": "MS",
           "marker": {
            "color": "#EF553B",
            "size": [
             124
            ],
            "sizemode": "area",
            "sizeref": 3.36,
            "symbol": "circle"
           },
           "mode": "markers",
           "name": "MS",
           "orientation": "v",
           "showlegend": true,
           "type": "scatter",
           "x": [
            1435
           ],
           "xaxis": "x",
           "y": [
            124
           ],
           "yaxis": "y"
          },
          {
           "hovertemplate": "Estado=MT<br>Ano=2019<br>Acidente=%{x}<br>Mortos=%{marker.size}<extra></extra>",
           "ids": [
            2019
           ],
           "legendgroup": "MT",
           "marker": {
            "color": "#00cc96",
            "size": [
             226
            ],
            "sizemode": "area",
            "sizeref": 3.36,
            "symbol": "circle"
           },
           "mode": "markers",
           "name": "MT",
           "orientation": "v",
           "showlegend": true,
           "type": "scatter",
           "x": [
            2137
           ],
           "xaxis": "x",
           "y": [
            226
           ],
           "yaxis": "y"
          },
          {
           "hovertemplate": "Estado=PA<br>Ano=2019<br>Acidente=%{x}<br>Mortos=%{marker.size}<extra></extra>",
           "ids": [
            2019
           ],
           "legendgroup": "PA",
           "marker": {
            "color": "#ab63fa",
            "size": [
             136
            ],
            "sizemode": "area",
            "sizeref": 3.36,
            "symbol": "circle"
           },
           "mode": "markers",
           "name": "PA",
           "orientation": "v",
           "showlegend": true,
           "type": "scatter",
           "x": [
            817
           ],
           "xaxis": "x",
           "y": [
            136
           ],
           "yaxis": "y"
          },
          {
           "hovertemplate": "Estado=PB<br>Ano=2019<br>Acidente=%{x}<br>Mortos=%{marker.size}<extra></extra>",
           "ids": [
            2019
           ],
           "legendgroup": "PB",
           "marker": {
            "color": "#FFA15A",
            "size": [
             130
            ],
            "sizemode": "area",
            "sizeref": 3.36,
            "symbol": "circle"
           },
           "mode": "markers",
           "name": "PB",
           "orientation": "v",
           "showlegend": true,
           "type": "scatter",
           "x": [
            1564
           ],
           "xaxis": "x",
           "y": [
            130
           ],
           "yaxis": "y"
          },
          {
           "hovertemplate": "Estado=PE<br>Ano=2019<br>Acidente=%{x}<br>Mortos=%{marker.size}<extra></extra>",
           "ids": [
            2019
           ],
           "legendgroup": "PE",
           "marker": {
            "color": "#19d3f3",
            "size": [
             308
            ],
            "sizemode": "area",
            "sizeref": 3.36,
            "symbol": "circle"
           },
           "mode": "markers",
           "name": "PE",
           "orientation": "v",
           "showlegend": true,
           "type": "scatter",
           "x": [
            2736
           ],
           "xaxis": "x",
           "y": [
            308
           ],
           "yaxis": "y"
          },
          {
           "hovertemplate": "Estado=PI<br>Ano=2019<br>Acidente=%{x}<br>Mortos=%{marker.size}<extra></extra>",
           "ids": [
            2019
           ],
           "legendgroup": "PI",
           "marker": {
            "color": "#FF6692",
            "size": [
             149
            ],
            "sizemode": "area",
            "sizeref": 3.36,
            "symbol": "circle"
           },
           "mode": "markers",
           "name": "PI",
           "orientation": "v",
           "showlegend": true,
           "type": "scatter",
           "x": [
            1346
           ],
           "xaxis": "x",
           "y": [
            149
           ],
           "yaxis": "y"
          },
          {
           "hovertemplate": "Estado=PR<br>Ano=2019<br>Acidente=%{x}<br>Mortos=%{marker.size}<extra></extra>",
           "ids": [
            2019
           ],
           "legendgroup": "PR",
           "marker": {
            "color": "#B6E880",
            "size": [
             500
            ],
            "sizemode": "area",
            "sizeref": 3.36,
            "symbol": "circle"
           },
           "mode": "markers",
           "name": "PR",
           "orientation": "v",
           "showlegend": true,
           "type": "scatter",
           "x": [
            7708
           ],
           "xaxis": "x",
           "y": [
            500
           ],
           "yaxis": "y"
          },
          {
           "hovertemplate": "Estado=RJ<br>Ano=2019<br>Acidente=%{x}<br>Mortos=%{marker.size}<extra></extra>",
           "ids": [
            2019
           ],
           "legendgroup": "RJ",
           "marker": {
            "color": "#FF97FF",
            "size": [
             353
            ],
            "sizemode": "area",
            "sizeref": 3.36,
            "symbol": "circle"
           },
           "mode": "markers",
           "name": "RJ",
           "orientation": "v",
           "showlegend": true,
           "type": "scatter",
           "x": [
            4606
           ],
           "xaxis": "x",
           "y": [
            353
           ],
           "yaxis": "y"
          },
          {
           "hovertemplate": "Estado=RN<br>Ano=2019<br>Acidente=%{x}<br>Mortos=%{marker.size}<extra></extra>",
           "ids": [
            2019
           ],
           "legendgroup": "RN",
           "marker": {
            "color": "#FECB52",
            "size": [
             90
            ],
            "sizemode": "area",
            "sizeref": 3.36,
            "symbol": "circle"
           },
           "mode": "markers",
           "name": "RN",
           "orientation": "v",
           "showlegend": true,
           "type": "scatter",
           "x": [
            1437
           ],
           "xaxis": "x",
           "y": [
            90
           ],
           "yaxis": "y"
          },
          {
           "hovertemplate": "Estado=RO<br>Ano=2019<br>Acidente=%{x}<br>Mortos=%{marker.size}<extra></extra>",
           "ids": [
            2019
           ],
           "legendgroup": "RO",
           "marker": {
            "color": "#636efa",
            "size": [
             89
            ],
            "sizemode": "area",
            "sizeref": 3.36,
            "symbol": "circle"
           },
           "mode": "markers",
           "name": "RO",
           "orientation": "v",
           "showlegend": true,
           "type": "scatter",
           "x": [
            1531
           ],
           "xaxis": "x",
           "y": [
            89
           ],
           "yaxis": "y"
          },
          {
           "hovertemplate": "Estado=RR<br>Ano=2019<br>Acidente=%{x}<br>Mortos=%{marker.size}<extra></extra>",
           "ids": [
            2019
           ],
           "legendgroup": "RR",
           "marker": {
            "color": "#EF553B",
            "size": [
             38
            ],
            "sizemode": "area",
            "sizeref": 3.36,
            "symbol": "circle"
           },
           "mode": "markers",
           "name": "RR",
           "orientation": "v",
           "showlegend": true,
           "type": "scatter",
           "x": [
            237
           ],
           "xaxis": "x",
           "y": [
            38
           ],
           "yaxis": "y"
          },
          {
           "hovertemplate": "Estado=RS<br>Ano=2019<br>Acidente=%{x}<br>Mortos=%{marker.size}<extra></extra>",
           "ids": [
            2019
           ],
           "legendgroup": "RS",
           "marker": {
            "color": "#00cc96",
            "size": [
             304
            ],
            "sizemode": "area",
            "sizeref": 3.36,
            "symbol": "circle"
           },
           "mode": "markers",
           "name": "RS",
           "orientation": "v",
           "showlegend": true,
           "type": "scatter",
           "x": [
            4594
           ],
           "xaxis": "x",
           "y": [
            304
           ],
           "yaxis": "y"
          },
          {
           "hovertemplate": "Estado=SC<br>Ano=2019<br>Acidente=%{x}<br>Mortos=%{marker.size}<extra></extra>",
           "ids": [
            2019
           ],
           "legendgroup": "SC",
           "marker": {
            "color": "#ab63fa",
            "size": [
             403
            ],
            "sizemode": "area",
            "sizeref": 3.36,
            "symbol": "circle"
           },
           "mode": "markers",
           "name": "SC",
           "orientation": "v",
           "showlegend": true,
           "type": "scatter",
           "x": [
            8427
           ],
           "xaxis": "x",
           "y": [
            403
           ],
           "yaxis": "y"
          },
          {
           "hovertemplate": "Estado=SE<br>Ano=2019<br>Acidente=%{x}<br>Mortos=%{marker.size}<extra></extra>",
           "ids": [
            2019
           ],
           "legendgroup": "SE",
           "marker": {
            "color": "#FFA15A",
            "size": [
             62
            ],
            "sizemode": "area",
            "sizeref": 3.36,
            "symbol": "circle"
           },
           "mode": "markers",
           "name": "SE",
           "orientation": "v",
           "showlegend": true,
           "type": "scatter",
           "x": [
            612
           ],
           "xaxis": "x",
           "y": [
            62
           ],
           "yaxis": "y"
          },
          {
           "hovertemplate": "Estado=SP<br>Ano=2019<br>Acidente=%{x}<br>Mortos=%{marker.size}<extra></extra>",
           "ids": [
            2019
           ],
           "legendgroup": "SP",
           "marker": {
            "color": "#19d3f3",
            "size": [
             204
            ],
            "sizemode": "area",
            "sizeref": 3.36,
            "symbol": "circle"
           },
           "mode": "markers",
           "name": "SP",
           "orientation": "v",
           "showlegend": true,
           "type": "scatter",
           "x": [
            4377
           ],
           "xaxis": "x",
           "y": [
            204
           ],
           "yaxis": "y"
          },
          {
           "hovertemplate": "Estado=TO<br>Ano=2019<br>Acidente=%{x}<br>Mortos=%{marker.size}<extra></extra>",
           "ids": [
            2019
           ],
           "legendgroup": "TO",
           "marker": {
            "color": "#FF6692",
            "size": [
             79
            ],
            "sizemode": "area",
            "sizeref": 3.36,
            "symbol": "circle"
           },
           "mode": "markers",
           "name": "TO",
           "orientation": "v",
           "showlegend": true,
           "type": "scatter",
           "x": [
            520
           ],
           "xaxis": "x",
           "y": [
            79
           ],
           "yaxis": "y"
          }
         ],
         "name": "2019"
        },
        {
         "data": [
          {
           "hovertemplate": "Estado=AC<br>Ano=2020<br>Acidente=%{x}<br>Mortos=%{marker.size}<extra></extra>",
           "ids": [
            2020
           ],
           "legendgroup": "AC",
           "marker": {
            "color": "#636efa",
            "size": [
             13
            ],
            "sizemode": "area",
            "sizeref": 3.36,
            "symbol": "circle"
           },
           "mode": "markers",
           "name": "AC",
           "orientation": "v",
           "showlegend": true,
           "type": "scatter",
           "x": [
            300
           ],
           "xaxis": "x",
           "y": [
            13
           ],
           "yaxis": "y"
          },
          {
           "hovertemplate": "Estado=AL<br>Ano=2020<br>Acidente=%{x}<br>Mortos=%{marker.size}<extra></extra>",
           "ids": [
            2020
           ],
           "legendgroup": "AL",
           "marker": {
            "color": "#EF553B",
            "size": [
             82
            ],
            "sizemode": "area",
            "sizeref": 3.36,
            "symbol": "circle"
           },
           "mode": "markers",
           "name": "AL",
           "orientation": "v",
           "showlegend": true,
           "type": "scatter",
           "x": [
            628
           ],
           "xaxis": "x",
           "y": [
            82
           ],
           "yaxis": "y"
          },
          {
           "hovertemplate": "Estado=AM<br>Ano=2020<br>Acidente=%{x}<br>Mortos=%{marker.size}<extra></extra>",
           "ids": [
            2020
           ],
           "legendgroup": "AM",
           "marker": {
            "color": "#00cc96",
            "size": [
             16
            ],
            "sizemode": "area",
            "sizeref": 3.36,
            "symbol": "circle"
           },
           "mode": "markers",
           "name": "AM",
           "orientation": "v",
           "showlegend": true,
           "type": "scatter",
           "x": [
            138
           ],
           "xaxis": "x",
           "y": [
            16
           ],
           "yaxis": "y"
          },
          {
           "hovertemplate": "Estado=AP<br>Ano=2020<br>Acidente=%{x}<br>Mortos=%{marker.size}<extra></extra>",
           "ids": [
            2020
           ],
           "legendgroup": "AP",
           "marker": {
            "color": "#ab63fa",
            "size": [
             5
            ],
            "sizemode": "area",
            "sizeref": 3.36,
            "symbol": "circle"
           },
           "mode": "markers",
           "name": "AP",
           "orientation": "v",
           "showlegend": true,
           "type": "scatter",
           "x": [
            155
           ],
           "xaxis": "x",
           "y": [
            5
           ],
           "yaxis": "y"
          },
          {
           "hovertemplate": "Estado=BA<br>Ano=2020<br>Acidente=%{x}<br>Mortos=%{marker.size}<extra></extra>",
           "ids": [
            2020
           ],
           "legendgroup": "BA",
           "marker": {
            "color": "#FFA15A",
            "size": [
             505
            ],
            "sizemode": "area",
            "sizeref": 3.36,
            "symbol": "circle"
           },
           "mode": "markers",
           "name": "BA",
           "orientation": "v",
           "showlegend": true,
           "type": "scatter",
           "x": [
            3453
           ],
           "xaxis": "x",
           "y": [
            505
           ],
           "yaxis": "y"
          },
          {
           "hovertemplate": "Estado=CE<br>Ano=2020<br>Acidente=%{x}<br>Mortos=%{marker.size}<extra></extra>",
           "ids": [
            2020
           ],
           "legendgroup": "CE",
           "marker": {
            "color": "#19d3f3",
            "size": [
             176
            ],
            "sizemode": "area",
            "sizeref": 3.36,
            "symbol": "circle"
           },
           "mode": "markers",
           "name": "CE",
           "orientation": "v",
           "showlegend": true,
           "type": "scatter",
           "x": [
            1571
           ],
           "xaxis": "x",
           "y": [
            176
           ],
           "yaxis": "y"
          },
          {
           "hovertemplate": "Estado=DF<br>Ano=2020<br>Acidente=%{x}<br>Mortos=%{marker.size}<extra></extra>",
           "ids": [
            2020
           ],
           "legendgroup": "DF",
           "marker": {
            "color": "#FF6692",
            "size": [
             39
            ],
            "sizemode": "area",
            "sizeref": 3.36,
            "symbol": "circle"
           },
           "mode": "markers",
           "name": "DF",
           "orientation": "v",
           "showlegend": true,
           "type": "scatter",
           "x": [
            1040
           ],
           "xaxis": "x",
           "y": [
            39
           ],
           "yaxis": "y"
          },
          {
           "hovertemplate": "Estado=ES<br>Ano=2020<br>Acidente=%{x}<br>Mortos=%{marker.size}<extra></extra>",
           "ids": [
            2020
           ],
           "legendgroup": "ES",
           "marker": {
            "color": "#B6E880",
            "size": [
             142
            ],
            "sizemode": "area",
            "sizeref": 3.36,
            "symbol": "circle"
           },
           "mode": "markers",
           "name": "ES",
           "orientation": "v",
           "showlegend": true,
           "type": "scatter",
           "x": [
            2533
           ],
           "xaxis": "x",
           "y": [
            142
           ],
           "yaxis": "y"
          },
          {
           "hovertemplate": "Estado=GO<br>Ano=2020<br>Acidente=%{x}<br>Mortos=%{marker.size}<extra></extra>",
           "ids": [
            2020
           ],
           "legendgroup": "GO",
           "marker": {
            "color": "#FF97FF",
            "size": [
             271
            ],
            "sizemode": "area",
            "sizeref": 3.36,
            "symbol": "circle"
           },
           "mode": "markers",
           "name": "GO",
           "orientation": "v",
           "showlegend": true,
           "type": "scatter",
           "x": [
            3226
           ],
           "xaxis": "x",
           "y": [
            271
           ],
           "yaxis": "y"
          },
          {
           "hovertemplate": "Estado=MA<br>Ano=2020<br>Acidente=%{x}<br>Mortos=%{marker.size}<extra></extra>",
           "ids": [
            2020
           ],
           "legendgroup": "MA",
           "marker": {
            "color": "#FECB52",
            "size": [
             244
            ],
            "sizemode": "area",
            "sizeref": 3.36,
            "symbol": "circle"
           },
           "mode": "markers",
           "name": "MA",
           "orientation": "v",
           "showlegend": true,
           "type": "scatter",
           "x": [
            1153
           ],
           "xaxis": "x",
           "y": [
            244
           ],
           "yaxis": "y"
          },
          {
           "hovertemplate": "Estado=MG<br>Ano=2020<br>Acidente=%{x}<br>Mortos=%{marker.size}<extra></extra>",
           "ids": [
            2020
           ],
           "legendgroup": "MG",
           "marker": {
            "color": "#636efa",
            "size": [
             717
            ],
            "sizemode": "area",
            "sizeref": 3.36,
            "symbol": "circle"
           },
           "mode": "markers",
           "name": "MG",
           "orientation": "v",
           "showlegend": true,
           "type": "scatter",
           "x": [
            8371
           ],
           "xaxis": "x",
           "y": [
            717
           ],
           "yaxis": "y"
          },
          {
           "hovertemplate": "Estado=MS<br>Ano=2020<br>Acidente=%{x}<br>Mortos=%{marker.size}<extra></extra>",
           "ids": [
            2020
           ],
           "legendgroup": "MS",
           "marker": {
            "color": "#EF553B",
            "size": [
             139
            ],
            "sizemode": "area",
            "sizeref": 3.36,
            "symbol": "circle"
           },
           "mode": "markers",
           "name": "MS",
           "orientation": "v",
           "showlegend": true,
           "type": "scatter",
           "x": [
            1540
           ],
           "xaxis": "x",
           "y": [
            139
           ],
           "yaxis": "y"
          },
          {
           "hovertemplate": "Estado=MT<br>Ano=2020<br>Acidente=%{x}<br>Mortos=%{marker.size}<extra></extra>",
           "ids": [
            2020
           ],
           "legendgroup": "MT",
           "marker": {
            "color": "#00cc96",
            "size": [
             232
            ],
            "sizemode": "area",
            "sizeref": 3.36,
            "symbol": "circle"
           },
           "mode": "markers",
           "name": "MT",
           "orientation": "v",
           "showlegend": true,
           "type": "scatter",
           "x": [
            2194
           ],
           "xaxis": "x",
           "y": [
            232
           ],
           "yaxis": "y"
          },
          {
           "hovertemplate": "Estado=PA<br>Ano=2020<br>Acidente=%{x}<br>Mortos=%{marker.size}<extra></extra>",
           "ids": [
            2020
           ],
           "legendgroup": "PA",
           "marker": {
            "color": "#ab63fa",
            "size": [
             123
            ],
            "sizemode": "area",
            "sizeref": 3.36,
            "symbol": "circle"
           },
           "mode": "markers",
           "name": "PA",
           "orientation": "v",
           "showlegend": true,
           "type": "scatter",
           "x": [
            962
           ],
           "xaxis": "x",
           "y": [
            123
           ],
           "yaxis": "y"
          },
          {
           "hovertemplate": "Estado=PB<br>Ano=2020<br>Acidente=%{x}<br>Mortos=%{marker.size}<extra></extra>",
           "ids": [
            2020
           ],
           "legendgroup": "PB",
           "marker": {
            "color": "#FFA15A",
            "size": [
             103
            ],
            "sizemode": "area",
            "sizeref": 3.36,
            "symbol": "circle"
           },
           "mode": "markers",
           "name": "PB",
           "orientation": "v",
           "showlegend": true,
           "type": "scatter",
           "x": [
            1401
           ],
           "xaxis": "x",
           "y": [
            103
           ],
           "yaxis": "y"
          },
          {
           "hovertemplate": "Estado=PE<br>Ano=2020<br>Acidente=%{x}<br>Mortos=%{marker.size}<extra></extra>",
           "ids": [
            2020
           ],
           "legendgroup": "PE",
           "marker": {
            "color": "#19d3f3",
            "size": [
             317
            ],
            "sizemode": "area",
            "sizeref": 3.36,
            "symbol": "circle"
           },
           "mode": "markers",
           "name": "PE",
           "orientation": "v",
           "showlegend": true,
           "type": "scatter",
           "x": [
            2559
           ],
           "xaxis": "x",
           "y": [
            317
           ],
           "yaxis": "y"
          },
          {
           "hovertemplate": "Estado=PI<br>Ano=2020<br>Acidente=%{x}<br>Mortos=%{marker.size}<extra></extra>",
           "ids": [
            2020
           ],
           "legendgroup": "PI",
           "marker": {
            "color": "#FF6692",
            "size": [
             157
            ],
            "sizemode": "area",
            "sizeref": 3.36,
            "symbol": "circle"
           },
           "mode": "markers",
           "name": "PI",
           "orientation": "v",
           "showlegend": true,
           "type": "scatter",
           "x": [
            1201
           ],
           "xaxis": "x",
           "y": [
            157
           ],
           "yaxis": "y"
          },
          {
           "hovertemplate": "Estado=PR<br>Ano=2020<br>Acidente=%{x}<br>Mortos=%{marker.size}<extra></extra>",
           "ids": [
            2020
           ],
           "legendgroup": "PR",
           "marker": {
            "color": "#B6E880",
            "size": [
             527
            ],
            "sizemode": "area",
            "sizeref": 3.36,
            "symbol": "circle"
           },
           "mode": "markers",
           "name": "PR",
           "orientation": "v",
           "showlegend": true,
           "type": "scatter",
           "x": [
            7184
           ],
           "xaxis": "x",
           "y": [
            527
           ],
           "yaxis": "y"
          },
          {
           "hovertemplate": "Estado=RJ<br>Ano=2020<br>Acidente=%{x}<br>Mortos=%{marker.size}<extra></extra>",
           "ids": [
            2020
           ],
           "legendgroup": "RJ",
           "marker": {
            "color": "#FF97FF",
            "size": [
             272
            ],
            "sizemode": "area",
            "sizeref": 3.36,
            "symbol": "circle"
           },
           "mode": "markers",
           "name": "RJ",
           "orientation": "v",
           "showlegend": true,
           "type": "scatter",
           "x": [
            4234
           ],
           "xaxis": "x",
           "y": [
            272
           ],
           "yaxis": "y"
          },
          {
           "hovertemplate": "Estado=RN<br>Ano=2020<br>Acidente=%{x}<br>Mortos=%{marker.size}<extra></extra>",
           "ids": [
            2020
           ],
           "legendgroup": "RN",
           "marker": {
            "color": "#FECB52",
            "size": [
             100
            ],
            "sizemode": "area",
            "sizeref": 3.36,
            "symbol": "circle"
           },
           "mode": "markers",
           "name": "RN",
           "orientation": "v",
           "showlegend": true,
           "type": "scatter",
           "x": [
            1336
           ],
           "xaxis": "x",
           "y": [
            100
           ],
           "yaxis": "y"
          },
          {
           "hovertemplate": "Estado=RO<br>Ano=2020<br>Acidente=%{x}<br>Mortos=%{marker.size}<extra></extra>",
           "ids": [
            2020
           ],
           "legendgroup": "RO",
           "marker": {
            "color": "#636efa",
            "size": [
             82
            ],
            "sizemode": "area",
            "sizeref": 3.36,
            "symbol": "circle"
           },
           "mode": "markers",
           "name": "RO",
           "orientation": "v",
           "showlegend": true,
           "type": "scatter",
           "x": [
            1486
           ],
           "xaxis": "x",
           "y": [
            82
           ],
           "yaxis": "y"
          },
          {
           "hovertemplate": "Estado=RR<br>Ano=2020<br>Acidente=%{x}<br>Mortos=%{marker.size}<extra></extra>",
           "ids": [
            2020
           ],
           "legendgroup": "RR",
           "marker": {
            "color": "#EF553B",
            "size": [
             27
            ],
            "sizemode": "area",
            "sizeref": 3.36,
            "symbol": "circle"
           },
           "mode": "markers",
           "name": "RR",
           "orientation": "v",
           "showlegend": true,
           "type": "scatter",
           "x": [
            250
           ],
           "xaxis": "x",
           "y": [
            27
           ],
           "yaxis": "y"
          },
          {
           "hovertemplate": "Estado=RS<br>Ano=2020<br>Acidente=%{x}<br>Mortos=%{marker.size}<extra></extra>",
           "ids": [
            2020
           ],
           "legendgroup": "RS",
           "marker": {
            "color": "#00cc96",
            "size": [
             236
            ],
            "sizemode": "area",
            "sizeref": 3.36,
            "symbol": "circle"
           },
           "mode": "markers",
           "name": "RS",
           "orientation": "v",
           "showlegend": true,
           "type": "scatter",
           "x": [
            4175
           ],
           "xaxis": "x",
           "y": [
            236
           ],
           "yaxis": "y"
          },
          {
           "hovertemplate": "Estado=SC<br>Ano=2020<br>Acidente=%{x}<br>Mortos=%{marker.size}<extra></extra>",
           "ids": [
            2020
           ],
           "legendgroup": "SC",
           "marker": {
            "color": "#ab63fa",
            "size": [
             382
            ],
            "sizemode": "area",
            "sizeref": 3.36,
            "symbol": "circle"
           },
           "mode": "markers",
           "name": "SC",
           "orientation": "v",
           "showlegend": true,
           "type": "scatter",
           "x": [
            7220
           ],
           "xaxis": "x",
           "y": [
            382
           ],
           "yaxis": "y"
          },
          {
           "hovertemplate": "Estado=SE<br>Ano=2020<br>Acidente=%{x}<br>Mortos=%{marker.size}<extra></extra>",
           "ids": [
            2020
           ],
           "legendgroup": "SE",
           "marker": {
            "color": "#FFA15A",
            "size": [
             42
            ],
            "sizemode": "area",
            "sizeref": 3.36,
            "symbol": "circle"
           },
           "mode": "markers",
           "name": "SE",
           "orientation": "v",
           "showlegend": true,
           "type": "scatter",
           "x": [
            575
           ],
           "xaxis": "x",
           "y": [
            42
           ],
           "yaxis": "y"
          },
          {
           "hovertemplate": "Estado=SP<br>Ano=2020<br>Acidente=%{x}<br>Mortos=%{marker.size}<extra></extra>",
           "ids": [
            2020
           ],
           "legendgroup": "SP",
           "marker": {
            "color": "#19d3f3",
            "size": [
             240
            ],
            "sizemode": "area",
            "sizeref": 3.36,
            "symbol": "circle"
           },
           "mode": "markers",
           "name": "SP",
           "orientation": "v",
           "showlegend": true,
           "type": "scatter",
           "x": [
            4043
           ],
           "xaxis": "x",
           "y": [
            240
           ],
           "yaxis": "y"
          },
          {
           "hovertemplate": "Estado=TO<br>Ano=2020<br>Acidente=%{x}<br>Mortos=%{marker.size}<extra></extra>",
           "ids": [
            2020
           ],
           "legendgroup": "TO",
           "marker": {
            "color": "#FF6692",
            "size": [
             98
            ],
            "sizemode": "area",
            "sizeref": 3.36,
            "symbol": "circle"
           },
           "mode": "markers",
           "name": "TO",
           "orientation": "v",
           "showlegend": true,
           "type": "scatter",
           "x": [
            595
           ],
           "xaxis": "x",
           "y": [
            98
           ],
           "yaxis": "y"
          }
         ],
         "name": "2020"
        },
        {
         "data": [
          {
           "hovertemplate": "Estado=AC<br>Ano=2021<br>Acidente=%{x}<br>Mortos=%{marker.size}<extra></extra>",
           "ids": [
            2021
           ],
           "legendgroup": "AC",
           "marker": {
            "color": "#636efa",
            "size": [
             7
            ],
            "sizemode": "area",
            "sizeref": 3.36,
            "symbol": "circle"
           },
           "mode": "markers",
           "name": "AC",
           "orientation": "v",
           "showlegend": true,
           "type": "scatter",
           "x": [
            93
           ],
           "xaxis": "x",
           "y": [
            7
           ],
           "yaxis": "y"
          },
          {
           "hovertemplate": "Estado=AL<br>Ano=2021<br>Acidente=%{x}<br>Mortos=%{marker.size}<extra></extra>",
           "ids": [
            2021
           ],
           "legendgroup": "AL",
           "marker": {
            "color": "#EF553B",
            "size": [
             40
            ],
            "sizemode": "area",
            "sizeref": 3.36,
            "symbol": "circle"
           },
           "mode": "markers",
           "name": "AL",
           "orientation": "v",
           "showlegend": true,
           "type": "scatter",
           "x": [
            241
           ],
           "xaxis": "x",
           "y": [
            40
           ],
           "yaxis": "y"
          },
          {
           "hovertemplate": "Estado=AM<br>Ano=2021<br>Acidente=%{x}<br>Mortos=%{marker.size}<extra></extra>",
           "ids": [
            2021
           ],
           "legendgroup": "AM",
           "marker": {
            "color": "#00cc96",
            "size": [
             5
            ],
            "sizemode": "area",
            "sizeref": 3.36,
            "symbol": "circle"
           },
           "mode": "markers",
           "name": "AM",
           "orientation": "v",
           "showlegend": true,
           "type": "scatter",
           "x": [
            41
           ],
           "xaxis": "x",
           "y": [
            5
           ],
           "yaxis": "y"
          },
          {
           "hovertemplate": "Estado=AP<br>Ano=2021<br>Acidente=%{x}<br>Mortos=%{marker.size}<extra></extra>",
           "ids": [
            2021
           ],
           "legendgroup": "AP",
           "marker": {
            "color": "#ab63fa",
            "size": [
             8
            ],
            "sizemode": "area",
            "sizeref": 3.36,
            "symbol": "circle"
           },
           "mode": "markers",
           "name": "AP",
           "orientation": "v",
           "showlegend": true,
           "type": "scatter",
           "x": [
            68
           ],
           "xaxis": "x",
           "y": [
            8
           ],
           "yaxis": "y"
          },
          {
           "hovertemplate": "Estado=BA<br>Ano=2021<br>Acidente=%{x}<br>Mortos=%{marker.size}<extra></extra>",
           "ids": [
            2021
           ],
           "legendgroup": "BA",
           "marker": {
            "color": "#FFA15A",
            "size": [
             204
            ],
            "sizemode": "area",
            "sizeref": 3.36,
            "symbol": "circle"
           },
           "mode": "markers",
           "name": "BA",
           "orientation": "v",
           "showlegend": true,
           "type": "scatter",
           "x": [
            1377
           ],
           "xaxis": "x",
           "y": [
            204
           ],
           "yaxis": "y"
          },
          {
           "hovertemplate": "Estado=CE<br>Ano=2021<br>Acidente=%{x}<br>Mortos=%{marker.size}<extra></extra>",
           "ids": [
            2021
           ],
           "legendgroup": "CE",
           "marker": {
            "color": "#19d3f3",
            "size": [
             76
            ],
            "sizemode": "area",
            "sizeref": 3.36,
            "symbol": "circle"
           },
           "mode": "markers",
           "name": "CE",
           "orientation": "v",
           "showlegend": true,
           "type": "scatter",
           "x": [
            592
           ],
           "xaxis": "x",
           "y": [
            76
           ],
           "yaxis": "y"
          },
          {
           "hovertemplate": "Estado=DF<br>Ano=2021<br>Acidente=%{x}<br>Mortos=%{marker.size}<extra></extra>",
           "ids": [
            2021
           ],
           "legendgroup": "DF",
           "marker": {
            "color": "#FF6692",
            "size": [
             13
            ],
            "sizemode": "area",
            "sizeref": 3.36,
            "symbol": "circle"
           },
           "mode": "markers",
           "name": "DF",
           "orientation": "v",
           "showlegend": true,
           "type": "scatter",
           "x": [
            393
           ],
           "xaxis": "x",
           "y": [
            13
           ],
           "yaxis": "y"
          },
          {
           "hovertemplate": "Estado=ES<br>Ano=2021<br>Acidente=%{x}<br>Mortos=%{marker.size}<extra></extra>",
           "ids": [
            2021
           ],
           "legendgroup": "ES",
           "marker": {
            "color": "#B6E880",
            "size": [
             56
            ],
            "sizemode": "area",
            "sizeref": 3.36,
            "symbol": "circle"
           },
           "mode": "markers",
           "name": "ES",
           "orientation": "v",
           "showlegend": true,
           "type": "scatter",
           "x": [
            1072
           ],
           "xaxis": "x",
           "y": [
            56
           ],
           "yaxis": "y"
          },
          {
           "hovertemplate": "Estado=GO<br>Ano=2021<br>Acidente=%{x}<br>Mortos=%{marker.size}<extra></extra>",
           "ids": [
            2021
           ],
           "legendgroup": "GO",
           "marker": {
            "color": "#FF97FF",
            "size": [
             101
            ],
            "sizemode": "area",
            "sizeref": 3.36,
            "symbol": "circle"
           },
           "mode": "markers",
           "name": "GO",
           "orientation": "v",
           "showlegend": true,
           "type": "scatter",
           "x": [
            1253
           ],
           "xaxis": "x",
           "y": [
            101
           ],
           "yaxis": "y"
          },
          {
           "hovertemplate": "Estado=MA<br>Ano=2021<br>Acidente=%{x}<br>Mortos=%{marker.size}<extra></extra>",
           "ids": [
            2021
           ],
           "legendgroup": "MA",
           "marker": {
            "color": "#FECB52",
            "size": [
             85
            ],
            "sizemode": "area",
            "sizeref": 3.36,
            "symbol": "circle"
           },
           "mode": "markers",
           "name": "MA",
           "orientation": "v",
           "showlegend": true,
           "type": "scatter",
           "x": [
            428
           ],
           "xaxis": "x",
           "y": [
            85
           ],
           "yaxis": "y"
          },
          {
           "hovertemplate": "Estado=MG<br>Ano=2021<br>Acidente=%{x}<br>Mortos=%{marker.size}<extra></extra>",
           "ids": [
            2021
           ],
           "legendgroup": "MG",
           "marker": {
            "color": "#636efa",
            "size": [
             240
            ],
            "sizemode": "area",
            "sizeref": 3.36,
            "symbol": "circle"
           },
           "mode": "markers",
           "name": "MG",
           "orientation": "v",
           "showlegend": true,
           "type": "scatter",
           "x": [
            3267
           ],
           "xaxis": "x",
           "y": [
            240
           ],
           "yaxis": "y"
          },
          {
           "hovertemplate": "Estado=MS<br>Ano=2021<br>Acidente=%{x}<br>Mortos=%{marker.size}<extra></extra>",
           "ids": [
            2021
           ],
           "legendgroup": "MS",
           "marker": {
            "color": "#EF553B",
            "size": [
             51
            ],
            "sizemode": "area",
            "sizeref": 3.36,
            "symbol": "circle"
           },
           "mode": "markers",
           "name": "MS",
           "orientation": "v",
           "showlegend": true,
           "type": "scatter",
           "x": [
            635
           ],
           "xaxis": "x",
           "y": [
            51
           ],
           "yaxis": "y"
          },
          {
           "hovertemplate": "Estado=MT<br>Ano=2021<br>Acidente=%{x}<br>Mortos=%{marker.size}<extra></extra>",
           "ids": [
            2021
           ],
           "legendgroup": "MT",
           "marker": {
            "color": "#00cc96",
            "size": [
             86
            ],
            "sizemode": "area",
            "sizeref": 3.36,
            "symbol": "circle"
           },
           "mode": "markers",
           "name": "MT",
           "orientation": "v",
           "showlegend": true,
           "type": "scatter",
           "x": [
            895
           ],
           "xaxis": "x",
           "y": [
            86
           ],
           "yaxis": "y"
          },
          {
           "hovertemplate": "Estado=PA<br>Ano=2021<br>Acidente=%{x}<br>Mortos=%{marker.size}<extra></extra>",
           "ids": [
            2021
           ],
           "legendgroup": "PA",
           "marker": {
            "color": "#ab63fa",
            "size": [
             69
            ],
            "sizemode": "area",
            "sizeref": 3.36,
            "symbol": "circle"
           },
           "mode": "markers",
           "name": "PA",
           "orientation": "v",
           "showlegend": true,
           "type": "scatter",
           "x": [
            337
           ],
           "xaxis": "x",
           "y": [
            69
           ],
           "yaxis": "y"
          },
          {
           "hovertemplate": "Estado=PB<br>Ano=2021<br>Acidente=%{x}<br>Mortos=%{marker.size}<extra></extra>",
           "ids": [
            2021
           ],
           "legendgroup": "PB",
           "marker": {
            "color": "#FFA15A",
            "size": [
             42
            ],
            "sizemode": "area",
            "sizeref": 3.36,
            "symbol": "circle"
           },
           "mode": "markers",
           "name": "PB",
           "orientation": "v",
           "showlegend": true,
           "type": "scatter",
           "x": [
            587
           ],
           "xaxis": "x",
           "y": [
            42
           ],
           "yaxis": "y"
          },
          {
           "hovertemplate": "Estado=PE<br>Ano=2021<br>Acidente=%{x}<br>Mortos=%{marker.size}<extra></extra>",
           "ids": [
            2021
           ],
           "legendgroup": "PE",
           "marker": {
            "color": "#19d3f3",
            "size": [
             117
            ],
            "sizemode": "area",
            "sizeref": 3.36,
            "symbol": "circle"
           },
           "mode": "markers",
           "name": "PE",
           "orientation": "v",
           "showlegend": true,
           "type": "scatter",
           "x": [
            972
           ],
           "xaxis": "x",
           "y": [
            117
           ],
           "yaxis": "y"
          },
          {
           "hovertemplate": "Estado=PI<br>Ano=2021<br>Acidente=%{x}<br>Mortos=%{marker.size}<extra></extra>",
           "ids": [
            2021
           ],
           "legendgroup": "PI",
           "marker": {
            "color": "#FF6692",
            "size": [
             49
            ],
            "sizemode": "area",
            "sizeref": 3.36,
            "symbol": "circle"
           },
           "mode": "markers",
           "name": "PI",
           "orientation": "v",
           "showlegend": true,
           "type": "scatter",
           "x": [
            445
           ],
           "xaxis": "x",
           "y": [
            49
           ],
           "yaxis": "y"
          },
          {
           "hovertemplate": "Estado=PR<br>Ano=2021<br>Acidente=%{x}<br>Mortos=%{marker.size}<extra></extra>",
           "ids": [
            2021
           ],
           "legendgroup": "PR",
           "marker": {
            "color": "#B6E880",
            "size": [
             227
            ],
            "sizemode": "area",
            "sizeref": 3.36,
            "symbol": "circle"
           },
           "mode": "markers",
           "name": "PR",
           "orientation": "v",
           "showlegend": true,
           "type": "scatter",
           "x": [
            2807
           ],
           "xaxis": "x",
           "y": [
            227
           ],
           "yaxis": "y"
          },
          {
           "hovertemplate": "Estado=RJ<br>Ano=2021<br>Acidente=%{x}<br>Mortos=%{marker.size}<extra></extra>",
           "ids": [
            2021
           ],
           "legendgroup": "RJ",
           "marker": {
            "color": "#FF97FF",
            "size": [
             125
            ],
            "sizemode": "area",
            "sizeref": 3.36,
            "symbol": "circle"
           },
           "mode": "markers",
           "name": "RJ",
           "orientation": "v",
           "showlegend": true,
           "type": "scatter",
           "x": [
            1839
           ],
           "xaxis": "x",
           "y": [
            125
           ],
           "yaxis": "y"
          },
          {
           "hovertemplate": "Estado=RN<br>Ano=2021<br>Acidente=%{x}<br>Mortos=%{marker.size}<extra></extra>",
           "ids": [
            2021
           ],
           "legendgroup": "RN",
           "marker": {
            "color": "#FECB52",
            "size": [
             35
            ],
            "sizemode": "area",
            "sizeref": 3.36,
            "symbol": "circle"
           },
           "mode": "markers",
           "name": "RN",
           "orientation": "v",
           "showlegend": true,
           "type": "scatter",
           "x": [
            505
           ],
           "xaxis": "x",
           "y": [
            35
           ],
           "yaxis": "y"
          },
          {
           "hovertemplate": "Estado=RO<br>Ano=2021<br>Acidente=%{x}<br>Mortos=%{marker.size}<extra></extra>",
           "ids": [
            2021
           ],
           "legendgroup": "RO",
           "marker": {
            "color": "#636efa",
            "size": [
             28
            ],
            "sizemode": "area",
            "sizeref": 3.36,
            "symbol": "circle"
           },
           "mode": "markers",
           "name": "RO",
           "orientation": "v",
           "showlegend": true,
           "type": "scatter",
           "x": [
            533
           ],
           "xaxis": "x",
           "y": [
            28
           ],
           "yaxis": "y"
          },
          {
           "hovertemplate": "Estado=RR<br>Ano=2021<br>Acidente=%{x}<br>Mortos=%{marker.size}<extra></extra>",
           "ids": [
            2021
           ],
           "legendgroup": "RR",
           "marker": {
            "color": "#EF553B",
            "size": [
             6
            ],
            "sizemode": "area",
            "sizeref": 3.36,
            "symbol": "circle"
           },
           "mode": "markers",
           "name": "RR",
           "orientation": "v",
           "showlegend": true,
           "type": "scatter",
           "x": [
            106
           ],
           "xaxis": "x",
           "y": [
            6
           ],
           "yaxis": "y"
          },
          {
           "hovertemplate": "Estado=RS<br>Ano=2021<br>Acidente=%{x}<br>Mortos=%{marker.size}<extra></extra>",
           "ids": [
            2021
           ],
           "legendgroup": "RS",
           "marker": {
            "color": "#00cc96",
            "size": [
             134
            ],
            "sizemode": "area",
            "sizeref": 3.36,
            "symbol": "circle"
           },
           "mode": "markers",
           "name": "RS",
           "orientation": "v",
           "showlegend": true,
           "type": "scatter",
           "x": [
            1820
           ],
           "xaxis": "x",
           "y": [
            134
           ],
           "yaxis": "y"
          },
          {
           "hovertemplate": "Estado=SC<br>Ano=2021<br>Acidente=%{x}<br>Mortos=%{marker.size}<extra></extra>",
           "ids": [
            2021
           ],
           "legendgroup": "SC",
           "marker": {
            "color": "#ab63fa",
            "size": [
             127
            ],
            "sizemode": "area",
            "sizeref": 3.36,
            "symbol": "circle"
           },
           "mode": "markers",
           "name": "SC",
           "orientation": "v",
           "showlegend": true,
           "type": "scatter",
           "x": [
            3167
           ],
           "xaxis": "x",
           "y": [
            127
           ],
           "yaxis": "y"
          },
          {
           "hovertemplate": "Estado=SE<br>Ano=2021<br>Acidente=%{x}<br>Mortos=%{marker.size}<extra></extra>",
           "ids": [
            2021
           ],
           "legendgroup": "SE",
           "marker": {
            "color": "#FFA15A",
            "size": [
             13
            ],
            "sizemode": "area",
            "sizeref": 3.36,
            "symbol": "circle"
           },
           "mode": "markers",
           "name": "SE",
           "orientation": "v",
           "showlegend": true,
           "type": "scatter",
           "x": [
            219
           ],
           "xaxis": "x",
           "y": [
            13
           ],
           "yaxis": "y"
          },
          {
           "hovertemplate": "Estado=SP<br>Ano=2021<br>Acidente=%{x}<br>Mortos=%{marker.size}<extra></extra>",
           "ids": [
            2021
           ],
           "legendgroup": "SP",
           "marker": {
            "color": "#19d3f3",
            "size": [
             73
            ],
            "sizemode": "area",
            "sizeref": 3.36,
            "symbol": "circle"
           },
           "mode": "markers",
           "name": "SP",
           "orientation": "v",
           "showlegend": true,
           "type": "scatter",
           "x": [
            1656
           ],
           "xaxis": "x",
           "y": [
            73
           ],
           "yaxis": "y"
          },
          {
           "hovertemplate": "Estado=TO<br>Ano=2021<br>Acidente=%{x}<br>Mortos=%{marker.size}<extra></extra>",
           "ids": [
            2021
           ],
           "legendgroup": "TO",
           "marker": {
            "color": "#FF6692",
            "size": [
             30
            ],
            "sizemode": "area",
            "sizeref": 3.36,
            "symbol": "circle"
           },
           "mode": "markers",
           "name": "TO",
           "orientation": "v",
           "showlegend": true,
           "type": "scatter",
           "x": [
            215
           ],
           "xaxis": "x",
           "y": [
            30
           ],
           "yaxis": "y"
          }
         ],
         "name": "2021"
        }
       ],
       "layout": {
        "legend": {
         "itemsizing": "constant",
         "title": {
          "text": "Estado"
         },
         "tracegroupgap": 0
        },
        "sliders": [
         {
          "active": 0,
          "currentvalue": {
           "prefix": "Ano="
          },
          "len": 0.9,
          "pad": {
           "b": 10,
           "t": 60
          },
          "steps": [
           {
            "args": [
             [
              "2007"
             ],
             {
              "frame": {
               "duration": 0,
               "redraw": false
              },
              "fromcurrent": true,
              "mode": "immediate",
              "transition": {
               "duration": 0,
               "easing": "linear"
              }
             }
            ],
            "label": "2007",
            "method": "animate"
           },
           {
            "args": [
             [
              "2008"
             ],
             {
              "frame": {
               "duration": 0,
               "redraw": false
              },
              "fromcurrent": true,
              "mode": "immediate",
              "transition": {
               "duration": 0,
               "easing": "linear"
              }
             }
            ],
            "label": "2008",
            "method": "animate"
           },
           {
            "args": [
             [
              "2009"
             ],
             {
              "frame": {
               "duration": 0,
               "redraw": false
              },
              "fromcurrent": true,
              "mode": "immediate",
              "transition": {
               "duration": 0,
               "easing": "linear"
              }
             }
            ],
            "label": "2009",
            "method": "animate"
           },
           {
            "args": [
             [
              "2010"
             ],
             {
              "frame": {
               "duration": 0,
               "redraw": false
              },
              "fromcurrent": true,
              "mode": "immediate",
              "transition": {
               "duration": 0,
               "easing": "linear"
              }
             }
            ],
            "label": "2010",
            "method": "animate"
           },
           {
            "args": [
             [
              "2011"
             ],
             {
              "frame": {
               "duration": 0,
               "redraw": false
              },
              "fromcurrent": true,
              "mode": "immediate",
              "transition": {
               "duration": 0,
               "easing": "linear"
              }
             }
            ],
            "label": "2011",
            "method": "animate"
           },
           {
            "args": [
             [
              "2012"
             ],
             {
              "frame": {
               "duration": 0,
               "redraw": false
              },
              "fromcurrent": true,
              "mode": "immediate",
              "transition": {
               "duration": 0,
               "easing": "linear"
              }
             }
            ],
            "label": "2012",
            "method": "animate"
           },
           {
            "args": [
             [
              "2013"
             ],
             {
              "frame": {
               "duration": 0,
               "redraw": false
              },
              "fromcurrent": true,
              "mode": "immediate",
              "transition": {
               "duration": 0,
               "easing": "linear"
              }
             }
            ],
            "label": "2013",
            "method": "animate"
           },
           {
            "args": [
             [
              "2014"
             ],
             {
              "frame": {
               "duration": 0,
               "redraw": false
              },
              "fromcurrent": true,
              "mode": "immediate",
              "transition": {
               "duration": 0,
               "easing": "linear"
              }
             }
            ],
            "label": "2014",
            "method": "animate"
           },
           {
            "args": [
             [
              "2015"
             ],
             {
              "frame": {
               "duration": 0,
               "redraw": false
              },
              "fromcurrent": true,
              "mode": "immediate",
              "transition": {
               "duration": 0,
               "easing": "linear"
              }
             }
            ],
            "label": "2015",
            "method": "animate"
           },
           {
            "args": [
             [
              "2016"
             ],
             {
              "frame": {
               "duration": 0,
               "redraw": false
              },
              "fromcurrent": true,
              "mode": "immediate",
              "transition": {
               "duration": 0,
               "easing": "linear"
              }
             }
            ],
            "label": "2016",
            "method": "animate"
           },
           {
            "args": [
             [
              "2017"
             ],
             {
              "frame": {
               "duration": 0,
               "redraw": false
              },
              "fromcurrent": true,
              "mode": "immediate",
              "transition": {
               "duration": 0,
               "easing": "linear"
              }
             }
            ],
            "label": "2017",
            "method": "animate"
           },
           {
            "args": [
             [
              "2018"
             ],
             {
              "frame": {
               "duration": 0,
               "redraw": false
              },
              "fromcurrent": true,
              "mode": "immediate",
              "transition": {
               "duration": 0,
               "easing": "linear"
              }
             }
            ],
            "label": "2018",
            "method": "animate"
           },
           {
            "args": [
             [
              "2019"
             ],
             {
              "frame": {
               "duration": 0,
               "redraw": false
              },
              "fromcurrent": true,
              "mode": "immediate",
              "transition": {
               "duration": 0,
               "easing": "linear"
              }
             }
            ],
            "label": "2019",
            "method": "animate"
           },
           {
            "args": [
             [
              "2020"
             ],
             {
              "frame": {
               "duration": 0,
               "redraw": false
              },
              "fromcurrent": true,
              "mode": "immediate",
              "transition": {
               "duration": 0,
               "easing": "linear"
              }
             }
            ],
            "label": "2020",
            "method": "animate"
           },
           {
            "args": [
             [
              "2021"
             ],
             {
              "frame": {
               "duration": 0,
               "redraw": false
              },
              "fromcurrent": true,
              "mode": "immediate",
              "transition": {
               "duration": 0,
               "easing": "linear"
              }
             }
            ],
            "label": "2021",
            "method": "animate"
           }
          ],
          "x": 0.1,
          "xanchor": "left",
          "y": 0,
          "yanchor": "top"
         }
        ],
        "template": {
         "data": {
          "bar": [
           {
            "error_x": {
             "color": "#2a3f5f"
            },
            "error_y": {
             "color": "#2a3f5f"
            },
            "marker": {
             "line": {
              "color": "#E5ECF6",
              "width": 0.5
             },
             "pattern": {
              "fillmode": "overlay",
              "size": 10,
              "solidity": 0.2
             }
            },
            "type": "bar"
           }
          ],
          "barpolar": [
           {
            "marker": {
             "line": {
              "color": "#E5ECF6",
              "width": 0.5
             },
             "pattern": {
              "fillmode": "overlay",
              "size": 10,
              "solidity": 0.2
             }
            },
            "type": "barpolar"
           }
          ],
          "carpet": [
           {
            "aaxis": {
             "endlinecolor": "#2a3f5f",
             "gridcolor": "white",
             "linecolor": "white",
             "minorgridcolor": "white",
             "startlinecolor": "#2a3f5f"
            },
            "baxis": {
             "endlinecolor": "#2a3f5f",
             "gridcolor": "white",
             "linecolor": "white",
             "minorgridcolor": "white",
             "startlinecolor": "#2a3f5f"
            },
            "type": "carpet"
           }
          ],
          "choropleth": [
           {
            "colorbar": {
             "outlinewidth": 0,
             "ticks": ""
            },
            "type": "choropleth"
           }
          ],
          "contour": [
           {
            "colorbar": {
             "outlinewidth": 0,
             "ticks": ""
            },
            "colorscale": [
             [
              0,
              "#0d0887"
             ],
             [
              0.1111111111111111,
              "#46039f"
             ],
             [
              0.2222222222222222,
              "#7201a8"
             ],
             [
              0.3333333333333333,
              "#9c179e"
             ],
             [
              0.4444444444444444,
              "#bd3786"
             ],
             [
              0.5555555555555556,
              "#d8576b"
             ],
             [
              0.6666666666666666,
              "#ed7953"
             ],
             [
              0.7777777777777778,
              "#fb9f3a"
             ],
             [
              0.8888888888888888,
              "#fdca26"
             ],
             [
              1,
              "#f0f921"
             ]
            ],
            "type": "contour"
           }
          ],
          "contourcarpet": [
           {
            "colorbar": {
             "outlinewidth": 0,
             "ticks": ""
            },
            "type": "contourcarpet"
           }
          ],
          "heatmap": [
           {
            "colorbar": {
             "outlinewidth": 0,
             "ticks": ""
            },
            "colorscale": [
             [
              0,
              "#0d0887"
             ],
             [
              0.1111111111111111,
              "#46039f"
             ],
             [
              0.2222222222222222,
              "#7201a8"
             ],
             [
              0.3333333333333333,
              "#9c179e"
             ],
             [
              0.4444444444444444,
              "#bd3786"
             ],
             [
              0.5555555555555556,
              "#d8576b"
             ],
             [
              0.6666666666666666,
              "#ed7953"
             ],
             [
              0.7777777777777778,
              "#fb9f3a"
             ],
             [
              0.8888888888888888,
              "#fdca26"
             ],
             [
              1,
              "#f0f921"
             ]
            ],
            "type": "heatmap"
           }
          ],
          "heatmapgl": [
           {
            "colorbar": {
             "outlinewidth": 0,
             "ticks": ""
            },
            "colorscale": [
             [
              0,
              "#0d0887"
             ],
             [
              0.1111111111111111,
              "#46039f"
             ],
             [
              0.2222222222222222,
              "#7201a8"
             ],
             [
              0.3333333333333333,
              "#9c179e"
             ],
             [
              0.4444444444444444,
              "#bd3786"
             ],
             [
              0.5555555555555556,
              "#d8576b"
             ],
             [
              0.6666666666666666,
              "#ed7953"
             ],
             [
              0.7777777777777778,
              "#fb9f3a"
             ],
             [
              0.8888888888888888,
              "#fdca26"
             ],
             [
              1,
              "#f0f921"
             ]
            ],
            "type": "heatmapgl"
           }
          ],
          "histogram": [
           {
            "marker": {
             "pattern": {
              "fillmode": "overlay",
              "size": 10,
              "solidity": 0.2
             }
            },
            "type": "histogram"
           }
          ],
          "histogram2d": [
           {
            "colorbar": {
             "outlinewidth": 0,
             "ticks": ""
            },
            "colorscale": [
             [
              0,
              "#0d0887"
             ],
             [
              0.1111111111111111,
              "#46039f"
             ],
             [
              0.2222222222222222,
              "#7201a8"
             ],
             [
              0.3333333333333333,
              "#9c179e"
             ],
             [
              0.4444444444444444,
              "#bd3786"
             ],
             [
              0.5555555555555556,
              "#d8576b"
             ],
             [
              0.6666666666666666,
              "#ed7953"
             ],
             [
              0.7777777777777778,
              "#fb9f3a"
             ],
             [
              0.8888888888888888,
              "#fdca26"
             ],
             [
              1,
              "#f0f921"
             ]
            ],
            "type": "histogram2d"
           }
          ],
          "histogram2dcontour": [
           {
            "colorbar": {
             "outlinewidth": 0,
             "ticks": ""
            },
            "colorscale": [
             [
              0,
              "#0d0887"
             ],
             [
              0.1111111111111111,
              "#46039f"
             ],
             [
              0.2222222222222222,
              "#7201a8"
             ],
             [
              0.3333333333333333,
              "#9c179e"
             ],
             [
              0.4444444444444444,
              "#bd3786"
             ],
             [
              0.5555555555555556,
              "#d8576b"
             ],
             [
              0.6666666666666666,
              "#ed7953"
             ],
             [
              0.7777777777777778,
              "#fb9f3a"
             ],
             [
              0.8888888888888888,
              "#fdca26"
             ],
             [
              1,
              "#f0f921"
             ]
            ],
            "type": "histogram2dcontour"
           }
          ],
          "mesh3d": [
           {
            "colorbar": {
             "outlinewidth": 0,
             "ticks": ""
            },
            "type": "mesh3d"
           }
          ],
          "parcoords": [
           {
            "line": {
             "colorbar": {
              "outlinewidth": 0,
              "ticks": ""
             }
            },
            "type": "parcoords"
           }
          ],
          "pie": [
           {
            "automargin": true,
            "type": "pie"
           }
          ],
          "scatter": [
           {
            "marker": {
             "colorbar": {
              "outlinewidth": 0,
              "ticks": ""
             }
            },
            "type": "scatter"
           }
          ],
          "scatter3d": [
           {
            "line": {
             "colorbar": {
              "outlinewidth": 0,
              "ticks": ""
             }
            },
            "marker": {
             "colorbar": {
              "outlinewidth": 0,
              "ticks": ""
             }
            },
            "type": "scatter3d"
           }
          ],
          "scattercarpet": [
           {
            "marker": {
             "colorbar": {
              "outlinewidth": 0,
              "ticks": ""
             }
            },
            "type": "scattercarpet"
           }
          ],
          "scattergeo": [
           {
            "marker": {
             "colorbar": {
              "outlinewidth": 0,
              "ticks": ""
             }
            },
            "type": "scattergeo"
           }
          ],
          "scattergl": [
           {
            "marker": {
             "colorbar": {
              "outlinewidth": 0,
              "ticks": ""
             }
            },
            "type": "scattergl"
           }
          ],
          "scattermapbox": [
           {
            "marker": {
             "colorbar": {
              "outlinewidth": 0,
              "ticks": ""
             }
            },
            "type": "scattermapbox"
           }
          ],
          "scatterpolar": [
           {
            "marker": {
             "colorbar": {
              "outlinewidth": 0,
              "ticks": ""
             }
            },
            "type": "scatterpolar"
           }
          ],
          "scatterpolargl": [
           {
            "marker": {
             "colorbar": {
              "outlinewidth": 0,
              "ticks": ""
             }
            },
            "type": "scatterpolargl"
           }
          ],
          "scatterternary": [
           {
            "marker": {
             "colorbar": {
              "outlinewidth": 0,
              "ticks": ""
             }
            },
            "type": "scatterternary"
           }
          ],
          "surface": [
           {
            "colorbar": {
             "outlinewidth": 0,
             "ticks": ""
            },
            "colorscale": [
             [
              0,
              "#0d0887"
             ],
             [
              0.1111111111111111,
              "#46039f"
             ],
             [
              0.2222222222222222,
              "#7201a8"
             ],
             [
              0.3333333333333333,
              "#9c179e"
             ],
             [
              0.4444444444444444,
              "#bd3786"
             ],
             [
              0.5555555555555556,
              "#d8576b"
             ],
             [
              0.6666666666666666,
              "#ed7953"
             ],
             [
              0.7777777777777778,
              "#fb9f3a"
             ],
             [
              0.8888888888888888,
              "#fdca26"
             ],
             [
              1,
              "#f0f921"
             ]
            ],
            "type": "surface"
           }
          ],
          "table": [
           {
            "cells": {
             "fill": {
              "color": "#EBF0F8"
             },
             "line": {
              "color": "white"
             }
            },
            "header": {
             "fill": {
              "color": "#C8D4E3"
             },
             "line": {
              "color": "white"
             }
            },
            "type": "table"
           }
          ]
         },
         "layout": {
          "annotationdefaults": {
           "arrowcolor": "#2a3f5f",
           "arrowhead": 0,
           "arrowwidth": 1
          },
          "autotypenumbers": "strict",
          "coloraxis": {
           "colorbar": {
            "outlinewidth": 0,
            "ticks": ""
           }
          },
          "colorscale": {
           "diverging": [
            [
             0,
             "#8e0152"
            ],
            [
             0.1,
             "#c51b7d"
            ],
            [
             0.2,
             "#de77ae"
            ],
            [
             0.3,
             "#f1b6da"
            ],
            [
             0.4,
             "#fde0ef"
            ],
            [
             0.5,
             "#f7f7f7"
            ],
            [
             0.6,
             "#e6f5d0"
            ],
            [
             0.7,
             "#b8e186"
            ],
            [
             0.8,
             "#7fbc41"
            ],
            [
             0.9,
             "#4d9221"
            ],
            [
             1,
             "#276419"
            ]
           ],
           "sequential": [
            [
             0,
             "#0d0887"
            ],
            [
             0.1111111111111111,
             "#46039f"
            ],
            [
             0.2222222222222222,
             "#7201a8"
            ],
            [
             0.3333333333333333,
             "#9c179e"
            ],
            [
             0.4444444444444444,
             "#bd3786"
            ],
            [
             0.5555555555555556,
             "#d8576b"
            ],
            [
             0.6666666666666666,
             "#ed7953"
            ],
            [
             0.7777777777777778,
             "#fb9f3a"
            ],
            [
             0.8888888888888888,
             "#fdca26"
            ],
            [
             1,
             "#f0f921"
            ]
           ],
           "sequentialminus": [
            [
             0,
             "#0d0887"
            ],
            [
             0.1111111111111111,
             "#46039f"
            ],
            [
             0.2222222222222222,
             "#7201a8"
            ],
            [
             0.3333333333333333,
             "#9c179e"
            ],
            [
             0.4444444444444444,
             "#bd3786"
            ],
            [
             0.5555555555555556,
             "#d8576b"
            ],
            [
             0.6666666666666666,
             "#ed7953"
            ],
            [
             0.7777777777777778,
             "#fb9f3a"
            ],
            [
             0.8888888888888888,
             "#fdca26"
            ],
            [
             1,
             "#f0f921"
            ]
           ]
          },
          "colorway": [
           "#636efa",
           "#EF553B",
           "#00cc96",
           "#ab63fa",
           "#FFA15A",
           "#19d3f3",
           "#FF6692",
           "#B6E880",
           "#FF97FF",
           "#FECB52"
          ],
          "font": {
           "color": "#2a3f5f"
          },
          "geo": {
           "bgcolor": "white",
           "lakecolor": "white",
           "landcolor": "#E5ECF6",
           "showlakes": true,
           "showland": true,
           "subunitcolor": "white"
          },
          "hoverlabel": {
           "align": "left"
          },
          "hovermode": "closest",
          "mapbox": {
           "style": "light"
          },
          "paper_bgcolor": "white",
          "plot_bgcolor": "#E5ECF6",
          "polar": {
           "angularaxis": {
            "gridcolor": "white",
            "linecolor": "white",
            "ticks": ""
           },
           "bgcolor": "#E5ECF6",
           "radialaxis": {
            "gridcolor": "white",
            "linecolor": "white",
            "ticks": ""
           }
          },
          "scene": {
           "xaxis": {
            "backgroundcolor": "#E5ECF6",
            "gridcolor": "white",
            "gridwidth": 2,
            "linecolor": "white",
            "showbackground": true,
            "ticks": "",
            "zerolinecolor": "white"
           },
           "yaxis": {
            "backgroundcolor": "#E5ECF6",
            "gridcolor": "white",
            "gridwidth": 2,
            "linecolor": "white",
            "showbackground": true,
            "ticks": "",
            "zerolinecolor": "white"
           },
           "zaxis": {
            "backgroundcolor": "#E5ECF6",
            "gridcolor": "white",
            "gridwidth": 2,
            "linecolor": "white",
            "showbackground": true,
            "ticks": "",
            "zerolinecolor": "white"
           }
          },
          "shapedefaults": {
           "line": {
            "color": "#2a3f5f"
           }
          },
          "ternary": {
           "aaxis": {
            "gridcolor": "white",
            "linecolor": "white",
            "ticks": ""
           },
           "baxis": {
            "gridcolor": "white",
            "linecolor": "white",
            "ticks": ""
           },
           "bgcolor": "#E5ECF6",
           "caxis": {
            "gridcolor": "white",
            "linecolor": "white",
            "ticks": ""
           }
          },
          "title": {
           "x": 0.05
          },
          "xaxis": {
           "automargin": true,
           "gridcolor": "white",
           "linecolor": "white",
           "ticks": "",
           "title": {
            "standoff": 15
           },
           "zerolinecolor": "white",
           "zerolinewidth": 2
          },
          "yaxis": {
           "automargin": true,
           "gridcolor": "white",
           "linecolor": "white",
           "ticks": "",
           "title": {
            "standoff": 15
           },
           "zerolinecolor": "white",
           "zerolinewidth": 2
          }
         }
        },
        "title": {
         "text": "Ocorrências de acidente por mortes no Brasil"
        },
        "updatemenus": [
         {
          "buttons": [
           {
            "args": [
             null,
             {
              "frame": {
               "duration": 500,
               "redraw": false
              },
              "fromcurrent": true,
              "mode": "immediate",
              "transition": {
               "duration": 500,
               "easing": "linear"
              }
             }
            ],
            "label": "&#9654;",
            "method": "animate"
           },
           {
            "args": [
             [
              null
             ],
             {
              "frame": {
               "duration": 0,
               "redraw": false
              },
              "fromcurrent": true,
              "mode": "immediate",
              "transition": {
               "duration": 0,
               "easing": "linear"
              }
             }
            ],
            "label": "&#9724;",
            "method": "animate"
           }
          ],
          "direction": "left",
          "pad": {
           "r": 10,
           "t": 70
          },
          "showactive": false,
          "type": "buttons",
          "x": 0.1,
          "xanchor": "right",
          "y": 0,
          "yanchor": "top"
         }
        ],
        "xaxis": {
         "anchor": "y",
         "domain": [
          0,
          1
         ],
         "nticks": 5,
         "range": [
          0,
          27446
         ],
         "title": {
          "text": "Acidente"
         }
        },
        "yaxis": {
         "anchor": "x",
         "domain": [
          0,
          1
         ],
         "nticks": 5,
         "range": [
          0,
          1364
         ],
         "title": {
          "text": "Mortos"
         }
        }
       }
      },
      "text/html": [
       "<div>                            <div id=\"232af78a-e027-4154-915b-45d7f440d15b\" class=\"plotly-graph-div\" style=\"height:525px; width:100%;\"></div>            <script type=\"text/javascript\">                require([\"plotly\"], function(Plotly) {                    window.PLOTLYENV=window.PLOTLYENV || {};                                    if (document.getElementById(\"232af78a-e027-4154-915b-45d7f440d15b\")) {                    Plotly.newPlot(                        \"232af78a-e027-4154-915b-45d7f440d15b\",                        [{\"hovertemplate\":\"Estado=AC<br>Ano=2007<br>Acidente=%{x}<br>Mortos=%{marker.size}<extra></extra>\",\"ids\":[2007],\"legendgroup\":\"AC\",\"marker\":{\"color\":\"#636efa\",\"size\":[20],\"sizemode\":\"area\",\"sizeref\":3.36,\"symbol\":\"circle\"},\"mode\":\"markers\",\"name\":\"AC\",\"orientation\":\"v\",\"showlegend\":true,\"type\":\"scatter\",\"x\":[324],\"xaxis\":\"x\",\"y\":[20],\"yaxis\":\"y\"},{\"hovertemplate\":\"Estado=AL<br>Ano=2007<br>Acidente=%{x}<br>Mortos=%{marker.size}<extra></extra>\",\"ids\":[2007],\"legendgroup\":\"AL\",\"marker\":{\"color\":\"#EF553B\",\"size\":[132],\"sizemode\":\"area\",\"sizeref\":3.36,\"symbol\":\"circle\"},\"mode\":\"markers\",\"name\":\"AL\",\"orientation\":\"v\",\"showlegend\":true,\"type\":\"scatter\",\"x\":[1604],\"xaxis\":\"x\",\"y\":[132],\"yaxis\":\"y\"},{\"hovertemplate\":\"Estado=AM<br>Ano=2007<br>Acidente=%{x}<br>Mortos=%{marker.size}<extra></extra>\",\"ids\":[2007],\"legendgroup\":\"AM\",\"marker\":{\"color\":\"#00cc96\",\"size\":[12],\"sizemode\":\"area\",\"sizeref\":3.36,\"symbol\":\"circle\"},\"mode\":\"markers\",\"name\":\"AM\",\"orientation\":\"v\",\"showlegend\":true,\"type\":\"scatter\",\"x\":[173],\"xaxis\":\"x\",\"y\":[12],\"yaxis\":\"y\"},{\"hovertemplate\":\"Estado=AP<br>Ano=2007<br>Acidente=%{x}<br>Mortos=%{marker.size}<extra></extra>\",\"ids\":[2007],\"legendgroup\":\"AP\",\"marker\":{\"color\":\"#ab63fa\",\"size\":[15],\"sizemode\":\"area\",\"sizeref\":3.36,\"symbol\":\"circle\"},\"mode\":\"markers\",\"name\":\"AP\",\"orientation\":\"v\",\"showlegend\":true,\"type\":\"scatter\",\"x\":[150],\"xaxis\":\"x\",\"y\":[15],\"yaxis\":\"y\"},{\"hovertemplate\":\"Estado=BA<br>Ano=2007<br>Acidente=%{x}<br>Mortos=%{marker.size}<extra></extra>\",\"ids\":[2007],\"legendgroup\":\"BA\",\"marker\":{\"color\":\"#FFA15A\",\"size\":[605],\"sizemode\":\"area\",\"sizeref\":3.36,\"symbol\":\"circle\"},\"mode\":\"markers\",\"name\":\"BA\",\"orientation\":\"v\",\"showlegend\":true,\"type\":\"scatter\",\"x\":[7088],\"xaxis\":\"x\",\"y\":[605],\"yaxis\":\"y\"},{\"hovertemplate\":\"Estado=CE<br>Ano=2007<br>Acidente=%{x}<br>Mortos=%{marker.size}<extra></extra>\",\"ids\":[2007],\"legendgroup\":\"CE\",\"marker\":{\"color\":\"#19d3f3\",\"size\":[182],\"sizemode\":\"area\",\"sizeref\":3.36,\"symbol\":\"circle\"},\"mode\":\"markers\",\"name\":\"CE\",\"orientation\":\"v\",\"showlegend\":true,\"type\":\"scatter\",\"x\":[2261],\"xaxis\":\"x\",\"y\":[182],\"yaxis\":\"y\"},{\"hovertemplate\":\"Estado=DF<br>Ano=2007<br>Acidente=%{x}<br>Mortos=%{marker.size}<extra></extra>\",\"ids\":[2007],\"legendgroup\":\"DF\",\"marker\":{\"color\":\"#FF6692\",\"size\":[67],\"sizemode\":\"area\",\"sizeref\":3.36,\"symbol\":\"circle\"},\"mode\":\"markers\",\"name\":\"DF\",\"orientation\":\"v\",\"showlegend\":true,\"type\":\"scatter\",\"x\":[1139],\"xaxis\":\"x\",\"y\":[67],\"yaxis\":\"y\"},{\"hovertemplate\":\"Estado=ES<br>Ano=2007<br>Acidente=%{x}<br>Mortos=%{marker.size}<extra></extra>\",\"ids\":[2007],\"legendgroup\":\"ES\",\"marker\":{\"color\":\"#B6E880\",\"size\":[217],\"sizemode\":\"area\",\"sizeref\":3.36,\"symbol\":\"circle\"},\"mode\":\"markers\",\"name\":\"ES\",\"orientation\":\"v\",\"showlegend\":true,\"type\":\"scatter\",\"x\":[6243],\"xaxis\":\"x\",\"y\":[217],\"yaxis\":\"y\"},{\"hovertemplate\":\"Estado=GO<br>Ano=2007<br>Acidente=%{x}<br>Mortos=%{marker.size}<extra></extra>\",\"ids\":[2007],\"legendgroup\":\"GO\",\"marker\":{\"color\":\"#FF97FF\",\"size\":[325],\"sizemode\":\"area\",\"sizeref\":3.36,\"symbol\":\"circle\"},\"mode\":\"markers\",\"name\":\"GO\",\"orientation\":\"v\",\"showlegend\":true,\"type\":\"scatter\",\"x\":[5608],\"xaxis\":\"x\",\"y\":[325],\"yaxis\":\"y\"},{\"hovertemplate\":\"Estado=MA<br>Ano=2007<br>Acidente=%{x}<br>Mortos=%{marker.size}<extra></extra>\",\"ids\":[2007],\"legendgroup\":\"MA\",\"marker\":{\"color\":\"#FECB52\",\"size\":[277],\"sizemode\":\"area\",\"sizeref\":3.36,\"symbol\":\"circle\"},\"mode\":\"markers\",\"name\":\"MA\",\"orientation\":\"v\",\"showlegend\":true,\"type\":\"scatter\",\"x\":[2112],\"xaxis\":\"x\",\"y\":[277],\"yaxis\":\"y\"},{\"hovertemplate\":\"Estado=MG<br>Ano=2007<br>Acidente=%{x}<br>Mortos=%{marker.size}<extra></extra>\",\"ids\":[2007],\"legendgroup\":\"MG\",\"marker\":{\"color\":\"#636efa\",\"size\":[1032],\"sizemode\":\"area\",\"sizeref\":3.36,\"symbol\":\"circle\"},\"mode\":\"markers\",\"name\":\"MG\",\"orientation\":\"v\",\"showlegend\":true,\"type\":\"scatter\",\"x\":[20601],\"xaxis\":\"x\",\"y\":[1032],\"yaxis\":\"y\"},{\"hovertemplate\":\"Estado=MS<br>Ano=2007<br>Acidente=%{x}<br>Mortos=%{marker.size}<extra></extra>\",\"ids\":[2007],\"legendgroup\":\"MS\",\"marker\":{\"color\":\"#EF553B\",\"size\":[155],\"sizemode\":\"area\",\"sizeref\":3.36,\"symbol\":\"circle\"},\"mode\":\"markers\",\"name\":\"MS\",\"orientation\":\"v\",\"showlegend\":true,\"type\":\"scatter\",\"x\":[2299],\"xaxis\":\"x\",\"y\":[155],\"yaxis\":\"y\"},{\"hovertemplate\":\"Estado=MT<br>Ano=2007<br>Acidente=%{x}<br>Mortos=%{marker.size}<extra></extra>\",\"ids\":[2007],\"legendgroup\":\"MT\",\"marker\":{\"color\":\"#00cc96\",\"size\":[223],\"sizemode\":\"area\",\"sizeref\":3.36,\"symbol\":\"circle\"},\"mode\":\"markers\",\"name\":\"MT\",\"orientation\":\"v\",\"showlegend\":true,\"type\":\"scatter\",\"x\":[2638],\"xaxis\":\"x\",\"y\":[223],\"yaxis\":\"y\"},{\"hovertemplate\":\"Estado=PA<br>Ano=2007<br>Acidente=%{x}<br>Mortos=%{marker.size}<extra></extra>\",\"ids\":[2007],\"legendgroup\":\"PA\",\"marker\":{\"color\":\"#ab63fa\",\"size\":[151],\"sizemode\":\"area\",\"sizeref\":3.36,\"symbol\":\"circle\"},\"mode\":\"markers\",\"name\":\"PA\",\"orientation\":\"v\",\"showlegend\":true,\"type\":\"scatter\",\"x\":[3128],\"xaxis\":\"x\",\"y\":[151],\"yaxis\":\"y\"},{\"hovertemplate\":\"Estado=PB<br>Ano=2007<br>Acidente=%{x}<br>Mortos=%{marker.size}<extra></extra>\",\"ids\":[2007],\"legendgroup\":\"PB\",\"marker\":{\"color\":\"#FFA15A\",\"size\":[164],\"sizemode\":\"area\",\"sizeref\":3.36,\"symbol\":\"circle\"},\"mode\":\"markers\",\"name\":\"PB\",\"orientation\":\"v\",\"showlegend\":true,\"type\":\"scatter\",\"x\":[2696],\"xaxis\":\"x\",\"y\":[164],\"yaxis\":\"y\"},{\"hovertemplate\":\"Estado=PE<br>Ano=2007<br>Acidente=%{x}<br>Mortos=%{marker.size}<extra></extra>\",\"ids\":[2007],\"legendgroup\":\"PE\",\"marker\":{\"color\":\"#19d3f3\",\"size\":[356],\"sizemode\":\"area\",\"sizeref\":3.36,\"symbol\":\"circle\"},\"mode\":\"markers\",\"name\":\"PE\",\"orientation\":\"v\",\"showlegend\":true,\"type\":\"scatter\",\"x\":[4765],\"xaxis\":\"x\",\"y\":[356],\"yaxis\":\"y\"},{\"hovertemplate\":\"Estado=PI<br>Ano=2007<br>Acidente=%{x}<br>Mortos=%{marker.size}<extra></extra>\",\"ids\":[2007],\"legendgroup\":\"PI\",\"marker\":{\"color\":\"#FF6692\",\"size\":[148],\"sizemode\":\"area\",\"sizeref\":3.36,\"symbol\":\"circle\"},\"mode\":\"markers\",\"name\":\"PI\",\"orientation\":\"v\",\"showlegend\":true,\"type\":\"scatter\",\"x\":[1881],\"xaxis\":\"x\",\"y\":[148],\"yaxis\":\"y\"},{\"hovertemplate\":\"Estado=PR<br>Ano=2007<br>Acidente=%{x}<br>Mortos=%{marker.size}<extra></extra>\",\"ids\":[2007],\"legendgroup\":\"PR\",\"marker\":{\"color\":\"#B6E880\",\"size\":[333],\"sizemode\":\"area\",\"sizeref\":3.36,\"symbol\":\"circle\"},\"mode\":\"markers\",\"name\":\"PR\",\"orientation\":\"v\",\"showlegend\":true,\"type\":\"scatter\",\"x\":[7073],\"xaxis\":\"x\",\"y\":[333],\"yaxis\":\"y\"},{\"hovertemplate\":\"Estado=RJ<br>Ano=2007<br>Acidente=%{x}<br>Mortos=%{marker.size}<extra></extra>\",\"ids\":[2007],\"legendgroup\":\"RJ\",\"marker\":{\"color\":\"#FF97FF\",\"size\":[480],\"sizemode\":\"area\",\"sizeref\":3.36,\"symbol\":\"circle\"},\"mode\":\"markers\",\"name\":\"RJ\",\"orientation\":\"v\",\"showlegend\":true,\"type\":\"scatter\",\"x\":[11670],\"xaxis\":\"x\",\"y\":[480],\"yaxis\":\"y\"},{\"hovertemplate\":\"Estado=RN<br>Ano=2007<br>Acidente=%{x}<br>Mortos=%{marker.size}<extra></extra>\",\"ids\":[2007],\"legendgroup\":\"RN\",\"marker\":{\"color\":\"#FECB52\",\"size\":[168],\"sizemode\":\"area\",\"sizeref\":3.36,\"symbol\":\"circle\"},\"mode\":\"markers\",\"name\":\"RN\",\"orientation\":\"v\",\"showlegend\":true,\"type\":\"scatter\",\"x\":[3067],\"xaxis\":\"x\",\"y\":[168],\"yaxis\":\"y\"},{\"hovertemplate\":\"Estado=RO<br>Ano=2007<br>Acidente=%{x}<br>Mortos=%{marker.size}<extra></extra>\",\"ids\":[2007],\"legendgroup\":\"RO\",\"marker\":{\"color\":\"#636efa\",\"size\":[85],\"sizemode\":\"area\",\"sizeref\":3.36,\"symbol\":\"circle\"},\"mode\":\"markers\",\"name\":\"RO\",\"orientation\":\"v\",\"showlegend\":true,\"type\":\"scatter\",\"x\":[2082],\"xaxis\":\"x\",\"y\":[85],\"yaxis\":\"y\"},{\"hovertemplate\":\"Estado=RR<br>Ano=2007<br>Acidente=%{x}<br>Mortos=%{marker.size}<extra></extra>\",\"ids\":[2007],\"legendgroup\":\"RR\",\"marker\":{\"color\":\"#EF553B\",\"size\":[51],\"sizemode\":\"area\",\"sizeref\":3.36,\"symbol\":\"circle\"},\"mode\":\"markers\",\"name\":\"RR\",\"orientation\":\"v\",\"showlegend\":true,\"type\":\"scatter\",\"x\":[458],\"xaxis\":\"x\",\"y\":[51],\"yaxis\":\"y\"},{\"hovertemplate\":\"Estado=RS<br>Ano=2007<br>Acidente=%{x}<br>Mortos=%{marker.size}<extra></extra>\",\"ids\":[2007],\"legendgroup\":\"RS\",\"marker\":{\"color\":\"#00cc96\",\"size\":[353],\"sizemode\":\"area\",\"sizeref\":3.36,\"symbol\":\"circle\"},\"mode\":\"markers\",\"name\":\"RS\",\"orientation\":\"v\",\"showlegend\":true,\"type\":\"scatter\",\"x\":[11038],\"xaxis\":\"x\",\"y\":[353],\"yaxis\":\"y\"},{\"hovertemplate\":\"Estado=SC<br>Ano=2007<br>Acidente=%{x}<br>Mortos=%{marker.size}<extra></extra>\",\"ids\":[2007],\"legendgroup\":\"SC\",\"marker\":{\"color\":\"#ab63fa\",\"size\":[587],\"sizemode\":\"area\",\"sizeref\":3.36,\"symbol\":\"circle\"},\"mode\":\"markers\",\"name\":\"SC\",\"orientation\":\"v\",\"showlegend\":true,\"type\":\"scatter\",\"x\":[14585],\"xaxis\":\"x\",\"y\":[587],\"yaxis\":\"y\"},{\"hovertemplate\":\"Estado=SE<br>Ano=2007<br>Acidente=%{x}<br>Mortos=%{marker.size}<extra></extra>\",\"ids\":[2007],\"legendgroup\":\"SE\",\"marker\":{\"color\":\"#FFA15A\",\"size\":[102],\"sizemode\":\"area\",\"sizeref\":3.36,\"symbol\":\"circle\"},\"mode\":\"markers\",\"name\":\"SE\",\"orientation\":\"v\",\"showlegend\":true,\"type\":\"scatter\",\"x\":[1159],\"xaxis\":\"x\",\"y\":[102],\"yaxis\":\"y\"},{\"hovertemplate\":\"Estado=SP<br>Ano=2007<br>Acidente=%{x}<br>Mortos=%{marker.size}<extra></extra>\",\"ids\":[2007],\"legendgroup\":\"SP\",\"marker\":{\"color\":\"#19d3f3\",\"size\":[402],\"sizemode\":\"area\",\"sizeref\":3.36,\"symbol\":\"circle\"},\"mode\":\"markers\",\"name\":\"SP\",\"orientation\":\"v\",\"showlegend\":true,\"type\":\"scatter\",\"x\":[11109],\"xaxis\":\"x\",\"y\":[402],\"yaxis\":\"y\"},{\"hovertemplate\":\"Estado=TO<br>Ano=2007<br>Acidente=%{x}<br>Mortos=%{marker.size}<extra></extra>\",\"ids\":[2007],\"legendgroup\":\"TO\",\"marker\":{\"color\":\"#FF6692\",\"size\":[97],\"sizemode\":\"area\",\"sizeref\":3.36,\"symbol\":\"circle\"},\"mode\":\"markers\",\"name\":\"TO\",\"orientation\":\"v\",\"showlegend\":true,\"type\":\"scatter\",\"x\":[712],\"xaxis\":\"x\",\"y\":[97],\"yaxis\":\"y\"}],                        {\"legend\":{\"itemsizing\":\"constant\",\"title\":{\"text\":\"Estado\"},\"tracegroupgap\":0},\"sliders\":[{\"active\":0,\"currentvalue\":{\"prefix\":\"Ano=\"},\"len\":0.9,\"pad\":{\"b\":10,\"t\":60},\"steps\":[{\"args\":[[\"2007\"],{\"frame\":{\"duration\":0,\"redraw\":false},\"fromcurrent\":true,\"mode\":\"immediate\",\"transition\":{\"duration\":0,\"easing\":\"linear\"}}],\"label\":\"2007\",\"method\":\"animate\"},{\"args\":[[\"2008\"],{\"frame\":{\"duration\":0,\"redraw\":false},\"fromcurrent\":true,\"mode\":\"immediate\",\"transition\":{\"duration\":0,\"easing\":\"linear\"}}],\"label\":\"2008\",\"method\":\"animate\"},{\"args\":[[\"2009\"],{\"frame\":{\"duration\":0,\"redraw\":false},\"fromcurrent\":true,\"mode\":\"immediate\",\"transition\":{\"duration\":0,\"easing\":\"linear\"}}],\"label\":\"2009\",\"method\":\"animate\"},{\"args\":[[\"2010\"],{\"frame\":{\"duration\":0,\"redraw\":false},\"fromcurrent\":true,\"mode\":\"immediate\",\"transition\":{\"duration\":0,\"easing\":\"linear\"}}],\"label\":\"2010\",\"method\":\"animate\"},{\"args\":[[\"2011\"],{\"frame\":{\"duration\":0,\"redraw\":false},\"fromcurrent\":true,\"mode\":\"immediate\",\"transition\":{\"duration\":0,\"easing\":\"linear\"}}],\"label\":\"2011\",\"method\":\"animate\"},{\"args\":[[\"2012\"],{\"frame\":{\"duration\":0,\"redraw\":false},\"fromcurrent\":true,\"mode\":\"immediate\",\"transition\":{\"duration\":0,\"easing\":\"linear\"}}],\"label\":\"2012\",\"method\":\"animate\"},{\"args\":[[\"2013\"],{\"frame\":{\"duration\":0,\"redraw\":false},\"fromcurrent\":true,\"mode\":\"immediate\",\"transition\":{\"duration\":0,\"easing\":\"linear\"}}],\"label\":\"2013\",\"method\":\"animate\"},{\"args\":[[\"2014\"],{\"frame\":{\"duration\":0,\"redraw\":false},\"fromcurrent\":true,\"mode\":\"immediate\",\"transition\":{\"duration\":0,\"easing\":\"linear\"}}],\"label\":\"2014\",\"method\":\"animate\"},{\"args\":[[\"2015\"],{\"frame\":{\"duration\":0,\"redraw\":false},\"fromcurrent\":true,\"mode\":\"immediate\",\"transition\":{\"duration\":0,\"easing\":\"linear\"}}],\"label\":\"2015\",\"method\":\"animate\"},{\"args\":[[\"2016\"],{\"frame\":{\"duration\":0,\"redraw\":false},\"fromcurrent\":true,\"mode\":\"immediate\",\"transition\":{\"duration\":0,\"easing\":\"linear\"}}],\"label\":\"2016\",\"method\":\"animate\"},{\"args\":[[\"2017\"],{\"frame\":{\"duration\":0,\"redraw\":false},\"fromcurrent\":true,\"mode\":\"immediate\",\"transition\":{\"duration\":0,\"easing\":\"linear\"}}],\"label\":\"2017\",\"method\":\"animate\"},{\"args\":[[\"2018\"],{\"frame\":{\"duration\":0,\"redraw\":false},\"fromcurrent\":true,\"mode\":\"immediate\",\"transition\":{\"duration\":0,\"easing\":\"linear\"}}],\"label\":\"2018\",\"method\":\"animate\"},{\"args\":[[\"2019\"],{\"frame\":{\"duration\":0,\"redraw\":false},\"fromcurrent\":true,\"mode\":\"immediate\",\"transition\":{\"duration\":0,\"easing\":\"linear\"}}],\"label\":\"2019\",\"method\":\"animate\"},{\"args\":[[\"2020\"],{\"frame\":{\"duration\":0,\"redraw\":false},\"fromcurrent\":true,\"mode\":\"immediate\",\"transition\":{\"duration\":0,\"easing\":\"linear\"}}],\"label\":\"2020\",\"method\":\"animate\"},{\"args\":[[\"2021\"],{\"frame\":{\"duration\":0,\"redraw\":false},\"fromcurrent\":true,\"mode\":\"immediate\",\"transition\":{\"duration\":0,\"easing\":\"linear\"}}],\"label\":\"2021\",\"method\":\"animate\"}],\"x\":0.1,\"xanchor\":\"left\",\"y\":0,\"yanchor\":\"top\"}],\"template\":{\"data\":{\"bar\":[{\"error_x\":{\"color\":\"#2a3f5f\"},\"error_y\":{\"color\":\"#2a3f5f\"},\"marker\":{\"line\":{\"color\":\"#E5ECF6\",\"width\":0.5},\"pattern\":{\"fillmode\":\"overlay\",\"size\":10,\"solidity\":0.2}},\"type\":\"bar\"}],\"barpolar\":[{\"marker\":{\"line\":{\"color\":\"#E5ECF6\",\"width\":0.5},\"pattern\":{\"fillmode\":\"overlay\",\"size\":10,\"solidity\":0.2}},\"type\":\"barpolar\"}],\"carpet\":[{\"aaxis\":{\"endlinecolor\":\"#2a3f5f\",\"gridcolor\":\"white\",\"linecolor\":\"white\",\"minorgridcolor\":\"white\",\"startlinecolor\":\"#2a3f5f\"},\"baxis\":{\"endlinecolor\":\"#2a3f5f\",\"gridcolor\":\"white\",\"linecolor\":\"white\",\"minorgridcolor\":\"white\",\"startlinecolor\":\"#2a3f5f\"},\"type\":\"carpet\"}],\"choropleth\":[{\"colorbar\":{\"outlinewidth\":0,\"ticks\":\"\"},\"type\":\"choropleth\"}],\"contour\":[{\"colorbar\":{\"outlinewidth\":0,\"ticks\":\"\"},\"colorscale\":[[0.0,\"#0d0887\"],[0.1111111111111111,\"#46039f\"],[0.2222222222222222,\"#7201a8\"],[0.3333333333333333,\"#9c179e\"],[0.4444444444444444,\"#bd3786\"],[0.5555555555555556,\"#d8576b\"],[0.6666666666666666,\"#ed7953\"],[0.7777777777777778,\"#fb9f3a\"],[0.8888888888888888,\"#fdca26\"],[1.0,\"#f0f921\"]],\"type\":\"contour\"}],\"contourcarpet\":[{\"colorbar\":{\"outlinewidth\":0,\"ticks\":\"\"},\"type\":\"contourcarpet\"}],\"heatmap\":[{\"colorbar\":{\"outlinewidth\":0,\"ticks\":\"\"},\"colorscale\":[[0.0,\"#0d0887\"],[0.1111111111111111,\"#46039f\"],[0.2222222222222222,\"#7201a8\"],[0.3333333333333333,\"#9c179e\"],[0.4444444444444444,\"#bd3786\"],[0.5555555555555556,\"#d8576b\"],[0.6666666666666666,\"#ed7953\"],[0.7777777777777778,\"#fb9f3a\"],[0.8888888888888888,\"#fdca26\"],[1.0,\"#f0f921\"]],\"type\":\"heatmap\"}],\"heatmapgl\":[{\"colorbar\":{\"outlinewidth\":0,\"ticks\":\"\"},\"colorscale\":[[0.0,\"#0d0887\"],[0.1111111111111111,\"#46039f\"],[0.2222222222222222,\"#7201a8\"],[0.3333333333333333,\"#9c179e\"],[0.4444444444444444,\"#bd3786\"],[0.5555555555555556,\"#d8576b\"],[0.6666666666666666,\"#ed7953\"],[0.7777777777777778,\"#fb9f3a\"],[0.8888888888888888,\"#fdca26\"],[1.0,\"#f0f921\"]],\"type\":\"heatmapgl\"}],\"histogram\":[{\"marker\":{\"pattern\":{\"fillmode\":\"overlay\",\"size\":10,\"solidity\":0.2}},\"type\":\"histogram\"}],\"histogram2d\":[{\"colorbar\":{\"outlinewidth\":0,\"ticks\":\"\"},\"colorscale\":[[0.0,\"#0d0887\"],[0.1111111111111111,\"#46039f\"],[0.2222222222222222,\"#7201a8\"],[0.3333333333333333,\"#9c179e\"],[0.4444444444444444,\"#bd3786\"],[0.5555555555555556,\"#d8576b\"],[0.6666666666666666,\"#ed7953\"],[0.7777777777777778,\"#fb9f3a\"],[0.8888888888888888,\"#fdca26\"],[1.0,\"#f0f921\"]],\"type\":\"histogram2d\"}],\"histogram2dcontour\":[{\"colorbar\":{\"outlinewidth\":0,\"ticks\":\"\"},\"colorscale\":[[0.0,\"#0d0887\"],[0.1111111111111111,\"#46039f\"],[0.2222222222222222,\"#7201a8\"],[0.3333333333333333,\"#9c179e\"],[0.4444444444444444,\"#bd3786\"],[0.5555555555555556,\"#d8576b\"],[0.6666666666666666,\"#ed7953\"],[0.7777777777777778,\"#fb9f3a\"],[0.8888888888888888,\"#fdca26\"],[1.0,\"#f0f921\"]],\"type\":\"histogram2dcontour\"}],\"mesh3d\":[{\"colorbar\":{\"outlinewidth\":0,\"ticks\":\"\"},\"type\":\"mesh3d\"}],\"parcoords\":[{\"line\":{\"colorbar\":{\"outlinewidth\":0,\"ticks\":\"\"}},\"type\":\"parcoords\"}],\"pie\":[{\"automargin\":true,\"type\":\"pie\"}],\"scatter\":[{\"marker\":{\"colorbar\":{\"outlinewidth\":0,\"ticks\":\"\"}},\"type\":\"scatter\"}],\"scatter3d\":[{\"line\":{\"colorbar\":{\"outlinewidth\":0,\"ticks\":\"\"}},\"marker\":{\"colorbar\":{\"outlinewidth\":0,\"ticks\":\"\"}},\"type\":\"scatter3d\"}],\"scattercarpet\":[{\"marker\":{\"colorbar\":{\"outlinewidth\":0,\"ticks\":\"\"}},\"type\":\"scattercarpet\"}],\"scattergeo\":[{\"marker\":{\"colorbar\":{\"outlinewidth\":0,\"ticks\":\"\"}},\"type\":\"scattergeo\"}],\"scattergl\":[{\"marker\":{\"colorbar\":{\"outlinewidth\":0,\"ticks\":\"\"}},\"type\":\"scattergl\"}],\"scattermapbox\":[{\"marker\":{\"colorbar\":{\"outlinewidth\":0,\"ticks\":\"\"}},\"type\":\"scattermapbox\"}],\"scatterpolar\":[{\"marker\":{\"colorbar\":{\"outlinewidth\":0,\"ticks\":\"\"}},\"type\":\"scatterpolar\"}],\"scatterpolargl\":[{\"marker\":{\"colorbar\":{\"outlinewidth\":0,\"ticks\":\"\"}},\"type\":\"scatterpolargl\"}],\"scatterternary\":[{\"marker\":{\"colorbar\":{\"outlinewidth\":0,\"ticks\":\"\"}},\"type\":\"scatterternary\"}],\"surface\":[{\"colorbar\":{\"outlinewidth\":0,\"ticks\":\"\"},\"colorscale\":[[0.0,\"#0d0887\"],[0.1111111111111111,\"#46039f\"],[0.2222222222222222,\"#7201a8\"],[0.3333333333333333,\"#9c179e\"],[0.4444444444444444,\"#bd3786\"],[0.5555555555555556,\"#d8576b\"],[0.6666666666666666,\"#ed7953\"],[0.7777777777777778,\"#fb9f3a\"],[0.8888888888888888,\"#fdca26\"],[1.0,\"#f0f921\"]],\"type\":\"surface\"}],\"table\":[{\"cells\":{\"fill\":{\"color\":\"#EBF0F8\"},\"line\":{\"color\":\"white\"}},\"header\":{\"fill\":{\"color\":\"#C8D4E3\"},\"line\":{\"color\":\"white\"}},\"type\":\"table\"}]},\"layout\":{\"annotationdefaults\":{\"arrowcolor\":\"#2a3f5f\",\"arrowhead\":0,\"arrowwidth\":1},\"autotypenumbers\":\"strict\",\"coloraxis\":{\"colorbar\":{\"outlinewidth\":0,\"ticks\":\"\"}},\"colorscale\":{\"diverging\":[[0,\"#8e0152\"],[0.1,\"#c51b7d\"],[0.2,\"#de77ae\"],[0.3,\"#f1b6da\"],[0.4,\"#fde0ef\"],[0.5,\"#f7f7f7\"],[0.6,\"#e6f5d0\"],[0.7,\"#b8e186\"],[0.8,\"#7fbc41\"],[0.9,\"#4d9221\"],[1,\"#276419\"]],\"sequential\":[[0.0,\"#0d0887\"],[0.1111111111111111,\"#46039f\"],[0.2222222222222222,\"#7201a8\"],[0.3333333333333333,\"#9c179e\"],[0.4444444444444444,\"#bd3786\"],[0.5555555555555556,\"#d8576b\"],[0.6666666666666666,\"#ed7953\"],[0.7777777777777778,\"#fb9f3a\"],[0.8888888888888888,\"#fdca26\"],[1.0,\"#f0f921\"]],\"sequentialminus\":[[0.0,\"#0d0887\"],[0.1111111111111111,\"#46039f\"],[0.2222222222222222,\"#7201a8\"],[0.3333333333333333,\"#9c179e\"],[0.4444444444444444,\"#bd3786\"],[0.5555555555555556,\"#d8576b\"],[0.6666666666666666,\"#ed7953\"],[0.7777777777777778,\"#fb9f3a\"],[0.8888888888888888,\"#fdca26\"],[1.0,\"#f0f921\"]]},\"colorway\":[\"#636efa\",\"#EF553B\",\"#00cc96\",\"#ab63fa\",\"#FFA15A\",\"#19d3f3\",\"#FF6692\",\"#B6E880\",\"#FF97FF\",\"#FECB52\"],\"font\":{\"color\":\"#2a3f5f\"},\"geo\":{\"bgcolor\":\"white\",\"lakecolor\":\"white\",\"landcolor\":\"#E5ECF6\",\"showlakes\":true,\"showland\":true,\"subunitcolor\":\"white\"},\"hoverlabel\":{\"align\":\"left\"},\"hovermode\":\"closest\",\"mapbox\":{\"style\":\"light\"},\"paper_bgcolor\":\"white\",\"plot_bgcolor\":\"#E5ECF6\",\"polar\":{\"angularaxis\":{\"gridcolor\":\"white\",\"linecolor\":\"white\",\"ticks\":\"\"},\"bgcolor\":\"#E5ECF6\",\"radialaxis\":{\"gridcolor\":\"white\",\"linecolor\":\"white\",\"ticks\":\"\"}},\"scene\":{\"xaxis\":{\"backgroundcolor\":\"#E5ECF6\",\"gridcolor\":\"white\",\"gridwidth\":2,\"linecolor\":\"white\",\"showbackground\":true,\"ticks\":\"\",\"zerolinecolor\":\"white\"},\"yaxis\":{\"backgroundcolor\":\"#E5ECF6\",\"gridcolor\":\"white\",\"gridwidth\":2,\"linecolor\":\"white\",\"showbackground\":true,\"ticks\":\"\",\"zerolinecolor\":\"white\"},\"zaxis\":{\"backgroundcolor\":\"#E5ECF6\",\"gridcolor\":\"white\",\"gridwidth\":2,\"linecolor\":\"white\",\"showbackground\":true,\"ticks\":\"\",\"zerolinecolor\":\"white\"}},\"shapedefaults\":{\"line\":{\"color\":\"#2a3f5f\"}},\"ternary\":{\"aaxis\":{\"gridcolor\":\"white\",\"linecolor\":\"white\",\"ticks\":\"\"},\"baxis\":{\"gridcolor\":\"white\",\"linecolor\":\"white\",\"ticks\":\"\"},\"bgcolor\":\"#E5ECF6\",\"caxis\":{\"gridcolor\":\"white\",\"linecolor\":\"white\",\"ticks\":\"\"}},\"title\":{\"x\":0.05},\"xaxis\":{\"automargin\":true,\"gridcolor\":\"white\",\"linecolor\":\"white\",\"ticks\":\"\",\"title\":{\"standoff\":15},\"zerolinecolor\":\"white\",\"zerolinewidth\":2},\"yaxis\":{\"automargin\":true,\"gridcolor\":\"white\",\"linecolor\":\"white\",\"ticks\":\"\",\"title\":{\"standoff\":15},\"zerolinecolor\":\"white\",\"zerolinewidth\":2}}},\"title\":{\"text\":\"Ocorr\\u00eancias de acidente por mortes no Brasil\"},\"updatemenus\":[{\"buttons\":[{\"args\":[null,{\"frame\":{\"duration\":500,\"redraw\":false},\"fromcurrent\":true,\"mode\":\"immediate\",\"transition\":{\"duration\":500,\"easing\":\"linear\"}}],\"label\":\"&#9654;\",\"method\":\"animate\"},{\"args\":[[null],{\"frame\":{\"duration\":0,\"redraw\":false},\"fromcurrent\":true,\"mode\":\"immediate\",\"transition\":{\"duration\":0,\"easing\":\"linear\"}}],\"label\":\"&#9724;\",\"method\":\"animate\"}],\"direction\":\"left\",\"pad\":{\"r\":10,\"t\":70},\"showactive\":false,\"type\":\"buttons\",\"x\":0.1,\"xanchor\":\"right\",\"y\":0,\"yanchor\":\"top\"}],\"xaxis\":{\"anchor\":\"y\",\"domain\":[0.0,1.0],\"nticks\":5,\"range\":[0,27446],\"title\":{\"text\":\"Acidente\"}},\"yaxis\":{\"anchor\":\"x\",\"domain\":[0.0,1.0],\"nticks\":5,\"range\":[0,1364],\"title\":{\"text\":\"Mortos\"}}},                        {\"responsive\": true}                    ).then(function(){\n",
       "                            Plotly.addFrames('232af78a-e027-4154-915b-45d7f440d15b', [{\"data\":[{\"hovertemplate\":\"Estado=AC<br>Ano=2007<br>Acidente=%{x}<br>Mortos=%{marker.size}<extra></extra>\",\"ids\":[2007],\"legendgroup\":\"AC\",\"marker\":{\"color\":\"#636efa\",\"size\":[20],\"sizemode\":\"area\",\"sizeref\":3.36,\"symbol\":\"circle\"},\"mode\":\"markers\",\"name\":\"AC\",\"orientation\":\"v\",\"showlegend\":true,\"type\":\"scatter\",\"x\":[324],\"xaxis\":\"x\",\"y\":[20],\"yaxis\":\"y\"},{\"hovertemplate\":\"Estado=AL<br>Ano=2007<br>Acidente=%{x}<br>Mortos=%{marker.size}<extra></extra>\",\"ids\":[2007],\"legendgroup\":\"AL\",\"marker\":{\"color\":\"#EF553B\",\"size\":[132],\"sizemode\":\"area\",\"sizeref\":3.36,\"symbol\":\"circle\"},\"mode\":\"markers\",\"name\":\"AL\",\"orientation\":\"v\",\"showlegend\":true,\"type\":\"scatter\",\"x\":[1604],\"xaxis\":\"x\",\"y\":[132],\"yaxis\":\"y\"},{\"hovertemplate\":\"Estado=AM<br>Ano=2007<br>Acidente=%{x}<br>Mortos=%{marker.size}<extra></extra>\",\"ids\":[2007],\"legendgroup\":\"AM\",\"marker\":{\"color\":\"#00cc96\",\"size\":[12],\"sizemode\":\"area\",\"sizeref\":3.36,\"symbol\":\"circle\"},\"mode\":\"markers\",\"name\":\"AM\",\"orientation\":\"v\",\"showlegend\":true,\"type\":\"scatter\",\"x\":[173],\"xaxis\":\"x\",\"y\":[12],\"yaxis\":\"y\"},{\"hovertemplate\":\"Estado=AP<br>Ano=2007<br>Acidente=%{x}<br>Mortos=%{marker.size}<extra></extra>\",\"ids\":[2007],\"legendgroup\":\"AP\",\"marker\":{\"color\":\"#ab63fa\",\"size\":[15],\"sizemode\":\"area\",\"sizeref\":3.36,\"symbol\":\"circle\"},\"mode\":\"markers\",\"name\":\"AP\",\"orientation\":\"v\",\"showlegend\":true,\"type\":\"scatter\",\"x\":[150],\"xaxis\":\"x\",\"y\":[15],\"yaxis\":\"y\"},{\"hovertemplate\":\"Estado=BA<br>Ano=2007<br>Acidente=%{x}<br>Mortos=%{marker.size}<extra></extra>\",\"ids\":[2007],\"legendgroup\":\"BA\",\"marker\":{\"color\":\"#FFA15A\",\"size\":[605],\"sizemode\":\"area\",\"sizeref\":3.36,\"symbol\":\"circle\"},\"mode\":\"markers\",\"name\":\"BA\",\"orientation\":\"v\",\"showlegend\":true,\"type\":\"scatter\",\"x\":[7088],\"xaxis\":\"x\",\"y\":[605],\"yaxis\":\"y\"},{\"hovertemplate\":\"Estado=CE<br>Ano=2007<br>Acidente=%{x}<br>Mortos=%{marker.size}<extra></extra>\",\"ids\":[2007],\"legendgroup\":\"CE\",\"marker\":{\"color\":\"#19d3f3\",\"size\":[182],\"sizemode\":\"area\",\"sizeref\":3.36,\"symbol\":\"circle\"},\"mode\":\"markers\",\"name\":\"CE\",\"orientation\":\"v\",\"showlegend\":true,\"type\":\"scatter\",\"x\":[2261],\"xaxis\":\"x\",\"y\":[182],\"yaxis\":\"y\"},{\"hovertemplate\":\"Estado=DF<br>Ano=2007<br>Acidente=%{x}<br>Mortos=%{marker.size}<extra></extra>\",\"ids\":[2007],\"legendgroup\":\"DF\",\"marker\":{\"color\":\"#FF6692\",\"size\":[67],\"sizemode\":\"area\",\"sizeref\":3.36,\"symbol\":\"circle\"},\"mode\":\"markers\",\"name\":\"DF\",\"orientation\":\"v\",\"showlegend\":true,\"type\":\"scatter\",\"x\":[1139],\"xaxis\":\"x\",\"y\":[67],\"yaxis\":\"y\"},{\"hovertemplate\":\"Estado=ES<br>Ano=2007<br>Acidente=%{x}<br>Mortos=%{marker.size}<extra></extra>\",\"ids\":[2007],\"legendgroup\":\"ES\",\"marker\":{\"color\":\"#B6E880\",\"size\":[217],\"sizemode\":\"area\",\"sizeref\":3.36,\"symbol\":\"circle\"},\"mode\":\"markers\",\"name\":\"ES\",\"orientation\":\"v\",\"showlegend\":true,\"type\":\"scatter\",\"x\":[6243],\"xaxis\":\"x\",\"y\":[217],\"yaxis\":\"y\"},{\"hovertemplate\":\"Estado=GO<br>Ano=2007<br>Acidente=%{x}<br>Mortos=%{marker.size}<extra></extra>\",\"ids\":[2007],\"legendgroup\":\"GO\",\"marker\":{\"color\":\"#FF97FF\",\"size\":[325],\"sizemode\":\"area\",\"sizeref\":3.36,\"symbol\":\"circle\"},\"mode\":\"markers\",\"name\":\"GO\",\"orientation\":\"v\",\"showlegend\":true,\"type\":\"scatter\",\"x\":[5608],\"xaxis\":\"x\",\"y\":[325],\"yaxis\":\"y\"},{\"hovertemplate\":\"Estado=MA<br>Ano=2007<br>Acidente=%{x}<br>Mortos=%{marker.size}<extra></extra>\",\"ids\":[2007],\"legendgroup\":\"MA\",\"marker\":{\"color\":\"#FECB52\",\"size\":[277],\"sizemode\":\"area\",\"sizeref\":3.36,\"symbol\":\"circle\"},\"mode\":\"markers\",\"name\":\"MA\",\"orientation\":\"v\",\"showlegend\":true,\"type\":\"scatter\",\"x\":[2112],\"xaxis\":\"x\",\"y\":[277],\"yaxis\":\"y\"},{\"hovertemplate\":\"Estado=MG<br>Ano=2007<br>Acidente=%{x}<br>Mortos=%{marker.size}<extra></extra>\",\"ids\":[2007],\"legendgroup\":\"MG\",\"marker\":{\"color\":\"#636efa\",\"size\":[1032],\"sizemode\":\"area\",\"sizeref\":3.36,\"symbol\":\"circle\"},\"mode\":\"markers\",\"name\":\"MG\",\"orientation\":\"v\",\"showlegend\":true,\"type\":\"scatter\",\"x\":[20601],\"xaxis\":\"x\",\"y\":[1032],\"yaxis\":\"y\"},{\"hovertemplate\":\"Estado=MS<br>Ano=2007<br>Acidente=%{x}<br>Mortos=%{marker.size}<extra></extra>\",\"ids\":[2007],\"legendgroup\":\"MS\",\"marker\":{\"color\":\"#EF553B\",\"size\":[155],\"sizemode\":\"area\",\"sizeref\":3.36,\"symbol\":\"circle\"},\"mode\":\"markers\",\"name\":\"MS\",\"orientation\":\"v\",\"showlegend\":true,\"type\":\"scatter\",\"x\":[2299],\"xaxis\":\"x\",\"y\":[155],\"yaxis\":\"y\"},{\"hovertemplate\":\"Estado=MT<br>Ano=2007<br>Acidente=%{x}<br>Mortos=%{marker.size}<extra></extra>\",\"ids\":[2007],\"legendgroup\":\"MT\",\"marker\":{\"color\":\"#00cc96\",\"size\":[223],\"sizemode\":\"area\",\"sizeref\":3.36,\"symbol\":\"circle\"},\"mode\":\"markers\",\"name\":\"MT\",\"orientation\":\"v\",\"showlegend\":true,\"type\":\"scatter\",\"x\":[2638],\"xaxis\":\"x\",\"y\":[223],\"yaxis\":\"y\"},{\"hovertemplate\":\"Estado=PA<br>Ano=2007<br>Acidente=%{x}<br>Mortos=%{marker.size}<extra></extra>\",\"ids\":[2007],\"legendgroup\":\"PA\",\"marker\":{\"color\":\"#ab63fa\",\"size\":[151],\"sizemode\":\"area\",\"sizeref\":3.36,\"symbol\":\"circle\"},\"mode\":\"markers\",\"name\":\"PA\",\"orientation\":\"v\",\"showlegend\":true,\"type\":\"scatter\",\"x\":[3128],\"xaxis\":\"x\",\"y\":[151],\"yaxis\":\"y\"},{\"hovertemplate\":\"Estado=PB<br>Ano=2007<br>Acidente=%{x}<br>Mortos=%{marker.size}<extra></extra>\",\"ids\":[2007],\"legendgroup\":\"PB\",\"marker\":{\"color\":\"#FFA15A\",\"size\":[164],\"sizemode\":\"area\",\"sizeref\":3.36,\"symbol\":\"circle\"},\"mode\":\"markers\",\"name\":\"PB\",\"orientation\":\"v\",\"showlegend\":true,\"type\":\"scatter\",\"x\":[2696],\"xaxis\":\"x\",\"y\":[164],\"yaxis\":\"y\"},{\"hovertemplate\":\"Estado=PE<br>Ano=2007<br>Acidente=%{x}<br>Mortos=%{marker.size}<extra></extra>\",\"ids\":[2007],\"legendgroup\":\"PE\",\"marker\":{\"color\":\"#19d3f3\",\"size\":[356],\"sizemode\":\"area\",\"sizeref\":3.36,\"symbol\":\"circle\"},\"mode\":\"markers\",\"name\":\"PE\",\"orientation\":\"v\",\"showlegend\":true,\"type\":\"scatter\",\"x\":[4765],\"xaxis\":\"x\",\"y\":[356],\"yaxis\":\"y\"},{\"hovertemplate\":\"Estado=PI<br>Ano=2007<br>Acidente=%{x}<br>Mortos=%{marker.size}<extra></extra>\",\"ids\":[2007],\"legendgroup\":\"PI\",\"marker\":{\"color\":\"#FF6692\",\"size\":[148],\"sizemode\":\"area\",\"sizeref\":3.36,\"symbol\":\"circle\"},\"mode\":\"markers\",\"name\":\"PI\",\"orientation\":\"v\",\"showlegend\":true,\"type\":\"scatter\",\"x\":[1881],\"xaxis\":\"x\",\"y\":[148],\"yaxis\":\"y\"},{\"hovertemplate\":\"Estado=PR<br>Ano=2007<br>Acidente=%{x}<br>Mortos=%{marker.size}<extra></extra>\",\"ids\":[2007],\"legendgroup\":\"PR\",\"marker\":{\"color\":\"#B6E880\",\"size\":[333],\"sizemode\":\"area\",\"sizeref\":3.36,\"symbol\":\"circle\"},\"mode\":\"markers\",\"name\":\"PR\",\"orientation\":\"v\",\"showlegend\":true,\"type\":\"scatter\",\"x\":[7073],\"xaxis\":\"x\",\"y\":[333],\"yaxis\":\"y\"},{\"hovertemplate\":\"Estado=RJ<br>Ano=2007<br>Acidente=%{x}<br>Mortos=%{marker.size}<extra></extra>\",\"ids\":[2007],\"legendgroup\":\"RJ\",\"marker\":{\"color\":\"#FF97FF\",\"size\":[480],\"sizemode\":\"area\",\"sizeref\":3.36,\"symbol\":\"circle\"},\"mode\":\"markers\",\"name\":\"RJ\",\"orientation\":\"v\",\"showlegend\":true,\"type\":\"scatter\",\"x\":[11670],\"xaxis\":\"x\",\"y\":[480],\"yaxis\":\"y\"},{\"hovertemplate\":\"Estado=RN<br>Ano=2007<br>Acidente=%{x}<br>Mortos=%{marker.size}<extra></extra>\",\"ids\":[2007],\"legendgroup\":\"RN\",\"marker\":{\"color\":\"#FECB52\",\"size\":[168],\"sizemode\":\"area\",\"sizeref\":3.36,\"symbol\":\"circle\"},\"mode\":\"markers\",\"name\":\"RN\",\"orientation\":\"v\",\"showlegend\":true,\"type\":\"scatter\",\"x\":[3067],\"xaxis\":\"x\",\"y\":[168],\"yaxis\":\"y\"},{\"hovertemplate\":\"Estado=RO<br>Ano=2007<br>Acidente=%{x}<br>Mortos=%{marker.size}<extra></extra>\",\"ids\":[2007],\"legendgroup\":\"RO\",\"marker\":{\"color\":\"#636efa\",\"size\":[85],\"sizemode\":\"area\",\"sizeref\":3.36,\"symbol\":\"circle\"},\"mode\":\"markers\",\"name\":\"RO\",\"orientation\":\"v\",\"showlegend\":true,\"type\":\"scatter\",\"x\":[2082],\"xaxis\":\"x\",\"y\":[85],\"yaxis\":\"y\"},{\"hovertemplate\":\"Estado=RR<br>Ano=2007<br>Acidente=%{x}<br>Mortos=%{marker.size}<extra></extra>\",\"ids\":[2007],\"legendgroup\":\"RR\",\"marker\":{\"color\":\"#EF553B\",\"size\":[51],\"sizemode\":\"area\",\"sizeref\":3.36,\"symbol\":\"circle\"},\"mode\":\"markers\",\"name\":\"RR\",\"orientation\":\"v\",\"showlegend\":true,\"type\":\"scatter\",\"x\":[458],\"xaxis\":\"x\",\"y\":[51],\"yaxis\":\"y\"},{\"hovertemplate\":\"Estado=RS<br>Ano=2007<br>Acidente=%{x}<br>Mortos=%{marker.size}<extra></extra>\",\"ids\":[2007],\"legendgroup\":\"RS\",\"marker\":{\"color\":\"#00cc96\",\"size\":[353],\"sizemode\":\"area\",\"sizeref\":3.36,\"symbol\":\"circle\"},\"mode\":\"markers\",\"name\":\"RS\",\"orientation\":\"v\",\"showlegend\":true,\"type\":\"scatter\",\"x\":[11038],\"xaxis\":\"x\",\"y\":[353],\"yaxis\":\"y\"},{\"hovertemplate\":\"Estado=SC<br>Ano=2007<br>Acidente=%{x}<br>Mortos=%{marker.size}<extra></extra>\",\"ids\":[2007],\"legendgroup\":\"SC\",\"marker\":{\"color\":\"#ab63fa\",\"size\":[587],\"sizemode\":\"area\",\"sizeref\":3.36,\"symbol\":\"circle\"},\"mode\":\"markers\",\"name\":\"SC\",\"orientation\":\"v\",\"showlegend\":true,\"type\":\"scatter\",\"x\":[14585],\"xaxis\":\"x\",\"y\":[587],\"yaxis\":\"y\"},{\"hovertemplate\":\"Estado=SE<br>Ano=2007<br>Acidente=%{x}<br>Mortos=%{marker.size}<extra></extra>\",\"ids\":[2007],\"legendgroup\":\"SE\",\"marker\":{\"color\":\"#FFA15A\",\"size\":[102],\"sizemode\":\"area\",\"sizeref\":3.36,\"symbol\":\"circle\"},\"mode\":\"markers\",\"name\":\"SE\",\"orientation\":\"v\",\"showlegend\":true,\"type\":\"scatter\",\"x\":[1159],\"xaxis\":\"x\",\"y\":[102],\"yaxis\":\"y\"},{\"hovertemplate\":\"Estado=SP<br>Ano=2007<br>Acidente=%{x}<br>Mortos=%{marker.size}<extra></extra>\",\"ids\":[2007],\"legendgroup\":\"SP\",\"marker\":{\"color\":\"#19d3f3\",\"size\":[402],\"sizemode\":\"area\",\"sizeref\":3.36,\"symbol\":\"circle\"},\"mode\":\"markers\",\"name\":\"SP\",\"orientation\":\"v\",\"showlegend\":true,\"type\":\"scatter\",\"x\":[11109],\"xaxis\":\"x\",\"y\":[402],\"yaxis\":\"y\"},{\"hovertemplate\":\"Estado=TO<br>Ano=2007<br>Acidente=%{x}<br>Mortos=%{marker.size}<extra></extra>\",\"ids\":[2007],\"legendgroup\":\"TO\",\"marker\":{\"color\":\"#FF6692\",\"size\":[97],\"sizemode\":\"area\",\"sizeref\":3.36,\"symbol\":\"circle\"},\"mode\":\"markers\",\"name\":\"TO\",\"orientation\":\"v\",\"showlegend\":true,\"type\":\"scatter\",\"x\":[712],\"xaxis\":\"x\",\"y\":[97],\"yaxis\":\"y\"}],\"name\":\"2007\"},{\"data\":[{\"hovertemplate\":\"Estado=AC<br>Ano=2008<br>Acidente=%{x}<br>Mortos=%{marker.size}<extra></extra>\",\"ids\":[2008],\"legendgroup\":\"AC\",\"marker\":{\"color\":\"#636efa\",\"size\":[13],\"sizemode\":\"area\",\"sizeref\":3.36,\"symbol\":\"circle\"},\"mode\":\"markers\",\"name\":\"AC\",\"orientation\":\"v\",\"showlegend\":true,\"type\":\"scatter\",\"x\":[353],\"xaxis\":\"x\",\"y\":[13],\"yaxis\":\"y\"},{\"hovertemplate\":\"Estado=AL<br>Ano=2008<br>Acidente=%{x}<br>Mortos=%{marker.size}<extra></extra>\",\"ids\":[2008],\"legendgroup\":\"AL\",\"marker\":{\"color\":\"#EF553B\",\"size\":[102],\"sizemode\":\"area\",\"sizeref\":3.36,\"symbol\":\"circle\"},\"mode\":\"markers\",\"name\":\"AL\",\"orientation\":\"v\",\"showlegend\":true,\"type\":\"scatter\",\"x\":[1778],\"xaxis\":\"x\",\"y\":[102],\"yaxis\":\"y\"},{\"hovertemplate\":\"Estado=AM<br>Ano=2008<br>Acidente=%{x}<br>Mortos=%{marker.size}<extra></extra>\",\"ids\":[2008],\"legendgroup\":\"AM\",\"marker\":{\"color\":\"#00cc96\",\"size\":[11],\"sizemode\":\"area\",\"sizeref\":3.36,\"symbol\":\"circle\"},\"mode\":\"markers\",\"name\":\"AM\",\"orientation\":\"v\",\"showlegend\":true,\"type\":\"scatter\",\"x\":[194],\"xaxis\":\"x\",\"y\":[11],\"yaxis\":\"y\"},{\"hovertemplate\":\"Estado=AP<br>Ano=2008<br>Acidente=%{x}<br>Mortos=%{marker.size}<extra></extra>\",\"ids\":[2008],\"legendgroup\":\"AP\",\"marker\":{\"color\":\"#ab63fa\",\"size\":[13],\"sizemode\":\"area\",\"sizeref\":3.36,\"symbol\":\"circle\"},\"mode\":\"markers\",\"name\":\"AP\",\"orientation\":\"v\",\"showlegend\":true,\"type\":\"scatter\",\"x\":[168],\"xaxis\":\"x\",\"y\":[13],\"yaxis\":\"y\"},{\"hovertemplate\":\"Estado=BA<br>Ano=2008<br>Acidente=%{x}<br>Mortos=%{marker.size}<extra></extra>\",\"ids\":[2008],\"legendgroup\":\"BA\",\"marker\":{\"color\":\"#FFA15A\",\"size\":[660],\"sizemode\":\"area\",\"sizeref\":3.36,\"symbol\":\"circle\"},\"mode\":\"markers\",\"name\":\"BA\",\"orientation\":\"v\",\"showlegend\":true,\"type\":\"scatter\",\"x\":[7629],\"xaxis\":\"x\",\"y\":[660],\"yaxis\":\"y\"},{\"hovertemplate\":\"Estado=CE<br>Ano=2008<br>Acidente=%{x}<br>Mortos=%{marker.size}<extra></extra>\",\"ids\":[2008],\"legendgroup\":\"CE\",\"marker\":{\"color\":\"#19d3f3\",\"size\":[193],\"sizemode\":\"area\",\"sizeref\":3.36,\"symbol\":\"circle\"},\"mode\":\"markers\",\"name\":\"CE\",\"orientation\":\"v\",\"showlegend\":true,\"type\":\"scatter\",\"x\":[2691],\"xaxis\":\"x\",\"y\":[193],\"yaxis\":\"y\"},{\"hovertemplate\":\"Estado=DF<br>Ano=2008<br>Acidente=%{x}<br>Mortos=%{marker.size}<extra></extra>\",\"ids\":[2008],\"legendgroup\":\"DF\",\"marker\":{\"color\":\"#FF6692\",\"size\":[49],\"sizemode\":\"area\",\"sizeref\":3.36,\"symbol\":\"circle\"},\"mode\":\"markers\",\"name\":\"DF\",\"orientation\":\"v\",\"showlegend\":true,\"type\":\"scatter\",\"x\":[1044],\"xaxis\":\"x\",\"y\":[49],\"yaxis\":\"y\"},{\"hovertemplate\":\"Estado=ES<br>Ano=2008<br>Acidente=%{x}<br>Mortos=%{marker.size}<extra></extra>\",\"ids\":[2008],\"legendgroup\":\"ES\",\"marker\":{\"color\":\"#B6E880\",\"size\":[208],\"sizemode\":\"area\",\"sizeref\":3.36,\"symbol\":\"circle\"},\"mode\":\"markers\",\"name\":\"ES\",\"orientation\":\"v\",\"showlegend\":true,\"type\":\"scatter\",\"x\":[6380],\"xaxis\":\"x\",\"y\":[208],\"yaxis\":\"y\"},{\"hovertemplate\":\"Estado=GO<br>Ano=2008<br>Acidente=%{x}<br>Mortos=%{marker.size}<extra></extra>\",\"ids\":[2008],\"legendgroup\":\"GO\",\"marker\":{\"color\":\"#FF97FF\",\"size\":[391],\"sizemode\":\"area\",\"sizeref\":3.36,\"symbol\":\"circle\"},\"mode\":\"markers\",\"name\":\"GO\",\"orientation\":\"v\",\"showlegend\":true,\"type\":\"scatter\",\"x\":[6455],\"xaxis\":\"x\",\"y\":[391],\"yaxis\":\"y\"},{\"hovertemplate\":\"Estado=MA<br>Ano=2008<br>Acidente=%{x}<br>Mortos=%{marker.size}<extra></extra>\",\"ids\":[2008],\"legendgroup\":\"MA\",\"marker\":{\"color\":\"#FECB52\",\"size\":[248],\"sizemode\":\"area\",\"sizeref\":3.36,\"symbol\":\"circle\"},\"mode\":\"markers\",\"name\":\"MA\",\"orientation\":\"v\",\"showlegend\":true,\"type\":\"scatter\",\"x\":[2292],\"xaxis\":\"x\",\"y\":[248],\"yaxis\":\"y\"},{\"hovertemplate\":\"Estado=MG<br>Ano=2008<br>Acidente=%{x}<br>Mortos=%{marker.size}<extra></extra>\",\"ids\":[2008],\"legendgroup\":\"MG\",\"marker\":{\"color\":\"#636efa\",\"size\":[1142],\"sizemode\":\"area\",\"sizeref\":3.36,\"symbol\":\"circle\"},\"mode\":\"markers\",\"name\":\"MG\",\"orientation\":\"v\",\"showlegend\":true,\"type\":\"scatter\",\"x\":[22710],\"xaxis\":\"x\",\"y\":[1142],\"yaxis\":\"y\"},{\"hovertemplate\":\"Estado=MS<br>Ano=2008<br>Acidente=%{x}<br>Mortos=%{marker.size}<extra></extra>\",\"ids\":[2008],\"legendgroup\":\"MS\",\"marker\":{\"color\":\"#EF553B\",\"size\":[174],\"sizemode\":\"area\",\"sizeref\":3.36,\"symbol\":\"circle\"},\"mode\":\"markers\",\"name\":\"MS\",\"orientation\":\"v\",\"showlegend\":true,\"type\":\"scatter\",\"x\":[2635],\"xaxis\":\"x\",\"y\":[174],\"yaxis\":\"y\"},{\"hovertemplate\":\"Estado=MT<br>Ano=2008<br>Acidente=%{x}<br>Mortos=%{marker.size}<extra></extra>\",\"ids\":[2008],\"legendgroup\":\"MT\",\"marker\":{\"color\":\"#00cc96\",\"size\":[233],\"sizemode\":\"area\",\"sizeref\":3.36,\"symbol\":\"circle\"},\"mode\":\"markers\",\"name\":\"MT\",\"orientation\":\"v\",\"showlegend\":true,\"type\":\"scatter\",\"x\":[3110],\"xaxis\":\"x\",\"y\":[233],\"yaxis\":\"y\"},{\"hovertemplate\":\"Estado=PA<br>Ano=2008<br>Acidente=%{x}<br>Mortos=%{marker.size}<extra></extra>\",\"ids\":[2008],\"legendgroup\":\"PA\",\"marker\":{\"color\":\"#ab63fa\",\"size\":[174],\"sizemode\":\"area\",\"sizeref\":3.36,\"symbol\":\"circle\"},\"mode\":\"markers\",\"name\":\"PA\",\"orientation\":\"v\",\"showlegend\":true,\"type\":\"scatter\",\"x\":[3299],\"xaxis\":\"x\",\"y\":[174],\"yaxis\":\"y\"},{\"hovertemplate\":\"Estado=PB<br>Ano=2008<br>Acidente=%{x}<br>Mortos=%{marker.size}<extra></extra>\",\"ids\":[2008],\"legendgroup\":\"PB\",\"marker\":{\"color\":\"#FFA15A\",\"size\":[185],\"sizemode\":\"area\",\"sizeref\":3.36,\"symbol\":\"circle\"},\"mode\":\"markers\",\"name\":\"PB\",\"orientation\":\"v\",\"showlegend\":true,\"type\":\"scatter\",\"x\":[3325],\"xaxis\":\"x\",\"y\":[185],\"yaxis\":\"y\"},{\"hovertemplate\":\"Estado=PE<br>Ano=2008<br>Acidente=%{x}<br>Mortos=%{marker.size}<extra></extra>\",\"ids\":[2008],\"legendgroup\":\"PE\",\"marker\":{\"color\":\"#19d3f3\",\"size\":[376],\"sizemode\":\"area\",\"sizeref\":3.36,\"symbol\":\"circle\"},\"mode\":\"markers\",\"name\":\"PE\",\"orientation\":\"v\",\"showlegend\":true,\"type\":\"scatter\",\"x\":[5320],\"xaxis\":\"x\",\"y\":[376],\"yaxis\":\"y\"},{\"hovertemplate\":\"Estado=PI<br>Ano=2008<br>Acidente=%{x}<br>Mortos=%{marker.size}<extra></extra>\",\"ids\":[2008],\"legendgroup\":\"PI\",\"marker\":{\"color\":\"#FF6692\",\"size\":[165],\"sizemode\":\"area\",\"sizeref\":3.36,\"symbol\":\"circle\"},\"mode\":\"markers\",\"name\":\"PI\",\"orientation\":\"v\",\"showlegend\":true,\"type\":\"scatter\",\"x\":[2030],\"xaxis\":\"x\",\"y\":[165],\"yaxis\":\"y\"},{\"hovertemplate\":\"Estado=PR<br>Ano=2008<br>Acidente=%{x}<br>Mortos=%{marker.size}<extra></extra>\",\"ids\":[2008],\"legendgroup\":\"PR\",\"marker\":{\"color\":\"#B6E880\",\"size\":[292],\"sizemode\":\"area\",\"sizeref\":3.36,\"symbol\":\"circle\"},\"mode\":\"markers\",\"name\":\"PR\",\"orientation\":\"v\",\"showlegend\":true,\"type\":\"scatter\",\"x\":[9683],\"xaxis\":\"x\",\"y\":[292],\"yaxis\":\"y\"},{\"hovertemplate\":\"Estado=RJ<br>Ano=2008<br>Acidente=%{x}<br>Mortos=%{marker.size}<extra></extra>\",\"ids\":[2008],\"legendgroup\":\"RJ\",\"marker\":{\"color\":\"#FF97FF\",\"size\":[487],\"sizemode\":\"area\",\"sizeref\":3.36,\"symbol\":\"circle\"},\"mode\":\"markers\",\"name\":\"RJ\",\"orientation\":\"v\",\"showlegend\":true,\"type\":\"scatter\",\"x\":[13434],\"xaxis\":\"x\",\"y\":[487],\"yaxis\":\"y\"},{\"hovertemplate\":\"Estado=RN<br>Ano=2008<br>Acidente=%{x}<br>Mortos=%{marker.size}<extra></extra>\",\"ids\":[2008],\"legendgroup\":\"RN\",\"marker\":{\"color\":\"#FECB52\",\"size\":[139],\"sizemode\":\"area\",\"sizeref\":3.36,\"symbol\":\"circle\"},\"mode\":\"markers\",\"name\":\"RN\",\"orientation\":\"v\",\"showlegend\":true,\"type\":\"scatter\",\"x\":[2873],\"xaxis\":\"x\",\"y\":[139],\"yaxis\":\"y\"},{\"hovertemplate\":\"Estado=RO<br>Ano=2008<br>Acidente=%{x}<br>Mortos=%{marker.size}<extra></extra>\",\"ids\":[2008],\"legendgroup\":\"RO\",\"marker\":{\"color\":\"#636efa\",\"size\":[117],\"sizemode\":\"area\",\"sizeref\":3.36,\"symbol\":\"circle\"},\"mode\":\"markers\",\"name\":\"RO\",\"orientation\":\"v\",\"showlegend\":true,\"type\":\"scatter\",\"x\":[2430],\"xaxis\":\"x\",\"y\":[117],\"yaxis\":\"y\"},{\"hovertemplate\":\"Estado=RR<br>Ano=2008<br>Acidente=%{x}<br>Mortos=%{marker.size}<extra></extra>\",\"ids\":[2008],\"legendgroup\":\"RR\",\"marker\":{\"color\":\"#EF553B\",\"size\":[33],\"sizemode\":\"area\",\"sizeref\":3.36,\"symbol\":\"circle\"},\"mode\":\"markers\",\"name\":\"RR\",\"orientation\":\"v\",\"showlegend\":true,\"type\":\"scatter\",\"x\":[313],\"xaxis\":\"x\",\"y\":[33],\"yaxis\":\"y\"},{\"hovertemplate\":\"Estado=RS<br>Ano=2008<br>Acidente=%{x}<br>Mortos=%{marker.size}<extra></extra>\",\"ids\":[2008],\"legendgroup\":\"RS\",\"marker\":{\"color\":\"#00cc96\",\"size\":[398],\"sizemode\":\"area\",\"sizeref\":3.36,\"symbol\":\"circle\"},\"mode\":\"markers\",\"name\":\"RS\",\"orientation\":\"v\",\"showlegend\":true,\"type\":\"scatter\",\"x\":[11254],\"xaxis\":\"x\",\"y\":[398],\"yaxis\":\"y\"},{\"hovertemplate\":\"Estado=SC<br>Ano=2008<br>Acidente=%{x}<br>Mortos=%{marker.size}<extra></extra>\",\"ids\":[2008],\"legendgroup\":\"SC\",\"marker\":{\"color\":\"#ab63fa\",\"size\":[539],\"sizemode\":\"area\",\"sizeref\":3.36,\"symbol\":\"circle\"},\"mode\":\"markers\",\"name\":\"SC\",\"orientation\":\"v\",\"showlegend\":true,\"type\":\"scatter\",\"x\":[15596],\"xaxis\":\"x\",\"y\":[539],\"yaxis\":\"y\"},{\"hovertemplate\":\"Estado=SE<br>Ano=2008<br>Acidente=%{x}<br>Mortos=%{marker.size}<extra></extra>\",\"ids\":[2008],\"legendgroup\":\"SE\",\"marker\":{\"color\":\"#FFA15A\",\"size\":[81],\"sizemode\":\"area\",\"sizeref\":3.36,\"symbol\":\"circle\"},\"mode\":\"markers\",\"name\":\"SE\",\"orientation\":\"v\",\"showlegend\":true,\"type\":\"scatter\",\"x\":[1232],\"xaxis\":\"x\",\"y\":[81],\"yaxis\":\"y\"},{\"hovertemplate\":\"Estado=SP<br>Ano=2008<br>Acidente=%{x}<br>Mortos=%{marker.size}<extra></extra>\",\"ids\":[2008],\"legendgroup\":\"SP\",\"marker\":{\"color\":\"#19d3f3\",\"size\":[394],\"sizemode\":\"area\",\"sizeref\":3.36,\"symbol\":\"circle\"},\"mode\":\"markers\",\"name\":\"SP\",\"orientation\":\"v\",\"showlegend\":true,\"type\":\"scatter\",\"x\":[11980],\"xaxis\":\"x\",\"y\":[394],\"yaxis\":\"y\"},{\"hovertemplate\":\"Estado=TO<br>Ano=2008<br>Acidente=%{x}<br>Mortos=%{marker.size}<extra></extra>\",\"ids\":[2008],\"legendgroup\":\"TO\",\"marker\":{\"color\":\"#FF6692\",\"size\":[97],\"sizemode\":\"area\",\"sizeref\":3.36,\"symbol\":\"circle\"},\"mode\":\"markers\",\"name\":\"TO\",\"orientation\":\"v\",\"showlegend\":true,\"type\":\"scatter\",\"x\":[823],\"xaxis\":\"x\",\"y\":[97],\"yaxis\":\"y\"}],\"name\":\"2008\"},{\"data\":[{\"hovertemplate\":\"Estado=AC<br>Ano=2009<br>Acidente=%{x}<br>Mortos=%{marker.size}<extra></extra>\",\"ids\":[2009],\"legendgroup\":\"AC\",\"marker\":{\"color\":\"#636efa\",\"size\":[31],\"sizemode\":\"area\",\"sizeref\":3.36,\"symbol\":\"circle\"},\"mode\":\"markers\",\"name\":\"AC\",\"orientation\":\"v\",\"showlegend\":true,\"type\":\"scatter\",\"x\":[365],\"xaxis\":\"x\",\"y\":[31],\"yaxis\":\"y\"},{\"hovertemplate\":\"Estado=AL<br>Ano=2009<br>Acidente=%{x}<br>Mortos=%{marker.size}<extra></extra>\",\"ids\":[2009],\"legendgroup\":\"AL\",\"marker\":{\"color\":\"#EF553B\",\"size\":[125],\"sizemode\":\"area\",\"sizeref\":3.36,\"symbol\":\"circle\"},\"mode\":\"markers\",\"name\":\"AL\",\"orientation\":\"v\",\"showlegend\":true,\"type\":\"scatter\",\"x\":[1914],\"xaxis\":\"x\",\"y\":[125],\"yaxis\":\"y\"},{\"hovertemplate\":\"Estado=AM<br>Ano=2009<br>Acidente=%{x}<br>Mortos=%{marker.size}<extra></extra>\",\"ids\":[2009],\"legendgroup\":\"AM\",\"marker\":{\"color\":\"#00cc96\",\"size\":[11],\"sizemode\":\"area\",\"sizeref\":3.36,\"symbol\":\"circle\"},\"mode\":\"markers\",\"name\":\"AM\",\"orientation\":\"v\",\"showlegend\":true,\"type\":\"scatter\",\"x\":[199],\"xaxis\":\"x\",\"y\":[11],\"yaxis\":\"y\"},{\"hovertemplate\":\"Estado=AP<br>Ano=2009<br>Acidente=%{x}<br>Mortos=%{marker.size}<extra></extra>\",\"ids\":[2009],\"legendgroup\":\"AP\",\"marker\":{\"color\":\"#ab63fa\",\"size\":[9],\"sizemode\":\"area\",\"sizeref\":3.36,\"symbol\":\"circle\"},\"mode\":\"markers\",\"name\":\"AP\",\"orientation\":\"v\",\"showlegend\":true,\"type\":\"scatter\",\"x\":[161],\"xaxis\":\"x\",\"y\":[9],\"yaxis\":\"y\"},{\"hovertemplate\":\"Estado=BA<br>Ano=2009<br>Acidente=%{x}<br>Mortos=%{marker.size}<extra></extra>\",\"ids\":[2009],\"legendgroup\":\"BA\",\"marker\":{\"color\":\"#FFA15A\",\"size\":[638],\"sizemode\":\"area\",\"sizeref\":3.36,\"symbol\":\"circle\"},\"mode\":\"markers\",\"name\":\"BA\",\"orientation\":\"v\",\"showlegend\":true,\"type\":\"scatter\",\"x\":[8208],\"xaxis\":\"x\",\"y\":[638],\"yaxis\":\"y\"},{\"hovertemplate\":\"Estado=CE<br>Ano=2009<br>Acidente=%{x}<br>Mortos=%{marker.size}<extra></extra>\",\"ids\":[2009],\"legendgroup\":\"CE\",\"marker\":{\"color\":\"#19d3f3\",\"size\":[141],\"sizemode\":\"area\",\"sizeref\":3.36,\"symbol\":\"circle\"},\"mode\":\"markers\",\"name\":\"CE\",\"orientation\":\"v\",\"showlegend\":true,\"type\":\"scatter\",\"x\":[2913],\"xaxis\":\"x\",\"y\":[141],\"yaxis\":\"y\"},{\"hovertemplate\":\"Estado=DF<br>Ano=2009<br>Acidente=%{x}<br>Mortos=%{marker.size}<extra></extra>\",\"ids\":[2009],\"legendgroup\":\"DF\",\"marker\":{\"color\":\"#FF6692\",\"size\":[43],\"sizemode\":\"area\",\"sizeref\":3.36,\"symbol\":\"circle\"},\"mode\":\"markers\",\"name\":\"DF\",\"orientation\":\"v\",\"showlegend\":true,\"type\":\"scatter\",\"x\":[1227],\"xaxis\":\"x\",\"y\":[43],\"yaxis\":\"y\"},{\"hovertemplate\":\"Estado=ES<br>Ano=2009<br>Acidente=%{x}<br>Mortos=%{marker.size}<extra></extra>\",\"ids\":[2009],\"legendgroup\":\"ES\",\"marker\":{\"color\":\"#B6E880\",\"size\":[220],\"sizemode\":\"area\",\"sizeref\":3.36,\"symbol\":\"circle\"},\"mode\":\"markers\",\"name\":\"ES\",\"orientation\":\"v\",\"showlegend\":true,\"type\":\"scatter\",\"x\":[6746],\"xaxis\":\"x\",\"y\":[220],\"yaxis\":\"y\"},{\"hovertemplate\":\"Estado=GO<br>Ano=2009<br>Acidente=%{x}<br>Mortos=%{marker.size}<extra></extra>\",\"ids\":[2009],\"legendgroup\":\"GO\",\"marker\":{\"color\":\"#FF97FF\",\"size\":[451],\"sizemode\":\"area\",\"sizeref\":3.36,\"symbol\":\"circle\"},\"mode\":\"markers\",\"name\":\"GO\",\"orientation\":\"v\",\"showlegend\":true,\"type\":\"scatter\",\"x\":[7177],\"xaxis\":\"x\",\"y\":[451],\"yaxis\":\"y\"},{\"hovertemplate\":\"Estado=MA<br>Ano=2009<br>Acidente=%{x}<br>Mortos=%{marker.size}<extra></extra>\",\"ids\":[2009],\"legendgroup\":\"MA\",\"marker\":{\"color\":\"#FECB52\",\"size\":[279],\"sizemode\":\"area\",\"sizeref\":3.36,\"symbol\":\"circle\"},\"mode\":\"markers\",\"name\":\"MA\",\"orientation\":\"v\",\"showlegend\":true,\"type\":\"scatter\",\"x\":[2319],\"xaxis\":\"x\",\"y\":[279],\"yaxis\":\"y\"},{\"hovertemplate\":\"Estado=MG<br>Ano=2009<br>Acidente=%{x}<br>Mortos=%{marker.size}<extra></extra>\",\"ids\":[2009],\"legendgroup\":\"MG\",\"marker\":{\"color\":\"#636efa\",\"size\":[1214],\"sizemode\":\"area\",\"sizeref\":3.36,\"symbol\":\"circle\"},\"mode\":\"markers\",\"name\":\"MG\",\"orientation\":\"v\",\"showlegend\":true,\"type\":\"scatter\",\"x\":[25078],\"xaxis\":\"x\",\"y\":[1214],\"yaxis\":\"y\"},{\"hovertemplate\":\"Estado=MS<br>Ano=2009<br>Acidente=%{x}<br>Mortos=%{marker.size}<extra></extra>\",\"ids\":[2009],\"legendgroup\":\"MS\",\"marker\":{\"color\":\"#EF553B\",\"size\":[177],\"sizemode\":\"area\",\"sizeref\":3.36,\"symbol\":\"circle\"},\"mode\":\"markers\",\"name\":\"MS\",\"orientation\":\"v\",\"showlegend\":true,\"type\":\"scatter\",\"x\":[2836],\"xaxis\":\"x\",\"y\":[177],\"yaxis\":\"y\"},{\"hovertemplate\":\"Estado=MT<br>Ano=2009<br>Acidente=%{x}<br>Mortos=%{marker.size}<extra></extra>\",\"ids\":[2009],\"legendgroup\":\"MT\",\"marker\":{\"color\":\"#00cc96\",\"size\":[226],\"sizemode\":\"area\",\"sizeref\":3.36,\"symbol\":\"circle\"},\"mode\":\"markers\",\"name\":\"MT\",\"orientation\":\"v\",\"showlegend\":true,\"type\":\"scatter\",\"x\":[3564],\"xaxis\":\"x\",\"y\":[226],\"yaxis\":\"y\"},{\"hovertemplate\":\"Estado=PA<br>Ano=2009<br>Acidente=%{x}<br>Mortos=%{marker.size}<extra></extra>\",\"ids\":[2009],\"legendgroup\":\"PA\",\"marker\":{\"color\":\"#ab63fa\",\"size\":[169],\"sizemode\":\"area\",\"sizeref\":3.36,\"symbol\":\"circle\"},\"mode\":\"markers\",\"name\":\"PA\",\"orientation\":\"v\",\"showlegend\":true,\"type\":\"scatter\",\"x\":[3412],\"xaxis\":\"x\",\"y\":[169],\"yaxis\":\"y\"},{\"hovertemplate\":\"Estado=PB<br>Ano=2009<br>Acidente=%{x}<br>Mortos=%{marker.size}<extra></extra>\",\"ids\":[2009],\"legendgroup\":\"PB\",\"marker\":{\"color\":\"#FFA15A\",\"size\":[202],\"sizemode\":\"area\",\"sizeref\":3.36,\"symbol\":\"circle\"},\"mode\":\"markers\",\"name\":\"PB\",\"orientation\":\"v\",\"showlegend\":true,\"type\":\"scatter\",\"x\":[3546],\"xaxis\":\"x\",\"y\":[202],\"yaxis\":\"y\"},{\"hovertemplate\":\"Estado=PE<br>Ano=2009<br>Acidente=%{x}<br>Mortos=%{marker.size}<extra></extra>\",\"ids\":[2009],\"legendgroup\":\"PE\",\"marker\":{\"color\":\"#19d3f3\",\"size\":[429],\"sizemode\":\"area\",\"sizeref\":3.36,\"symbol\":\"circle\"},\"mode\":\"markers\",\"name\":\"PE\",\"orientation\":\"v\",\"showlegend\":true,\"type\":\"scatter\",\"x\":[5983],\"xaxis\":\"x\",\"y\":[429],\"yaxis\":\"y\"},{\"hovertemplate\":\"Estado=PI<br>Ano=2009<br>Acidente=%{x}<br>Mortos=%{marker.size}<extra></extra>\",\"ids\":[2009],\"legendgroup\":\"PI\",\"marker\":{\"color\":\"#FF6692\",\"size\":[199],\"sizemode\":\"area\",\"sizeref\":3.36,\"symbol\":\"circle\"},\"mode\":\"markers\",\"name\":\"PI\",\"orientation\":\"v\",\"showlegend\":true,\"type\":\"scatter\",\"x\":[2215],\"xaxis\":\"x\",\"y\":[199],\"yaxis\":\"y\"},{\"hovertemplate\":\"Estado=PR<br>Ano=2009<br>Acidente=%{x}<br>Mortos=%{marker.size}<extra></extra>\",\"ids\":[2009],\"legendgroup\":\"PR\",\"marker\":{\"color\":\"#B6E880\",\"size\":[558],\"sizemode\":\"area\",\"sizeref\":3.36,\"symbol\":\"circle\"},\"mode\":\"markers\",\"name\":\"PR\",\"orientation\":\"v\",\"showlegend\":true,\"type\":\"scatter\",\"x\":[15607],\"xaxis\":\"x\",\"y\":[558],\"yaxis\":\"y\"},{\"hovertemplate\":\"Estado=RJ<br>Ano=2009<br>Acidente=%{x}<br>Mortos=%{marker.size}<extra></extra>\",\"ids\":[2009],\"legendgroup\":\"RJ\",\"marker\":{\"color\":\"#FF97FF\",\"size\":[469],\"sizemode\":\"area\",\"sizeref\":3.36,\"symbol\":\"circle\"},\"mode\":\"markers\",\"name\":\"RJ\",\"orientation\":\"v\",\"showlegend\":true,\"type\":\"scatter\",\"x\":[14207],\"xaxis\":\"x\",\"y\":[469],\"yaxis\":\"y\"},{\"hovertemplate\":\"Estado=RN<br>Ano=2009<br>Acidente=%{x}<br>Mortos=%{marker.size}<extra></extra>\",\"ids\":[2009],\"legendgroup\":\"RN\",\"marker\":{\"color\":\"#FECB52\",\"size\":[140],\"sizemode\":\"area\",\"sizeref\":3.36,\"symbol\":\"circle\"},\"mode\":\"markers\",\"name\":\"RN\",\"orientation\":\"v\",\"showlegend\":true,\"type\":\"scatter\",\"x\":[3315],\"xaxis\":\"x\",\"y\":[140],\"yaxis\":\"y\"},{\"hovertemplate\":\"Estado=RO<br>Ano=2009<br>Acidente=%{x}<br>Mortos=%{marker.size}<extra></extra>\",\"ids\":[2009],\"legendgroup\":\"RO\",\"marker\":{\"color\":\"#636efa\",\"size\":[97],\"sizemode\":\"area\",\"sizeref\":3.36,\"symbol\":\"circle\"},\"mode\":\"markers\",\"name\":\"RO\",\"orientation\":\"v\",\"showlegend\":true,\"type\":\"scatter\",\"x\":[3094],\"xaxis\":\"x\",\"y\":[97],\"yaxis\":\"y\"},{\"hovertemplate\":\"Estado=RR<br>Ano=2009<br>Acidente=%{x}<br>Mortos=%{marker.size}<extra></extra>\",\"ids\":[2009],\"legendgroup\":\"RR\",\"marker\":{\"color\":\"#EF553B\",\"size\":[19],\"sizemode\":\"area\",\"sizeref\":3.36,\"symbol\":\"circle\"},\"mode\":\"markers\",\"name\":\"RR\",\"orientation\":\"v\",\"showlegend\":true,\"type\":\"scatter\",\"x\":[287],\"xaxis\":\"x\",\"y\":[19],\"yaxis\":\"y\"},{\"hovertemplate\":\"Estado=RS<br>Ano=2009<br>Acidente=%{x}<br>Mortos=%{marker.size}<extra></extra>\",\"ids\":[2009],\"legendgroup\":\"RS\",\"marker\":{\"color\":\"#00cc96\",\"size\":[379],\"sizemode\":\"area\",\"sizeref\":3.36,\"symbol\":\"circle\"},\"mode\":\"markers\",\"name\":\"RS\",\"orientation\":\"v\",\"showlegend\":true,\"type\":\"scatter\",\"x\":[11715],\"xaxis\":\"x\",\"y\":[379],\"yaxis\":\"y\"},{\"hovertemplate\":\"Estado=SC<br>Ano=2009<br>Acidente=%{x}<br>Mortos=%{marker.size}<extra></extra>\",\"ids\":[2009],\"legendgroup\":\"SC\",\"marker\":{\"color\":\"#ab63fa\",\"size\":[563],\"sizemode\":\"area\",\"sizeref\":3.36,\"symbol\":\"circle\"},\"mode\":\"markers\",\"name\":\"SC\",\"orientation\":\"v\",\"showlegend\":true,\"type\":\"scatter\",\"x\":[17895],\"xaxis\":\"x\",\"y\":[563],\"yaxis\":\"y\"},{\"hovertemplate\":\"Estado=SE<br>Ano=2009<br>Acidente=%{x}<br>Mortos=%{marker.size}<extra></extra>\",\"ids\":[2009],\"legendgroup\":\"SE\",\"marker\":{\"color\":\"#FFA15A\",\"size\":[77],\"sizemode\":\"area\",\"sizeref\":3.36,\"symbol\":\"circle\"},\"mode\":\"markers\",\"name\":\"SE\",\"orientation\":\"v\",\"showlegend\":true,\"type\":\"scatter\",\"x\":[1201],\"xaxis\":\"x\",\"y\":[77],\"yaxis\":\"y\"},{\"hovertemplate\":\"Estado=SP<br>Ano=2009<br>Acidente=%{x}<br>Mortos=%{marker.size}<extra></extra>\",\"ids\":[2009],\"legendgroup\":\"SP\",\"marker\":{\"color\":\"#19d3f3\",\"size\":[382],\"sizemode\":\"area\",\"sizeref\":3.36,\"symbol\":\"circle\"},\"mode\":\"markers\",\"name\":\"SP\",\"orientation\":\"v\",\"showlegend\":true,\"type\":\"scatter\",\"x\":[12473],\"xaxis\":\"x\",\"y\":[382],\"yaxis\":\"y\"},{\"hovertemplate\":\"Estado=TO<br>Ano=2009<br>Acidente=%{x}<br>Mortos=%{marker.size}<extra></extra>\",\"ids\":[2009],\"legendgroup\":\"TO\",\"marker\":{\"color\":\"#FF6692\",\"size\":[93],\"sizemode\":\"area\",\"sizeref\":3.36,\"symbol\":\"circle\"},\"mode\":\"markers\",\"name\":\"TO\",\"orientation\":\"v\",\"showlegend\":true,\"type\":\"scatter\",\"x\":[977],\"xaxis\":\"x\",\"y\":[93],\"yaxis\":\"y\"}],\"name\":\"2009\"},{\"data\":[{\"hovertemplate\":\"Estado=AC<br>Ano=2010<br>Acidente=%{x}<br>Mortos=%{marker.size}<extra></extra>\",\"ids\":[2010],\"legendgroup\":\"AC\",\"marker\":{\"color\":\"#636efa\",\"size\":[14],\"sizemode\":\"area\",\"sizeref\":3.36,\"symbol\":\"circle\"},\"mode\":\"markers\",\"name\":\"AC\",\"orientation\":\"v\",\"showlegend\":true,\"type\":\"scatter\",\"x\":[462],\"xaxis\":\"x\",\"y\":[14],\"yaxis\":\"y\"},{\"hovertemplate\":\"Estado=AL<br>Ano=2010<br>Acidente=%{x}<br>Mortos=%{marker.size}<extra></extra>\",\"ids\":[2010],\"legendgroup\":\"AL\",\"marker\":{\"color\":\"#EF553B\",\"size\":[153],\"sizemode\":\"area\",\"sizeref\":3.36,\"symbol\":\"circle\"},\"mode\":\"markers\",\"name\":\"AL\",\"orientation\":\"v\",\"showlegend\":true,\"type\":\"scatter\",\"x\":[2277],\"xaxis\":\"x\",\"y\":[153],\"yaxis\":\"y\"},{\"hovertemplate\":\"Estado=AM<br>Ano=2010<br>Acidente=%{x}<br>Mortos=%{marker.size}<extra></extra>\",\"ids\":[2010],\"legendgroup\":\"AM\",\"marker\":{\"color\":\"#00cc96\",\"size\":[18],\"sizemode\":\"area\",\"sizeref\":3.36,\"symbol\":\"circle\"},\"mode\":\"markers\",\"name\":\"AM\",\"orientation\":\"v\",\"showlegend\":true,\"type\":\"scatter\",\"x\":[239],\"xaxis\":\"x\",\"y\":[18],\"yaxis\":\"y\"},{\"hovertemplate\":\"Estado=AP<br>Ano=2010<br>Acidente=%{x}<br>Mortos=%{marker.size}<extra></extra>\",\"ids\":[2010],\"legendgroup\":\"AP\",\"marker\":{\"color\":\"#ab63fa\",\"size\":[12],\"sizemode\":\"area\",\"sizeref\":3.36,\"symbol\":\"circle\"},\"mode\":\"markers\",\"name\":\"AP\",\"orientation\":\"v\",\"showlegend\":true,\"type\":\"scatter\",\"x\":[162],\"xaxis\":\"x\",\"y\":[12],\"yaxis\":\"y\"},{\"hovertemplate\":\"Estado=BA<br>Ano=2010<br>Acidente=%{x}<br>Mortos=%{marker.size}<extra></extra>\",\"ids\":[2010],\"legendgroup\":\"BA\",\"marker\":{\"color\":\"#FFA15A\",\"size\":[813],\"sizemode\":\"area\",\"sizeref\":3.36,\"symbol\":\"circle\"},\"mode\":\"markers\",\"name\":\"BA\",\"orientation\":\"v\",\"showlegend\":true,\"type\":\"scatter\",\"x\":[9439],\"xaxis\":\"x\",\"y\":[813],\"yaxis\":\"y\"},{\"hovertemplate\":\"Estado=CE<br>Ano=2010<br>Acidente=%{x}<br>Mortos=%{marker.size}<extra></extra>\",\"ids\":[2010],\"legendgroup\":\"CE\",\"marker\":{\"color\":\"#19d3f3\",\"size\":[276],\"sizemode\":\"area\",\"sizeref\":3.36,\"symbol\":\"circle\"},\"mode\":\"markers\",\"name\":\"CE\",\"orientation\":\"v\",\"showlegend\":true,\"type\":\"scatter\",\"x\":[3784],\"xaxis\":\"x\",\"y\":[276],\"yaxis\":\"y\"},{\"hovertemplate\":\"Estado=DF<br>Ano=2010<br>Acidente=%{x}<br>Mortos=%{marker.size}<extra></extra>\",\"ids\":[2010],\"legendgroup\":\"DF\",\"marker\":{\"color\":\"#FF6692\",\"size\":[41],\"sizemode\":\"area\",\"sizeref\":3.36,\"symbol\":\"circle\"},\"mode\":\"markers\",\"name\":\"DF\",\"orientation\":\"v\",\"showlegend\":true,\"type\":\"scatter\",\"x\":[1299],\"xaxis\":\"x\",\"y\":[41],\"yaxis\":\"y\"},{\"hovertemplate\":\"Estado=ES<br>Ano=2010<br>Acidente=%{x}<br>Mortos=%{marker.size}<extra></extra>\",\"ids\":[2010],\"legendgroup\":\"ES\",\"marker\":{\"color\":\"#B6E880\",\"size\":[315],\"sizemode\":\"area\",\"sizeref\":3.36,\"symbol\":\"circle\"},\"mode\":\"markers\",\"name\":\"ES\",\"orientation\":\"v\",\"showlegend\":true,\"type\":\"scatter\",\"x\":[7830],\"xaxis\":\"x\",\"y\":[315],\"yaxis\":\"y\"},{\"hovertemplate\":\"Estado=GO<br>Ano=2010<br>Acidente=%{x}<br>Mortos=%{marker.size}<extra></extra>\",\"ids\":[2010],\"legendgroup\":\"GO\",\"marker\":{\"color\":\"#FF97FF\",\"size\":[515],\"sizemode\":\"area\",\"sizeref\":3.36,\"symbol\":\"circle\"},\"mode\":\"markers\",\"name\":\"GO\",\"orientation\":\"v\",\"showlegend\":true,\"type\":\"scatter\",\"x\":[8011],\"xaxis\":\"x\",\"y\":[515],\"yaxis\":\"y\"},{\"hovertemplate\":\"Estado=MA<br>Ano=2010<br>Acidente=%{x}<br>Mortos=%{marker.size}<extra></extra>\",\"ids\":[2010],\"legendgroup\":\"MA\",\"marker\":{\"color\":\"#FECB52\",\"size\":[298],\"sizemode\":\"area\",\"sizeref\":3.36,\"symbol\":\"circle\"},\"mode\":\"markers\",\"name\":\"MA\",\"orientation\":\"v\",\"showlegend\":true,\"type\":\"scatter\",\"x\":[2604],\"xaxis\":\"x\",\"y\":[298],\"yaxis\":\"y\"},{\"hovertemplate\":\"Estado=MG<br>Ano=2010<br>Acidente=%{x}<br>Mortos=%{marker.size}<extra></extra>\",\"ids\":[2010],\"legendgroup\":\"MG\",\"marker\":{\"color\":\"#636efa\",\"size\":[1344],\"sizemode\":\"area\",\"sizeref\":3.36,\"symbol\":\"circle\"},\"mode\":\"markers\",\"name\":\"MG\",\"orientation\":\"v\",\"showlegend\":true,\"type\":\"scatter\",\"x\":[27377],\"xaxis\":\"x\",\"y\":[1344],\"yaxis\":\"y\"},{\"hovertemplate\":\"Estado=MS<br>Ano=2010<br>Acidente=%{x}<br>Mortos=%{marker.size}<extra></extra>\",\"ids\":[2010],\"legendgroup\":\"MS\",\"marker\":{\"color\":\"#EF553B\",\"size\":[197],\"sizemode\":\"area\",\"sizeref\":3.36,\"symbol\":\"circle\"},\"mode\":\"markers\",\"name\":\"MS\",\"orientation\":\"v\",\"showlegend\":true,\"type\":\"scatter\",\"x\":[3506],\"xaxis\":\"x\",\"y\":[197],\"yaxis\":\"y\"},{\"hovertemplate\":\"Estado=MT<br>Ano=2010<br>Acidente=%{x}<br>Mortos=%{marker.size}<extra></extra>\",\"ids\":[2010],\"legendgroup\":\"MT\",\"marker\":{\"color\":\"#00cc96\",\"size\":[234],\"sizemode\":\"area\",\"sizeref\":3.36,\"symbol\":\"circle\"},\"mode\":\"markers\",\"name\":\"MT\",\"orientation\":\"v\",\"showlegend\":true,\"type\":\"scatter\",\"x\":[3744],\"xaxis\":\"x\",\"y\":[234],\"yaxis\":\"y\"},{\"hovertemplate\":\"Estado=PA<br>Ano=2010<br>Acidente=%{x}<br>Mortos=%{marker.size}<extra></extra>\",\"ids\":[2010],\"legendgroup\":\"PA\",\"marker\":{\"color\":\"#ab63fa\",\"size\":[202],\"sizemode\":\"area\",\"sizeref\":3.36,\"symbol\":\"circle\"},\"mode\":\"markers\",\"name\":\"PA\",\"orientation\":\"v\",\"showlegend\":true,\"type\":\"scatter\",\"x\":[4291],\"xaxis\":\"x\",\"y\":[202],\"yaxis\":\"y\"},{\"hovertemplate\":\"Estado=PB<br>Ano=2010<br>Acidente=%{x}<br>Mortos=%{marker.size}<extra></extra>\",\"ids\":[2010],\"legendgroup\":\"PB\",\"marker\":{\"color\":\"#FFA15A\",\"size\":[194],\"sizemode\":\"area\",\"sizeref\":3.36,\"symbol\":\"circle\"},\"mode\":\"markers\",\"name\":\"PB\",\"orientation\":\"v\",\"showlegend\":true,\"type\":\"scatter\",\"x\":[3856],\"xaxis\":\"x\",\"y\":[194],\"yaxis\":\"y\"},{\"hovertemplate\":\"Estado=PE<br>Ano=2010<br>Acidente=%{x}<br>Mortos=%{marker.size}<extra></extra>\",\"ids\":[2010],\"legendgroup\":\"PE\",\"marker\":{\"color\":\"#19d3f3\",\"size\":[475],\"sizemode\":\"area\",\"sizeref\":3.36,\"symbol\":\"circle\"},\"mode\":\"markers\",\"name\":\"PE\",\"orientation\":\"v\",\"showlegend\":true,\"type\":\"scatter\",\"x\":[7358],\"xaxis\":\"x\",\"y\":[475],\"yaxis\":\"y\"},{\"hovertemplate\":\"Estado=PI<br>Ano=2010<br>Acidente=%{x}<br>Mortos=%{marker.size}<extra></extra>\",\"ids\":[2010],\"legendgroup\":\"PI\",\"marker\":{\"color\":\"#FF6692\",\"size\":[208],\"sizemode\":\"area\",\"sizeref\":3.36,\"symbol\":\"circle\"},\"mode\":\"markers\",\"name\":\"PI\",\"orientation\":\"v\",\"showlegend\":true,\"type\":\"scatter\",\"x\":[2642],\"xaxis\":\"x\",\"y\":[208],\"yaxis\":\"y\"},{\"hovertemplate\":\"Estado=PR<br>Ano=2010<br>Acidente=%{x}<br>Mortos=%{marker.size}<extra></extra>\",\"ids\":[2010],\"legendgroup\":\"PR\",\"marker\":{\"color\":\"#B6E880\",\"size\":[723],\"sizemode\":\"area\",\"sizeref\":3.36,\"symbol\":\"circle\"},\"mode\":\"markers\",\"name\":\"PR\",\"orientation\":\"v\",\"showlegend\":true,\"type\":\"scatter\",\"x\":[20984],\"xaxis\":\"x\",\"y\":[723],\"yaxis\":\"y\"},{\"hovertemplate\":\"Estado=RJ<br>Ano=2010<br>Acidente=%{x}<br>Mortos=%{marker.size}<extra></extra>\",\"ids\":[2010],\"legendgroup\":\"RJ\",\"marker\":{\"color\":\"#FF97FF\",\"size\":[532],\"sizemode\":\"area\",\"sizeref\":3.36,\"symbol\":\"circle\"},\"mode\":\"markers\",\"name\":\"RJ\",\"orientation\":\"v\",\"showlegend\":true,\"type\":\"scatter\",\"x\":[16435],\"xaxis\":\"x\",\"y\":[532],\"yaxis\":\"y\"},{\"hovertemplate\":\"Estado=RN<br>Ano=2010<br>Acidente=%{x}<br>Mortos=%{marker.size}<extra></extra>\",\"ids\":[2010],\"legendgroup\":\"RN\",\"marker\":{\"color\":\"#FECB52\",\"size\":[194],\"sizemode\":\"area\",\"sizeref\":3.36,\"symbol\":\"circle\"},\"mode\":\"markers\",\"name\":\"RN\",\"orientation\":\"v\",\"showlegend\":true,\"type\":\"scatter\",\"x\":[3935],\"xaxis\":\"x\",\"y\":[194],\"yaxis\":\"y\"},{\"hovertemplate\":\"Estado=RO<br>Ano=2010<br>Acidente=%{x}<br>Mortos=%{marker.size}<extra></extra>\",\"ids\":[2010],\"legendgroup\":\"RO\",\"marker\":{\"color\":\"#636efa\",\"size\":[123],\"sizemode\":\"area\",\"sizeref\":3.36,\"symbol\":\"circle\"},\"mode\":\"markers\",\"name\":\"RO\",\"orientation\":\"v\",\"showlegend\":true,\"type\":\"scatter\",\"x\":[3417],\"xaxis\":\"x\",\"y\":[123],\"yaxis\":\"y\"},{\"hovertemplate\":\"Estado=RR<br>Ano=2010<br>Acidente=%{x}<br>Mortos=%{marker.size}<extra></extra>\",\"ids\":[2010],\"legendgroup\":\"RR\",\"marker\":{\"color\":\"#EF553B\",\"size\":[33],\"sizemode\":\"area\",\"sizeref\":3.36,\"symbol\":\"circle\"},\"mode\":\"markers\",\"name\":\"RR\",\"orientation\":\"v\",\"showlegend\":true,\"type\":\"scatter\",\"x\":[228],\"xaxis\":\"x\",\"y\":[33],\"yaxis\":\"y\"},{\"hovertemplate\":\"Estado=RS<br>Ano=2010<br>Acidente=%{x}<br>Mortos=%{marker.size}<extra></extra>\",\"ids\":[2010],\"legendgroup\":\"RS\",\"marker\":{\"color\":\"#00cc96\",\"size\":[500],\"sizemode\":\"area\",\"sizeref\":3.36,\"symbol\":\"circle\"},\"mode\":\"markers\",\"name\":\"RS\",\"orientation\":\"v\",\"showlegend\":true,\"type\":\"scatter\",\"x\":[14508],\"xaxis\":\"x\",\"y\":[500],\"yaxis\":\"y\"},{\"hovertemplate\":\"Estado=SC<br>Ano=2010<br>Acidente=%{x}<br>Mortos=%{marker.size}<extra></extra>\",\"ids\":[2010],\"legendgroup\":\"SC\",\"marker\":{\"color\":\"#ab63fa\",\"size\":[567],\"sizemode\":\"area\",\"sizeref\":3.36,\"symbol\":\"circle\"},\"mode\":\"markers\",\"name\":\"SC\",\"orientation\":\"v\",\"showlegend\":true,\"type\":\"scatter\",\"x\":[19445],\"xaxis\":\"x\",\"y\":[567],\"yaxis\":\"y\"},{\"hovertemplate\":\"Estado=SE<br>Ano=2010<br>Acidente=%{x}<br>Mortos=%{marker.size}<extra></extra>\",\"ids\":[2010],\"legendgroup\":\"SE\",\"marker\":{\"color\":\"#FFA15A\",\"size\":[120],\"sizemode\":\"area\",\"sizeref\":3.36,\"symbol\":\"circle\"},\"mode\":\"markers\",\"name\":\"SE\",\"orientation\":\"v\",\"showlegend\":true,\"type\":\"scatter\",\"x\":[1456],\"xaxis\":\"x\",\"y\":[120],\"yaxis\":\"y\"},{\"hovertemplate\":\"Estado=SP<br>Ano=2010<br>Acidente=%{x}<br>Mortos=%{marker.size}<extra></extra>\",\"ids\":[2010],\"legendgroup\":\"SP\",\"marker\":{\"color\":\"#19d3f3\",\"size\":[407],\"sizemode\":\"area\",\"sizeref\":3.36,\"symbol\":\"circle\"},\"mode\":\"markers\",\"name\":\"SP\",\"orientation\":\"v\",\"showlegend\":true,\"type\":\"scatter\",\"x\":[13100],\"xaxis\":\"x\",\"y\":[407],\"yaxis\":\"y\"},{\"hovertemplate\":\"Estado=TO<br>Ano=2010<br>Acidente=%{x}<br>Mortos=%{marker.size}<extra></extra>\",\"ids\":[2010],\"legendgroup\":\"TO\",\"marker\":{\"color\":\"#FF6692\",\"size\":[115],\"sizemode\":\"area\",\"sizeref\":3.36,\"symbol\":\"circle\"},\"mode\":\"markers\",\"name\":\"TO\",\"orientation\":\"v\",\"showlegend\":true,\"type\":\"scatter\",\"x\":[1068],\"xaxis\":\"x\",\"y\":[115],\"yaxis\":\"y\"}],\"name\":\"2010\"},{\"data\":[{\"hovertemplate\":\"Estado=AC<br>Ano=2011<br>Acidente=%{x}<br>Mortos=%{marker.size}<extra></extra>\",\"ids\":[2011],\"legendgroup\":\"AC\",\"marker\":{\"color\":\"#636efa\",\"size\":[23],\"sizemode\":\"area\",\"sizeref\":3.36,\"symbol\":\"circle\"},\"mode\":\"markers\",\"name\":\"AC\",\"orientation\":\"v\",\"showlegend\":true,\"type\":\"scatter\",\"x\":[518],\"xaxis\":\"x\",\"y\":[23],\"yaxis\":\"y\"},{\"hovertemplate\":\"Estado=AL<br>Ano=2011<br>Acidente=%{x}<br>Mortos=%{marker.size}<extra></extra>\",\"ids\":[2011],\"legendgroup\":\"AL\",\"marker\":{\"color\":\"#EF553B\",\"size\":[156],\"sizemode\":\"area\",\"sizeref\":3.36,\"symbol\":\"circle\"},\"mode\":\"markers\",\"name\":\"AL\",\"orientation\":\"v\",\"showlegend\":true,\"type\":\"scatter\",\"x\":[2364],\"xaxis\":\"x\",\"y\":[156],\"yaxis\":\"y\"},{\"hovertemplate\":\"Estado=AM<br>Ano=2011<br>Acidente=%{x}<br>Mortos=%{marker.size}<extra></extra>\",\"ids\":[2011],\"legendgroup\":\"AM\",\"marker\":{\"color\":\"#00cc96\",\"size\":[34],\"sizemode\":\"area\",\"sizeref\":3.36,\"symbol\":\"circle\"},\"mode\":\"markers\",\"name\":\"AM\",\"orientation\":\"v\",\"showlegend\":true,\"type\":\"scatter\",\"x\":[249],\"xaxis\":\"x\",\"y\":[34],\"yaxis\":\"y\"},{\"hovertemplate\":\"Estado=AP<br>Ano=2011<br>Acidente=%{x}<br>Mortos=%{marker.size}<extra></extra>\",\"ids\":[2011],\"legendgroup\":\"AP\",\"marker\":{\"color\":\"#ab63fa\",\"size\":[19],\"sizemode\":\"area\",\"sizeref\":3.36,\"symbol\":\"circle\"},\"mode\":\"markers\",\"name\":\"AP\",\"orientation\":\"v\",\"showlegend\":true,\"type\":\"scatter\",\"x\":[232],\"xaxis\":\"x\",\"y\":[19],\"yaxis\":\"y\"},{\"hovertemplate\":\"Estado=BA<br>Ano=2011<br>Acidente=%{x}<br>Mortos=%{marker.size}<extra></extra>\",\"ids\":[2011],\"legendgroup\":\"BA\",\"marker\":{\"color\":\"#FFA15A\",\"size\":[779],\"sizemode\":\"area\",\"sizeref\":3.36,\"symbol\":\"circle\"},\"mode\":\"markers\",\"name\":\"BA\",\"orientation\":\"v\",\"showlegend\":true,\"type\":\"scatter\",\"x\":[10435],\"xaxis\":\"x\",\"y\":[779],\"yaxis\":\"y\"},{\"hovertemplate\":\"Estado=CE<br>Ano=2011<br>Acidente=%{x}<br>Mortos=%{marker.size}<extra></extra>\",\"ids\":[2011],\"legendgroup\":\"CE\",\"marker\":{\"color\":\"#19d3f3\",\"size\":[227],\"sizemode\":\"area\",\"sizeref\":3.36,\"symbol\":\"circle\"},\"mode\":\"markers\",\"name\":\"CE\",\"orientation\":\"v\",\"showlegend\":true,\"type\":\"scatter\",\"x\":[3825],\"xaxis\":\"x\",\"y\":[227],\"yaxis\":\"y\"},{\"hovertemplate\":\"Estado=DF<br>Ano=2011<br>Acidente=%{x}<br>Mortos=%{marker.size}<extra></extra>\",\"ids\":[2011],\"legendgroup\":\"DF\",\"marker\":{\"color\":\"#FF6692\",\"size\":[63],\"sizemode\":\"area\",\"sizeref\":3.36,\"symbol\":\"circle\"},\"mode\":\"markers\",\"name\":\"DF\",\"orientation\":\"v\",\"showlegend\":true,\"type\":\"scatter\",\"x\":[1583],\"xaxis\":\"x\",\"y\":[63],\"yaxis\":\"y\"},{\"hovertemplate\":\"Estado=ES<br>Ano=2011<br>Acidente=%{x}<br>Mortos=%{marker.size}<extra></extra>\",\"ids\":[2011],\"legendgroup\":\"ES\",\"marker\":{\"color\":\"#B6E880\",\"size\":[317],\"sizemode\":\"area\",\"sizeref\":3.36,\"symbol\":\"circle\"},\"mode\":\"markers\",\"name\":\"ES\",\"orientation\":\"v\",\"showlegend\":true,\"type\":\"scatter\",\"x\":[7952],\"xaxis\":\"x\",\"y\":[317],\"yaxis\":\"y\"},{\"hovertemplate\":\"Estado=GO<br>Ano=2011<br>Acidente=%{x}<br>Mortos=%{marker.size}<extra></extra>\",\"ids\":[2011],\"legendgroup\":\"GO\",\"marker\":{\"color\":\"#FF97FF\",\"size\":[510],\"sizemode\":\"area\",\"sizeref\":3.36,\"symbol\":\"circle\"},\"mode\":\"markers\",\"name\":\"GO\",\"orientation\":\"v\",\"showlegend\":true,\"type\":\"scatter\",\"x\":[8059],\"xaxis\":\"x\",\"y\":[510],\"yaxis\":\"y\"},{\"hovertemplate\":\"Estado=MA<br>Ano=2011<br>Acidente=%{x}<br>Mortos=%{marker.size}<extra></extra>\",\"ids\":[2011],\"legendgroup\":\"MA\",\"marker\":{\"color\":\"#FECB52\",\"size\":[311],\"sizemode\":\"area\",\"sizeref\":3.36,\"symbol\":\"circle\"},\"mode\":\"markers\",\"name\":\"MA\",\"orientation\":\"v\",\"showlegend\":true,\"type\":\"scatter\",\"x\":[3042],\"xaxis\":\"x\",\"y\":[311],\"yaxis\":\"y\"},{\"hovertemplate\":\"Estado=MG<br>Ano=2011<br>Acidente=%{x}<br>Mortos=%{marker.size}<extra></extra>\",\"ids\":[2011],\"legendgroup\":\"MG\",\"marker\":{\"color\":\"#636efa\",\"size\":[1304],\"sizemode\":\"area\",\"sizeref\":3.36,\"symbol\":\"circle\"},\"mode\":\"markers\",\"name\":\"MG\",\"orientation\":\"v\",\"showlegend\":true,\"type\":\"scatter\",\"x\":[27426],\"xaxis\":\"x\",\"y\":[1304],\"yaxis\":\"y\"},{\"hovertemplate\":\"Estado=MS<br>Ano=2011<br>Acidente=%{x}<br>Mortos=%{marker.size}<extra></extra>\",\"ids\":[2011],\"legendgroup\":\"MS\",\"marker\":{\"color\":\"#EF553B\",\"size\":[228],\"sizemode\":\"area\",\"sizeref\":3.36,\"symbol\":\"circle\"},\"mode\":\"markers\",\"name\":\"MS\",\"orientation\":\"v\",\"showlegend\":true,\"type\":\"scatter\",\"x\":[3507],\"xaxis\":\"x\",\"y\":[228],\"yaxis\":\"y\"},{\"hovertemplate\":\"Estado=MT<br>Ano=2011<br>Acidente=%{x}<br>Mortos=%{marker.size}<extra></extra>\",\"ids\":[2011],\"legendgroup\":\"MT\",\"marker\":{\"color\":\"#00cc96\",\"size\":[260],\"sizemode\":\"area\",\"sizeref\":3.36,\"symbol\":\"circle\"},\"mode\":\"markers\",\"name\":\"MT\",\"orientation\":\"v\",\"showlegend\":true,\"type\":\"scatter\",\"x\":[3888],\"xaxis\":\"x\",\"y\":[260],\"yaxis\":\"y\"},{\"hovertemplate\":\"Estado=PA<br>Ano=2011<br>Acidente=%{x}<br>Mortos=%{marker.size}<extra></extra>\",\"ids\":[2011],\"legendgroup\":\"PA\",\"marker\":{\"color\":\"#ab63fa\",\"size\":[181],\"sizemode\":\"area\",\"sizeref\":3.36,\"symbol\":\"circle\"},\"mode\":\"markers\",\"name\":\"PA\",\"orientation\":\"v\",\"showlegend\":true,\"type\":\"scatter\",\"x\":[4577],\"xaxis\":\"x\",\"y\":[181],\"yaxis\":\"y\"},{\"hovertemplate\":\"Estado=PB<br>Ano=2011<br>Acidente=%{x}<br>Mortos=%{marker.size}<extra></extra>\",\"ids\":[2011],\"legendgroup\":\"PB\",\"marker\":{\"color\":\"#FFA15A\",\"size\":[176],\"sizemode\":\"area\",\"sizeref\":3.36,\"symbol\":\"circle\"},\"mode\":\"markers\",\"name\":\"PB\",\"orientation\":\"v\",\"showlegend\":true,\"type\":\"scatter\",\"x\":[3990],\"xaxis\":\"x\",\"y\":[176],\"yaxis\":\"y\"},{\"hovertemplate\":\"Estado=PE<br>Ano=2011<br>Acidente=%{x}<br>Mortos=%{marker.size}<extra></extra>\",\"ids\":[2011],\"legendgroup\":\"PE\",\"marker\":{\"color\":\"#19d3f3\",\"size\":[474],\"sizemode\":\"area\",\"sizeref\":3.36,\"symbol\":\"circle\"},\"mode\":\"markers\",\"name\":\"PE\",\"orientation\":\"v\",\"showlegend\":true,\"type\":\"scatter\",\"x\":[8229],\"xaxis\":\"x\",\"y\":[474],\"yaxis\":\"y\"},{\"hovertemplate\":\"Estado=PI<br>Ano=2011<br>Acidente=%{x}<br>Mortos=%{marker.size}<extra></extra>\",\"ids\":[2011],\"legendgroup\":\"PI\",\"marker\":{\"color\":\"#FF6692\",\"size\":[236],\"sizemode\":\"area\",\"sizeref\":3.36,\"symbol\":\"circle\"},\"mode\":\"markers\",\"name\":\"PI\",\"orientation\":\"v\",\"showlegend\":true,\"type\":\"scatter\",\"x\":[2834],\"xaxis\":\"x\",\"y\":[236],\"yaxis\":\"y\"},{\"hovertemplate\":\"Estado=PR<br>Ano=2011<br>Acidente=%{x}<br>Mortos=%{marker.size}<extra></extra>\",\"ids\":[2011],\"legendgroup\":\"PR\",\"marker\":{\"color\":\"#B6E880\",\"size\":[740],\"sizemode\":\"area\",\"sizeref\":3.36,\"symbol\":\"circle\"},\"mode\":\"markers\",\"name\":\"PR\",\"orientation\":\"v\",\"showlegend\":true,\"type\":\"scatter\",\"x\":[22188],\"xaxis\":\"x\",\"y\":[740],\"yaxis\":\"y\"},{\"hovertemplate\":\"Estado=RJ<br>Ano=2011<br>Acidente=%{x}<br>Mortos=%{marker.size}<extra></extra>\",\"ids\":[2011],\"legendgroup\":\"RJ\",\"marker\":{\"color\":\"#FF97FF\",\"size\":[559],\"sizemode\":\"area\",\"sizeref\":3.36,\"symbol\":\"circle\"},\"mode\":\"markers\",\"name\":\"RJ\",\"orientation\":\"v\",\"showlegend\":true,\"type\":\"scatter\",\"x\":[18279],\"xaxis\":\"x\",\"y\":[559],\"yaxis\":\"y\"},{\"hovertemplate\":\"Estado=RN<br>Ano=2011<br>Acidente=%{x}<br>Mortos=%{marker.size}<extra></extra>\",\"ids\":[2011],\"legendgroup\":\"RN\",\"marker\":{\"color\":\"#FECB52\",\"size\":[183],\"sizemode\":\"area\",\"sizeref\":3.36,\"symbol\":\"circle\"},\"mode\":\"markers\",\"name\":\"RN\",\"orientation\":\"v\",\"showlegend\":true,\"type\":\"scatter\",\"x\":[4083],\"xaxis\":\"x\",\"y\":[183],\"yaxis\":\"y\"},{\"hovertemplate\":\"Estado=RO<br>Ano=2011<br>Acidente=%{x}<br>Mortos=%{marker.size}<extra></extra>\",\"ids\":[2011],\"legendgroup\":\"RO\",\"marker\":{\"color\":\"#636efa\",\"size\":[152],\"sizemode\":\"area\",\"sizeref\":3.36,\"symbol\":\"circle\"},\"mode\":\"markers\",\"name\":\"RO\",\"orientation\":\"v\",\"showlegend\":true,\"type\":\"scatter\",\"x\":[3847],\"xaxis\":\"x\",\"y\":[152],\"yaxis\":\"y\"},{\"hovertemplate\":\"Estado=RR<br>Ano=2011<br>Acidente=%{x}<br>Mortos=%{marker.size}<extra></extra>\",\"ids\":[2011],\"legendgroup\":\"RR\",\"marker\":{\"color\":\"#EF553B\",\"size\":[35],\"sizemode\":\"area\",\"sizeref\":3.36,\"symbol\":\"circle\"},\"mode\":\"markers\",\"name\":\"RR\",\"orientation\":\"v\",\"showlegend\":true,\"type\":\"scatter\",\"x\":[274],\"xaxis\":\"x\",\"y\":[35],\"yaxis\":\"y\"},{\"hovertemplate\":\"Estado=RS<br>Ano=2011<br>Acidente=%{x}<br>Mortos=%{marker.size}<extra></extra>\",\"ids\":[2011],\"legendgroup\":\"RS\",\"marker\":{\"color\":\"#00cc96\",\"size\":[456],\"sizemode\":\"area\",\"sizeref\":3.36,\"symbol\":\"circle\"},\"mode\":\"markers\",\"name\":\"RS\",\"orientation\":\"v\",\"showlegend\":true,\"type\":\"scatter\",\"x\":[14995],\"xaxis\":\"x\",\"y\":[456],\"yaxis\":\"y\"},{\"hovertemplate\":\"Estado=SC<br>Ano=2011<br>Acidente=%{x}<br>Mortos=%{marker.size}<extra></extra>\",\"ids\":[2011],\"legendgroup\":\"SC\",\"marker\":{\"color\":\"#ab63fa\",\"size\":[627],\"sizemode\":\"area\",\"sizeref\":3.36,\"symbol\":\"circle\"},\"mode\":\"markers\",\"name\":\"SC\",\"orientation\":\"v\",\"showlegend\":true,\"type\":\"scatter\",\"x\":[19240],\"xaxis\":\"x\",\"y\":[627],\"yaxis\":\"y\"},{\"hovertemplate\":\"Estado=SE<br>Ano=2011<br>Acidente=%{x}<br>Mortos=%{marker.size}<extra></extra>\",\"ids\":[2011],\"legendgroup\":\"SE\",\"marker\":{\"color\":\"#FFA15A\",\"size\":[98],\"sizemode\":\"area\",\"sizeref\":3.36,\"symbol\":\"circle\"},\"mode\":\"markers\",\"name\":\"SE\",\"orientation\":\"v\",\"showlegend\":true,\"type\":\"scatter\",\"x\":[1643],\"xaxis\":\"x\",\"y\":[98],\"yaxis\":\"y\"},{\"hovertemplate\":\"Estado=SP<br>Ano=2011<br>Acidente=%{x}<br>Mortos=%{marker.size}<extra></extra>\",\"ids\":[2011],\"legendgroup\":\"SP\",\"marker\":{\"color\":\"#19d3f3\",\"size\":[398],\"sizemode\":\"area\",\"sizeref\":3.36,\"symbol\":\"circle\"},\"mode\":\"markers\",\"name\":\"SP\",\"orientation\":\"v\",\"showlegend\":true,\"type\":\"scatter\",\"x\":[13965],\"xaxis\":\"x\",\"y\":[398],\"yaxis\":\"y\"},{\"hovertemplate\":\"Estado=TO<br>Ano=2011<br>Acidente=%{x}<br>Mortos=%{marker.size}<extra></extra>\",\"ids\":[2011],\"legendgroup\":\"TO\",\"marker\":{\"color\":\"#FF6692\",\"size\":[129],\"sizemode\":\"area\",\"sizeref\":3.36,\"symbol\":\"circle\"},\"mode\":\"markers\",\"name\":\"TO\",\"orientation\":\"v\",\"showlegend\":true,\"type\":\"scatter\",\"x\":[1090],\"xaxis\":\"x\",\"y\":[129],\"yaxis\":\"y\"}],\"name\":\"2011\"},{\"data\":[{\"hovertemplate\":\"Estado=AC<br>Ano=2012<br>Acidente=%{x}<br>Mortos=%{marker.size}<extra></extra>\",\"ids\":[2012],\"legendgroup\":\"AC\",\"marker\":{\"color\":\"#636efa\",\"size\":[21],\"sizemode\":\"area\",\"sizeref\":3.36,\"symbol\":\"circle\"},\"mode\":\"markers\",\"name\":\"AC\",\"orientation\":\"v\",\"showlegend\":true,\"type\":\"scatter\",\"x\":[503],\"xaxis\":\"x\",\"y\":[21],\"yaxis\":\"y\"},{\"hovertemplate\":\"Estado=AL<br>Ano=2012<br>Acidente=%{x}<br>Mortos=%{marker.size}<extra></extra>\",\"ids\":[2012],\"legendgroup\":\"AL\",\"marker\":{\"color\":\"#EF553B\",\"size\":[191],\"sizemode\":\"area\",\"sizeref\":3.36,\"symbol\":\"circle\"},\"mode\":\"markers\",\"name\":\"AL\",\"orientation\":\"v\",\"showlegend\":true,\"type\":\"scatter\",\"x\":[2194],\"xaxis\":\"x\",\"y\":[191],\"yaxis\":\"y\"},{\"hovertemplate\":\"Estado=AM<br>Ano=2012<br>Acidente=%{x}<br>Mortos=%{marker.size}<extra></extra>\",\"ids\":[2012],\"legendgroup\":\"AM\",\"marker\":{\"color\":\"#00cc96\",\"size\":[19],\"sizemode\":\"area\",\"sizeref\":3.36,\"symbol\":\"circle\"},\"mode\":\"markers\",\"name\":\"AM\",\"orientation\":\"v\",\"showlegend\":true,\"type\":\"scatter\",\"x\":[218],\"xaxis\":\"x\",\"y\":[19],\"yaxis\":\"y\"},{\"hovertemplate\":\"Estado=AP<br>Ano=2012<br>Acidente=%{x}<br>Mortos=%{marker.size}<extra></extra>\",\"ids\":[2012],\"legendgroup\":\"AP\",\"marker\":{\"color\":\"#ab63fa\",\"size\":[12],\"sizemode\":\"area\",\"sizeref\":3.36,\"symbol\":\"circle\"},\"mode\":\"markers\",\"name\":\"AP\",\"orientation\":\"v\",\"showlegend\":true,\"type\":\"scatter\",\"x\":[241],\"xaxis\":\"x\",\"y\":[12],\"yaxis\":\"y\"},{\"hovertemplate\":\"Estado=BA<br>Ano=2012<br>Acidente=%{x}<br>Mortos=%{marker.size}<extra></extra>\",\"ids\":[2012],\"legendgroup\":\"BA\",\"marker\":{\"color\":\"#FFA15A\",\"size\":[849],\"sizemode\":\"area\",\"sizeref\":3.36,\"symbol\":\"circle\"},\"mode\":\"markers\",\"name\":\"BA\",\"orientation\":\"v\",\"showlegend\":true,\"type\":\"scatter\",\"x\":[10281],\"xaxis\":\"x\",\"y\":[849],\"yaxis\":\"y\"},{\"hovertemplate\":\"Estado=CE<br>Ano=2012<br>Acidente=%{x}<br>Mortos=%{marker.size}<extra></extra>\",\"ids\":[2012],\"legendgroup\":\"CE\",\"marker\":{\"color\":\"#19d3f3\",\"size\":[238],\"sizemode\":\"area\",\"sizeref\":3.36,\"symbol\":\"circle\"},\"mode\":\"markers\",\"name\":\"CE\",\"orientation\":\"v\",\"showlegend\":true,\"type\":\"scatter\",\"x\":[3746],\"xaxis\":\"x\",\"y\":[238],\"yaxis\":\"y\"},{\"hovertemplate\":\"Estado=DF<br>Ano=2012<br>Acidente=%{x}<br>Mortos=%{marker.size}<extra></extra>\",\"ids\":[2012],\"legendgroup\":\"DF\",\"marker\":{\"color\":\"#FF6692\",\"size\":[71],\"sizemode\":\"area\",\"sizeref\":3.36,\"symbol\":\"circle\"},\"mode\":\"markers\",\"name\":\"DF\",\"orientation\":\"v\",\"showlegend\":true,\"type\":\"scatter\",\"x\":[1448],\"xaxis\":\"x\",\"y\":[71],\"yaxis\":\"y\"},{\"hovertemplate\":\"Estado=ES<br>Ano=2012<br>Acidente=%{x}<br>Mortos=%{marker.size}<extra></extra>\",\"ids\":[2012],\"legendgroup\":\"ES\",\"marker\":{\"color\":\"#B6E880\",\"size\":[261],\"sizemode\":\"area\",\"sizeref\":3.36,\"symbol\":\"circle\"},\"mode\":\"markers\",\"name\":\"ES\",\"orientation\":\"v\",\"showlegend\":true,\"type\":\"scatter\",\"x\":[7719],\"xaxis\":\"x\",\"y\":[261],\"yaxis\":\"y\"},{\"hovertemplate\":\"Estado=GO<br>Ano=2012<br>Acidente=%{x}<br>Mortos=%{marker.size}<extra></extra>\",\"ids\":[2012],\"legendgroup\":\"GO\",\"marker\":{\"color\":\"#FF97FF\",\"size\":[519],\"sizemode\":\"area\",\"sizeref\":3.36,\"symbol\":\"circle\"},\"mode\":\"markers\",\"name\":\"GO\",\"orientation\":\"v\",\"showlegend\":true,\"type\":\"scatter\",\"x\":[7691],\"xaxis\":\"x\",\"y\":[519],\"yaxis\":\"y\"},{\"hovertemplate\":\"Estado=MA<br>Ano=2012<br>Acidente=%{x}<br>Mortos=%{marker.size}<extra></extra>\",\"ids\":[2012],\"legendgroup\":\"MA\",\"marker\":{\"color\":\"#FECB52\",\"size\":[323],\"sizemode\":\"area\",\"sizeref\":3.36,\"symbol\":\"circle\"},\"mode\":\"markers\",\"name\":\"MA\",\"orientation\":\"v\",\"showlegend\":true,\"type\":\"scatter\",\"x\":[3054],\"xaxis\":\"x\",\"y\":[323],\"yaxis\":\"y\"},{\"hovertemplate\":\"Estado=MG<br>Ano=2012<br>Acidente=%{x}<br>Mortos=%{marker.size}<extra></extra>\",\"ids\":[2012],\"legendgroup\":\"MG\",\"marker\":{\"color\":\"#636efa\",\"size\":[1196],\"sizemode\":\"area\",\"sizeref\":3.36,\"symbol\":\"circle\"},\"mode\":\"markers\",\"name\":\"MG\",\"orientation\":\"v\",\"showlegend\":true,\"type\":\"scatter\",\"x\":[26781],\"xaxis\":\"x\",\"y\":[1196],\"yaxis\":\"y\"},{\"hovertemplate\":\"Estado=MS<br>Ano=2012<br>Acidente=%{x}<br>Mortos=%{marker.size}<extra></extra>\",\"ids\":[2012],\"legendgroup\":\"MS\",\"marker\":{\"color\":\"#EF553B\",\"size\":[178],\"sizemode\":\"area\",\"sizeref\":3.36,\"symbol\":\"circle\"},\"mode\":\"markers\",\"name\":\"MS\",\"orientation\":\"v\",\"showlegend\":true,\"type\":\"scatter\",\"x\":[3338],\"xaxis\":\"x\",\"y\":[178],\"yaxis\":\"y\"},{\"hovertemplate\":\"Estado=MT<br>Ano=2012<br>Acidente=%{x}<br>Mortos=%{marker.size}<extra></extra>\",\"ids\":[2012],\"legendgroup\":\"MT\",\"marker\":{\"color\":\"#00cc96\",\"size\":[270],\"sizemode\":\"area\",\"sizeref\":3.36,\"symbol\":\"circle\"},\"mode\":\"markers\",\"name\":\"MT\",\"orientation\":\"v\",\"showlegend\":true,\"type\":\"scatter\",\"x\":[4284],\"xaxis\":\"x\",\"y\":[270],\"yaxis\":\"y\"},{\"hovertemplate\":\"Estado=PA<br>Ano=2012<br>Acidente=%{x}<br>Mortos=%{marker.size}<extra></extra>\",\"ids\":[2012],\"legendgroup\":\"PA\",\"marker\":{\"color\":\"#ab63fa\",\"size\":[196],\"sizemode\":\"area\",\"sizeref\":3.36,\"symbol\":\"circle\"},\"mode\":\"markers\",\"name\":\"PA\",\"orientation\":\"v\",\"showlegend\":true,\"type\":\"scatter\",\"x\":[3842],\"xaxis\":\"x\",\"y\":[196],\"yaxis\":\"y\"},{\"hovertemplate\":\"Estado=PB<br>Ano=2012<br>Acidente=%{x}<br>Mortos=%{marker.size}<extra></extra>\",\"ids\":[2012],\"legendgroup\":\"PB\",\"marker\":{\"color\":\"#FFA15A\",\"size\":[223],\"sizemode\":\"area\",\"sizeref\":3.36,\"symbol\":\"circle\"},\"mode\":\"markers\",\"name\":\"PB\",\"orientation\":\"v\",\"showlegend\":true,\"type\":\"scatter\",\"x\":[4105],\"xaxis\":\"x\",\"y\":[223],\"yaxis\":\"y\"},{\"hovertemplate\":\"Estado=PE<br>Ano=2012<br>Acidente=%{x}<br>Mortos=%{marker.size}<extra></extra>\",\"ids\":[2012],\"legendgroup\":\"PE\",\"marker\":{\"color\":\"#19d3f3\",\"size\":[452],\"sizemode\":\"area\",\"sizeref\":3.36,\"symbol\":\"circle\"},\"mode\":\"markers\",\"name\":\"PE\",\"orientation\":\"v\",\"showlegend\":true,\"type\":\"scatter\",\"x\":[7217],\"xaxis\":\"x\",\"y\":[452],\"yaxis\":\"y\"},{\"hovertemplate\":\"Estado=PI<br>Ano=2012<br>Acidente=%{x}<br>Mortos=%{marker.size}<extra></extra>\",\"ids\":[2012],\"legendgroup\":\"PI\",\"marker\":{\"color\":\"#FF6692\",\"size\":[235],\"sizemode\":\"area\",\"sizeref\":3.36,\"symbol\":\"circle\"},\"mode\":\"markers\",\"name\":\"PI\",\"orientation\":\"v\",\"showlegend\":true,\"type\":\"scatter\",\"x\":[2768],\"xaxis\":\"x\",\"y\":[235],\"yaxis\":\"y\"},{\"hovertemplate\":\"Estado=PR<br>Ano=2012<br>Acidente=%{x}<br>Mortos=%{marker.size}<extra></extra>\",\"ids\":[2012],\"legendgroup\":\"PR\",\"marker\":{\"color\":\"#B6E880\",\"size\":[855],\"sizemode\":\"area\",\"sizeref\":3.36,\"symbol\":\"circle\"},\"mode\":\"markers\",\"name\":\"PR\",\"orientation\":\"v\",\"showlegend\":true,\"type\":\"scatter\",\"x\":[20749],\"xaxis\":\"x\",\"y\":[855],\"yaxis\":\"y\"},{\"hovertemplate\":\"Estado=RJ<br>Ano=2012<br>Acidente=%{x}<br>Mortos=%{marker.size}<extra></extra>\",\"ids\":[2012],\"legendgroup\":\"RJ\",\"marker\":{\"color\":\"#FF97FF\",\"size\":[576],\"sizemode\":\"area\",\"sizeref\":3.36,\"symbol\":\"circle\"},\"mode\":\"markers\",\"name\":\"RJ\",\"orientation\":\"v\",\"showlegend\":true,\"type\":\"scatter\",\"x\":[17431],\"xaxis\":\"x\",\"y\":[576],\"yaxis\":\"y\"},{\"hovertemplate\":\"Estado=RN<br>Ano=2012<br>Acidente=%{x}<br>Mortos=%{marker.size}<extra></extra>\",\"ids\":[2012],\"legendgroup\":\"RN\",\"marker\":{\"color\":\"#FECB52\",\"size\":[207],\"sizemode\":\"area\",\"sizeref\":3.36,\"symbol\":\"circle\"},\"mode\":\"markers\",\"name\":\"RN\",\"orientation\":\"v\",\"showlegend\":true,\"type\":\"scatter\",\"x\":[3868],\"xaxis\":\"x\",\"y\":[207],\"yaxis\":\"y\"},{\"hovertemplate\":\"Estado=RO<br>Ano=2012<br>Acidente=%{x}<br>Mortos=%{marker.size}<extra></extra>\",\"ids\":[2012],\"legendgroup\":\"RO\",\"marker\":{\"color\":\"#636efa\",\"size\":[153],\"sizemode\":\"area\",\"sizeref\":3.36,\"symbol\":\"circle\"},\"mode\":\"markers\",\"name\":\"RO\",\"orientation\":\"v\",\"showlegend\":true,\"type\":\"scatter\",\"x\":[3577],\"xaxis\":\"x\",\"y\":[153],\"yaxis\":\"y\"},{\"hovertemplate\":\"Estado=RR<br>Ano=2012<br>Acidente=%{x}<br>Mortos=%{marker.size}<extra></extra>\",\"ids\":[2012],\"legendgroup\":\"RR\",\"marker\":{\"color\":\"#EF553B\",\"size\":[28],\"sizemode\":\"area\",\"sizeref\":3.36,\"symbol\":\"circle\"},\"mode\":\"markers\",\"name\":\"RR\",\"orientation\":\"v\",\"showlegend\":true,\"type\":\"scatter\",\"x\":[247],\"xaxis\":\"x\",\"y\":[28],\"yaxis\":\"y\"},{\"hovertemplate\":\"Estado=RS<br>Ano=2012<br>Acidente=%{x}<br>Mortos=%{marker.size}<extra></extra>\",\"ids\":[2012],\"legendgroup\":\"RS\",\"marker\":{\"color\":\"#00cc96\",\"size\":[457],\"sizemode\":\"area\",\"sizeref\":3.36,\"symbol\":\"circle\"},\"mode\":\"markers\",\"name\":\"RS\",\"orientation\":\"v\",\"showlegend\":true,\"type\":\"scatter\",\"x\":[14109],\"xaxis\":\"x\",\"y\":[457],\"yaxis\":\"y\"},{\"hovertemplate\":\"Estado=SC<br>Ano=2012<br>Acidente=%{x}<br>Mortos=%{marker.size}<extra></extra>\",\"ids\":[2012],\"legendgroup\":\"SC\",\"marker\":{\"color\":\"#ab63fa\",\"size\":[551],\"sizemode\":\"area\",\"sizeref\":3.36,\"symbol\":\"circle\"},\"mode\":\"markers\",\"name\":\"SC\",\"orientation\":\"v\",\"showlegend\":true,\"type\":\"scatter\",\"x\":[18282],\"xaxis\":\"x\",\"y\":[551],\"yaxis\":\"y\"},{\"hovertemplate\":\"Estado=SE<br>Ano=2012<br>Acidente=%{x}<br>Mortos=%{marker.size}<extra></extra>\",\"ids\":[2012],\"legendgroup\":\"SE\",\"marker\":{\"color\":\"#FFA15A\",\"size\":[105],\"sizemode\":\"area\",\"sizeref\":3.36,\"symbol\":\"circle\"},\"mode\":\"markers\",\"name\":\"SE\",\"orientation\":\"v\",\"showlegend\":true,\"type\":\"scatter\",\"x\":[1672],\"xaxis\":\"x\",\"y\":[105],\"yaxis\":\"y\"},{\"hovertemplate\":\"Estado=SP<br>Ano=2012<br>Acidente=%{x}<br>Mortos=%{marker.size}<extra></extra>\",\"ids\":[2012],\"legendgroup\":\"SP\",\"marker\":{\"color\":\"#19d3f3\",\"size\":[361],\"sizemode\":\"area\",\"sizeref\":3.36,\"symbol\":\"circle\"},\"mode\":\"markers\",\"name\":\"SP\",\"orientation\":\"v\",\"showlegend\":true,\"type\":\"scatter\",\"x\":[14012],\"xaxis\":\"x\",\"y\":[361],\"yaxis\":\"y\"},{\"hovertemplate\":\"Estado=TO<br>Ano=2012<br>Acidente=%{x}<br>Mortos=%{marker.size}<extra></extra>\",\"ids\":[2012],\"legendgroup\":\"TO\",\"marker\":{\"color\":\"#FF6692\",\"size\":[114],\"sizemode\":\"area\",\"sizeref\":3.36,\"symbol\":\"circle\"},\"mode\":\"markers\",\"name\":\"TO\",\"orientation\":\"v\",\"showlegend\":true,\"type\":\"scatter\",\"x\":[1179],\"xaxis\":\"x\",\"y\":[114],\"yaxis\":\"y\"}],\"name\":\"2012\"},{\"data\":[{\"hovertemplate\":\"Estado=AC<br>Ano=2013<br>Acidente=%{x}<br>Mortos=%{marker.size}<extra></extra>\",\"ids\":[2013],\"legendgroup\":\"AC\",\"marker\":{\"color\":\"#636efa\",\"size\":[23],\"sizemode\":\"area\",\"sizeref\":3.36,\"symbol\":\"circle\"},\"mode\":\"markers\",\"name\":\"AC\",\"orientation\":\"v\",\"showlegend\":true,\"type\":\"scatter\",\"x\":[448],\"xaxis\":\"x\",\"y\":[23],\"yaxis\":\"y\"},{\"hovertemplate\":\"Estado=AL<br>Ano=2013<br>Acidente=%{x}<br>Mortos=%{marker.size}<extra></extra>\",\"ids\":[2013],\"legendgroup\":\"AL\",\"marker\":{\"color\":\"#EF553B\",\"size\":[148],\"sizemode\":\"area\",\"sizeref\":3.36,\"symbol\":\"circle\"},\"mode\":\"markers\",\"name\":\"AL\",\"orientation\":\"v\",\"showlegend\":true,\"type\":\"scatter\",\"x\":[2376],\"xaxis\":\"x\",\"y\":[148],\"yaxis\":\"y\"},{\"hovertemplate\":\"Estado=AM<br>Ano=2013<br>Acidente=%{x}<br>Mortos=%{marker.size}<extra></extra>\",\"ids\":[2013],\"legendgroup\":\"AM\",\"marker\":{\"color\":\"#00cc96\",\"size\":[18],\"sizemode\":\"area\",\"sizeref\":3.36,\"symbol\":\"circle\"},\"mode\":\"markers\",\"name\":\"AM\",\"orientation\":\"v\",\"showlegend\":true,\"type\":\"scatter\",\"x\":[234],\"xaxis\":\"x\",\"y\":[18],\"yaxis\":\"y\"},{\"hovertemplate\":\"Estado=AP<br>Ano=2013<br>Acidente=%{x}<br>Mortos=%{marker.size}<extra></extra>\",\"ids\":[2013],\"legendgroup\":\"AP\",\"marker\":{\"color\":\"#ab63fa\",\"size\":[28],\"sizemode\":\"area\",\"sizeref\":3.36,\"symbol\":\"circle\"},\"mode\":\"markers\",\"name\":\"AP\",\"orientation\":\"v\",\"showlegend\":true,\"type\":\"scatter\",\"x\":[277],\"xaxis\":\"x\",\"y\":[28],\"yaxis\":\"y\"},{\"hovertemplate\":\"Estado=BA<br>Ano=2013<br>Acidente=%{x}<br>Mortos=%{marker.size}<extra></extra>\",\"ids\":[2013],\"legendgroup\":\"BA\",\"marker\":{\"color\":\"#FFA15A\",\"size\":[799],\"sizemode\":\"area\",\"sizeref\":3.36,\"symbol\":\"circle\"},\"mode\":\"markers\",\"name\":\"BA\",\"orientation\":\"v\",\"showlegend\":true,\"type\":\"scatter\",\"x\":[10386],\"xaxis\":\"x\",\"y\":[799],\"yaxis\":\"y\"},{\"hovertemplate\":\"Estado=CE<br>Ano=2013<br>Acidente=%{x}<br>Mortos=%{marker.size}<extra></extra>\",\"ids\":[2013],\"legendgroup\":\"CE\",\"marker\":{\"color\":\"#19d3f3\",\"size\":[233],\"sizemode\":\"area\",\"sizeref\":3.36,\"symbol\":\"circle\"},\"mode\":\"markers\",\"name\":\"CE\",\"orientation\":\"v\",\"showlegend\":true,\"type\":\"scatter\",\"x\":[4010],\"xaxis\":\"x\",\"y\":[233],\"yaxis\":\"y\"},{\"hovertemplate\":\"Estado=DF<br>Ano=2013<br>Acidente=%{x}<br>Mortos=%{marker.size}<extra></extra>\",\"ids\":[2013],\"legendgroup\":\"DF\",\"marker\":{\"color\":\"#FF6692\",\"size\":[40],\"sizemode\":\"area\",\"sizeref\":3.36,\"symbol\":\"circle\"},\"mode\":\"markers\",\"name\":\"DF\",\"orientation\":\"v\",\"showlegend\":true,\"type\":\"scatter\",\"x\":[1535],\"xaxis\":\"x\",\"y\":[40],\"yaxis\":\"y\"},{\"hovertemplate\":\"Estado=ES<br>Ano=2013<br>Acidente=%{x}<br>Mortos=%{marker.size}<extra></extra>\",\"ids\":[2013],\"legendgroup\":\"ES\",\"marker\":{\"color\":\"#B6E880\",\"size\":[303],\"sizemode\":\"area\",\"sizeref\":3.36,\"symbol\":\"circle\"},\"mode\":\"markers\",\"name\":\"ES\",\"orientation\":\"v\",\"showlegend\":true,\"type\":\"scatter\",\"x\":[8217],\"xaxis\":\"x\",\"y\":[303],\"yaxis\":\"y\"},{\"hovertemplate\":\"Estado=GO<br>Ano=2013<br>Acidente=%{x}<br>Mortos=%{marker.size}<extra></extra>\",\"ids\":[2013],\"legendgroup\":\"GO\",\"marker\":{\"color\":\"#FF97FF\",\"size\":[504],\"sizemode\":\"area\",\"sizeref\":3.36,\"symbol\":\"circle\"},\"mode\":\"markers\",\"name\":\"GO\",\"orientation\":\"v\",\"showlegend\":true,\"type\":\"scatter\",\"x\":[7985],\"xaxis\":\"x\",\"y\":[504],\"yaxis\":\"y\"},{\"hovertemplate\":\"Estado=MA<br>Ano=2013<br>Acidente=%{x}<br>Mortos=%{marker.size}<extra></extra>\",\"ids\":[2013],\"legendgroup\":\"MA\",\"marker\":{\"color\":\"#FECB52\",\"size\":[294],\"sizemode\":\"area\",\"sizeref\":3.36,\"symbol\":\"circle\"},\"mode\":\"markers\",\"name\":\"MA\",\"orientation\":\"v\",\"showlegend\":true,\"type\":\"scatter\",\"x\":[2956],\"xaxis\":\"x\",\"y\":[294],\"yaxis\":\"y\"},{\"hovertemplate\":\"Estado=MG<br>Ano=2013<br>Acidente=%{x}<br>Mortos=%{marker.size}<extra></extra>\",\"ids\":[2013],\"legendgroup\":\"MG\",\"marker\":{\"color\":\"#636efa\",\"size\":[1264],\"sizemode\":\"area\",\"sizeref\":3.36,\"symbol\":\"circle\"},\"mode\":\"markers\",\"name\":\"MG\",\"orientation\":\"v\",\"showlegend\":true,\"type\":\"scatter\",\"x\":[26475],\"xaxis\":\"x\",\"y\":[1264],\"yaxis\":\"y\"},{\"hovertemplate\":\"Estado=MS<br>Ano=2013<br>Acidente=%{x}<br>Mortos=%{marker.size}<extra></extra>\",\"ids\":[2013],\"legendgroup\":\"MS\",\"marker\":{\"color\":\"#EF553B\",\"size\":[233],\"sizemode\":\"area\",\"sizeref\":3.36,\"symbol\":\"circle\"},\"mode\":\"markers\",\"name\":\"MS\",\"orientation\":\"v\",\"showlegend\":true,\"type\":\"scatter\",\"x\":[3726],\"xaxis\":\"x\",\"y\":[233],\"yaxis\":\"y\"},{\"hovertemplate\":\"Estado=MT<br>Ano=2013<br>Acidente=%{x}<br>Mortos=%{marker.size}<extra></extra>\",\"ids\":[2013],\"legendgroup\":\"MT\",\"marker\":{\"color\":\"#00cc96\",\"size\":[297],\"sizemode\":\"area\",\"sizeref\":3.36,\"symbol\":\"circle\"},\"mode\":\"markers\",\"name\":\"MT\",\"orientation\":\"v\",\"showlegend\":true,\"type\":\"scatter\",\"x\":[4572],\"xaxis\":\"x\",\"y\":[297],\"yaxis\":\"y\"},{\"hovertemplate\":\"Estado=PA<br>Ano=2013<br>Acidente=%{x}<br>Mortos=%{marker.size}<extra></extra>\",\"ids\":[2013],\"legendgroup\":\"PA\",\"marker\":{\"color\":\"#ab63fa\",\"size\":[186],\"sizemode\":\"area\",\"sizeref\":3.36,\"symbol\":\"circle\"},\"mode\":\"markers\",\"name\":\"PA\",\"orientation\":\"v\",\"showlegend\":true,\"type\":\"scatter\",\"x\":[3601],\"xaxis\":\"x\",\"y\":[186],\"yaxis\":\"y\"},{\"hovertemplate\":\"Estado=PB<br>Ano=2013<br>Acidente=%{x}<br>Mortos=%{marker.size}<extra></extra>\",\"ids\":[2013],\"legendgroup\":\"PB\",\"marker\":{\"color\":\"#FFA15A\",\"size\":[180],\"sizemode\":\"area\",\"sizeref\":3.36,\"symbol\":\"circle\"},\"mode\":\"markers\",\"name\":\"PB\",\"orientation\":\"v\",\"showlegend\":true,\"type\":\"scatter\",\"x\":[4242],\"xaxis\":\"x\",\"y\":[180],\"yaxis\":\"y\"},{\"hovertemplate\":\"Estado=PE<br>Ano=2013<br>Acidente=%{x}<br>Mortos=%{marker.size}<extra></extra>\",\"ids\":[2013],\"legendgroup\":\"PE\",\"marker\":{\"color\":\"#19d3f3\",\"size\":[404],\"sizemode\":\"area\",\"sizeref\":3.36,\"symbol\":\"circle\"},\"mode\":\"markers\",\"name\":\"PE\",\"orientation\":\"v\",\"showlegend\":true,\"type\":\"scatter\",\"x\":[7612],\"xaxis\":\"x\",\"y\":[404],\"yaxis\":\"y\"},{\"hovertemplate\":\"Estado=PI<br>Ano=2013<br>Acidente=%{x}<br>Mortos=%{marker.size}<extra></extra>\",\"ids\":[2013],\"legendgroup\":\"PI\",\"marker\":{\"color\":\"#FF6692\",\"size\":[200],\"sizemode\":\"area\",\"sizeref\":3.36,\"symbol\":\"circle\"},\"mode\":\"markers\",\"name\":\"PI\",\"orientation\":\"v\",\"showlegend\":true,\"type\":\"scatter\",\"x\":[2879],\"xaxis\":\"x\",\"y\":[200],\"yaxis\":\"y\"},{\"hovertemplate\":\"Estado=PR<br>Ano=2013<br>Acidente=%{x}<br>Mortos=%{marker.size}<extra></extra>\",\"ids\":[2013],\"legendgroup\":\"PR\",\"marker\":{\"color\":\"#B6E880\",\"size\":[750],\"sizemode\":\"area\",\"sizeref\":3.36,\"symbol\":\"circle\"},\"mode\":\"markers\",\"name\":\"PR\",\"orientation\":\"v\",\"showlegend\":true,\"type\":\"scatter\",\"x\":[19787],\"xaxis\":\"x\",\"y\":[750],\"yaxis\":\"y\"},{\"hovertemplate\":\"Estado=RJ<br>Ano=2013<br>Acidente=%{x}<br>Mortos=%{marker.size}<extra></extra>\",\"ids\":[2013],\"legendgroup\":\"RJ\",\"marker\":{\"color\":\"#FF97FF\",\"size\":[564],\"sizemode\":\"area\",\"sizeref\":3.36,\"symbol\":\"circle\"},\"mode\":\"markers\",\"name\":\"RJ\",\"orientation\":\"v\",\"showlegend\":true,\"type\":\"scatter\",\"x\":[17066],\"xaxis\":\"x\",\"y\":[564],\"yaxis\":\"y\"},{\"hovertemplate\":\"Estado=RN<br>Ano=2013<br>Acidente=%{x}<br>Mortos=%{marker.size}<extra></extra>\",\"ids\":[2013],\"legendgroup\":\"RN\",\"marker\":{\"color\":\"#FECB52\",\"size\":[208],\"sizemode\":\"area\",\"sizeref\":3.36,\"symbol\":\"circle\"},\"mode\":\"markers\",\"name\":\"RN\",\"orientation\":\"v\",\"showlegend\":true,\"type\":\"scatter\",\"x\":[3975],\"xaxis\":\"x\",\"y\":[208],\"yaxis\":\"y\"},{\"hovertemplate\":\"Estado=RO<br>Ano=2013<br>Acidente=%{x}<br>Mortos=%{marker.size}<extra></extra>\",\"ids\":[2013],\"legendgroup\":\"RO\",\"marker\":{\"color\":\"#636efa\",\"size\":[130],\"sizemode\":\"area\",\"sizeref\":3.36,\"symbol\":\"circle\"},\"mode\":\"markers\",\"name\":\"RO\",\"orientation\":\"v\",\"showlegend\":true,\"type\":\"scatter\",\"x\":[3227],\"xaxis\":\"x\",\"y\":[130],\"yaxis\":\"y\"},{\"hovertemplate\":\"Estado=RR<br>Ano=2013<br>Acidente=%{x}<br>Mortos=%{marker.size}<extra></extra>\",\"ids\":[2013],\"legendgroup\":\"RR\",\"marker\":{\"color\":\"#EF553B\",\"size\":[33],\"sizemode\":\"area\",\"sizeref\":3.36,\"symbol\":\"circle\"},\"mode\":\"markers\",\"name\":\"RR\",\"orientation\":\"v\",\"showlegend\":true,\"type\":\"scatter\",\"x\":[341],\"xaxis\":\"x\",\"y\":[33],\"yaxis\":\"y\"},{\"hovertemplate\":\"Estado=RS<br>Ano=2013<br>Acidente=%{x}<br>Mortos=%{marker.size}<extra></extra>\",\"ids\":[2013],\"legendgroup\":\"RS\",\"marker\":{\"color\":\"#00cc96\",\"size\":[489],\"sizemode\":\"area\",\"sizeref\":3.36,\"symbol\":\"circle\"},\"mode\":\"markers\",\"name\":\"RS\",\"orientation\":\"v\",\"showlegend\":true,\"type\":\"scatter\",\"x\":[15214],\"xaxis\":\"x\",\"y\":[489],\"yaxis\":\"y\"},{\"hovertemplate\":\"Estado=SC<br>Ano=2013<br>Acidente=%{x}<br>Mortos=%{marker.size}<extra></extra>\",\"ids\":[2013],\"legendgroup\":\"SC\",\"marker\":{\"color\":\"#ab63fa\",\"size\":[506],\"sizemode\":\"area\",\"sizeref\":3.36,\"symbol\":\"circle\"},\"mode\":\"markers\",\"name\":\"SC\",\"orientation\":\"v\",\"showlegend\":true,\"type\":\"scatter\",\"x\":[18988],\"xaxis\":\"x\",\"y\":[506],\"yaxis\":\"y\"},{\"hovertemplate\":\"Estado=SE<br>Ano=2013<br>Acidente=%{x}<br>Mortos=%{marker.size}<extra></extra>\",\"ids\":[2013],\"legendgroup\":\"SE\",\"marker\":{\"color\":\"#FFA15A\",\"size\":[101],\"sizemode\":\"area\",\"sizeref\":3.36,\"symbol\":\"circle\"},\"mode\":\"markers\",\"name\":\"SE\",\"orientation\":\"v\",\"showlegend\":true,\"type\":\"scatter\",\"x\":[1558],\"xaxis\":\"x\",\"y\":[101],\"yaxis\":\"y\"},{\"hovertemplate\":\"Estado=SP<br>Ano=2013<br>Acidente=%{x}<br>Mortos=%{marker.size}<extra></extra>\",\"ids\":[2013],\"legendgroup\":\"SP\",\"marker\":{\"color\":\"#19d3f3\",\"size\":[381],\"sizemode\":\"area\",\"sizeref\":3.36,\"symbol\":\"circle\"},\"mode\":\"markers\",\"name\":\"SP\",\"orientation\":\"v\",\"showlegend\":true,\"type\":\"scatter\",\"x\":[13770],\"xaxis\":\"x\",\"y\":[381],\"yaxis\":\"y\"},{\"hovertemplate\":\"Estado=TO<br>Ano=2013<br>Acidente=%{x}<br>Mortos=%{marker.size}<extra></extra>\",\"ids\":[2013],\"legendgroup\":\"TO\",\"marker\":{\"color\":\"#FF6692\",\"size\":[110],\"sizemode\":\"area\",\"sizeref\":3.36,\"symbol\":\"circle\"},\"mode\":\"markers\",\"name\":\"TO\",\"orientation\":\"v\",\"showlegend\":true,\"type\":\"scatter\",\"x\":[1279],\"xaxis\":\"x\",\"y\":[110],\"yaxis\":\"y\"}],\"name\":\"2013\"},{\"data\":[{\"hovertemplate\":\"Estado=AC<br>Ano=2014<br>Acidente=%{x}<br>Mortos=%{marker.size}<extra></extra>\",\"ids\":[2014],\"legendgroup\":\"AC\",\"marker\":{\"color\":\"#636efa\",\"size\":[32],\"sizemode\":\"area\",\"sizeref\":3.36,\"symbol\":\"circle\"},\"mode\":\"markers\",\"name\":\"AC\",\"orientation\":\"v\",\"showlegend\":true,\"type\":\"scatter\",\"x\":[457],\"xaxis\":\"x\",\"y\":[32],\"yaxis\":\"y\"},{\"hovertemplate\":\"Estado=AL<br>Ano=2014<br>Acidente=%{x}<br>Mortos=%{marker.size}<extra></extra>\",\"ids\":[2014],\"legendgroup\":\"AL\",\"marker\":{\"color\":\"#EF553B\",\"size\":[149],\"sizemode\":\"area\",\"sizeref\":3.36,\"symbol\":\"circle\"},\"mode\":\"markers\",\"name\":\"AL\",\"orientation\":\"v\",\"showlegend\":true,\"type\":\"scatter\",\"x\":[1529],\"xaxis\":\"x\",\"y\":[149],\"yaxis\":\"y\"},{\"hovertemplate\":\"Estado=AM<br>Ano=2014<br>Acidente=%{x}<br>Mortos=%{marker.size}<extra></extra>\",\"ids\":[2014],\"legendgroup\":\"AM\",\"marker\":{\"color\":\"#00cc96\",\"size\":[18],\"sizemode\":\"area\",\"sizeref\":3.36,\"symbol\":\"circle\"},\"mode\":\"markers\",\"name\":\"AM\",\"orientation\":\"v\",\"showlegend\":true,\"type\":\"scatter\",\"x\":[168],\"xaxis\":\"x\",\"y\":[18],\"yaxis\":\"y\"},{\"hovertemplate\":\"Estado=AP<br>Ano=2014<br>Acidente=%{x}<br>Mortos=%{marker.size}<extra></extra>\",\"ids\":[2014],\"legendgroup\":\"AP\",\"marker\":{\"color\":\"#ab63fa\",\"size\":[10],\"sizemode\":\"area\",\"sizeref\":3.36,\"symbol\":\"circle\"},\"mode\":\"markers\",\"name\":\"AP\",\"orientation\":\"v\",\"showlegend\":true,\"type\":\"scatter\",\"x\":[273],\"xaxis\":\"x\",\"y\":[10],\"yaxis\":\"y\"},{\"hovertemplate\":\"Estado=BA<br>Ano=2014<br>Acidente=%{x}<br>Mortos=%{marker.size}<extra></extra>\",\"ids\":[2014],\"legendgroup\":\"BA\",\"marker\":{\"color\":\"#FFA15A\",\"size\":[794],\"sizemode\":\"area\",\"sizeref\":3.36,\"symbol\":\"circle\"},\"mode\":\"markers\",\"name\":\"BA\",\"orientation\":\"v\",\"showlegend\":true,\"type\":\"scatter\",\"x\":[10407],\"xaxis\":\"x\",\"y\":[794],\"yaxis\":\"y\"},{\"hovertemplate\":\"Estado=CE<br>Ano=2014<br>Acidente=%{x}<br>Mortos=%{marker.size}<extra></extra>\",\"ids\":[2014],\"legendgroup\":\"CE\",\"marker\":{\"color\":\"#19d3f3\",\"size\":[291],\"sizemode\":\"area\",\"sizeref\":3.36,\"symbol\":\"circle\"},\"mode\":\"markers\",\"name\":\"CE\",\"orientation\":\"v\",\"showlegend\":true,\"type\":\"scatter\",\"x\":[3791],\"xaxis\":\"x\",\"y\":[291],\"yaxis\":\"y\"},{\"hovertemplate\":\"Estado=DF<br>Ano=2014<br>Acidente=%{x}<br>Mortos=%{marker.size}<extra></extra>\",\"ids\":[2014],\"legendgroup\":\"DF\",\"marker\":{\"color\":\"#FF6692\",\"size\":[46],\"sizemode\":\"area\",\"sizeref\":3.36,\"symbol\":\"circle\"},\"mode\":\"markers\",\"name\":\"DF\",\"orientation\":\"v\",\"showlegend\":true,\"type\":\"scatter\",\"x\":[1327],\"xaxis\":\"x\",\"y\":[46],\"yaxis\":\"y\"},{\"hovertemplate\":\"Estado=ES<br>Ano=2014<br>Acidente=%{x}<br>Mortos=%{marker.size}<extra></extra>\",\"ids\":[2014],\"legendgroup\":\"ES\",\"marker\":{\"color\":\"#B6E880\",\"size\":[279],\"sizemode\":\"area\",\"sizeref\":3.36,\"symbol\":\"circle\"},\"mode\":\"markers\",\"name\":\"ES\",\"orientation\":\"v\",\"showlegend\":true,\"type\":\"scatter\",\"x\":[7805],\"xaxis\":\"x\",\"y\":[279],\"yaxis\":\"y\"},{\"hovertemplate\":\"Estado=GO<br>Ano=2014<br>Acidente=%{x}<br>Mortos=%{marker.size}<extra></extra>\",\"ids\":[2014],\"legendgroup\":\"GO\",\"marker\":{\"color\":\"#FF97FF\",\"size\":[468],\"sizemode\":\"area\",\"sizeref\":3.36,\"symbol\":\"circle\"},\"mode\":\"markers\",\"name\":\"GO\",\"orientation\":\"v\",\"showlegend\":true,\"type\":\"scatter\",\"x\":[7125],\"xaxis\":\"x\",\"y\":[468],\"yaxis\":\"y\"},{\"hovertemplate\":\"Estado=MA<br>Ano=2014<br>Acidente=%{x}<br>Mortos=%{marker.size}<extra></extra>\",\"ids\":[2014],\"legendgroup\":\"MA\",\"marker\":{\"color\":\"#FECB52\",\"size\":[316],\"sizemode\":\"area\",\"sizeref\":3.36,\"symbol\":\"circle\"},\"mode\":\"markers\",\"name\":\"MA\",\"orientation\":\"v\",\"showlegend\":true,\"type\":\"scatter\",\"x\":[2619],\"xaxis\":\"x\",\"y\":[316],\"yaxis\":\"y\"},{\"hovertemplate\":\"Estado=MG<br>Ano=2014<br>Acidente=%{x}<br>Mortos=%{marker.size}<extra></extra>\",\"ids\":[2014],\"legendgroup\":\"MG\",\"marker\":{\"color\":\"#636efa\",\"size\":[1163],\"sizemode\":\"area\",\"sizeref\":3.36,\"symbol\":\"circle\"},\"mode\":\"markers\",\"name\":\"MG\",\"orientation\":\"v\",\"showlegend\":true,\"type\":\"scatter\",\"x\":[21882],\"xaxis\":\"x\",\"y\":[1163],\"yaxis\":\"y\"},{\"hovertemplate\":\"Estado=MS<br>Ano=2014<br>Acidente=%{x}<br>Mortos=%{marker.size}<extra></extra>\",\"ids\":[2014],\"legendgroup\":\"MS\",\"marker\":{\"color\":\"#EF553B\",\"size\":[226],\"sizemode\":\"area\",\"sizeref\":3.36,\"symbol\":\"circle\"},\"mode\":\"markers\",\"name\":\"MS\",\"orientation\":\"v\",\"showlegend\":true,\"type\":\"scatter\",\"x\":[3428],\"xaxis\":\"x\",\"y\":[226],\"yaxis\":\"y\"},{\"hovertemplate\":\"Estado=MT<br>Ano=2014<br>Acidente=%{x}<br>Mortos=%{marker.size}<extra></extra>\",\"ids\":[2014],\"legendgroup\":\"MT\",\"marker\":{\"color\":\"#00cc96\",\"size\":[282],\"sizemode\":\"area\",\"sizeref\":3.36,\"symbol\":\"circle\"},\"mode\":\"markers\",\"name\":\"MT\",\"orientation\":\"v\",\"showlegend\":true,\"type\":\"scatter\",\"x\":[4464],\"xaxis\":\"x\",\"y\":[282],\"yaxis\":\"y\"},{\"hovertemplate\":\"Estado=PA<br>Ano=2014<br>Acidente=%{x}<br>Mortos=%{marker.size}<extra></extra>\",\"ids\":[2014],\"legendgroup\":\"PA\",\"marker\":{\"color\":\"#ab63fa\",\"size\":[195],\"sizemode\":\"area\",\"sizeref\":3.36,\"symbol\":\"circle\"},\"mode\":\"markers\",\"name\":\"PA\",\"orientation\":\"v\",\"showlegend\":true,\"type\":\"scatter\",\"x\":[3232],\"xaxis\":\"x\",\"y\":[195],\"yaxis\":\"y\"},{\"hovertemplate\":\"Estado=PB<br>Ano=2014<br>Acidente=%{x}<br>Mortos=%{marker.size}<extra></extra>\",\"ids\":[2014],\"legendgroup\":\"PB\",\"marker\":{\"color\":\"#FFA15A\",\"size\":[182],\"sizemode\":\"area\",\"sizeref\":3.36,\"symbol\":\"circle\"},\"mode\":\"markers\",\"name\":\"PB\",\"orientation\":\"v\",\"showlegend\":true,\"type\":\"scatter\",\"x\":[3658],\"xaxis\":\"x\",\"y\":[182],\"yaxis\":\"y\"},{\"hovertemplate\":\"Estado=PE<br>Ano=2014<br>Acidente=%{x}<br>Mortos=%{marker.size}<extra></extra>\",\"ids\":[2014],\"legendgroup\":\"PE\",\"marker\":{\"color\":\"#19d3f3\",\"size\":[425],\"sizemode\":\"area\",\"sizeref\":3.36,\"symbol\":\"circle\"},\"mode\":\"markers\",\"name\":\"PE\",\"orientation\":\"v\",\"showlegend\":true,\"type\":\"scatter\",\"x\":[7405],\"xaxis\":\"x\",\"y\":[425],\"yaxis\":\"y\"},{\"hovertemplate\":\"Estado=PI<br>Ano=2014<br>Acidente=%{x}<br>Mortos=%{marker.size}<extra></extra>\",\"ids\":[2014],\"legendgroup\":\"PI\",\"marker\":{\"color\":\"#FF6692\",\"size\":[228],\"sizemode\":\"area\",\"sizeref\":3.36,\"symbol\":\"circle\"},\"mode\":\"markers\",\"name\":\"PI\",\"orientation\":\"v\",\"showlegend\":true,\"type\":\"scatter\",\"x\":[2728],\"xaxis\":\"x\",\"y\":[228],\"yaxis\":\"y\"},{\"hovertemplate\":\"Estado=PR<br>Ano=2014<br>Acidente=%{x}<br>Mortos=%{marker.size}<extra></extra>\",\"ids\":[2014],\"legendgroup\":\"PR\",\"marker\":{\"color\":\"#B6E880\",\"size\":[778],\"sizemode\":\"area\",\"sizeref\":3.36,\"symbol\":\"circle\"},\"mode\":\"markers\",\"name\":\"PR\",\"orientation\":\"v\",\"showlegend\":true,\"type\":\"scatter\",\"x\":[17177],\"xaxis\":\"x\",\"y\":[778],\"yaxis\":\"y\"},{\"hovertemplate\":\"Estado=RJ<br>Ano=2014<br>Acidente=%{x}<br>Mortos=%{marker.size}<extra></extra>\",\"ids\":[2014],\"legendgroup\":\"RJ\",\"marker\":{\"color\":\"#FF97FF\",\"size\":[537],\"sizemode\":\"area\",\"sizeref\":3.36,\"symbol\":\"circle\"},\"mode\":\"markers\",\"name\":\"RJ\",\"orientation\":\"v\",\"showlegend\":true,\"type\":\"scatter\",\"x\":[15403],\"xaxis\":\"x\",\"y\":[537],\"yaxis\":\"y\"},{\"hovertemplate\":\"Estado=RN<br>Ano=2014<br>Acidente=%{x}<br>Mortos=%{marker.size}<extra></extra>\",\"ids\":[2014],\"legendgroup\":\"RN\",\"marker\":{\"color\":\"#FECB52\",\"size\":[150],\"sizemode\":\"area\",\"sizeref\":3.36,\"symbol\":\"circle\"},\"mode\":\"markers\",\"name\":\"RN\",\"orientation\":\"v\",\"showlegend\":true,\"type\":\"scatter\",\"x\":[3675],\"xaxis\":\"x\",\"y\":[150],\"yaxis\":\"y\"},{\"hovertemplate\":\"Estado=RO<br>Ano=2014<br>Acidente=%{x}<br>Mortos=%{marker.size}<extra></extra>\",\"ids\":[2014],\"legendgroup\":\"RO\",\"marker\":{\"color\":\"#636efa\",\"size\":[103],\"sizemode\":\"area\",\"sizeref\":3.36,\"symbol\":\"circle\"},\"mode\":\"markers\",\"name\":\"RO\",\"orientation\":\"v\",\"showlegend\":true,\"type\":\"scatter\",\"x\":[2704],\"xaxis\":\"x\",\"y\":[103],\"yaxis\":\"y\"},{\"hovertemplate\":\"Estado=RR<br>Ano=2014<br>Acidente=%{x}<br>Mortos=%{marker.size}<extra></extra>\",\"ids\":[2014],\"legendgroup\":\"RR\",\"marker\":{\"color\":\"#EF553B\",\"size\":[30],\"sizemode\":\"area\",\"sizeref\":3.36,\"symbol\":\"circle\"},\"mode\":\"markers\",\"name\":\"RR\",\"orientation\":\"v\",\"showlegend\":true,\"type\":\"scatter\",\"x\":[309],\"xaxis\":\"x\",\"y\":[30],\"yaxis\":\"y\"},{\"hovertemplate\":\"Estado=RS<br>Ano=2014<br>Acidente=%{x}<br>Mortos=%{marker.size}<extra></extra>\",\"ids\":[2014],\"legendgroup\":\"RS\",\"marker\":{\"color\":\"#00cc96\",\"size\":[507],\"sizemode\":\"area\",\"sizeref\":3.36,\"symbol\":\"circle\"},\"mode\":\"markers\",\"name\":\"RS\",\"orientation\":\"v\",\"showlegend\":true,\"type\":\"scatter\",\"x\":[14432],\"xaxis\":\"x\",\"y\":[507],\"yaxis\":\"y\"},{\"hovertemplate\":\"Estado=SC<br>Ano=2014<br>Acidente=%{x}<br>Mortos=%{marker.size}<extra></extra>\",\"ids\":[2014],\"legendgroup\":\"SC\",\"marker\":{\"color\":\"#ab63fa\",\"size\":[536],\"sizemode\":\"area\",\"sizeref\":3.36,\"symbol\":\"circle\"},\"mode\":\"markers\",\"name\":\"SC\",\"orientation\":\"v\",\"showlegend\":true,\"type\":\"scatter\",\"x\":[18190],\"xaxis\":\"x\",\"y\":[536],\"yaxis\":\"y\"},{\"hovertemplate\":\"Estado=SE<br>Ano=2014<br>Acidente=%{x}<br>Mortos=%{marker.size}<extra></extra>\",\"ids\":[2014],\"legendgroup\":\"SE\",\"marker\":{\"color\":\"#FFA15A\",\"size\":[64],\"sizemode\":\"area\",\"sizeref\":3.36,\"symbol\":\"circle\"},\"mode\":\"markers\",\"name\":\"SE\",\"orientation\":\"v\",\"showlegend\":true,\"type\":\"scatter\",\"x\":[1562],\"xaxis\":\"x\",\"y\":[64],\"yaxis\":\"y\"},{\"hovertemplate\":\"Estado=SP<br>Ano=2014<br>Acidente=%{x}<br>Mortos=%{marker.size}<extra></extra>\",\"ids\":[2014],\"legendgroup\":\"SP\",\"marker\":{\"color\":\"#19d3f3\",\"size\":[307],\"sizemode\":\"area\",\"sizeref\":3.36,\"symbol\":\"circle\"},\"mode\":\"markers\",\"name\":\"SP\",\"orientation\":\"v\",\"showlegend\":true,\"type\":\"scatter\",\"x\":[12138],\"xaxis\":\"x\",\"y\":[307],\"yaxis\":\"y\"},{\"hovertemplate\":\"Estado=TO<br>Ano=2014<br>Acidente=%{x}<br>Mortos=%{marker.size}<extra></extra>\",\"ids\":[2014],\"legendgroup\":\"TO\",\"marker\":{\"color\":\"#FF6692\",\"size\":[117],\"sizemode\":\"area\",\"sizeref\":3.36,\"symbol\":\"circle\"},\"mode\":\"markers\",\"name\":\"TO\",\"orientation\":\"v\",\"showlegend\":true,\"type\":\"scatter\",\"x\":[1301],\"xaxis\":\"x\",\"y\":[117],\"yaxis\":\"y\"}],\"name\":\"2014\"},{\"data\":[{\"hovertemplate\":\"Estado=AC<br>Ano=2015<br>Acidente=%{x}<br>Mortos=%{marker.size}<extra></extra>\",\"ids\":[2015],\"legendgroup\":\"AC\",\"marker\":{\"color\":\"#636efa\",\"size\":[20],\"sizemode\":\"area\",\"sizeref\":3.36,\"symbol\":\"circle\"},\"mode\":\"markers\",\"name\":\"AC\",\"orientation\":\"v\",\"showlegend\":true,\"type\":\"scatter\",\"x\":[468],\"xaxis\":\"x\",\"y\":[20],\"yaxis\":\"y\"},{\"hovertemplate\":\"Estado=AL<br>Ano=2015<br>Acidente=%{x}<br>Mortos=%{marker.size}<extra></extra>\",\"ids\":[2015],\"legendgroup\":\"AL\",\"marker\":{\"color\":\"#EF553B\",\"size\":[118],\"sizemode\":\"area\",\"sizeref\":3.36,\"symbol\":\"circle\"},\"mode\":\"markers\",\"name\":\"AL\",\"orientation\":\"v\",\"showlegend\":true,\"type\":\"scatter\",\"x\":[1071],\"xaxis\":\"x\",\"y\":[118],\"yaxis\":\"y\"},{\"hovertemplate\":\"Estado=AM<br>Ano=2015<br>Acidente=%{x}<br>Mortos=%{marker.size}<extra></extra>\",\"ids\":[2015],\"legendgroup\":\"AM\",\"marker\":{\"color\":\"#00cc96\",\"size\":[15],\"sizemode\":\"area\",\"sizeref\":3.36,\"symbol\":\"circle\"},\"mode\":\"markers\",\"name\":\"AM\",\"orientation\":\"v\",\"showlegend\":true,\"type\":\"scatter\",\"x\":[131],\"xaxis\":\"x\",\"y\":[15],\"yaxis\":\"y\"},{\"hovertemplate\":\"Estado=AP<br>Ano=2015<br>Acidente=%{x}<br>Mortos=%{marker.size}<extra></extra>\",\"ids\":[2015],\"legendgroup\":\"AP\",\"marker\":{\"color\":\"#ab63fa\",\"size\":[11],\"sizemode\":\"area\",\"sizeref\":3.36,\"symbol\":\"circle\"},\"mode\":\"markers\",\"name\":\"AP\",\"orientation\":\"v\",\"showlegend\":true,\"type\":\"scatter\",\"x\":[218],\"xaxis\":\"x\",\"y\":[11],\"yaxis\":\"y\"},{\"hovertemplate\":\"Estado=BA<br>Ano=2015<br>Acidente=%{x}<br>Mortos=%{marker.size}<extra></extra>\",\"ids\":[2015],\"legendgroup\":\"BA\",\"marker\":{\"color\":\"#FFA15A\",\"size\":[642],\"sizemode\":\"area\",\"sizeref\":3.36,\"symbol\":\"circle\"},\"mode\":\"markers\",\"name\":\"BA\",\"orientation\":\"v\",\"showlegend\":true,\"type\":\"scatter\",\"x\":[7152],\"xaxis\":\"x\",\"y\":[642],\"yaxis\":\"y\"},{\"hovertemplate\":\"Estado=CE<br>Ano=2015<br>Acidente=%{x}<br>Mortos=%{marker.size}<extra></extra>\",\"ids\":[2015],\"legendgroup\":\"CE\",\"marker\":{\"color\":\"#19d3f3\",\"size\":[202],\"sizemode\":\"area\",\"sizeref\":3.36,\"symbol\":\"circle\"},\"mode\":\"markers\",\"name\":\"CE\",\"orientation\":\"v\",\"showlegend\":true,\"type\":\"scatter\",\"x\":[2636],\"xaxis\":\"x\",\"y\":[202],\"yaxis\":\"y\"},{\"hovertemplate\":\"Estado=DF<br>Ano=2015<br>Acidente=%{x}<br>Mortos=%{marker.size}<extra></extra>\",\"ids\":[2015],\"legendgroup\":\"DF\",\"marker\":{\"color\":\"#FF6692\",\"size\":[47],\"sizemode\":\"area\",\"sizeref\":3.36,\"symbol\":\"circle\"},\"mode\":\"markers\",\"name\":\"DF\",\"orientation\":\"v\",\"showlegend\":true,\"type\":\"scatter\",\"x\":[1040],\"xaxis\":\"x\",\"y\":[47],\"yaxis\":\"y\"},{\"hovertemplate\":\"Estado=ES<br>Ano=2015<br>Acidente=%{x}<br>Mortos=%{marker.size}<extra></extra>\",\"ids\":[2015],\"legendgroup\":\"ES\",\"marker\":{\"color\":\"#B6E880\",\"size\":[172],\"sizemode\":\"area\",\"sizeref\":3.36,\"symbol\":\"circle\"},\"mode\":\"markers\",\"name\":\"ES\",\"orientation\":\"v\",\"showlegend\":true,\"type\":\"scatter\",\"x\":[4762],\"xaxis\":\"x\",\"y\":[172],\"yaxis\":\"y\"},{\"hovertemplate\":\"Estado=GO<br>Ano=2015<br>Acidente=%{x}<br>Mortos=%{marker.size}<extra></extra>\",\"ids\":[2015],\"legendgroup\":\"GO\",\"marker\":{\"color\":\"#FF97FF\",\"size\":[442],\"sizemode\":\"area\",\"sizeref\":3.36,\"symbol\":\"circle\"},\"mode\":\"markers\",\"name\":\"GO\",\"orientation\":\"v\",\"showlegend\":true,\"type\":\"scatter\",\"x\":[6131],\"xaxis\":\"x\",\"y\":[442],\"yaxis\":\"y\"},{\"hovertemplate\":\"Estado=MA<br>Ano=2015<br>Acidente=%{x}<br>Mortos=%{marker.size}<extra></extra>\",\"ids\":[2015],\"legendgroup\":\"MA\",\"marker\":{\"color\":\"#FECB52\",\"size\":[300],\"sizemode\":\"area\",\"sizeref\":3.36,\"symbol\":\"circle\"},\"mode\":\"markers\",\"name\":\"MA\",\"orientation\":\"v\",\"showlegend\":true,\"type\":\"scatter\",\"x\":[2031],\"xaxis\":\"x\",\"y\":[300],\"yaxis\":\"y\"},{\"hovertemplate\":\"Estado=MG<br>Ano=2015<br>Acidente=%{x}<br>Mortos=%{marker.size}<extra></extra>\",\"ids\":[2015],\"legendgroup\":\"MG\",\"marker\":{\"color\":\"#636efa\",\"size\":[961],\"sizemode\":\"area\",\"sizeref\":3.36,\"symbol\":\"circle\"},\"mode\":\"markers\",\"name\":\"MG\",\"orientation\":\"v\",\"showlegend\":true,\"type\":\"scatter\",\"x\":[15537],\"xaxis\":\"x\",\"y\":[961],\"yaxis\":\"y\"},{\"hovertemplate\":\"Estado=MS<br>Ano=2015<br>Acidente=%{x}<br>Mortos=%{marker.size}<extra></extra>\",\"ids\":[2015],\"legendgroup\":\"MS\",\"marker\":{\"color\":\"#EF553B\",\"size\":[160],\"sizemode\":\"area\",\"sizeref\":3.36,\"symbol\":\"circle\"},\"mode\":\"markers\",\"name\":\"MS\",\"orientation\":\"v\",\"showlegend\":true,\"type\":\"scatter\",\"x\":[2818],\"xaxis\":\"x\",\"y\":[160],\"yaxis\":\"y\"},{\"hovertemplate\":\"Estado=MT<br>Ano=2015<br>Acidente=%{x}<br>Mortos=%{marker.size}<extra></extra>\",\"ids\":[2015],\"legendgroup\":\"MT\",\"marker\":{\"color\":\"#00cc96\",\"size\":[240],\"sizemode\":\"area\",\"sizeref\":3.36,\"symbol\":\"circle\"},\"mode\":\"markers\",\"name\":\"MT\",\"orientation\":\"v\",\"showlegend\":true,\"type\":\"scatter\",\"x\":[3759],\"xaxis\":\"x\",\"y\":[240],\"yaxis\":\"y\"},{\"hovertemplate\":\"Estado=PA<br>Ano=2015<br>Acidente=%{x}<br>Mortos=%{marker.size}<extra></extra>\",\"ids\":[2015],\"legendgroup\":\"PA\",\"marker\":{\"color\":\"#ab63fa\",\"size\":[191],\"sizemode\":\"area\",\"sizeref\":3.36,\"symbol\":\"circle\"},\"mode\":\"markers\",\"name\":\"PA\",\"orientation\":\"v\",\"showlegend\":true,\"type\":\"scatter\",\"x\":[2317],\"xaxis\":\"x\",\"y\":[191],\"yaxis\":\"y\"},{\"hovertemplate\":\"Estado=PB<br>Ano=2015<br>Acidente=%{x}<br>Mortos=%{marker.size}<extra></extra>\",\"ids\":[2015],\"legendgroup\":\"PB\",\"marker\":{\"color\":\"#FFA15A\",\"size\":[170],\"sizemode\":\"area\",\"sizeref\":3.36,\"symbol\":\"circle\"},\"mode\":\"markers\",\"name\":\"PB\",\"orientation\":\"v\",\"showlegend\":true,\"type\":\"scatter\",\"x\":[2753],\"xaxis\":\"x\",\"y\":[170],\"yaxis\":\"y\"},{\"hovertemplate\":\"Estado=PE<br>Ano=2015<br>Acidente=%{x}<br>Mortos=%{marker.size}<extra></extra>\",\"ids\":[2015],\"legendgroup\":\"PE\",\"marker\":{\"color\":\"#19d3f3\",\"size\":[410],\"sizemode\":\"area\",\"sizeref\":3.36,\"symbol\":\"circle\"},\"mode\":\"markers\",\"name\":\"PE\",\"orientation\":\"v\",\"showlegend\":true,\"type\":\"scatter\",\"x\":[5078],\"xaxis\":\"x\",\"y\":[410],\"yaxis\":\"y\"},{\"hovertemplate\":\"Estado=PI<br>Ano=2015<br>Acidente=%{x}<br>Mortos=%{marker.size}<extra></extra>\",\"ids\":[2015],\"legendgroup\":\"PI\",\"marker\":{\"color\":\"#FF6692\",\"size\":[169],\"sizemode\":\"area\",\"sizeref\":3.36,\"symbol\":\"circle\"},\"mode\":\"markers\",\"name\":\"PI\",\"orientation\":\"v\",\"showlegend\":true,\"type\":\"scatter\",\"x\":[2156],\"xaxis\":\"x\",\"y\":[169],\"yaxis\":\"y\"},{\"hovertemplate\":\"Estado=PR<br>Ano=2015<br>Acidente=%{x}<br>Mortos=%{marker.size}<extra></extra>\",\"ids\":[2015],\"legendgroup\":\"PR\",\"marker\":{\"color\":\"#B6E880\",\"size\":[584],\"sizemode\":\"area\",\"sizeref\":3.36,\"symbol\":\"circle\"},\"mode\":\"markers\",\"name\":\"PR\",\"orientation\":\"v\",\"showlegend\":true,\"type\":\"scatter\",\"x\":[12790],\"xaxis\":\"x\",\"y\":[584],\"yaxis\":\"y\"},{\"hovertemplate\":\"Estado=RJ<br>Ano=2015<br>Acidente=%{x}<br>Mortos=%{marker.size}<extra></extra>\",\"ids\":[2015],\"legendgroup\":\"RJ\",\"marker\":{\"color\":\"#FF97FF\",\"size\":[401],\"sizemode\":\"area\",\"sizeref\":3.36,\"symbol\":\"circle\"},\"mode\":\"markers\",\"name\":\"RJ\",\"orientation\":\"v\",\"showlegend\":true,\"type\":\"scatter\",\"x\":[9570],\"xaxis\":\"x\",\"y\":[401],\"yaxis\":\"y\"},{\"hovertemplate\":\"Estado=RN<br>Ano=2015<br>Acidente=%{x}<br>Mortos=%{marker.size}<extra></extra>\",\"ids\":[2015],\"legendgroup\":\"RN\",\"marker\":{\"color\":\"#FECB52\",\"size\":[185],\"sizemode\":\"area\",\"sizeref\":3.36,\"symbol\":\"circle\"},\"mode\":\"markers\",\"name\":\"RN\",\"orientation\":\"v\",\"showlegend\":true,\"type\":\"scatter\",\"x\":[2521],\"xaxis\":\"x\",\"y\":[185],\"yaxis\":\"y\"},{\"hovertemplate\":\"Estado=RO<br>Ano=2015<br>Acidente=%{x}<br>Mortos=%{marker.size}<extra></extra>\",\"ids\":[2015],\"legendgroup\":\"RO\",\"marker\":{\"color\":\"#636efa\",\"size\":[111],\"sizemode\":\"area\",\"sizeref\":3.36,\"symbol\":\"circle\"},\"mode\":\"markers\",\"name\":\"RO\",\"orientation\":\"v\",\"showlegend\":true,\"type\":\"scatter\",\"x\":[2118],\"xaxis\":\"x\",\"y\":[111],\"yaxis\":\"y\"},{\"hovertemplate\":\"Estado=RR<br>Ano=2015<br>Acidente=%{x}<br>Mortos=%{marker.size}<extra></extra>\",\"ids\":[2015],\"legendgroup\":\"RR\",\"marker\":{\"color\":\"#EF553B\",\"size\":[31],\"sizemode\":\"area\",\"sizeref\":3.36,\"symbol\":\"circle\"},\"mode\":\"markers\",\"name\":\"RR\",\"orientation\":\"v\",\"showlegend\":true,\"type\":\"scatter\",\"x\":[319],\"xaxis\":\"x\",\"y\":[31],\"yaxis\":\"y\"},{\"hovertemplate\":\"Estado=RS<br>Ano=2015<br>Acidente=%{x}<br>Mortos=%{marker.size}<extra></extra>\",\"ids\":[2015],\"legendgroup\":\"RS\",\"marker\":{\"color\":\"#00cc96\",\"size\":[396],\"sizemode\":\"area\",\"sizeref\":3.36,\"symbol\":\"circle\"},\"mode\":\"markers\",\"name\":\"RS\",\"orientation\":\"v\",\"showlegend\":true,\"type\":\"scatter\",\"x\":[9869],\"xaxis\":\"x\",\"y\":[396],\"yaxis\":\"y\"},{\"hovertemplate\":\"Estado=SC<br>Ano=2015<br>Acidente=%{x}<br>Mortos=%{marker.size}<extra></extra>\",\"ids\":[2015],\"legendgroup\":\"SC\",\"marker\":{\"color\":\"#ab63fa\",\"size\":[460],\"sizemode\":\"area\",\"sizeref\":3.36,\"symbol\":\"circle\"},\"mode\":\"markers\",\"name\":\"SC\",\"orientation\":\"v\",\"showlegend\":true,\"type\":\"scatter\",\"x\":[14033],\"xaxis\":\"x\",\"y\":[460],\"yaxis\":\"y\"},{\"hovertemplate\":\"Estado=SE<br>Ano=2015<br>Acidente=%{x}<br>Mortos=%{marker.size}<extra></extra>\",\"ids\":[2015],\"legendgroup\":\"SE\",\"marker\":{\"color\":\"#FFA15A\",\"size\":[67],\"sizemode\":\"area\",\"sizeref\":3.36,\"symbol\":\"circle\"},\"mode\":\"markers\",\"name\":\"SE\",\"orientation\":\"v\",\"showlegend\":true,\"type\":\"scatter\",\"x\":[1097],\"xaxis\":\"x\",\"y\":[67],\"yaxis\":\"y\"},{\"hovertemplate\":\"Estado=SP<br>Ano=2015<br>Acidente=%{x}<br>Mortos=%{marker.size}<extra></extra>\",\"ids\":[2015],\"legendgroup\":\"SP\",\"marker\":{\"color\":\"#19d3f3\",\"size\":[267],\"sizemode\":\"area\",\"sizeref\":3.36,\"symbol\":\"circle\"},\"mode\":\"markers\",\"name\":\"SP\",\"orientation\":\"v\",\"showlegend\":true,\"type\":\"scatter\",\"x\":[8901],\"xaxis\":\"x\",\"y\":[267],\"yaxis\":\"y\"},{\"hovertemplate\":\"Estado=TO<br>Ano=2015<br>Acidente=%{x}<br>Mortos=%{marker.size}<extra></extra>\",\"ids\":[2015],\"legendgroup\":\"TO\",\"marker\":{\"color\":\"#FF6692\",\"size\":[93],\"sizemode\":\"area\",\"sizeref\":3.36,\"symbol\":\"circle\"},\"mode\":\"markers\",\"name\":\"TO\",\"orientation\":\"v\",\"showlegend\":true,\"type\":\"scatter\",\"x\":[873],\"xaxis\":\"x\",\"y\":[93],\"yaxis\":\"y\"}],\"name\":\"2015\"},{\"data\":[{\"hovertemplate\":\"Estado=AC<br>Ano=2016<br>Acidente=%{x}<br>Mortos=%{marker.size}<extra></extra>\",\"ids\":[2016],\"legendgroup\":\"AC\",\"marker\":{\"color\":\"#636efa\",\"size\":[23],\"sizemode\":\"area\",\"sizeref\":3.36,\"symbol\":\"circle\"},\"mode\":\"markers\",\"name\":\"AC\",\"orientation\":\"v\",\"showlegend\":true,\"type\":\"scatter\",\"x\":[330],\"xaxis\":\"x\",\"y\":[23],\"yaxis\":\"y\"},{\"hovertemplate\":\"Estado=AL<br>Ano=2016<br>Acidente=%{x}<br>Mortos=%{marker.size}<extra></extra>\",\"ids\":[2016],\"legendgroup\":\"AL\",\"marker\":{\"color\":\"#EF553B\",\"size\":[104],\"sizemode\":\"area\",\"sizeref\":3.36,\"symbol\":\"circle\"},\"mode\":\"markers\",\"name\":\"AL\",\"orientation\":\"v\",\"showlegend\":true,\"type\":\"scatter\",\"x\":[951],\"xaxis\":\"x\",\"y\":[104],\"yaxis\":\"y\"},{\"hovertemplate\":\"Estado=AM<br>Ano=2016<br>Acidente=%{x}<br>Mortos=%{marker.size}<extra></extra>\",\"ids\":[2016],\"legendgroup\":\"AM\",\"marker\":{\"color\":\"#00cc96\",\"size\":[22],\"sizemode\":\"area\",\"sizeref\":3.36,\"symbol\":\"circle\"},\"mode\":\"markers\",\"name\":\"AM\",\"orientation\":\"v\",\"showlegend\":true,\"type\":\"scatter\",\"x\":[166],\"xaxis\":\"x\",\"y\":[22],\"yaxis\":\"y\"},{\"hovertemplate\":\"Estado=AP<br>Ano=2016<br>Acidente=%{x}<br>Mortos=%{marker.size}<extra></extra>\",\"ids\":[2016],\"legendgroup\":\"AP\",\"marker\":{\"color\":\"#ab63fa\",\"size\":[16],\"sizemode\":\"area\",\"sizeref\":3.36,\"symbol\":\"circle\"},\"mode\":\"markers\",\"name\":\"AP\",\"orientation\":\"v\",\"showlegend\":true,\"type\":\"scatter\",\"x\":[198],\"xaxis\":\"x\",\"y\":[16],\"yaxis\":\"y\"},{\"hovertemplate\":\"Estado=BA<br>Ano=2016<br>Acidente=%{x}<br>Mortos=%{marker.size}<extra></extra>\",\"ids\":[2016],\"legendgroup\":\"BA\",\"marker\":{\"color\":\"#FFA15A\",\"size\":[610],\"sizemode\":\"area\",\"sizeref\":3.36,\"symbol\":\"circle\"},\"mode\":\"markers\",\"name\":\"BA\",\"orientation\":\"v\",\"showlegend\":true,\"type\":\"scatter\",\"x\":[5495],\"xaxis\":\"x\",\"y\":[610],\"yaxis\":\"y\"},{\"hovertemplate\":\"Estado=CE<br>Ano=2016<br>Acidente=%{x}<br>Mortos=%{marker.size}<extra></extra>\",\"ids\":[2016],\"legendgroup\":\"CE\",\"marker\":{\"color\":\"#19d3f3\",\"size\":[224],\"sizemode\":\"area\",\"sizeref\":3.36,\"symbol\":\"circle\"},\"mode\":\"markers\",\"name\":\"CE\",\"orientation\":\"v\",\"showlegend\":true,\"type\":\"scatter\",\"x\":[2419],\"xaxis\":\"x\",\"y\":[224],\"yaxis\":\"y\"},{\"hovertemplate\":\"Estado=DF<br>Ano=2016<br>Acidente=%{x}<br>Mortos=%{marker.size}<extra></extra>\",\"ids\":[2016],\"legendgroup\":\"DF\",\"marker\":{\"color\":\"#FF6692\",\"size\":[58],\"sizemode\":\"area\",\"sizeref\":3.36,\"symbol\":\"circle\"},\"mode\":\"markers\",\"name\":\"DF\",\"orientation\":\"v\",\"showlegend\":true,\"type\":\"scatter\",\"x\":[1066],\"xaxis\":\"x\",\"y\":[58],\"yaxis\":\"y\"},{\"hovertemplate\":\"Estado=ES<br>Ano=2016<br>Acidente=%{x}<br>Mortos=%{marker.size}<extra></extra>\",\"ids\":[2016],\"legendgroup\":\"ES\",\"marker\":{\"color\":\"#B6E880\",\"size\":[187],\"sizemode\":\"area\",\"sizeref\":3.36,\"symbol\":\"circle\"},\"mode\":\"markers\",\"name\":\"ES\",\"orientation\":\"v\",\"showlegend\":true,\"type\":\"scatter\",\"x\":[3230],\"xaxis\":\"x\",\"y\":[187],\"yaxis\":\"y\"},{\"hovertemplate\":\"Estado=GO<br>Ano=2016<br>Acidente=%{x}<br>Mortos=%{marker.size}<extra></extra>\",\"ids\":[2016],\"legendgroup\":\"GO\",\"marker\":{\"color\":\"#FF97FF\",\"size\":[351],\"sizemode\":\"area\",\"sizeref\":3.36,\"symbol\":\"circle\"},\"mode\":\"markers\",\"name\":\"GO\",\"orientation\":\"v\",\"showlegend\":true,\"type\":\"scatter\",\"x\":[4967],\"xaxis\":\"x\",\"y\":[351],\"yaxis\":\"y\"},{\"hovertemplate\":\"Estado=MA<br>Ano=2016<br>Acidente=%{x}<br>Mortos=%{marker.size}<extra></extra>\",\"ids\":[2016],\"legendgroup\":\"MA\",\"marker\":{\"color\":\"#FECB52\",\"size\":[221],\"sizemode\":\"area\",\"sizeref\":3.36,\"symbol\":\"circle\"},\"mode\":\"markers\",\"name\":\"MA\",\"orientation\":\"v\",\"showlegend\":true,\"type\":\"scatter\",\"x\":[1512],\"xaxis\":\"x\",\"y\":[221],\"yaxis\":\"y\"},{\"hovertemplate\":\"Estado=MG<br>Ano=2016<br>Acidente=%{x}<br>Mortos=%{marker.size}<extra></extra>\",\"ids\":[2016],\"legendgroup\":\"MG\",\"marker\":{\"color\":\"#636efa\",\"size\":[829],\"sizemode\":\"area\",\"sizeref\":3.36,\"symbol\":\"circle\"},\"mode\":\"markers\",\"name\":\"MG\",\"orientation\":\"v\",\"showlegend\":true,\"type\":\"scatter\",\"x\":[14369],\"xaxis\":\"x\",\"y\":[829],\"yaxis\":\"y\"},{\"hovertemplate\":\"Estado=MS<br>Ano=2016<br>Acidente=%{x}<br>Mortos=%{marker.size}<extra></extra>\",\"ids\":[2016],\"legendgroup\":\"MS\",\"marker\":{\"color\":\"#EF553B\",\"size\":[146],\"sizemode\":\"area\",\"sizeref\":3.36,\"symbol\":\"circle\"},\"mode\":\"markers\",\"name\":\"MS\",\"orientation\":\"v\",\"showlegend\":true,\"type\":\"scatter\",\"x\":[2466],\"xaxis\":\"x\",\"y\":[146],\"yaxis\":\"y\"},{\"hovertemplate\":\"Estado=MT<br>Ano=2016<br>Acidente=%{x}<br>Mortos=%{marker.size}<extra></extra>\",\"ids\":[2016],\"legendgroup\":\"MT\",\"marker\":{\"color\":\"#00cc96\",\"size\":[220],\"sizemode\":\"area\",\"sizeref\":3.36,\"symbol\":\"circle\"},\"mode\":\"markers\",\"name\":\"MT\",\"orientation\":\"v\",\"showlegend\":true,\"type\":\"scatter\",\"x\":[3262],\"xaxis\":\"x\",\"y\":[220],\"yaxis\":\"y\"},{\"hovertemplate\":\"Estado=PA<br>Ano=2016<br>Acidente=%{x}<br>Mortos=%{marker.size}<extra></extra>\",\"ids\":[2016],\"legendgroup\":\"PA\",\"marker\":{\"color\":\"#ab63fa\",\"size\":[184],\"sizemode\":\"area\",\"sizeref\":3.36,\"symbol\":\"circle\"},\"mode\":\"markers\",\"name\":\"PA\",\"orientation\":\"v\",\"showlegend\":true,\"type\":\"scatter\",\"x\":[1732],\"xaxis\":\"x\",\"y\":[184],\"yaxis\":\"y\"},{\"hovertemplate\":\"Estado=PB<br>Ano=2016<br>Acidente=%{x}<br>Mortos=%{marker.size}<extra></extra>\",\"ids\":[2016],\"legendgroup\":\"PB\",\"marker\":{\"color\":\"#FFA15A\",\"size\":[156],\"sizemode\":\"area\",\"sizeref\":3.36,\"symbol\":\"circle\"},\"mode\":\"markers\",\"name\":\"PB\",\"orientation\":\"v\",\"showlegend\":true,\"type\":\"scatter\",\"x\":[1932],\"xaxis\":\"x\",\"y\":[156],\"yaxis\":\"y\"},{\"hovertemplate\":\"Estado=PE<br>Ano=2016<br>Acidente=%{x}<br>Mortos=%{marker.size}<extra></extra>\",\"ids\":[2016],\"legendgroup\":\"PE\",\"marker\":{\"color\":\"#19d3f3\",\"size\":[386],\"sizemode\":\"area\",\"sizeref\":3.36,\"symbol\":\"circle\"},\"mode\":\"markers\",\"name\":\"PE\",\"orientation\":\"v\",\"showlegend\":true,\"type\":\"scatter\",\"x\":[3623],\"xaxis\":\"x\",\"y\":[386],\"yaxis\":\"y\"},{\"hovertemplate\":\"Estado=PI<br>Ano=2016<br>Acidente=%{x}<br>Mortos=%{marker.size}<extra></extra>\",\"ids\":[2016],\"legendgroup\":\"PI\",\"marker\":{\"color\":\"#FF6692\",\"size\":[149],\"sizemode\":\"area\",\"sizeref\":3.36,\"symbol\":\"circle\"},\"mode\":\"markers\",\"name\":\"PI\",\"orientation\":\"v\",\"showlegend\":true,\"type\":\"scatter\",\"x\":[1501],\"xaxis\":\"x\",\"y\":[149],\"yaxis\":\"y\"},{\"hovertemplate\":\"Estado=PR<br>Ano=2016<br>Acidente=%{x}<br>Mortos=%{marker.size}<extra></extra>\",\"ids\":[2016],\"legendgroup\":\"PR\",\"marker\":{\"color\":\"#B6E880\",\"size\":[651],\"sizemode\":\"area\",\"sizeref\":3.36,\"symbol\":\"circle\"},\"mode\":\"markers\",\"name\":\"PR\",\"orientation\":\"v\",\"showlegend\":true,\"type\":\"scatter\",\"x\":[11030],\"xaxis\":\"x\",\"y\":[651],\"yaxis\":\"y\"},{\"hovertemplate\":\"Estado=RJ<br>Ano=2016<br>Acidente=%{x}<br>Mortos=%{marker.size}<extra></extra>\",\"ids\":[2016],\"legendgroup\":\"RJ\",\"marker\":{\"color\":\"#FF97FF\",\"size\":[370],\"sizemode\":\"area\",\"sizeref\":3.36,\"symbol\":\"circle\"},\"mode\":\"markers\",\"name\":\"RJ\",\"orientation\":\"v\",\"showlegend\":true,\"type\":\"scatter\",\"x\":[6118],\"xaxis\":\"x\",\"y\":[370],\"yaxis\":\"y\"},{\"hovertemplate\":\"Estado=RN<br>Ano=2016<br>Acidente=%{x}<br>Mortos=%{marker.size}<extra></extra>\",\"ids\":[2016],\"legendgroup\":\"RN\",\"marker\":{\"color\":\"#FECB52\",\"size\":[144],\"sizemode\":\"area\",\"sizeref\":3.36,\"symbol\":\"circle\"},\"mode\":\"markers\",\"name\":\"RN\",\"orientation\":\"v\",\"showlegend\":true,\"type\":\"scatter\",\"x\":[1626],\"xaxis\":\"x\",\"y\":[144],\"yaxis\":\"y\"},{\"hovertemplate\":\"Estado=RO<br>Ano=2016<br>Acidente=%{x}<br>Mortos=%{marker.size}<extra></extra>\",\"ids\":[2016],\"legendgroup\":\"RO\",\"marker\":{\"color\":\"#636efa\",\"size\":[102],\"sizemode\":\"area\",\"sizeref\":3.36,\"symbol\":\"circle\"},\"mode\":\"markers\",\"name\":\"RO\",\"orientation\":\"v\",\"showlegend\":true,\"type\":\"scatter\",\"x\":[1715],\"xaxis\":\"x\",\"y\":[102],\"yaxis\":\"y\"},{\"hovertemplate\":\"Estado=RR<br>Ano=2016<br>Acidente=%{x}<br>Mortos=%{marker.size}<extra></extra>\",\"ids\":[2016],\"legendgroup\":\"RR\",\"marker\":{\"color\":\"#EF553B\",\"size\":[24],\"sizemode\":\"area\",\"sizeref\":3.36,\"symbol\":\"circle\"},\"mode\":\"markers\",\"name\":\"RR\",\"orientation\":\"v\",\"showlegend\":true,\"type\":\"scatter\",\"x\":[296],\"xaxis\":\"x\",\"y\":[24],\"yaxis\":\"y\"},{\"hovertemplate\":\"Estado=RS<br>Ano=2016<br>Acidente=%{x}<br>Mortos=%{marker.size}<extra></extra>\",\"ids\":[2016],\"legendgroup\":\"RS\",\"marker\":{\"color\":\"#00cc96\",\"size\":[348],\"sizemode\":\"area\",\"sizeref\":3.36,\"symbol\":\"circle\"},\"mode\":\"markers\",\"name\":\"RS\",\"orientation\":\"v\",\"showlegend\":true,\"type\":\"scatter\",\"x\":[7514],\"xaxis\":\"x\",\"y\":[348],\"yaxis\":\"y\"},{\"hovertemplate\":\"Estado=SC<br>Ano=2016<br>Acidente=%{x}<br>Mortos=%{marker.size}<extra></extra>\",\"ids\":[2016],\"legendgroup\":\"SC\",\"marker\":{\"color\":\"#ab63fa\",\"size\":[450],\"sizemode\":\"area\",\"sizeref\":3.36,\"symbol\":\"circle\"},\"mode\":\"markers\",\"name\":\"SC\",\"orientation\":\"v\",\"showlegend\":true,\"type\":\"scatter\",\"x\":[10604],\"xaxis\":\"x\",\"y\":[450],\"yaxis\":\"y\"},{\"hovertemplate\":\"Estado=SE<br>Ano=2016<br>Acidente=%{x}<br>Mortos=%{marker.size}<extra></extra>\",\"ids\":[2016],\"legendgroup\":\"SE\",\"marker\":{\"color\":\"#FFA15A\",\"size\":[57],\"sizemode\":\"area\",\"sizeref\":3.36,\"symbol\":\"circle\"},\"mode\":\"markers\",\"name\":\"SE\",\"orientation\":\"v\",\"showlegend\":true,\"type\":\"scatter\",\"x\":[763],\"xaxis\":\"x\",\"y\":[57],\"yaxis\":\"y\"},{\"hovertemplate\":\"Estado=SP<br>Ano=2016<br>Acidente=%{x}<br>Mortos=%{marker.size}<extra></extra>\",\"ids\":[2016],\"legendgroup\":\"SP\",\"marker\":{\"color\":\"#19d3f3\",\"size\":[255],\"sizemode\":\"area\",\"sizeref\":3.36,\"symbol\":\"circle\"},\"mode\":\"markers\",\"name\":\"SP\",\"orientation\":\"v\",\"showlegend\":true,\"type\":\"scatter\",\"x\":[6631],\"xaxis\":\"x\",\"y\":[255],\"yaxis\":\"y\"},{\"hovertemplate\":\"Estado=TO<br>Ano=2016<br>Acidente=%{x}<br>Mortos=%{marker.size}<extra></extra>\",\"ids\":[2016],\"legendgroup\":\"TO\",\"marker\":{\"color\":\"#FF6692\",\"size\":[109],\"sizemode\":\"area\",\"sizeref\":3.36,\"symbol\":\"circle\"},\"mode\":\"markers\",\"name\":\"TO\",\"orientation\":\"v\",\"showlegend\":true,\"type\":\"scatter\",\"x\":[836],\"xaxis\":\"x\",\"y\":[109],\"yaxis\":\"y\"}],\"name\":\"2016\"},{\"data\":[{\"hovertemplate\":\"Estado=AC<br>Ano=2017<br>Acidente=%{x}<br>Mortos=%{marker.size}<extra></extra>\",\"ids\":[2017],\"legendgroup\":\"AC\",\"marker\":{\"color\":\"#636efa\",\"size\":[18],\"sizemode\":\"area\",\"sizeref\":3.36,\"symbol\":\"circle\"},\"mode\":\"markers\",\"name\":\"AC\",\"orientation\":\"v\",\"showlegend\":true,\"type\":\"scatter\",\"x\":[304],\"xaxis\":\"x\",\"y\":[18],\"yaxis\":\"y\"},{\"hovertemplate\":\"Estado=AL<br>Ano=2017<br>Acidente=%{x}<br>Mortos=%{marker.size}<extra></extra>\",\"ids\":[2017],\"legendgroup\":\"AL\",\"marker\":{\"color\":\"#EF553B\",\"size\":[102],\"sizemode\":\"area\",\"sizeref\":3.36,\"symbol\":\"circle\"},\"mode\":\"markers\",\"name\":\"AL\",\"orientation\":\"v\",\"showlegend\":true,\"type\":\"scatter\",\"x\":[904],\"xaxis\":\"x\",\"y\":[102],\"yaxis\":\"y\"},{\"hovertemplate\":\"Estado=AM<br>Ano=2017<br>Acidente=%{x}<br>Mortos=%{marker.size}<extra></extra>\",\"ids\":[2017],\"legendgroup\":\"AM\",\"marker\":{\"color\":\"#00cc96\",\"size\":[14],\"sizemode\":\"area\",\"sizeref\":3.36,\"symbol\":\"circle\"},\"mode\":\"markers\",\"name\":\"AM\",\"orientation\":\"v\",\"showlegend\":true,\"type\":\"scatter\",\"x\":[131],\"xaxis\":\"x\",\"y\":[14],\"yaxis\":\"y\"},{\"hovertemplate\":\"Estado=AP<br>Ano=2017<br>Acidente=%{x}<br>Mortos=%{marker.size}<extra></extra>\",\"ids\":[2017],\"legendgroup\":\"AP\",\"marker\":{\"color\":\"#ab63fa\",\"size\":[9],\"sizemode\":\"area\",\"sizeref\":3.36,\"symbol\":\"circle\"},\"mode\":\"markers\",\"name\":\"AP\",\"orientation\":\"v\",\"showlegend\":true,\"type\":\"scatter\",\"x\":[166],\"xaxis\":\"x\",\"y\":[9],\"yaxis\":\"y\"},{\"hovertemplate\":\"Estado=BA<br>Ano=2017<br>Acidente=%{x}<br>Mortos=%{marker.size}<extra></extra>\",\"ids\":[2017],\"legendgroup\":\"BA\",\"marker\":{\"color\":\"#FFA15A\",\"size\":[594],\"sizemode\":\"area\",\"sizeref\":3.36,\"symbol\":\"circle\"},\"mode\":\"markers\",\"name\":\"BA\",\"orientation\":\"v\",\"showlegend\":true,\"type\":\"scatter\",\"x\":[4687],\"xaxis\":\"x\",\"y\":[594],\"yaxis\":\"y\"},{\"hovertemplate\":\"Estado=CE<br>Ano=2017<br>Acidente=%{x}<br>Mortos=%{marker.size}<extra></extra>\",\"ids\":[2017],\"legendgroup\":\"CE\",\"marker\":{\"color\":\"#19d3f3\",\"size\":[190],\"sizemode\":\"area\",\"sizeref\":3.36,\"symbol\":\"circle\"},\"mode\":\"markers\",\"name\":\"CE\",\"orientation\":\"v\",\"showlegend\":true,\"type\":\"scatter\",\"x\":[1954],\"xaxis\":\"x\",\"y\":[190],\"yaxis\":\"y\"},{\"hovertemplate\":\"Estado=DF<br>Ano=2017<br>Acidente=%{x}<br>Mortos=%{marker.size}<extra></extra>\",\"ids\":[2017],\"legendgroup\":\"DF\",\"marker\":{\"color\":\"#FF6692\",\"size\":[46],\"sizemode\":\"area\",\"sizeref\":3.36,\"symbol\":\"circle\"},\"mode\":\"markers\",\"name\":\"DF\",\"orientation\":\"v\",\"showlegend\":true,\"type\":\"scatter\",\"x\":[1093],\"xaxis\":\"x\",\"y\":[46],\"yaxis\":\"y\"},{\"hovertemplate\":\"Estado=ES<br>Ano=2017<br>Acidente=%{x}<br>Mortos=%{marker.size}<extra></extra>\",\"ids\":[2017],\"legendgroup\":\"ES\",\"marker\":{\"color\":\"#B6E880\",\"size\":[201],\"sizemode\":\"area\",\"sizeref\":3.36,\"symbol\":\"circle\"},\"mode\":\"markers\",\"name\":\"ES\",\"orientation\":\"v\",\"showlegend\":true,\"type\":\"scatter\",\"x\":[3004],\"xaxis\":\"x\",\"y\":[201],\"yaxis\":\"y\"},{\"hovertemplate\":\"Estado=GO<br>Ano=2017<br>Acidente=%{x}<br>Mortos=%{marker.size}<extra></extra>\",\"ids\":[2017],\"legendgroup\":\"GO\",\"marker\":{\"color\":\"#FF97FF\",\"size\":[344],\"sizemode\":\"area\",\"sizeref\":3.36,\"symbol\":\"circle\"},\"mode\":\"markers\",\"name\":\"GO\",\"orientation\":\"v\",\"showlegend\":true,\"type\":\"scatter\",\"x\":[4367],\"xaxis\":\"x\",\"y\":[344],\"yaxis\":\"y\"},{\"hovertemplate\":\"Estado=MA<br>Ano=2017<br>Acidente=%{x}<br>Mortos=%{marker.size}<extra></extra>\",\"ids\":[2017],\"legendgroup\":\"MA\",\"marker\":{\"color\":\"#FECB52\",\"size\":[246],\"sizemode\":\"area\",\"sizeref\":3.36,\"symbol\":\"circle\"},\"mode\":\"markers\",\"name\":\"MA\",\"orientation\":\"v\",\"showlegend\":true,\"type\":\"scatter\",\"x\":[1583],\"xaxis\":\"x\",\"y\":[246],\"yaxis\":\"y\"},{\"hovertemplate\":\"Estado=MG<br>Ano=2017<br>Acidente=%{x}<br>Mortos=%{marker.size}<extra></extra>\",\"ids\":[2017],\"legendgroup\":\"MG\",\"marker\":{\"color\":\"#636efa\",\"size\":[868],\"sizemode\":\"area\",\"sizeref\":3.36,\"symbol\":\"circle\"},\"mode\":\"markers\",\"name\":\"MG\",\"orientation\":\"v\",\"showlegend\":true,\"type\":\"scatter\",\"x\":[12727],\"xaxis\":\"x\",\"y\":[868],\"yaxis\":\"y\"},{\"hovertemplate\":\"Estado=MS<br>Ano=2017<br>Acidente=%{x}<br>Mortos=%{marker.size}<extra></extra>\",\"ids\":[2017],\"legendgroup\":\"MS\",\"marker\":{\"color\":\"#EF553B\",\"size\":[162],\"sizemode\":\"area\",\"sizeref\":3.36,\"symbol\":\"circle\"},\"mode\":\"markers\",\"name\":\"MS\",\"orientation\":\"v\",\"showlegend\":true,\"type\":\"scatter\",\"x\":[1933],\"xaxis\":\"x\",\"y\":[162],\"yaxis\":\"y\"},{\"hovertemplate\":\"Estado=MT<br>Ano=2017<br>Acidente=%{x}<br>Mortos=%{marker.size}<extra></extra>\",\"ids\":[2017],\"legendgroup\":\"MT\",\"marker\":{\"color\":\"#00cc96\",\"size\":[191],\"sizemode\":\"area\",\"sizeref\":3.36,\"symbol\":\"circle\"},\"mode\":\"markers\",\"name\":\"MT\",\"orientation\":\"v\",\"showlegend\":true,\"type\":\"scatter\",\"x\":[3526],\"xaxis\":\"x\",\"y\":[191],\"yaxis\":\"y\"},{\"hovertemplate\":\"Estado=PA<br>Ano=2017<br>Acidente=%{x}<br>Mortos=%{marker.size}<extra></extra>\",\"ids\":[2017],\"legendgroup\":\"PA\",\"marker\":{\"color\":\"#ab63fa\",\"size\":[162],\"sizemode\":\"area\",\"sizeref\":3.36,\"symbol\":\"circle\"},\"mode\":\"markers\",\"name\":\"PA\",\"orientation\":\"v\",\"showlegend\":true,\"type\":\"scatter\",\"x\":[1504],\"xaxis\":\"x\",\"y\":[162],\"yaxis\":\"y\"},{\"hovertemplate\":\"Estado=PB<br>Ano=2017<br>Acidente=%{x}<br>Mortos=%{marker.size}<extra></extra>\",\"ids\":[2017],\"legendgroup\":\"PB\",\"marker\":{\"color\":\"#FFA15A\",\"size\":[139],\"sizemode\":\"area\",\"sizeref\":3.36,\"symbol\":\"circle\"},\"mode\":\"markers\",\"name\":\"PB\",\"orientation\":\"v\",\"showlegend\":true,\"type\":\"scatter\",\"x\":[1852],\"xaxis\":\"x\",\"y\":[139],\"yaxis\":\"y\"},{\"hovertemplate\":\"Estado=PE<br>Ano=2017<br>Acidente=%{x}<br>Mortos=%{marker.size}<extra></extra>\",\"ids\":[2017],\"legendgroup\":\"PE\",\"marker\":{\"color\":\"#19d3f3\",\"size\":[343],\"sizemode\":\"area\",\"sizeref\":3.36,\"symbol\":\"circle\"},\"mode\":\"markers\",\"name\":\"PE\",\"orientation\":\"v\",\"showlegend\":true,\"type\":\"scatter\",\"x\":[3440],\"xaxis\":\"x\",\"y\":[343],\"yaxis\":\"y\"},{\"hovertemplate\":\"Estado=PI<br>Ano=2017<br>Acidente=%{x}<br>Mortos=%{marker.size}<extra></extra>\",\"ids\":[2017],\"legendgroup\":\"PI\",\"marker\":{\"color\":\"#FF6692\",\"size\":[209],\"sizemode\":\"area\",\"sizeref\":3.36,\"symbol\":\"circle\"},\"mode\":\"markers\",\"name\":\"PI\",\"orientation\":\"v\",\"showlegend\":true,\"type\":\"scatter\",\"x\":[1540],\"xaxis\":\"x\",\"y\":[209],\"yaxis\":\"y\"},{\"hovertemplate\":\"Estado=PR<br>Ano=2017<br>Acidente=%{x}<br>Mortos=%{marker.size}<extra></extra>\",\"ids\":[2017],\"legendgroup\":\"PR\",\"marker\":{\"color\":\"#B6E880\",\"size\":[612],\"sizemode\":\"area\",\"sizeref\":3.36,\"symbol\":\"circle\"},\"mode\":\"markers\",\"name\":\"PR\",\"orientation\":\"v\",\"showlegend\":true,\"type\":\"scatter\",\"x\":[10689],\"xaxis\":\"x\",\"y\":[612],\"yaxis\":\"y\"},{\"hovertemplate\":\"Estado=RJ<br>Ano=2017<br>Acidente=%{x}<br>Mortos=%{marker.size}<extra></extra>\",\"ids\":[2017],\"legendgroup\":\"RJ\",\"marker\":{\"color\":\"#FF97FF\",\"size\":[341],\"sizemode\":\"area\",\"sizeref\":3.36,\"symbol\":\"circle\"},\"mode\":\"markers\",\"name\":\"RJ\",\"orientation\":\"v\",\"showlegend\":true,\"type\":\"scatter\",\"x\":[5967],\"xaxis\":\"x\",\"y\":[341],\"yaxis\":\"y\"},{\"hovertemplate\":\"Estado=RN<br>Ano=2017<br>Acidente=%{x}<br>Mortos=%{marker.size}<extra></extra>\",\"ids\":[2017],\"legendgroup\":\"RN\",\"marker\":{\"color\":\"#FECB52\",\"size\":[139],\"sizemode\":\"area\",\"sizeref\":3.36,\"symbol\":\"circle\"},\"mode\":\"markers\",\"name\":\"RN\",\"orientation\":\"v\",\"showlegend\":true,\"type\":\"scatter\",\"x\":[1457],\"xaxis\":\"x\",\"y\":[139],\"yaxis\":\"y\"},{\"hovertemplate\":\"Estado=RO<br>Ano=2017<br>Acidente=%{x}<br>Mortos=%{marker.size}<extra></extra>\",\"ids\":[2017],\"legendgroup\":\"RO\",\"marker\":{\"color\":\"#636efa\",\"size\":[119],\"sizemode\":\"area\",\"sizeref\":3.36,\"symbol\":\"circle\"},\"mode\":\"markers\",\"name\":\"RO\",\"orientation\":\"v\",\"showlegend\":true,\"type\":\"scatter\",\"x\":[1831],\"xaxis\":\"x\",\"y\":[119],\"yaxis\":\"y\"},{\"hovertemplate\":\"Estado=RR<br>Ano=2017<br>Acidente=%{x}<br>Mortos=%{marker.size}<extra></extra>\",\"ids\":[2017],\"legendgroup\":\"RR\",\"marker\":{\"color\":\"#EF553B\",\"size\":[37],\"sizemode\":\"area\",\"sizeref\":3.36,\"symbol\":\"circle\"},\"mode\":\"markers\",\"name\":\"RR\",\"orientation\":\"v\",\"showlegend\":true,\"type\":\"scatter\",\"x\":[286],\"xaxis\":\"x\",\"y\":[37],\"yaxis\":\"y\"},{\"hovertemplate\":\"Estado=RS<br>Ano=2017<br>Acidente=%{x}<br>Mortos=%{marker.size}<extra></extra>\",\"ids\":[2017],\"legendgroup\":\"RS\",\"marker\":{\"color\":\"#00cc96\",\"size\":[391],\"sizemode\":\"area\",\"sizeref\":3.36,\"symbol\":\"circle\"},\"mode\":\"markers\",\"name\":\"RS\",\"orientation\":\"v\",\"showlegend\":true,\"type\":\"scatter\",\"x\":[6385],\"xaxis\":\"x\",\"y\":[391],\"yaxis\":\"y\"},{\"hovertemplate\":\"Estado=SC<br>Ano=2017<br>Acidente=%{x}<br>Mortos=%{marker.size}<extra></extra>\",\"ids\":[2017],\"legendgroup\":\"SC\",\"marker\":{\"color\":\"#ab63fa\",\"size\":[381],\"sizemode\":\"area\",\"sizeref\":3.36,\"symbol\":\"circle\"},\"mode\":\"markers\",\"name\":\"SC\",\"orientation\":\"v\",\"showlegend\":true,\"type\":\"scatter\",\"x\":[10663],\"xaxis\":\"x\",\"y\":[381],\"yaxis\":\"y\"},{\"hovertemplate\":\"Estado=SE<br>Ano=2017<br>Acidente=%{x}<br>Mortos=%{marker.size}<extra></extra>\",\"ids\":[2017],\"legendgroup\":\"SE\",\"marker\":{\"color\":\"#FFA15A\",\"size\":[51],\"sizemode\":\"area\",\"sizeref\":3.36,\"symbol\":\"circle\"},\"mode\":\"markers\",\"name\":\"SE\",\"orientation\":\"v\",\"showlegend\":true,\"type\":\"scatter\",\"x\":[763],\"xaxis\":\"x\",\"y\":[51],\"yaxis\":\"y\"},{\"hovertemplate\":\"Estado=SP<br>Ano=2017<br>Acidente=%{x}<br>Mortos=%{marker.size}<extra></extra>\",\"ids\":[2017],\"legendgroup\":\"SP\",\"marker\":{\"color\":\"#19d3f3\",\"size\":[255],\"sizemode\":\"area\",\"sizeref\":3.36,\"symbol\":\"circle\"},\"mode\":\"markers\",\"name\":\"SP\",\"orientation\":\"v\",\"showlegend\":true,\"type\":\"scatter\",\"x\":[6011],\"xaxis\":\"x\",\"y\":[255],\"yaxis\":\"y\"},{\"hovertemplate\":\"Estado=TO<br>Ano=2017<br>Acidente=%{x}<br>Mortos=%{marker.size}<extra></extra>\",\"ids\":[2017],\"legendgroup\":\"TO\",\"marker\":{\"color\":\"#FF6692\",\"size\":[82],\"sizemode\":\"area\",\"sizeref\":3.36,\"symbol\":\"circle\"},\"mode\":\"markers\",\"name\":\"TO\",\"orientation\":\"v\",\"showlegend\":true,\"type\":\"scatter\",\"x\":[785],\"xaxis\":\"x\",\"y\":[82],\"yaxis\":\"y\"}],\"name\":\"2017\"},{\"data\":[{\"hovertemplate\":\"Estado=AC<br>Ano=2018<br>Acidente=%{x}<br>Mortos=%{marker.size}<extra></extra>\",\"ids\":[2018],\"legendgroup\":\"AC\",\"marker\":{\"color\":\"#636efa\",\"size\":[26],\"sizemode\":\"area\",\"sizeref\":3.36,\"symbol\":\"circle\"},\"mode\":\"markers\",\"name\":\"AC\",\"orientation\":\"v\",\"showlegend\":true,\"type\":\"scatter\",\"x\":[235],\"xaxis\":\"x\",\"y\":[26],\"yaxis\":\"y\"},{\"hovertemplate\":\"Estado=AL<br>Ano=2018<br>Acidente=%{x}<br>Mortos=%{marker.size}<extra></extra>\",\"ids\":[2018],\"legendgroup\":\"AL\",\"marker\":{\"color\":\"#EF553B\",\"size\":[91],\"sizemode\":\"area\",\"sizeref\":3.36,\"symbol\":\"circle\"},\"mode\":\"markers\",\"name\":\"AL\",\"orientation\":\"v\",\"showlegend\":true,\"type\":\"scatter\",\"x\":[691],\"xaxis\":\"x\",\"y\":[91],\"yaxis\":\"y\"},{\"hovertemplate\":\"Estado=AM<br>Ano=2018<br>Acidente=%{x}<br>Mortos=%{marker.size}<extra></extra>\",\"ids\":[2018],\"legendgroup\":\"AM\",\"marker\":{\"color\":\"#00cc96\",\"size\":[17],\"sizemode\":\"area\",\"sizeref\":3.36,\"symbol\":\"circle\"},\"mode\":\"markers\",\"name\":\"AM\",\"orientation\":\"v\",\"showlegend\":true,\"type\":\"scatter\",\"x\":[124],\"xaxis\":\"x\",\"y\":[17],\"yaxis\":\"y\"},{\"hovertemplate\":\"Estado=AP<br>Ano=2018<br>Acidente=%{x}<br>Mortos=%{marker.size}<extra></extra>\",\"ids\":[2018],\"legendgroup\":\"AP\",\"marker\":{\"color\":\"#ab63fa\",\"size\":[15],\"sizemode\":\"area\",\"sizeref\":3.36,\"symbol\":\"circle\"},\"mode\":\"markers\",\"name\":\"AP\",\"orientation\":\"v\",\"showlegend\":true,\"type\":\"scatter\",\"x\":[173],\"xaxis\":\"x\",\"y\":[15],\"yaxis\":\"y\"},{\"hovertemplate\":\"Estado=BA<br>Ano=2018<br>Acidente=%{x}<br>Mortos=%{marker.size}<extra></extra>\",\"ids\":[2018],\"legendgroup\":\"BA\",\"marker\":{\"color\":\"#FFA15A\",\"size\":[456],\"sizemode\":\"area\",\"sizeref\":3.36,\"symbol\":\"circle\"},\"mode\":\"markers\",\"name\":\"BA\",\"orientation\":\"v\",\"showlegend\":true,\"type\":\"scatter\",\"x\":[3555],\"xaxis\":\"x\",\"y\":[456],\"yaxis\":\"y\"},{\"hovertemplate\":\"Estado=CE<br>Ano=2018<br>Acidente=%{x}<br>Mortos=%{marker.size}<extra></extra>\",\"ids\":[2018],\"legendgroup\":\"CE\",\"marker\":{\"color\":\"#19d3f3\",\"size\":[180],\"sizemode\":\"area\",\"sizeref\":3.36,\"symbol\":\"circle\"},\"mode\":\"markers\",\"name\":\"CE\",\"orientation\":\"v\",\"showlegend\":true,\"type\":\"scatter\",\"x\":[1697],\"xaxis\":\"x\",\"y\":[180],\"yaxis\":\"y\"},{\"hovertemplate\":\"Estado=DF<br>Ano=2018<br>Acidente=%{x}<br>Mortos=%{marker.size}<extra></extra>\",\"ids\":[2018],\"legendgroup\":\"DF\",\"marker\":{\"color\":\"#FF6692\",\"size\":[44],\"sizemode\":\"area\",\"sizeref\":3.36,\"symbol\":\"circle\"},\"mode\":\"markers\",\"name\":\"DF\",\"orientation\":\"v\",\"showlegend\":true,\"type\":\"scatter\",\"x\":[867],\"xaxis\":\"x\",\"y\":[44],\"yaxis\":\"y\"},{\"hovertemplate\":\"Estado=ES<br>Ano=2018<br>Acidente=%{x}<br>Mortos=%{marker.size}<extra></extra>\",\"ids\":[2018],\"legendgroup\":\"ES\",\"marker\":{\"color\":\"#B6E880\",\"size\":[133],\"sizemode\":\"area\",\"sizeref\":3.36,\"symbol\":\"circle\"},\"mode\":\"markers\",\"name\":\"ES\",\"orientation\":\"v\",\"showlegend\":true,\"type\":\"scatter\",\"x\":[2642],\"xaxis\":\"x\",\"y\":[133],\"yaxis\":\"y\"},{\"hovertemplate\":\"Estado=GO<br>Ano=2018<br>Acidente=%{x}<br>Mortos=%{marker.size}<extra></extra>\",\"ids\":[2018],\"legendgroup\":\"GO\",\"marker\":{\"color\":\"#FF97FF\",\"size\":[282],\"sizemode\":\"area\",\"sizeref\":3.36,\"symbol\":\"circle\"},\"mode\":\"markers\",\"name\":\"GO\",\"orientation\":\"v\",\"showlegend\":true,\"type\":\"scatter\",\"x\":[3463],\"xaxis\":\"x\",\"y\":[282],\"yaxis\":\"y\"},{\"hovertemplate\":\"Estado=MA<br>Ano=2018<br>Acidente=%{x}<br>Mortos=%{marker.size}<extra></extra>\",\"ids\":[2018],\"legendgroup\":\"MA\",\"marker\":{\"color\":\"#FECB52\",\"size\":[231],\"sizemode\":\"area\",\"sizeref\":3.36,\"symbol\":\"circle\"},\"mode\":\"markers\",\"name\":\"MA\",\"orientation\":\"v\",\"showlegend\":true,\"type\":\"scatter\",\"x\":[1272],\"xaxis\":\"x\",\"y\":[231],\"yaxis\":\"y\"},{\"hovertemplate\":\"Estado=MG<br>Ano=2018<br>Acidente=%{x}<br>Mortos=%{marker.size}<extra></extra>\",\"ids\":[2018],\"legendgroup\":\"MG\",\"marker\":{\"color\":\"#636efa\",\"size\":[693],\"sizemode\":\"area\",\"sizeref\":3.36,\"symbol\":\"circle\"},\"mode\":\"markers\",\"name\":\"MG\",\"orientation\":\"v\",\"showlegend\":true,\"type\":\"scatter\",\"x\":[9066],\"xaxis\":\"x\",\"y\":[693],\"yaxis\":\"y\"},{\"hovertemplate\":\"Estado=MS<br>Ano=2018<br>Acidente=%{x}<br>Mortos=%{marker.size}<extra></extra>\",\"ids\":[2018],\"legendgroup\":\"MS\",\"marker\":{\"color\":\"#EF553B\",\"size\":[109],\"sizemode\":\"area\",\"sizeref\":3.36,\"symbol\":\"circle\"},\"mode\":\"markers\",\"name\":\"MS\",\"orientation\":\"v\",\"showlegend\":true,\"type\":\"scatter\",\"x\":[1529],\"xaxis\":\"x\",\"y\":[109],\"yaxis\":\"y\"},{\"hovertemplate\":\"Estado=MT<br>Ano=2018<br>Acidente=%{x}<br>Mortos=%{marker.size}<extra></extra>\",\"ids\":[2018],\"legendgroup\":\"MT\",\"marker\":{\"color\":\"#00cc96\",\"size\":[229],\"sizemode\":\"area\",\"sizeref\":3.36,\"symbol\":\"circle\"},\"mode\":\"markers\",\"name\":\"MT\",\"orientation\":\"v\",\"showlegend\":true,\"type\":\"scatter\",\"x\":[2631],\"xaxis\":\"x\",\"y\":[229],\"yaxis\":\"y\"},{\"hovertemplate\":\"Estado=PA<br>Ano=2018<br>Acidente=%{x}<br>Mortos=%{marker.size}<extra></extra>\",\"ids\":[2018],\"legendgroup\":\"PA\",\"marker\":{\"color\":\"#ab63fa\",\"size\":[143],\"sizemode\":\"area\",\"sizeref\":3.36,\"symbol\":\"circle\"},\"mode\":\"markers\",\"name\":\"PA\",\"orientation\":\"v\",\"showlegend\":true,\"type\":\"scatter\",\"x\":[1260],\"xaxis\":\"x\",\"y\":[143],\"yaxis\":\"y\"},{\"hovertemplate\":\"Estado=PB<br>Ano=2018<br>Acidente=%{x}<br>Mortos=%{marker.size}<extra></extra>\",\"ids\":[2018],\"legendgroup\":\"PB\",\"marker\":{\"color\":\"#FFA15A\",\"size\":[133],\"sizemode\":\"area\",\"sizeref\":3.36,\"symbol\":\"circle\"},\"mode\":\"markers\",\"name\":\"PB\",\"orientation\":\"v\",\"showlegend\":true,\"type\":\"scatter\",\"x\":[1588],\"xaxis\":\"x\",\"y\":[133],\"yaxis\":\"y\"},{\"hovertemplate\":\"Estado=PE<br>Ano=2018<br>Acidente=%{x}<br>Mortos=%{marker.size}<extra></extra>\",\"ids\":[2018],\"legendgroup\":\"PE\",\"marker\":{\"color\":\"#19d3f3\",\"size\":[296],\"sizemode\":\"area\",\"sizeref\":3.36,\"symbol\":\"circle\"},\"mode\":\"markers\",\"name\":\"PE\",\"orientation\":\"v\",\"showlegend\":true,\"type\":\"scatter\",\"x\":[2715],\"xaxis\":\"x\",\"y\":[296],\"yaxis\":\"y\"},{\"hovertemplate\":\"Estado=PI<br>Ano=2018<br>Acidente=%{x}<br>Mortos=%{marker.size}<extra></extra>\",\"ids\":[2018],\"legendgroup\":\"PI\",\"marker\":{\"color\":\"#FF6692\",\"size\":[159],\"sizemode\":\"area\",\"sizeref\":3.36,\"symbol\":\"circle\"},\"mode\":\"markers\",\"name\":\"PI\",\"orientation\":\"v\",\"showlegend\":true,\"type\":\"scatter\",\"x\":[1370],\"xaxis\":\"x\",\"y\":[159],\"yaxis\":\"y\"},{\"hovertemplate\":\"Estado=PR<br>Ano=2018<br>Acidente=%{x}<br>Mortos=%{marker.size}<extra></extra>\",\"ids\":[2018],\"legendgroup\":\"PR\",\"marker\":{\"color\":\"#B6E880\",\"size\":[494],\"sizemode\":\"area\",\"sizeref\":3.36,\"symbol\":\"circle\"},\"mode\":\"markers\",\"name\":\"PR\",\"orientation\":\"v\",\"showlegend\":true,\"type\":\"scatter\",\"x\":[7951],\"xaxis\":\"x\",\"y\":[494],\"yaxis\":\"y\"},{\"hovertemplate\":\"Estado=RJ<br>Ano=2018<br>Acidente=%{x}<br>Mortos=%{marker.size}<extra></extra>\",\"ids\":[2018],\"legendgroup\":\"RJ\",\"marker\":{\"color\":\"#FF97FF\",\"size\":[276],\"sizemode\":\"area\",\"sizeref\":3.36,\"symbol\":\"circle\"},\"mode\":\"markers\",\"name\":\"RJ\",\"orientation\":\"v\",\"showlegend\":true,\"type\":\"scatter\",\"x\":[4575],\"xaxis\":\"x\",\"y\":[276],\"yaxis\":\"y\"},{\"hovertemplate\":\"Estado=RN<br>Ano=2018<br>Acidente=%{x}<br>Mortos=%{marker.size}<extra></extra>\",\"ids\":[2018],\"legendgroup\":\"RN\",\"marker\":{\"color\":\"#FECB52\",\"size\":[118],\"sizemode\":\"area\",\"sizeref\":3.36,\"symbol\":\"circle\"},\"mode\":\"markers\",\"name\":\"RN\",\"orientation\":\"v\",\"showlegend\":true,\"type\":\"scatter\",\"x\":[1416],\"xaxis\":\"x\",\"y\":[118],\"yaxis\":\"y\"},{\"hovertemplate\":\"Estado=RO<br>Ano=2018<br>Acidente=%{x}<br>Mortos=%{marker.size}<extra></extra>\",\"ids\":[2018],\"legendgroup\":\"RO\",\"marker\":{\"color\":\"#636efa\",\"size\":[91],\"sizemode\":\"area\",\"sizeref\":3.36,\"symbol\":\"circle\"},\"mode\":\"markers\",\"name\":\"RO\",\"orientation\":\"v\",\"showlegend\":true,\"type\":\"scatter\",\"x\":[1629],\"xaxis\":\"x\",\"y\":[91],\"yaxis\":\"y\"},{\"hovertemplate\":\"Estado=RR<br>Ano=2018<br>Acidente=%{x}<br>Mortos=%{marker.size}<extra></extra>\",\"ids\":[2018],\"legendgroup\":\"RR\",\"marker\":{\"color\":\"#EF553B\",\"size\":[22],\"sizemode\":\"area\",\"sizeref\":3.36,\"symbol\":\"circle\"},\"mode\":\"markers\",\"name\":\"RR\",\"orientation\":\"v\",\"showlegend\":true,\"type\":\"scatter\",\"x\":[236],\"xaxis\":\"x\",\"y\":[22],\"yaxis\":\"y\"},{\"hovertemplate\":\"Estado=RS<br>Ano=2018<br>Acidente=%{x}<br>Mortos=%{marker.size}<extra></extra>\",\"ids\":[2018],\"legendgroup\":\"RS\",\"marker\":{\"color\":\"#00cc96\",\"size\":[314],\"sizemode\":\"area\",\"sizeref\":3.36,\"symbol\":\"circle\"},\"mode\":\"markers\",\"name\":\"RS\",\"orientation\":\"v\",\"showlegend\":true,\"type\":\"scatter\",\"x\":[4445],\"xaxis\":\"x\",\"y\":[314],\"yaxis\":\"y\"},{\"hovertemplate\":\"Estado=SC<br>Ano=2018<br>Acidente=%{x}<br>Mortos=%{marker.size}<extra></extra>\",\"ids\":[2018],\"legendgroup\":\"SC\",\"marker\":{\"color\":\"#ab63fa\",\"size\":[386],\"sizemode\":\"area\",\"sizeref\":3.36,\"symbol\":\"circle\"},\"mode\":\"markers\",\"name\":\"SC\",\"orientation\":\"v\",\"showlegend\":true,\"type\":\"scatter\",\"x\":[8494],\"xaxis\":\"x\",\"y\":[386],\"yaxis\":\"y\"},{\"hovertemplate\":\"Estado=SE<br>Ano=2018<br>Acidente=%{x}<br>Mortos=%{marker.size}<extra></extra>\",\"ids\":[2018],\"legendgroup\":\"SE\",\"marker\":{\"color\":\"#FFA15A\",\"size\":[41],\"sizemode\":\"area\",\"sizeref\":3.36,\"symbol\":\"circle\"},\"mode\":\"markers\",\"name\":\"SE\",\"orientation\":\"v\",\"showlegend\":true,\"type\":\"scatter\",\"x\":[559],\"xaxis\":\"x\",\"y\":[41],\"yaxis\":\"y\"},{\"hovertemplate\":\"Estado=SP<br>Ano=2018<br>Acidente=%{x}<br>Mortos=%{marker.size}<extra></extra>\",\"ids\":[2018],\"legendgroup\":\"SP\",\"marker\":{\"color\":\"#19d3f3\",\"size\":[207],\"sizemode\":\"area\",\"sizeref\":3.36,\"symbol\":\"circle\"},\"mode\":\"markers\",\"name\":\"SP\",\"orientation\":\"v\",\"showlegend\":true,\"type\":\"scatter\",\"x\":[4516],\"xaxis\":\"x\",\"y\":[207],\"yaxis\":\"y\"},{\"hovertemplate\":\"Estado=TO<br>Ano=2018<br>Acidente=%{x}<br>Mortos=%{marker.size}<extra></extra>\",\"ids\":[2018],\"legendgroup\":\"TO\",\"marker\":{\"color\":\"#FF6692\",\"size\":[85],\"sizemode\":\"area\",\"sizeref\":3.36,\"symbol\":\"circle\"},\"mode\":\"markers\",\"name\":\"TO\",\"orientation\":\"v\",\"showlegend\":true,\"type\":\"scatter\",\"x\":[589],\"xaxis\":\"x\",\"y\":[85],\"yaxis\":\"y\"}],\"name\":\"2018\"},{\"data\":[{\"hovertemplate\":\"Estado=AC<br>Ano=2019<br>Acidente=%{x}<br>Mortos=%{marker.size}<extra></extra>\",\"ids\":[2019],\"legendgroup\":\"AC\",\"marker\":{\"color\":\"#636efa\",\"size\":[24],\"sizemode\":\"area\",\"sizeref\":3.36,\"symbol\":\"circle\"},\"mode\":\"markers\",\"name\":\"AC\",\"orientation\":\"v\",\"showlegend\":true,\"type\":\"scatter\",\"x\":[254],\"xaxis\":\"x\",\"y\":[24],\"yaxis\":\"y\"},{\"hovertemplate\":\"Estado=AL<br>Ano=2019<br>Acidente=%{x}<br>Mortos=%{marker.size}<extra></extra>\",\"ids\":[2019],\"legendgroup\":\"AL\",\"marker\":{\"color\":\"#EF553B\",\"size\":[97],\"sizemode\":\"area\",\"sizeref\":3.36,\"symbol\":\"circle\"},\"mode\":\"markers\",\"name\":\"AL\",\"orientation\":\"v\",\"showlegend\":true,\"type\":\"scatter\",\"x\":[629],\"xaxis\":\"x\",\"y\":[97],\"yaxis\":\"y\"},{\"hovertemplate\":\"Estado=AM<br>Ano=2019<br>Acidente=%{x}<br>Mortos=%{marker.size}<extra></extra>\",\"ids\":[2019],\"legendgroup\":\"AM\",\"marker\":{\"color\":\"#00cc96\",\"size\":[18],\"sizemode\":\"area\",\"sizeref\":3.36,\"symbol\":\"circle\"},\"mode\":\"markers\",\"name\":\"AM\",\"orientation\":\"v\",\"showlegend\":true,\"type\":\"scatter\",\"x\":[101],\"xaxis\":\"x\",\"y\":[18],\"yaxis\":\"y\"},{\"hovertemplate\":\"Estado=AP<br>Ano=2019<br>Acidente=%{x}<br>Mortos=%{marker.size}<extra></extra>\",\"ids\":[2019],\"legendgroup\":\"AP\",\"marker\":{\"color\":\"#ab63fa\",\"size\":[16],\"sizemode\":\"area\",\"sizeref\":3.36,\"symbol\":\"circle\"},\"mode\":\"markers\",\"name\":\"AP\",\"orientation\":\"v\",\"showlegend\":true,\"type\":\"scatter\",\"x\":[128],\"xaxis\":\"x\",\"y\":[16],\"yaxis\":\"y\"},{\"hovertemplate\":\"Estado=BA<br>Ano=2019<br>Acidente=%{x}<br>Mortos=%{marker.size}<extra></extra>\",\"ids\":[2019],\"legendgroup\":\"BA\",\"marker\":{\"color\":\"#FFA15A\",\"size\":[475],\"sizemode\":\"area\",\"sizeref\":3.36,\"symbol\":\"circle\"},\"mode\":\"markers\",\"name\":\"BA\",\"orientation\":\"v\",\"showlegend\":true,\"type\":\"scatter\",\"x\":[3470],\"xaxis\":\"x\",\"y\":[475],\"yaxis\":\"y\"},{\"hovertemplate\":\"Estado=CE<br>Ano=2019<br>Acidente=%{x}<br>Mortos=%{marker.size}<extra></extra>\",\"ids\":[2019],\"legendgroup\":\"CE\",\"marker\":{\"color\":\"#19d3f3\",\"size\":[157],\"sizemode\":\"area\",\"sizeref\":3.36,\"symbol\":\"circle\"},\"mode\":\"markers\",\"name\":\"CE\",\"orientation\":\"v\",\"showlegend\":true,\"type\":\"scatter\",\"x\":[1694],\"xaxis\":\"x\",\"y\":[157],\"yaxis\":\"y\"},{\"hovertemplate\":\"Estado=DF<br>Ano=2019<br>Acidente=%{x}<br>Mortos=%{marker.size}<extra></extra>\",\"ids\":[2019],\"legendgroup\":\"DF\",\"marker\":{\"color\":\"#FF6692\",\"size\":[52],\"sizemode\":\"area\",\"sizeref\":3.36,\"symbol\":\"circle\"},\"mode\":\"markers\",\"name\":\"DF\",\"orientation\":\"v\",\"showlegend\":true,\"type\":\"scatter\",\"x\":[1090],\"xaxis\":\"x\",\"y\":[52],\"yaxis\":\"y\"},{\"hovertemplate\":\"Estado=ES<br>Ano=2019<br>Acidente=%{x}<br>Mortos=%{marker.size}<extra></extra>\",\"ids\":[2019],\"legendgroup\":\"ES\",\"marker\":{\"color\":\"#B6E880\",\"size\":[147],\"sizemode\":\"area\",\"sizeref\":3.36,\"symbol\":\"circle\"},\"mode\":\"markers\",\"name\":\"ES\",\"orientation\":\"v\",\"showlegend\":true,\"type\":\"scatter\",\"x\":[2842],\"xaxis\":\"x\",\"y\":[147],\"yaxis\":\"y\"},{\"hovertemplate\":\"Estado=GO<br>Ano=2019<br>Acidente=%{x}<br>Mortos=%{marker.size}<extra></extra>\",\"ids\":[2019],\"legendgroup\":\"GO\",\"marker\":{\"color\":\"#FF97FF\",\"size\":[277],\"sizemode\":\"area\",\"sizeref\":3.36,\"symbol\":\"circle\"},\"mode\":\"markers\",\"name\":\"GO\",\"orientation\":\"v\",\"showlegend\":true,\"type\":\"scatter\",\"x\":[3354],\"xaxis\":\"x\",\"y\":[277],\"yaxis\":\"y\"},{\"hovertemplate\":\"Estado=MA<br>Ano=2019<br>Acidente=%{x}<br>Mortos=%{marker.size}<extra></extra>\",\"ids\":[2019],\"legendgroup\":\"MA\",\"marker\":{\"color\":\"#FECB52\",\"size\":[197],\"sizemode\":\"area\",\"sizeref\":3.36,\"symbol\":\"circle\"},\"mode\":\"markers\",\"name\":\"MA\",\"orientation\":\"v\",\"showlegend\":true,\"type\":\"scatter\",\"x\":[1075],\"xaxis\":\"x\",\"y\":[197],\"yaxis\":\"y\"},{\"hovertemplate\":\"Estado=MG<br>Ano=2019<br>Acidente=%{x}<br>Mortos=%{marker.size}<extra></extra>\",\"ids\":[2019],\"legendgroup\":\"MG\",\"marker\":{\"color\":\"#636efa\",\"size\":[677],\"sizemode\":\"area\",\"sizeref\":3.36,\"symbol\":\"circle\"},\"mode\":\"markers\",\"name\":\"MG\",\"orientation\":\"v\",\"showlegend\":true,\"type\":\"scatter\",\"x\":[8718],\"xaxis\":\"x\",\"y\":[677],\"yaxis\":\"y\"},{\"hovertemplate\":\"Estado=MS<br>Ano=2019<br>Acidente=%{x}<br>Mortos=%{marker.size}<extra></extra>\",\"ids\":[2019],\"legendgroup\":\"MS\",\"marker\":{\"color\":\"#EF553B\",\"size\":[124],\"sizemode\":\"area\",\"sizeref\":3.36,\"symbol\":\"circle\"},\"mode\":\"markers\",\"name\":\"MS\",\"orientation\":\"v\",\"showlegend\":true,\"type\":\"scatter\",\"x\":[1435],\"xaxis\":\"x\",\"y\":[124],\"yaxis\":\"y\"},{\"hovertemplate\":\"Estado=MT<br>Ano=2019<br>Acidente=%{x}<br>Mortos=%{marker.size}<extra></extra>\",\"ids\":[2019],\"legendgroup\":\"MT\",\"marker\":{\"color\":\"#00cc96\",\"size\":[226],\"sizemode\":\"area\",\"sizeref\":3.36,\"symbol\":\"circle\"},\"mode\":\"markers\",\"name\":\"MT\",\"orientation\":\"v\",\"showlegend\":true,\"type\":\"scatter\",\"x\":[2137],\"xaxis\":\"x\",\"y\":[226],\"yaxis\":\"y\"},{\"hovertemplate\":\"Estado=PA<br>Ano=2019<br>Acidente=%{x}<br>Mortos=%{marker.size}<extra></extra>\",\"ids\":[2019],\"legendgroup\":\"PA\",\"marker\":{\"color\":\"#ab63fa\",\"size\":[136],\"sizemode\":\"area\",\"sizeref\":3.36,\"symbol\":\"circle\"},\"mode\":\"markers\",\"name\":\"PA\",\"orientation\":\"v\",\"showlegend\":true,\"type\":\"scatter\",\"x\":[817],\"xaxis\":\"x\",\"y\":[136],\"yaxis\":\"y\"},{\"hovertemplate\":\"Estado=PB<br>Ano=2019<br>Acidente=%{x}<br>Mortos=%{marker.size}<extra></extra>\",\"ids\":[2019],\"legendgroup\":\"PB\",\"marker\":{\"color\":\"#FFA15A\",\"size\":[130],\"sizemode\":\"area\",\"sizeref\":3.36,\"symbol\":\"circle\"},\"mode\":\"markers\",\"name\":\"PB\",\"orientation\":\"v\",\"showlegend\":true,\"type\":\"scatter\",\"x\":[1564],\"xaxis\":\"x\",\"y\":[130],\"yaxis\":\"y\"},{\"hovertemplate\":\"Estado=PE<br>Ano=2019<br>Acidente=%{x}<br>Mortos=%{marker.size}<extra></extra>\",\"ids\":[2019],\"legendgroup\":\"PE\",\"marker\":{\"color\":\"#19d3f3\",\"size\":[308],\"sizemode\":\"area\",\"sizeref\":3.36,\"symbol\":\"circle\"},\"mode\":\"markers\",\"name\":\"PE\",\"orientation\":\"v\",\"showlegend\":true,\"type\":\"scatter\",\"x\":[2736],\"xaxis\":\"x\",\"y\":[308],\"yaxis\":\"y\"},{\"hovertemplate\":\"Estado=PI<br>Ano=2019<br>Acidente=%{x}<br>Mortos=%{marker.size}<extra></extra>\",\"ids\":[2019],\"legendgroup\":\"PI\",\"marker\":{\"color\":\"#FF6692\",\"size\":[149],\"sizemode\":\"area\",\"sizeref\":3.36,\"symbol\":\"circle\"},\"mode\":\"markers\",\"name\":\"PI\",\"orientation\":\"v\",\"showlegend\":true,\"type\":\"scatter\",\"x\":[1346],\"xaxis\":\"x\",\"y\":[149],\"yaxis\":\"y\"},{\"hovertemplate\":\"Estado=PR<br>Ano=2019<br>Acidente=%{x}<br>Mortos=%{marker.size}<extra></extra>\",\"ids\":[2019],\"legendgroup\":\"PR\",\"marker\":{\"color\":\"#B6E880\",\"size\":[500],\"sizemode\":\"area\",\"sizeref\":3.36,\"symbol\":\"circle\"},\"mode\":\"markers\",\"name\":\"PR\",\"orientation\":\"v\",\"showlegend\":true,\"type\":\"scatter\",\"x\":[7708],\"xaxis\":\"x\",\"y\":[500],\"yaxis\":\"y\"},{\"hovertemplate\":\"Estado=RJ<br>Ano=2019<br>Acidente=%{x}<br>Mortos=%{marker.size}<extra></extra>\",\"ids\":[2019],\"legendgroup\":\"RJ\",\"marker\":{\"color\":\"#FF97FF\",\"size\":[353],\"sizemode\":\"area\",\"sizeref\":3.36,\"symbol\":\"circle\"},\"mode\":\"markers\",\"name\":\"RJ\",\"orientation\":\"v\",\"showlegend\":true,\"type\":\"scatter\",\"x\":[4606],\"xaxis\":\"x\",\"y\":[353],\"yaxis\":\"y\"},{\"hovertemplate\":\"Estado=RN<br>Ano=2019<br>Acidente=%{x}<br>Mortos=%{marker.size}<extra></extra>\",\"ids\":[2019],\"legendgroup\":\"RN\",\"marker\":{\"color\":\"#FECB52\",\"size\":[90],\"sizemode\":\"area\",\"sizeref\":3.36,\"symbol\":\"circle\"},\"mode\":\"markers\",\"name\":\"RN\",\"orientation\":\"v\",\"showlegend\":true,\"type\":\"scatter\",\"x\":[1437],\"xaxis\":\"x\",\"y\":[90],\"yaxis\":\"y\"},{\"hovertemplate\":\"Estado=RO<br>Ano=2019<br>Acidente=%{x}<br>Mortos=%{marker.size}<extra></extra>\",\"ids\":[2019],\"legendgroup\":\"RO\",\"marker\":{\"color\":\"#636efa\",\"size\":[89],\"sizemode\":\"area\",\"sizeref\":3.36,\"symbol\":\"circle\"},\"mode\":\"markers\",\"name\":\"RO\",\"orientation\":\"v\",\"showlegend\":true,\"type\":\"scatter\",\"x\":[1531],\"xaxis\":\"x\",\"y\":[89],\"yaxis\":\"y\"},{\"hovertemplate\":\"Estado=RR<br>Ano=2019<br>Acidente=%{x}<br>Mortos=%{marker.size}<extra></extra>\",\"ids\":[2019],\"legendgroup\":\"RR\",\"marker\":{\"color\":\"#EF553B\",\"size\":[38],\"sizemode\":\"area\",\"sizeref\":3.36,\"symbol\":\"circle\"},\"mode\":\"markers\",\"name\":\"RR\",\"orientation\":\"v\",\"showlegend\":true,\"type\":\"scatter\",\"x\":[237],\"xaxis\":\"x\",\"y\":[38],\"yaxis\":\"y\"},{\"hovertemplate\":\"Estado=RS<br>Ano=2019<br>Acidente=%{x}<br>Mortos=%{marker.size}<extra></extra>\",\"ids\":[2019],\"legendgroup\":\"RS\",\"marker\":{\"color\":\"#00cc96\",\"size\":[304],\"sizemode\":\"area\",\"sizeref\":3.36,\"symbol\":\"circle\"},\"mode\":\"markers\",\"name\":\"RS\",\"orientation\":\"v\",\"showlegend\":true,\"type\":\"scatter\",\"x\":[4594],\"xaxis\":\"x\",\"y\":[304],\"yaxis\":\"y\"},{\"hovertemplate\":\"Estado=SC<br>Ano=2019<br>Acidente=%{x}<br>Mortos=%{marker.size}<extra></extra>\",\"ids\":[2019],\"legendgroup\":\"SC\",\"marker\":{\"color\":\"#ab63fa\",\"size\":[403],\"sizemode\":\"area\",\"sizeref\":3.36,\"symbol\":\"circle\"},\"mode\":\"markers\",\"name\":\"SC\",\"orientation\":\"v\",\"showlegend\":true,\"type\":\"scatter\",\"x\":[8427],\"xaxis\":\"x\",\"y\":[403],\"yaxis\":\"y\"},{\"hovertemplate\":\"Estado=SE<br>Ano=2019<br>Acidente=%{x}<br>Mortos=%{marker.size}<extra></extra>\",\"ids\":[2019],\"legendgroup\":\"SE\",\"marker\":{\"color\":\"#FFA15A\",\"size\":[62],\"sizemode\":\"area\",\"sizeref\":3.36,\"symbol\":\"circle\"},\"mode\":\"markers\",\"name\":\"SE\",\"orientation\":\"v\",\"showlegend\":true,\"type\":\"scatter\",\"x\":[612],\"xaxis\":\"x\",\"y\":[62],\"yaxis\":\"y\"},{\"hovertemplate\":\"Estado=SP<br>Ano=2019<br>Acidente=%{x}<br>Mortos=%{marker.size}<extra></extra>\",\"ids\":[2019],\"legendgroup\":\"SP\",\"marker\":{\"color\":\"#19d3f3\",\"size\":[204],\"sizemode\":\"area\",\"sizeref\":3.36,\"symbol\":\"circle\"},\"mode\":\"markers\",\"name\":\"SP\",\"orientation\":\"v\",\"showlegend\":true,\"type\":\"scatter\",\"x\":[4377],\"xaxis\":\"x\",\"y\":[204],\"yaxis\":\"y\"},{\"hovertemplate\":\"Estado=TO<br>Ano=2019<br>Acidente=%{x}<br>Mortos=%{marker.size}<extra></extra>\",\"ids\":[2019],\"legendgroup\":\"TO\",\"marker\":{\"color\":\"#FF6692\",\"size\":[79],\"sizemode\":\"area\",\"sizeref\":3.36,\"symbol\":\"circle\"},\"mode\":\"markers\",\"name\":\"TO\",\"orientation\":\"v\",\"showlegend\":true,\"type\":\"scatter\",\"x\":[520],\"xaxis\":\"x\",\"y\":[79],\"yaxis\":\"y\"}],\"name\":\"2019\"},{\"data\":[{\"hovertemplate\":\"Estado=AC<br>Ano=2020<br>Acidente=%{x}<br>Mortos=%{marker.size}<extra></extra>\",\"ids\":[2020],\"legendgroup\":\"AC\",\"marker\":{\"color\":\"#636efa\",\"size\":[13],\"sizemode\":\"area\",\"sizeref\":3.36,\"symbol\":\"circle\"},\"mode\":\"markers\",\"name\":\"AC\",\"orientation\":\"v\",\"showlegend\":true,\"type\":\"scatter\",\"x\":[300],\"xaxis\":\"x\",\"y\":[13],\"yaxis\":\"y\"},{\"hovertemplate\":\"Estado=AL<br>Ano=2020<br>Acidente=%{x}<br>Mortos=%{marker.size}<extra></extra>\",\"ids\":[2020],\"legendgroup\":\"AL\",\"marker\":{\"color\":\"#EF553B\",\"size\":[82],\"sizemode\":\"area\",\"sizeref\":3.36,\"symbol\":\"circle\"},\"mode\":\"markers\",\"name\":\"AL\",\"orientation\":\"v\",\"showlegend\":true,\"type\":\"scatter\",\"x\":[628],\"xaxis\":\"x\",\"y\":[82],\"yaxis\":\"y\"},{\"hovertemplate\":\"Estado=AM<br>Ano=2020<br>Acidente=%{x}<br>Mortos=%{marker.size}<extra></extra>\",\"ids\":[2020],\"legendgroup\":\"AM\",\"marker\":{\"color\":\"#00cc96\",\"size\":[16],\"sizemode\":\"area\",\"sizeref\":3.36,\"symbol\":\"circle\"},\"mode\":\"markers\",\"name\":\"AM\",\"orientation\":\"v\",\"showlegend\":true,\"type\":\"scatter\",\"x\":[138],\"xaxis\":\"x\",\"y\":[16],\"yaxis\":\"y\"},{\"hovertemplate\":\"Estado=AP<br>Ano=2020<br>Acidente=%{x}<br>Mortos=%{marker.size}<extra></extra>\",\"ids\":[2020],\"legendgroup\":\"AP\",\"marker\":{\"color\":\"#ab63fa\",\"size\":[5],\"sizemode\":\"area\",\"sizeref\":3.36,\"symbol\":\"circle\"},\"mode\":\"markers\",\"name\":\"AP\",\"orientation\":\"v\",\"showlegend\":true,\"type\":\"scatter\",\"x\":[155],\"xaxis\":\"x\",\"y\":[5],\"yaxis\":\"y\"},{\"hovertemplate\":\"Estado=BA<br>Ano=2020<br>Acidente=%{x}<br>Mortos=%{marker.size}<extra></extra>\",\"ids\":[2020],\"legendgroup\":\"BA\",\"marker\":{\"color\":\"#FFA15A\",\"size\":[505],\"sizemode\":\"area\",\"sizeref\":3.36,\"symbol\":\"circle\"},\"mode\":\"markers\",\"name\":\"BA\",\"orientation\":\"v\",\"showlegend\":true,\"type\":\"scatter\",\"x\":[3453],\"xaxis\":\"x\",\"y\":[505],\"yaxis\":\"y\"},{\"hovertemplate\":\"Estado=CE<br>Ano=2020<br>Acidente=%{x}<br>Mortos=%{marker.size}<extra></extra>\",\"ids\":[2020],\"legendgroup\":\"CE\",\"marker\":{\"color\":\"#19d3f3\",\"size\":[176],\"sizemode\":\"area\",\"sizeref\":3.36,\"symbol\":\"circle\"},\"mode\":\"markers\",\"name\":\"CE\",\"orientation\":\"v\",\"showlegend\":true,\"type\":\"scatter\",\"x\":[1571],\"xaxis\":\"x\",\"y\":[176],\"yaxis\":\"y\"},{\"hovertemplate\":\"Estado=DF<br>Ano=2020<br>Acidente=%{x}<br>Mortos=%{marker.size}<extra></extra>\",\"ids\":[2020],\"legendgroup\":\"DF\",\"marker\":{\"color\":\"#FF6692\",\"size\":[39],\"sizemode\":\"area\",\"sizeref\":3.36,\"symbol\":\"circle\"},\"mode\":\"markers\",\"name\":\"DF\",\"orientation\":\"v\",\"showlegend\":true,\"type\":\"scatter\",\"x\":[1040],\"xaxis\":\"x\",\"y\":[39],\"yaxis\":\"y\"},{\"hovertemplate\":\"Estado=ES<br>Ano=2020<br>Acidente=%{x}<br>Mortos=%{marker.size}<extra></extra>\",\"ids\":[2020],\"legendgroup\":\"ES\",\"marker\":{\"color\":\"#B6E880\",\"size\":[142],\"sizemode\":\"area\",\"sizeref\":3.36,\"symbol\":\"circle\"},\"mode\":\"markers\",\"name\":\"ES\",\"orientation\":\"v\",\"showlegend\":true,\"type\":\"scatter\",\"x\":[2533],\"xaxis\":\"x\",\"y\":[142],\"yaxis\":\"y\"},{\"hovertemplate\":\"Estado=GO<br>Ano=2020<br>Acidente=%{x}<br>Mortos=%{marker.size}<extra></extra>\",\"ids\":[2020],\"legendgroup\":\"GO\",\"marker\":{\"color\":\"#FF97FF\",\"size\":[271],\"sizemode\":\"area\",\"sizeref\":3.36,\"symbol\":\"circle\"},\"mode\":\"markers\",\"name\":\"GO\",\"orientation\":\"v\",\"showlegend\":true,\"type\":\"scatter\",\"x\":[3226],\"xaxis\":\"x\",\"y\":[271],\"yaxis\":\"y\"},{\"hovertemplate\":\"Estado=MA<br>Ano=2020<br>Acidente=%{x}<br>Mortos=%{marker.size}<extra></extra>\",\"ids\":[2020],\"legendgroup\":\"MA\",\"marker\":{\"color\":\"#FECB52\",\"size\":[244],\"sizemode\":\"area\",\"sizeref\":3.36,\"symbol\":\"circle\"},\"mode\":\"markers\",\"name\":\"MA\",\"orientation\":\"v\",\"showlegend\":true,\"type\":\"scatter\",\"x\":[1153],\"xaxis\":\"x\",\"y\":[244],\"yaxis\":\"y\"},{\"hovertemplate\":\"Estado=MG<br>Ano=2020<br>Acidente=%{x}<br>Mortos=%{marker.size}<extra></extra>\",\"ids\":[2020],\"legendgroup\":\"MG\",\"marker\":{\"color\":\"#636efa\",\"size\":[717],\"sizemode\":\"area\",\"sizeref\":3.36,\"symbol\":\"circle\"},\"mode\":\"markers\",\"name\":\"MG\",\"orientation\":\"v\",\"showlegend\":true,\"type\":\"scatter\",\"x\":[8371],\"xaxis\":\"x\",\"y\":[717],\"yaxis\":\"y\"},{\"hovertemplate\":\"Estado=MS<br>Ano=2020<br>Acidente=%{x}<br>Mortos=%{marker.size}<extra></extra>\",\"ids\":[2020],\"legendgroup\":\"MS\",\"marker\":{\"color\":\"#EF553B\",\"size\":[139],\"sizemode\":\"area\",\"sizeref\":3.36,\"symbol\":\"circle\"},\"mode\":\"markers\",\"name\":\"MS\",\"orientation\":\"v\",\"showlegend\":true,\"type\":\"scatter\",\"x\":[1540],\"xaxis\":\"x\",\"y\":[139],\"yaxis\":\"y\"},{\"hovertemplate\":\"Estado=MT<br>Ano=2020<br>Acidente=%{x}<br>Mortos=%{marker.size}<extra></extra>\",\"ids\":[2020],\"legendgroup\":\"MT\",\"marker\":{\"color\":\"#00cc96\",\"size\":[232],\"sizemode\":\"area\",\"sizeref\":3.36,\"symbol\":\"circle\"},\"mode\":\"markers\",\"name\":\"MT\",\"orientation\":\"v\",\"showlegend\":true,\"type\":\"scatter\",\"x\":[2194],\"xaxis\":\"x\",\"y\":[232],\"yaxis\":\"y\"},{\"hovertemplate\":\"Estado=PA<br>Ano=2020<br>Acidente=%{x}<br>Mortos=%{marker.size}<extra></extra>\",\"ids\":[2020],\"legendgroup\":\"PA\",\"marker\":{\"color\":\"#ab63fa\",\"size\":[123],\"sizemode\":\"area\",\"sizeref\":3.36,\"symbol\":\"circle\"},\"mode\":\"markers\",\"name\":\"PA\",\"orientation\":\"v\",\"showlegend\":true,\"type\":\"scatter\",\"x\":[962],\"xaxis\":\"x\",\"y\":[123],\"yaxis\":\"y\"},{\"hovertemplate\":\"Estado=PB<br>Ano=2020<br>Acidente=%{x}<br>Mortos=%{marker.size}<extra></extra>\",\"ids\":[2020],\"legendgroup\":\"PB\",\"marker\":{\"color\":\"#FFA15A\",\"size\":[103],\"sizemode\":\"area\",\"sizeref\":3.36,\"symbol\":\"circle\"},\"mode\":\"markers\",\"name\":\"PB\",\"orientation\":\"v\",\"showlegend\":true,\"type\":\"scatter\",\"x\":[1401],\"xaxis\":\"x\",\"y\":[103],\"yaxis\":\"y\"},{\"hovertemplate\":\"Estado=PE<br>Ano=2020<br>Acidente=%{x}<br>Mortos=%{marker.size}<extra></extra>\",\"ids\":[2020],\"legendgroup\":\"PE\",\"marker\":{\"color\":\"#19d3f3\",\"size\":[317],\"sizemode\":\"area\",\"sizeref\":3.36,\"symbol\":\"circle\"},\"mode\":\"markers\",\"name\":\"PE\",\"orientation\":\"v\",\"showlegend\":true,\"type\":\"scatter\",\"x\":[2559],\"xaxis\":\"x\",\"y\":[317],\"yaxis\":\"y\"},{\"hovertemplate\":\"Estado=PI<br>Ano=2020<br>Acidente=%{x}<br>Mortos=%{marker.size}<extra></extra>\",\"ids\":[2020],\"legendgroup\":\"PI\",\"marker\":{\"color\":\"#FF6692\",\"size\":[157],\"sizemode\":\"area\",\"sizeref\":3.36,\"symbol\":\"circle\"},\"mode\":\"markers\",\"name\":\"PI\",\"orientation\":\"v\",\"showlegend\":true,\"type\":\"scatter\",\"x\":[1201],\"xaxis\":\"x\",\"y\":[157],\"yaxis\":\"y\"},{\"hovertemplate\":\"Estado=PR<br>Ano=2020<br>Acidente=%{x}<br>Mortos=%{marker.size}<extra></extra>\",\"ids\":[2020],\"legendgroup\":\"PR\",\"marker\":{\"color\":\"#B6E880\",\"size\":[527],\"sizemode\":\"area\",\"sizeref\":3.36,\"symbol\":\"circle\"},\"mode\":\"markers\",\"name\":\"PR\",\"orientation\":\"v\",\"showlegend\":true,\"type\":\"scatter\",\"x\":[7184],\"xaxis\":\"x\",\"y\":[527],\"yaxis\":\"y\"},{\"hovertemplate\":\"Estado=RJ<br>Ano=2020<br>Acidente=%{x}<br>Mortos=%{marker.size}<extra></extra>\",\"ids\":[2020],\"legendgroup\":\"RJ\",\"marker\":{\"color\":\"#FF97FF\",\"size\":[272],\"sizemode\":\"area\",\"sizeref\":3.36,\"symbol\":\"circle\"},\"mode\":\"markers\",\"name\":\"RJ\",\"orientation\":\"v\",\"showlegend\":true,\"type\":\"scatter\",\"x\":[4234],\"xaxis\":\"x\",\"y\":[272],\"yaxis\":\"y\"},{\"hovertemplate\":\"Estado=RN<br>Ano=2020<br>Acidente=%{x}<br>Mortos=%{marker.size}<extra></extra>\",\"ids\":[2020],\"legendgroup\":\"RN\",\"marker\":{\"color\":\"#FECB52\",\"size\":[100],\"sizemode\":\"area\",\"sizeref\":3.36,\"symbol\":\"circle\"},\"mode\":\"markers\",\"name\":\"RN\",\"orientation\":\"v\",\"showlegend\":true,\"type\":\"scatter\",\"x\":[1336],\"xaxis\":\"x\",\"y\":[100],\"yaxis\":\"y\"},{\"hovertemplate\":\"Estado=RO<br>Ano=2020<br>Acidente=%{x}<br>Mortos=%{marker.size}<extra></extra>\",\"ids\":[2020],\"legendgroup\":\"RO\",\"marker\":{\"color\":\"#636efa\",\"size\":[82],\"sizemode\":\"area\",\"sizeref\":3.36,\"symbol\":\"circle\"},\"mode\":\"markers\",\"name\":\"RO\",\"orientation\":\"v\",\"showlegend\":true,\"type\":\"scatter\",\"x\":[1486],\"xaxis\":\"x\",\"y\":[82],\"yaxis\":\"y\"},{\"hovertemplate\":\"Estado=RR<br>Ano=2020<br>Acidente=%{x}<br>Mortos=%{marker.size}<extra></extra>\",\"ids\":[2020],\"legendgroup\":\"RR\",\"marker\":{\"color\":\"#EF553B\",\"size\":[27],\"sizemode\":\"area\",\"sizeref\":3.36,\"symbol\":\"circle\"},\"mode\":\"markers\",\"name\":\"RR\",\"orientation\":\"v\",\"showlegend\":true,\"type\":\"scatter\",\"x\":[250],\"xaxis\":\"x\",\"y\":[27],\"yaxis\":\"y\"},{\"hovertemplate\":\"Estado=RS<br>Ano=2020<br>Acidente=%{x}<br>Mortos=%{marker.size}<extra></extra>\",\"ids\":[2020],\"legendgroup\":\"RS\",\"marker\":{\"color\":\"#00cc96\",\"size\":[236],\"sizemode\":\"area\",\"sizeref\":3.36,\"symbol\":\"circle\"},\"mode\":\"markers\",\"name\":\"RS\",\"orientation\":\"v\",\"showlegend\":true,\"type\":\"scatter\",\"x\":[4175],\"xaxis\":\"x\",\"y\":[236],\"yaxis\":\"y\"},{\"hovertemplate\":\"Estado=SC<br>Ano=2020<br>Acidente=%{x}<br>Mortos=%{marker.size}<extra></extra>\",\"ids\":[2020],\"legendgroup\":\"SC\",\"marker\":{\"color\":\"#ab63fa\",\"size\":[382],\"sizemode\":\"area\",\"sizeref\":3.36,\"symbol\":\"circle\"},\"mode\":\"markers\",\"name\":\"SC\",\"orientation\":\"v\",\"showlegend\":true,\"type\":\"scatter\",\"x\":[7220],\"xaxis\":\"x\",\"y\":[382],\"yaxis\":\"y\"},{\"hovertemplate\":\"Estado=SE<br>Ano=2020<br>Acidente=%{x}<br>Mortos=%{marker.size}<extra></extra>\",\"ids\":[2020],\"legendgroup\":\"SE\",\"marker\":{\"color\":\"#FFA15A\",\"size\":[42],\"sizemode\":\"area\",\"sizeref\":3.36,\"symbol\":\"circle\"},\"mode\":\"markers\",\"name\":\"SE\",\"orientation\":\"v\",\"showlegend\":true,\"type\":\"scatter\",\"x\":[575],\"xaxis\":\"x\",\"y\":[42],\"yaxis\":\"y\"},{\"hovertemplate\":\"Estado=SP<br>Ano=2020<br>Acidente=%{x}<br>Mortos=%{marker.size}<extra></extra>\",\"ids\":[2020],\"legendgroup\":\"SP\",\"marker\":{\"color\":\"#19d3f3\",\"size\":[240],\"sizemode\":\"area\",\"sizeref\":3.36,\"symbol\":\"circle\"},\"mode\":\"markers\",\"name\":\"SP\",\"orientation\":\"v\",\"showlegend\":true,\"type\":\"scatter\",\"x\":[4043],\"xaxis\":\"x\",\"y\":[240],\"yaxis\":\"y\"},{\"hovertemplate\":\"Estado=TO<br>Ano=2020<br>Acidente=%{x}<br>Mortos=%{marker.size}<extra></extra>\",\"ids\":[2020],\"legendgroup\":\"TO\",\"marker\":{\"color\":\"#FF6692\",\"size\":[98],\"sizemode\":\"area\",\"sizeref\":3.36,\"symbol\":\"circle\"},\"mode\":\"markers\",\"name\":\"TO\",\"orientation\":\"v\",\"showlegend\":true,\"type\":\"scatter\",\"x\":[595],\"xaxis\":\"x\",\"y\":[98],\"yaxis\":\"y\"}],\"name\":\"2020\"},{\"data\":[{\"hovertemplate\":\"Estado=AC<br>Ano=2021<br>Acidente=%{x}<br>Mortos=%{marker.size}<extra></extra>\",\"ids\":[2021],\"legendgroup\":\"AC\",\"marker\":{\"color\":\"#636efa\",\"size\":[7],\"sizemode\":\"area\",\"sizeref\":3.36,\"symbol\":\"circle\"},\"mode\":\"markers\",\"name\":\"AC\",\"orientation\":\"v\",\"showlegend\":true,\"type\":\"scatter\",\"x\":[93],\"xaxis\":\"x\",\"y\":[7],\"yaxis\":\"y\"},{\"hovertemplate\":\"Estado=AL<br>Ano=2021<br>Acidente=%{x}<br>Mortos=%{marker.size}<extra></extra>\",\"ids\":[2021],\"legendgroup\":\"AL\",\"marker\":{\"color\":\"#EF553B\",\"size\":[40],\"sizemode\":\"area\",\"sizeref\":3.36,\"symbol\":\"circle\"},\"mode\":\"markers\",\"name\":\"AL\",\"orientation\":\"v\",\"showlegend\":true,\"type\":\"scatter\",\"x\":[241],\"xaxis\":\"x\",\"y\":[40],\"yaxis\":\"y\"},{\"hovertemplate\":\"Estado=AM<br>Ano=2021<br>Acidente=%{x}<br>Mortos=%{marker.size}<extra></extra>\",\"ids\":[2021],\"legendgroup\":\"AM\",\"marker\":{\"color\":\"#00cc96\",\"size\":[5],\"sizemode\":\"area\",\"sizeref\":3.36,\"symbol\":\"circle\"},\"mode\":\"markers\",\"name\":\"AM\",\"orientation\":\"v\",\"showlegend\":true,\"type\":\"scatter\",\"x\":[41],\"xaxis\":\"x\",\"y\":[5],\"yaxis\":\"y\"},{\"hovertemplate\":\"Estado=AP<br>Ano=2021<br>Acidente=%{x}<br>Mortos=%{marker.size}<extra></extra>\",\"ids\":[2021],\"legendgroup\":\"AP\",\"marker\":{\"color\":\"#ab63fa\",\"size\":[8],\"sizemode\":\"area\",\"sizeref\":3.36,\"symbol\":\"circle\"},\"mode\":\"markers\",\"name\":\"AP\",\"orientation\":\"v\",\"showlegend\":true,\"type\":\"scatter\",\"x\":[68],\"xaxis\":\"x\",\"y\":[8],\"yaxis\":\"y\"},{\"hovertemplate\":\"Estado=BA<br>Ano=2021<br>Acidente=%{x}<br>Mortos=%{marker.size}<extra></extra>\",\"ids\":[2021],\"legendgroup\":\"BA\",\"marker\":{\"color\":\"#FFA15A\",\"size\":[204],\"sizemode\":\"area\",\"sizeref\":3.36,\"symbol\":\"circle\"},\"mode\":\"markers\",\"name\":\"BA\",\"orientation\":\"v\",\"showlegend\":true,\"type\":\"scatter\",\"x\":[1377],\"xaxis\":\"x\",\"y\":[204],\"yaxis\":\"y\"},{\"hovertemplate\":\"Estado=CE<br>Ano=2021<br>Acidente=%{x}<br>Mortos=%{marker.size}<extra></extra>\",\"ids\":[2021],\"legendgroup\":\"CE\",\"marker\":{\"color\":\"#19d3f3\",\"size\":[76],\"sizemode\":\"area\",\"sizeref\":3.36,\"symbol\":\"circle\"},\"mode\":\"markers\",\"name\":\"CE\",\"orientation\":\"v\",\"showlegend\":true,\"type\":\"scatter\",\"x\":[592],\"xaxis\":\"x\",\"y\":[76],\"yaxis\":\"y\"},{\"hovertemplate\":\"Estado=DF<br>Ano=2021<br>Acidente=%{x}<br>Mortos=%{marker.size}<extra></extra>\",\"ids\":[2021],\"legendgroup\":\"DF\",\"marker\":{\"color\":\"#FF6692\",\"size\":[13],\"sizemode\":\"area\",\"sizeref\":3.36,\"symbol\":\"circle\"},\"mode\":\"markers\",\"name\":\"DF\",\"orientation\":\"v\",\"showlegend\":true,\"type\":\"scatter\",\"x\":[393],\"xaxis\":\"x\",\"y\":[13],\"yaxis\":\"y\"},{\"hovertemplate\":\"Estado=ES<br>Ano=2021<br>Acidente=%{x}<br>Mortos=%{marker.size}<extra></extra>\",\"ids\":[2021],\"legendgroup\":\"ES\",\"marker\":{\"color\":\"#B6E880\",\"size\":[56],\"sizemode\":\"area\",\"sizeref\":3.36,\"symbol\":\"circle\"},\"mode\":\"markers\",\"name\":\"ES\",\"orientation\":\"v\",\"showlegend\":true,\"type\":\"scatter\",\"x\":[1072],\"xaxis\":\"x\",\"y\":[56],\"yaxis\":\"y\"},{\"hovertemplate\":\"Estado=GO<br>Ano=2021<br>Acidente=%{x}<br>Mortos=%{marker.size}<extra></extra>\",\"ids\":[2021],\"legendgroup\":\"GO\",\"marker\":{\"color\":\"#FF97FF\",\"size\":[101],\"sizemode\":\"area\",\"sizeref\":3.36,\"symbol\":\"circle\"},\"mode\":\"markers\",\"name\":\"GO\",\"orientation\":\"v\",\"showlegend\":true,\"type\":\"scatter\",\"x\":[1253],\"xaxis\":\"x\",\"y\":[101],\"yaxis\":\"y\"},{\"hovertemplate\":\"Estado=MA<br>Ano=2021<br>Acidente=%{x}<br>Mortos=%{marker.size}<extra></extra>\",\"ids\":[2021],\"legendgroup\":\"MA\",\"marker\":{\"color\":\"#FECB52\",\"size\":[85],\"sizemode\":\"area\",\"sizeref\":3.36,\"symbol\":\"circle\"},\"mode\":\"markers\",\"name\":\"MA\",\"orientation\":\"v\",\"showlegend\":true,\"type\":\"scatter\",\"x\":[428],\"xaxis\":\"x\",\"y\":[85],\"yaxis\":\"y\"},{\"hovertemplate\":\"Estado=MG<br>Ano=2021<br>Acidente=%{x}<br>Mortos=%{marker.size}<extra></extra>\",\"ids\":[2021],\"legendgroup\":\"MG\",\"marker\":{\"color\":\"#636efa\",\"size\":[240],\"sizemode\":\"area\",\"sizeref\":3.36,\"symbol\":\"circle\"},\"mode\":\"markers\",\"name\":\"MG\",\"orientation\":\"v\",\"showlegend\":true,\"type\":\"scatter\",\"x\":[3267],\"xaxis\":\"x\",\"y\":[240],\"yaxis\":\"y\"},{\"hovertemplate\":\"Estado=MS<br>Ano=2021<br>Acidente=%{x}<br>Mortos=%{marker.size}<extra></extra>\",\"ids\":[2021],\"legendgroup\":\"MS\",\"marker\":{\"color\":\"#EF553B\",\"size\":[51],\"sizemode\":\"area\",\"sizeref\":3.36,\"symbol\":\"circle\"},\"mode\":\"markers\",\"name\":\"MS\",\"orientation\":\"v\",\"showlegend\":true,\"type\":\"scatter\",\"x\":[635],\"xaxis\":\"x\",\"y\":[51],\"yaxis\":\"y\"},{\"hovertemplate\":\"Estado=MT<br>Ano=2021<br>Acidente=%{x}<br>Mortos=%{marker.size}<extra></extra>\",\"ids\":[2021],\"legendgroup\":\"MT\",\"marker\":{\"color\":\"#00cc96\",\"size\":[86],\"sizemode\":\"area\",\"sizeref\":3.36,\"symbol\":\"circle\"},\"mode\":\"markers\",\"name\":\"MT\",\"orientation\":\"v\",\"showlegend\":true,\"type\":\"scatter\",\"x\":[895],\"xaxis\":\"x\",\"y\":[86],\"yaxis\":\"y\"},{\"hovertemplate\":\"Estado=PA<br>Ano=2021<br>Acidente=%{x}<br>Mortos=%{marker.size}<extra></extra>\",\"ids\":[2021],\"legendgroup\":\"PA\",\"marker\":{\"color\":\"#ab63fa\",\"size\":[69],\"sizemode\":\"area\",\"sizeref\":3.36,\"symbol\":\"circle\"},\"mode\":\"markers\",\"name\":\"PA\",\"orientation\":\"v\",\"showlegend\":true,\"type\":\"scatter\",\"x\":[337],\"xaxis\":\"x\",\"y\":[69],\"yaxis\":\"y\"},{\"hovertemplate\":\"Estado=PB<br>Ano=2021<br>Acidente=%{x}<br>Mortos=%{marker.size}<extra></extra>\",\"ids\":[2021],\"legendgroup\":\"PB\",\"marker\":{\"color\":\"#FFA15A\",\"size\":[42],\"sizemode\":\"area\",\"sizeref\":3.36,\"symbol\":\"circle\"},\"mode\":\"markers\",\"name\":\"PB\",\"orientation\":\"v\",\"showlegend\":true,\"type\":\"scatter\",\"x\":[587],\"xaxis\":\"x\",\"y\":[42],\"yaxis\":\"y\"},{\"hovertemplate\":\"Estado=PE<br>Ano=2021<br>Acidente=%{x}<br>Mortos=%{marker.size}<extra></extra>\",\"ids\":[2021],\"legendgroup\":\"PE\",\"marker\":{\"color\":\"#19d3f3\",\"size\":[117],\"sizemode\":\"area\",\"sizeref\":3.36,\"symbol\":\"circle\"},\"mode\":\"markers\",\"name\":\"PE\",\"orientation\":\"v\",\"showlegend\":true,\"type\":\"scatter\",\"x\":[972],\"xaxis\":\"x\",\"y\":[117],\"yaxis\":\"y\"},{\"hovertemplate\":\"Estado=PI<br>Ano=2021<br>Acidente=%{x}<br>Mortos=%{marker.size}<extra></extra>\",\"ids\":[2021],\"legendgroup\":\"PI\",\"marker\":{\"color\":\"#FF6692\",\"size\":[49],\"sizemode\":\"area\",\"sizeref\":3.36,\"symbol\":\"circle\"},\"mode\":\"markers\",\"name\":\"PI\",\"orientation\":\"v\",\"showlegend\":true,\"type\":\"scatter\",\"x\":[445],\"xaxis\":\"x\",\"y\":[49],\"yaxis\":\"y\"},{\"hovertemplate\":\"Estado=PR<br>Ano=2021<br>Acidente=%{x}<br>Mortos=%{marker.size}<extra></extra>\",\"ids\":[2021],\"legendgroup\":\"PR\",\"marker\":{\"color\":\"#B6E880\",\"size\":[227],\"sizemode\":\"area\",\"sizeref\":3.36,\"symbol\":\"circle\"},\"mode\":\"markers\",\"name\":\"PR\",\"orientation\":\"v\",\"showlegend\":true,\"type\":\"scatter\",\"x\":[2807],\"xaxis\":\"x\",\"y\":[227],\"yaxis\":\"y\"},{\"hovertemplate\":\"Estado=RJ<br>Ano=2021<br>Acidente=%{x}<br>Mortos=%{marker.size}<extra></extra>\",\"ids\":[2021],\"legendgroup\":\"RJ\",\"marker\":{\"color\":\"#FF97FF\",\"size\":[125],\"sizemode\":\"area\",\"sizeref\":3.36,\"symbol\":\"circle\"},\"mode\":\"markers\",\"name\":\"RJ\",\"orientation\":\"v\",\"showlegend\":true,\"type\":\"scatter\",\"x\":[1839],\"xaxis\":\"x\",\"y\":[125],\"yaxis\":\"y\"},{\"hovertemplate\":\"Estado=RN<br>Ano=2021<br>Acidente=%{x}<br>Mortos=%{marker.size}<extra></extra>\",\"ids\":[2021],\"legendgroup\":\"RN\",\"marker\":{\"color\":\"#FECB52\",\"size\":[35],\"sizemode\":\"area\",\"sizeref\":3.36,\"symbol\":\"circle\"},\"mode\":\"markers\",\"name\":\"RN\",\"orientation\":\"v\",\"showlegend\":true,\"type\":\"scatter\",\"x\":[505],\"xaxis\":\"x\",\"y\":[35],\"yaxis\":\"y\"},{\"hovertemplate\":\"Estado=RO<br>Ano=2021<br>Acidente=%{x}<br>Mortos=%{marker.size}<extra></extra>\",\"ids\":[2021],\"legendgroup\":\"RO\",\"marker\":{\"color\":\"#636efa\",\"size\":[28],\"sizemode\":\"area\",\"sizeref\":3.36,\"symbol\":\"circle\"},\"mode\":\"markers\",\"name\":\"RO\",\"orientation\":\"v\",\"showlegend\":true,\"type\":\"scatter\",\"x\":[533],\"xaxis\":\"x\",\"y\":[28],\"yaxis\":\"y\"},{\"hovertemplate\":\"Estado=RR<br>Ano=2021<br>Acidente=%{x}<br>Mortos=%{marker.size}<extra></extra>\",\"ids\":[2021],\"legendgroup\":\"RR\",\"marker\":{\"color\":\"#EF553B\",\"size\":[6],\"sizemode\":\"area\",\"sizeref\":3.36,\"symbol\":\"circle\"},\"mode\":\"markers\",\"name\":\"RR\",\"orientation\":\"v\",\"showlegend\":true,\"type\":\"scatter\",\"x\":[106],\"xaxis\":\"x\",\"y\":[6],\"yaxis\":\"y\"},{\"hovertemplate\":\"Estado=RS<br>Ano=2021<br>Acidente=%{x}<br>Mortos=%{marker.size}<extra></extra>\",\"ids\":[2021],\"legendgroup\":\"RS\",\"marker\":{\"color\":\"#00cc96\",\"size\":[134],\"sizemode\":\"area\",\"sizeref\":3.36,\"symbol\":\"circle\"},\"mode\":\"markers\",\"name\":\"RS\",\"orientation\":\"v\",\"showlegend\":true,\"type\":\"scatter\",\"x\":[1820],\"xaxis\":\"x\",\"y\":[134],\"yaxis\":\"y\"},{\"hovertemplate\":\"Estado=SC<br>Ano=2021<br>Acidente=%{x}<br>Mortos=%{marker.size}<extra></extra>\",\"ids\":[2021],\"legendgroup\":\"SC\",\"marker\":{\"color\":\"#ab63fa\",\"size\":[127],\"sizemode\":\"area\",\"sizeref\":3.36,\"symbol\":\"circle\"},\"mode\":\"markers\",\"name\":\"SC\",\"orientation\":\"v\",\"showlegend\":true,\"type\":\"scatter\",\"x\":[3167],\"xaxis\":\"x\",\"y\":[127],\"yaxis\":\"y\"},{\"hovertemplate\":\"Estado=SE<br>Ano=2021<br>Acidente=%{x}<br>Mortos=%{marker.size}<extra></extra>\",\"ids\":[2021],\"legendgroup\":\"SE\",\"marker\":{\"color\":\"#FFA15A\",\"size\":[13],\"sizemode\":\"area\",\"sizeref\":3.36,\"symbol\":\"circle\"},\"mode\":\"markers\",\"name\":\"SE\",\"orientation\":\"v\",\"showlegend\":true,\"type\":\"scatter\",\"x\":[219],\"xaxis\":\"x\",\"y\":[13],\"yaxis\":\"y\"},{\"hovertemplate\":\"Estado=SP<br>Ano=2021<br>Acidente=%{x}<br>Mortos=%{marker.size}<extra></extra>\",\"ids\":[2021],\"legendgroup\":\"SP\",\"marker\":{\"color\":\"#19d3f3\",\"size\":[73],\"sizemode\":\"area\",\"sizeref\":3.36,\"symbol\":\"circle\"},\"mode\":\"markers\",\"name\":\"SP\",\"orientation\":\"v\",\"showlegend\":true,\"type\":\"scatter\",\"x\":[1656],\"xaxis\":\"x\",\"y\":[73],\"yaxis\":\"y\"},{\"hovertemplate\":\"Estado=TO<br>Ano=2021<br>Acidente=%{x}<br>Mortos=%{marker.size}<extra></extra>\",\"ids\":[2021],\"legendgroup\":\"TO\",\"marker\":{\"color\":\"#FF6692\",\"size\":[30],\"sizemode\":\"area\",\"sizeref\":3.36,\"symbol\":\"circle\"},\"mode\":\"markers\",\"name\":\"TO\",\"orientation\":\"v\",\"showlegend\":true,\"type\":\"scatter\",\"x\":[215],\"xaxis\":\"x\",\"y\":[30],\"yaxis\":\"y\"}],\"name\":\"2021\"}]);\n",
       "                        }).then(function(){\n",
       "                            \n",
       "var gd = document.getElementById('232af78a-e027-4154-915b-45d7f440d15b');\n",
       "var x = new MutationObserver(function (mutations, observer) {{\n",
       "        var display = window.getComputedStyle(gd).display;\n",
       "        if (!display || display === 'none') {{\n",
       "            console.log([gd, 'removed!']);\n",
       "            Plotly.purge(gd);\n",
       "            observer.disconnect();\n",
       "        }}\n",
       "}});\n",
       "\n",
       "// Listen for the removal of the full notebook cells\n",
       "var notebookContainer = gd.closest('#notebook-container');\n",
       "if (notebookContainer) {{\n",
       "    x.observe(notebookContainer, {childList: true});\n",
       "}}\n",
       "\n",
       "// Listen for the clearing of the current output cell\n",
       "var outputEl = gd.closest('.output');\n",
       "if (outputEl) {{\n",
       "    x.observe(outputEl, {childList: true});\n",
       "}}\n",
       "\n",
       "                        })                };                });            </script>        </div>"
      ]
     },
     "metadata": {},
     "output_type": "display_data"
    }
   ],
   "source": [
    "bubble = px.scatter(df3, x=\"Acidente\", y=\"Mortos\", animation_frame=\"Ano\", animation_group=\"Ano\", color = \"Estado\",\n",
    "           size=\"Mortos\",range_x=[0,max(df3['Acidente'].values)+20], range_y=[0,max(df3['Mortos'].values)+20],\n",
    "           title=\"Diagrama de Dis\",\n",
    "                 )\n",
    "bubble.update_yaxes(nticks=5)\n",
    "bubble.update_xaxes(nticks=5)\n",
    "bubble.show()"
   ]
  },
  {
   "cell_type": "code",
   "execution_count": 65,
   "id": "142dab38",
   "metadata": {},
   "outputs": [
    {
     "data": {
      "text/plain": [
       "88774    08, Apr , 2007\n",
       "78809    26, Aug , 2007\n",
       "7875     26, Jan , 2007\n",
       "11829    31, Jan , 2007\n",
       "66245    20, Jul , 2007\n",
       "              ...      \n",
       "30304    24, Jun , 2019\n",
       "3079     18, Jan , 2020\n",
       "24950    08, Jun , 2020\n",
       "46083    05, Oct , 2020\n",
       "2453     15, Jan , 2021\n",
       "Name: Data, Length: 1877446, dtype: object"
      ]
     },
     "execution_count": 65,
     "metadata": {},
     "output_type": "execute_result"
    }
   ],
   "source": [
    "df['Data'].dt.strftime('%d, %b , %Y')"
   ]
  },
  {
   "cell_type": "code",
   "execution_count": 63,
   "id": "2cb38503",
   "metadata": {},
   "outputs": [
    {
     "data": {
      "text/html": [
       "<div>\n",
       "<style scoped>\n",
       "    .dataframe tbody tr th:only-of-type {\n",
       "        vertical-align: middle;\n",
       "    }\n",
       "\n",
       "    .dataframe tbody tr th {\n",
       "        vertical-align: top;\n",
       "    }\n",
       "\n",
       "    .dataframe thead th {\n",
       "        text-align: right;\n",
       "    }\n",
       "</style>\n",
       "<table border=\"1\" class=\"dataframe\">\n",
       "  <thead>\n",
       "    <tr style=\"text-align: right;\">\n",
       "      <th></th>\n",
       "      <th>Data</th>\n",
       "      <th>Mortos</th>\n",
       "      <th>Municipio</th>\n",
       "      <th>Estado</th>\n",
       "      <th>Pessoas</th>\n",
       "      <th>Acidente</th>\n",
       "      <th>Ano</th>\n",
       "      <th>Mês</th>\n",
       "    </tr>\n",
       "  </thead>\n",
       "  <tbody>\n",
       "    <tr>\n",
       "      <th>88774</th>\n",
       "      <td>2007-04-08</td>\n",
       "      <td>1</td>\n",
       "      <td>ACRELANDIA</td>\n",
       "      <td>AC</td>\n",
       "      <td>4</td>\n",
       "      <td>1</td>\n",
       "      <td>2007</td>\n",
       "      <td>April</td>\n",
       "    </tr>\n",
       "    <tr>\n",
       "      <th>78809</th>\n",
       "      <td>2007-08-26</td>\n",
       "      <td>0</td>\n",
       "      <td>ACRELANDIA</td>\n",
       "      <td>AC</td>\n",
       "      <td>1</td>\n",
       "      <td>1</td>\n",
       "      <td>2007</td>\n",
       "      <td>August</td>\n",
       "    </tr>\n",
       "    <tr>\n",
       "      <th>7875</th>\n",
       "      <td>2007-01-26</td>\n",
       "      <td>0</td>\n",
       "      <td>ACRELANDIA</td>\n",
       "      <td>AC</td>\n",
       "      <td>1</td>\n",
       "      <td>1</td>\n",
       "      <td>2007</td>\n",
       "      <td>January</td>\n",
       "    </tr>\n",
       "    <tr>\n",
       "      <th>11829</th>\n",
       "      <td>2007-01-31</td>\n",
       "      <td>0</td>\n",
       "      <td>ACRELANDIA</td>\n",
       "      <td>AC</td>\n",
       "      <td>1</td>\n",
       "      <td>1</td>\n",
       "      <td>2007</td>\n",
       "      <td>January</td>\n",
       "    </tr>\n",
       "    <tr>\n",
       "      <th>66245</th>\n",
       "      <td>2007-07-20</td>\n",
       "      <td>0</td>\n",
       "      <td>ACRELANDIA</td>\n",
       "      <td>AC</td>\n",
       "      <td>2</td>\n",
       "      <td>1</td>\n",
       "      <td>2007</td>\n",
       "      <td>July</td>\n",
       "    </tr>\n",
       "    <tr>\n",
       "      <th>...</th>\n",
       "      <td>...</td>\n",
       "      <td>...</td>\n",
       "      <td>...</td>\n",
       "      <td>...</td>\n",
       "      <td>...</td>\n",
       "      <td>...</td>\n",
       "      <td>...</td>\n",
       "      <td>...</td>\n",
       "    </tr>\n",
       "    <tr>\n",
       "      <th>30304</th>\n",
       "      <td>2019-06-24</td>\n",
       "      <td>1</td>\n",
       "      <td>XAMBIOA</td>\n",
       "      <td>TO</td>\n",
       "      <td>2</td>\n",
       "      <td>1</td>\n",
       "      <td>2019</td>\n",
       "      <td>June</td>\n",
       "    </tr>\n",
       "    <tr>\n",
       "      <th>3079</th>\n",
       "      <td>2020-01-18</td>\n",
       "      <td>0</td>\n",
       "      <td>XAMBIOA</td>\n",
       "      <td>TO</td>\n",
       "      <td>2</td>\n",
       "      <td>1</td>\n",
       "      <td>2020</td>\n",
       "      <td>January</td>\n",
       "    </tr>\n",
       "    <tr>\n",
       "      <th>24950</th>\n",
       "      <td>2020-06-08</td>\n",
       "      <td>1</td>\n",
       "      <td>XAMBIOA</td>\n",
       "      <td>TO</td>\n",
       "      <td>2</td>\n",
       "      <td>1</td>\n",
       "      <td>2020</td>\n",
       "      <td>June</td>\n",
       "    </tr>\n",
       "    <tr>\n",
       "      <th>46083</th>\n",
       "      <td>2020-10-05</td>\n",
       "      <td>0</td>\n",
       "      <td>XAMBIOA</td>\n",
       "      <td>TO</td>\n",
       "      <td>1</td>\n",
       "      <td>1</td>\n",
       "      <td>2020</td>\n",
       "      <td>October</td>\n",
       "    </tr>\n",
       "    <tr>\n",
       "      <th>2453</th>\n",
       "      <td>2021-01-15</td>\n",
       "      <td>0</td>\n",
       "      <td>XAMBIOA</td>\n",
       "      <td>TO</td>\n",
       "      <td>4</td>\n",
       "      <td>1</td>\n",
       "      <td>2021</td>\n",
       "      <td>January</td>\n",
       "    </tr>\n",
       "  </tbody>\n",
       "</table>\n",
       "<p>1877446 rows × 8 columns</p>\n",
       "</div>"
      ],
      "text/plain": [
       "            Data  Mortos   Municipio Estado  Pessoas  Acidente   Ano      Mês\n",
       "88774 2007-04-08       1  ACRELANDIA     AC        4         1  2007    April\n",
       "78809 2007-08-26       0  ACRELANDIA     AC        1         1  2007   August\n",
       "7875  2007-01-26       0  ACRELANDIA     AC        1         1  2007  January\n",
       "11829 2007-01-31       0  ACRELANDIA     AC        1         1  2007  January\n",
       "66245 2007-07-20       0  ACRELANDIA     AC        2         1  2007     July\n",
       "...          ...     ...         ...    ...      ...       ...   ...      ...\n",
       "30304 2019-06-24       1     XAMBIOA     TO        2         1  2019     June\n",
       "3079  2020-01-18       0     XAMBIOA     TO        2         1  2020  January\n",
       "24950 2020-06-08       1     XAMBIOA     TO        2         1  2020     June\n",
       "46083 2020-10-05       0     XAMBIOA     TO        1         1  2020  October\n",
       "2453  2021-01-15       0     XAMBIOA     TO        4         1  2021  January\n",
       "\n",
       "[1877446 rows x 8 columns]"
      ]
     },
     "execution_count": 63,
     "metadata": {},
     "output_type": "execute_result"
    }
   ],
   "source": [
    "df"
   ]
  },
  {
   "cell_type": "code",
   "execution_count": null,
   "id": "749bc99f",
   "metadata": {},
   "outputs": [],
   "source": []
  }
 ],
 "metadata": {
  "kernelspec": {
   "display_name": "Python 3 (ipykernel)",
   "language": "python",
   "name": "python3"
  },
  "language_info": {
   "codemirror_mode": {
    "name": "ipython",
    "version": 3
   },
   "file_extension": ".py",
   "mimetype": "text/x-python",
   "name": "python",
   "nbconvert_exporter": "python",
   "pygments_lexer": "ipython3",
   "version": "3.8.11"
  }
 },
 "nbformat": 4,
 "nbformat_minor": 5
}
