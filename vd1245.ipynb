{
 "cells": [
  {
   "cell_type": "code",
   "execution_count": 1,
   "id": "e6bc0812",
   "metadata": {},
   "outputs": [],
   "source": [
    "import pandas as pd\n",
    "import os\n",
    "import numpy as np\n",
    "import plotly.graph_objects as go\n",
    "import plotly.express as px\n",
    "\n",
    "import dash\n",
    "import dash_core_components as dcc\n",
    "import dash_html_components as html\n",
    "from dash.dependencies import Input, Output\n",
    "import plotly.express as px\n",
    "from jupyter_dash import JupyterDash\n",
    "\n",
    "columns = ['data_inversa', 'mortos', 'municipio', 'uf', 'pessoas' ]\n",
    "df = pd.DataFrame([], columns = columns)\n",
    "for i,ano in enumerate(np.arange(2007,2022)):\n",
    "    data = pd.read_csv(\"../Detram/datatran\" + str(ano) + '.csv', delimiter = ';',  low_memory=False)\n",
    "    df1 = data[columns]\n",
    "    df = pd.concat([df,df1])"
   ]
  },
  {
   "cell_type": "code",
   "execution_count": 2,
   "id": "8b27be38",
   "metadata": {},
   "outputs": [],
   "source": [
    "df = pd.DataFrame(df)\n",
    "df['data_inversa'] = pd.to_datetime(df['data_inversa'])\n",
    "df['pessoas'] = pd.to_numeric(df['pessoas'])\n",
    "df['mortos'] = pd.to_numeric(df['mortos'])\n",
    "\n",
    "df['acidentes'] = 1\n",
    "\n",
    "n = df[df['uf'] =='(null)' ].index\n",
    "df = df.drop(n)\n",
    "df = df.rename({'data_inversa': 'Data', 'municipio': 'Municipio', 'pessoas': 'Pessoas', 'mortos': 'Mortos', 'acidentes': 'Acidente', 'uf': 'Estado'}, axis='columns')\n",
    "\n",
    "#df.to_excel(r'./dataset.xlsx')\n",
    "#data = pd.read_csv('./dataset.csv')"
   ]
  },
  {
   "cell_type": "code",
   "execution_count": 3,
   "id": "9925a079",
   "metadata": {},
   "outputs": [],
   "source": [
    "df['Ano'] = df['Data'].dt.year  "
   ]
  },
  {
   "cell_type": "code",
   "execution_count": 4,
   "id": "21706f67",
   "metadata": {},
   "outputs": [],
   "source": [
    "df['Mês'] = df['Data'].dt.strftime('%B')"
   ]
  },
  {
   "cell_type": "code",
   "execution_count": 5,
   "id": "329ea392",
   "metadata": {},
   "outputs": [],
   "source": [
    "df = df.sort_values(by=['Estado', 'Municipio', 'Ano', 'Mês']) "
   ]
  },
  {
   "cell_type": "markdown",
   "id": "7c6e94a1",
   "metadata": {},
   "source": [
    "# Acidentes de Trânsito \n",
    "\n",
    " \n",
    "<p style='text-align: justify;'> Os acidentes de trânsito geram muitas consequências para a população, como problemas econômicos, engarrafamentos quilométricos e várias mortes que pode acontecer em um único acidente. Portanto, necessitamos resolver sistematicamente esse problema procurando criar mecânicos preventivos, para isso, necessitamos saber primeiamente onde e quando devemos empenhar maior esforço nesse combate e uma das ferramentas que temos é no tratamento e visualização dos dados coletados. </p>\n",
    "\n",
    "<p style='text-align: justify;'>No site do Detram obtemos vários dados coletados entre 2007 a 2021 e continua sendo atualizado constantemente, nos dados contém várias informações, como a ocorrência dos acidentes e mortes ocorridas nas rodovias brasileiras, esses dados são de grande importância para criar alternativas para a diminuição de acidentes e consequentemente na diminuição de óbitos nas estradas.</p>\n",
    "    \n",
    "<p style='text-align: justify;'>Com os dados em mãos, foram gerados três gráficos, uma sendo o gráfico de dispersão e duas sendo 0 grafico de barras empilhado. Na primeira visualização temos a correlação dos acidentes com as mortes no país de cada ano; a segunda visualização, mostra a quantidade de acidentes por estado que está empilhaods por mês para cada ano; por fim a terceira temos a visualização da quantidade de acidentes por ano empilhado por municipio para cada ano. \n",
    "\n"
   ]
  },
  {
   "cell_type": "code",
   "execution_count": 6,
   "id": "d5c59479",
   "metadata": {},
   "outputs": [],
   "source": [
    "df1 = df.groupby(by=['Ano','Estado']).agg('sum').reset_index()\n",
    "dfcor = df1[['Acidente', 'Mortos']]"
   ]
  },
  {
   "cell_type": "code",
   "execution_count": 7,
   "id": "391d4ad1",
   "metadata": {},
   "outputs": [],
   "source": [
    "corr = dfcor.corr()"
   ]
  },
  {
   "cell_type": "code",
   "execution_count": 8,
   "id": "365f4bc1",
   "metadata": {},
   "outputs": [
    {
     "data": {
      "text/html": [
       "\n",
       "        <iframe\n",
       "            width=\"100%\"\n",
       "            height=\"650\"\n",
       "            src=\"http://127.0.0.1:8050/\"\n",
       "            frameborder=\"0\"\n",
       "            allowfullscreen\n",
       "        ></iframe>\n",
       "        "
      ],
      "text/plain": [
       "<IPython.lib.display.IFrame at 0x2618c816d30>"
      ]
     },
     "metadata": {},
     "output_type": "display_data"
    }
   ],
   "source": [
    "animations = {\n",
    "          'Scatter': px.scatter(df1, x=\"Acidente\", y=\"Mortos\", animation_frame=\"Ano\", animation_group=\"Ano\", color = \"Estado\",\n",
    "           size=\"Mortos\",range_x=[0,max(df1['Acidente'].values)+300], range_y=[0,max(df1['Mortos'].values)+100],\n",
    "           title=\"Diagrama de Dispersão de Acidentes por Mortes\")}   \n",
    "\n",
    "app = JupyterDash(__name__)\n",
    "#app = dash.Dash(__name__)\n",
    "\n",
    "app.layout = html.Div([\n",
    "    dcc.RadioItems(id = 'selection',\n",
    "                 value = 'Scatter'),\n",
    "    \n",
    "    dcc.Graph(id=\"graph\")\n",
    "    \n",
    "])\n",
    "@app.callback(\n",
    "    Output(\"graph\", \"figure\"), \n",
    "    [Input(\"selection\", \"value\")])\n",
    "\n",
    "def display_animated_graph(s):\n",
    "    \n",
    "    return animations[s]\n",
    "\n",
    "if __name__ == \"__main__\":\n",
    "   app.run_server(debug=True, mode = 'inline')"
   ]
  },
  {
   "cell_type": "code",
   "execution_count": 9,
   "id": "a338812a",
   "metadata": {},
   "outputs": [
    {
     "name": "stdout",
     "output_type": "stream",
     "text": [
      "Temos uma forte correlação entre Acidentes e Mortes 0.8954148652959313\n"
     ]
    }
   ],
   "source": [
    "print('Temos uma forte correlação entre Acidentes e Mortes ' + str(corr.values[0,1]))"
   ]
  },
  {
   "cell_type": "markdown",
   "id": "d22724df",
   "metadata": {},
   "source": [
    "<p style='text-align: justify;'> No gráfico de dispersão correlacionando acidentes com as mortes podemos destacar algumas observações:</p>\n",
    "\n",
    " <p>1. Nota-se uma diminuição gradativa nos valores ao passar do ano;</p>\n",
    " <p>2. O estado com maior índice de acidentes e mortes está no Estado de Minas Gerias em todos anos; </p>\n",
    " <p>3. Temos uma correlação forte de 0.897 entre Acidente e Mortes.</p>\n"
   ]
  },
  {
   "cell_type": "code",
   "execution_count": 10,
   "id": "be46f8ba",
   "metadata": {},
   "outputs": [],
   "source": [
    "df2 = df.groupby(by=['Estado','Ano', 'Mês']).agg('sum').reset_index()"
   ]
  },
  {
   "cell_type": "code",
   "execution_count": 12,
   "id": "3f3ed167",
   "metadata": {},
   "outputs": [
    {
     "data": {
      "text/html": [
       "\n",
       "        <iframe\n",
       "            width=\"100%\"\n",
       "            height=\"650\"\n",
       "            src=\"http://127.0.0.1:8050/\"\n",
       "            frameborder=\"0\"\n",
       "            allowfullscreen\n",
       "        ></iframe>\n",
       "        "
      ],
      "text/plain": [
       "<IPython.lib.display.IFrame at 0x1c9abadf910>"
      ]
     },
     "metadata": {},
     "output_type": "display_data"
    }
   ],
   "source": [
    "Estados = df2.Estado.unique()\n",
    "app = JupyterDash(__name__)\n",
    "#app = dash.Dash()\n",
    "app.layout = html.Div([\n",
    "    dcc.Dropdown(\n",
    "        id=\"selectstate\",\n",
    "        options=[{\"label\": x, \"value\": x} for x in Estados],\n",
    "        placeholder = \"Selecione o Estado\"\n",
    "    ),\n",
    "    dcc.Graph(id=\"bar-chart\"),\n",
    "])\n",
    "\n",
    "                  \n",
    "@app.callback(\n",
    "    Output(\"bar-chart\", \"figure\"), \n",
    "    [Input(\"selectstate\", \"value\")])\n",
    "def update_bar_chart(estado):\n",
    "    fig = px.bar(df2[df2[\"Estado\"] == estado], x=\"Ano\", y=\"Acidente\", title=\"Quantidade de Acidentes por Estado\", color = 'Mês')\n",
    "    return fig\n",
    "\n",
    "\n",
    "if __name__ == \"__main__\":\n",
    "    app.run_server(debug=True, mode = 'inline')"
   ]
  },
  {
   "cell_type": "markdown",
   "id": "624aa29e",
   "metadata": {},
   "source": [
    "<p style='text-align: justify;'> No segundo gráfico de barras empilhado podemos selecionar o estado e obter algumas informações:</p>\n",
    "\n",
    "   <p>1. Podemos visualizar em qual ano teve maior ocorrência de acidentes para cada estado;</p>\n",
    "    <p>2. Analisar em qual mês teve as maiores ocorrência de acidentes para cada ano;</p> \n",
    "    <p style='text-align: justify;'> 3. Em Minas Gerais que obteve as maiores ocorrências de acidentes em todos os anos, podemos perceber que no ano de 2020 nos meses de janeiro, dezembro e fevereiro obtiveram a valores altos de acidentes em comparação com os outros meses. </p>\n"
   ]
  },
  {
   "cell_type": "code",
   "execution_count": 13,
   "id": "28235140",
   "metadata": {},
   "outputs": [],
   "source": [
    "df3 = df.groupby(by=['Estado','Ano','Municipio']).agg('sum').reset_index()"
   ]
  },
  {
   "cell_type": "code",
   "execution_count": 14,
   "id": "263641f5",
   "metadata": {},
   "outputs": [
    {
     "data": {
      "text/html": [
       "\n",
       "        <iframe\n",
       "            width=\"100%\"\n",
       "            height=\"650\"\n",
       "            src=\"http://127.0.0.1:8050/\"\n",
       "            frameborder=\"0\"\n",
       "            allowfullscreen\n",
       "        ></iframe>\n",
       "        "
      ],
      "text/plain": [
       "<IPython.lib.display.IFrame at 0x1c9b3773af0>"
      ]
     },
     "metadata": {},
     "output_type": "display_data"
    }
   ],
   "source": [
    "Estados = df3.Estado.unique()\n",
    "app = JupyterDash(__name__)\n",
    "\n",
    "app.layout = html.Div([\n",
    "    dcc.Dropdown(\n",
    "        id=\"selectstate\",\n",
    "        options=[{\"label\": x, \"value\": x} for x in Estados], \n",
    "        placeholder = \"Selecione o Estado\"\n",
    "\n",
    "    ),\n",
    "    dcc.Graph(id=\"bar-chart\")\n",
    "])\n",
    "\n",
    "@app.callback(\n",
    "    Output(\"bar-chart\", \"figure\"), \n",
    "    [Input(\"selectstate\", \"value\")])\n",
    "def update_bar_chart(estado):\n",
    "    fig = px.bar(df3[df3[\"Estado\"] == estado], x=\"Ano\", y=\"Acidente\", title=\"Quantidade de Acidentes por Municipio\", color='Municipio')\n",
    "    return fig\n",
    "\n",
    "\n",
    "if __name__ == \"__main__\":\n",
    "    app.run_server(debug=True, mode = 'inline')\n",
    "\n"
   ]
  },
  {
   "cell_type": "markdown",
   "id": "43afb0aa",
   "metadata": {},
   "source": [
    "<p style='text-align: justify;'> No último gráfico de barras empilhado podemos selecionar o estado  e obter algumas informações de cada município para cada ano:</p>\n",
    "\n",
    "   <p>1. Podemos visualizar em qual ano teve maior ocorrência de acidentes em cada município selecionando o estado;</p>\n",
    "   <p>2. Analisar em qual município teve maior ocorrência de acidentes para cada estado;</p>\n",
    "   <p style='text-align: justify;'>3. Em Minas Gerais que obteve as maiores ocorrências de acidentes em todos os anos, podemos perceber que na cidade de Betim teve maior ocorrência de acidentes em todos os anos.</p> \n"
   ]
  },
  {
   "cell_type": "markdown",
   "id": "c22f018c",
   "metadata": {},
   "source": [
    "<p style='text-align: justify;'>Com base nas informações e nas visualizações coletadas, podemos dizer com convicção onde e em qual época devemos tomar medida para frear os acidentes nas estradas do país. Que através da análise, como por exemplo, podemos ter maior foco em Minas Gerias, na cidade de Betim, nos meses de dezembro, janeiro e fevereiro. </p>"
   ]
  },
  {
   "cell_type": "code",
   "execution_count": null,
   "id": "4de39c9d",
   "metadata": {},
   "outputs": [],
   "source": []
  },
  {
   "cell_type": "code",
   "execution_count": null,
   "id": "a9ba9c00",
   "metadata": {},
   "outputs": [],
   "source": []
  }
 ],
 "metadata": {
  "kernelspec": {
   "display_name": "Python 3 (ipykernel)",
   "language": "python",
   "name": "python3"
  },
  "language_info": {
   "codemirror_mode": {
    "name": "ipython",
    "version": 3
   },
   "file_extension": ".py",
   "mimetype": "text/x-python",
   "name": "python",
   "nbconvert_exporter": "python",
   "pygments_lexer": "ipython3",
   "version": "3.8.11"
  },
  "widgets": {
   "application/vnd.jupyter.widget-state+json": {
    "state": {},
    "version_major": 2,
    "version_minor": 0
   }
  }
 },
 "nbformat": 4,
 "nbformat_minor": 5
}
