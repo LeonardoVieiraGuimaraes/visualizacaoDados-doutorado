{
 "cells": [
  {
   "cell_type": "code",
   "execution_count": 4,
   "id": "b88fbb3d",
   "metadata": {},
   "outputs": [
    {
     "name": "stdout",
     "output_type": "stream",
     "text": [
      "Dash is running on http://127.0.0.1:8050/\n",
      "\n",
      "Dash is running on http://127.0.0.1:8050/\n",
      "\n",
      "Dash is running on http://127.0.0.1:8050/\n",
      "\n",
      "Dash is running on http://127.0.0.1:8050/\n",
      "\n",
      " * Serving Flask app \"__main__\" (lazy loading)\n",
      " * Environment: production\n",
      "\u001b[31m   WARNING: This is a development server. Do not use it in a production deployment.\u001b[0m\n",
      "\u001b[2m   Use a production WSGI server instead.\u001b[0m\n",
      " * Debug mode: off\n"
     ]
    }
   ],
   "source": [
    "import io\n",
    "from base64 import b64encode\n",
    "\n",
    "import dash\n",
    "import dash_core_components as dcc\n",
    "import dash_html_components as html\n",
    "from dash.dependencies import Input, Output\n",
    "import plotly.express as px\n",
    "\n",
    "\n",
    "df = px.data.iris()\n",
    "fig = px.scatter(\n",
    "    df, x=\"sepal_width\", y=\"sepal_length\", \n",
    "    color=\"species\")\n",
    "fig.write_html(buffer)\n",
    "\n",
    "html_bytes = buffer.getvalue().encode()\n",
    "encoded = b64encode(html_bytes).decode()\n",
    "\n",
    "app = dash.Dash(__name__)\n",
    "app.layout = html.Div([\n",
    "    dcc.Graph(id=\"graph\", figure=fig),\n",
    "    html.A(\n",
    "        html.Button(\"Download HTML\"), \n",
    "        id=\"download\",\n",
    "        href=\"data:text/html;base64,\" + encoded,\n",
    "        download=\"plotly_graph.html\"\n",
    "    )\n",
    "])\n",
    "\n",
    "\n",
    "if __name__ == \"__main__\":\n",
    "    app.run_server(debug=False)\n"
   ]
  },
  {
   "cell_type": "code",
   "execution_count": null,
   "id": "8c976dce",
   "metadata": {},
   "outputs": [],
   "source": []
  }
 ],
 "metadata": {
  "kernelspec": {
   "display_name": "Python 3 (ipykernel)",
   "language": "python",
   "name": "python3"
  },
  "language_info": {
   "codemirror_mode": {
    "name": "ipython",
    "version": 3
   },
   "file_extension": ".py",
   "mimetype": "text/x-python",
   "name": "python",
   "nbconvert_exporter": "python",
   "pygments_lexer": "ipython3",
   "version": "3.8.11"
  }
 },
 "nbformat": 4,
 "nbformat_minor": 5
}
